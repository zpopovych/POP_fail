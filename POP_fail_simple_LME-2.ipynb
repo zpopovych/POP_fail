{
 "cells": [
  {
   "cell_type": "markdown",
   "id": "52910fcf",
   "metadata": {},
   "source": [
    "### Example of TSSOS failure to find solution on 4-th degree polynomial"
   ]
  },
  {
   "cell_type": "markdown",
   "id": "99b08978",
   "metadata": {},
   "source": [
    "Consider simplest possible Lindblad master equation with just one dissipator:\n",
    "\n",
    "$\n",
    "     \\frac{d\\rho}{dt} = - \\frac{i}{\\hbar}[H, \\rho]+\\left[A \\rho A^\\dagger - \\frac{1}{2}\\left\\{ A^\\dagger A, \\rho \\right\\} \\right]\n",
    "$,\n",
    "\n",
    "where Hamiltonian is \n",
    "\n",
    "\n",
    "$\n",
    "    H_0 = |1\\rangle \\langle 1| = \\begin{pmatrix} h & 0 \\\\ 0 & 0\n",
    "   \\end{pmatrix}\n",
    "$\n",
    "\n",
    "$\n",
    "A = \\sqrt{\\gamma} \\sigma = \\begin{pmatrix} 0 & \\sqrt{\\gamma} \\\\ 0 & 0\n",
    "   \\end{pmatrix} = \\begin{pmatrix} 0 & a \\\\ 0 & 0\n",
    "   \\end{pmatrix}$\n",
    "\n",
    "$\\sigma = |0\\rangle \\langle 1|  = \\begin{pmatrix} 0 & 1 \\\\ 0 & 0\n",
    "   \\end{pmatrix}$\n"
   ]
  },
  {
   "cell_type": "code",
   "execution_count": 1,
   "id": "f1cde031",
   "metadata": {},
   "outputs": [
    {
     "data": {
      "text/plain": [
       "2×2 Matrix{Term{true, Float64}}:\n",
       " 0.0  a\n",
       " 0.0  0.0"
      ]
     },
     "execution_count": 1,
     "metadata": {},
     "output_type": "execute_result"
    }
   ],
   "source": [
    "using DynamicPolynomials\n",
    "\n",
    "@polyvar E\n",
    "\n",
    "    Hˢʸᵐᵇ = [ E   0\n",
    "              0   0. ]\n",
    "\n",
    "@polyvar a\n",
    "\n",
    "    Aˢʸᵐᵇ = [ 0  a\n",
    "              0  0.]"
   ]
  },
  {
   "cell_type": "markdown",
   "id": "3c0f8deb",
   "metadata": {},
   "source": [
    "Load exact data and essemble objective"
   ]
  },
  {
   "cell_type": "code",
   "execution_count": 2,
   "id": "cc3f511c",
   "metadata": {},
   "outputs": [
    {
     "name": "stderr",
     "output_type": "stream",
     "text": [
      "┌ Info: Precompiling TSSOS [81648402-ffe6-11e9-2394-0de17a9afdad]\n",
      "└ @ Base loading.jl:1423\n",
      "\u001b[33m\u001b[1m┌ \u001b[22m\u001b[39m\u001b[33m\u001b[1mWarning: \u001b[22m\u001b[39mPackage TSSOS does not have Printf in its dependencies:\n",
      "\u001b[33m\u001b[1m│ \u001b[22m\u001b[39m- If you have TSSOS checked out for development and have\n",
      "\u001b[33m\u001b[1m│ \u001b[22m\u001b[39m  added Printf as a dependency but haven't updated your primary\n",
      "\u001b[33m\u001b[1m│ \u001b[22m\u001b[39m  environment's manifest file, try `Pkg.resolve()`.\n",
      "\u001b[33m\u001b[1m│ \u001b[22m\u001b[39m- Otherwise you may need to report an issue with TSSOS\n",
      "\u001b[33m\u001b[1m└ \u001b[22m\u001b[39mLoading Printf into TSSOS from project dependency, future warnings for TSSOS are suppressed.\n"
     ]
    },
    {
     "data": {
      "text/plain": [
       "Main.LiPoSID"
      ]
     },
     "execution_count": 2,
     "metadata": {},
     "output_type": "execute_result"
    }
   ],
   "source": [
    "include(\"LiPoSID.jl\")"
   ]
  },
  {
   "cell_type": "code",
   "execution_count": 3,
   "id": "7dc27e4c",
   "metadata": {},
   "outputs": [
    {
     "data": {
      "text/latex": [
       "$$ 0.0031063757386775343a^{4} + 0.001731603372194455E^{2} - 0.015158874971351882a^{2} - 0.08730024647750814E + 1.121995426822635 $$"
      ],
      "text/plain": [
       "0.0031063757386775343a⁴ + 0.001731603372194455E² - 0.015158874971351882a² - 0.08730024647750814E + 1.121995426822635"
      ]
     },
     "execution_count": 3,
     "metadata": {},
     "output_type": "execute_result"
    }
   ],
   "source": [
    "parentdir = pwd()\n",
    "\n",
    "γᵗˣᵗ = \"2.5133\"\n",
    "\n",
    "datadir = parentdir*\"\\\\DATA\\\\\"\n",
    "\n",
    "ρᵍ, tᵍ = LiPoSID.get_rho_series(datadir*\"State_B1_2CUT_data.h5\", γᵗˣᵗ)\n",
    "ρᵉ, tᵉ = LiPoSID.get_rho_series(datadir*\"State_B2_2CUT_data.h5\", γᵗˣᵗ)\n",
    "ρˣ, tˣ = LiPoSID.get_rho_series(datadir*\"State_B3_2CUT_data.h5\", γᵗˣᵗ)\n",
    "ρʸ, tʸ = LiPoSID.get_rho_series(datadir*\"State_B4_2CUT_data.h5\", γᵗˣᵗ)\n",
    "\n",
    "ρˣ = convert(Vector{Matrix{ComplexF64}}, ρˣ)\n",
    "ρʸ = convert(Vector{Matrix{ComplexF64}}, ρʸ)\n",
    "ρᵍ = convert(Vector{Matrix{ComplexF64}}, ρᵍ)\n",
    "ρᵉ = convert(Vector{Matrix{ComplexF64}}, ρᵉ)\n",
    "t = convert(Vector{Float64}, tˣ);\n",
    "\n",
    "obj = LiPoSID.simpson_obj(ρᵉ, t, Hˢʸᵐᵇ, [Aˢʸᵐᵇ])\n",
    "obj += LiPoSID.simpson_obj(ρᵍ, t, Hˢʸᵐᵇ, [Aˢʸᵐᵇ])\n",
    "obj += LiPoSID.simpson_obj(ρˣ, t, Hˢʸᵐᵇ, [Aˢʸᵐᵇ])\n",
    "obj += LiPoSID.simpson_obj(ρʸ, t, Hˢʸᵐᵇ, [Aˢʸᵐᵇ])"
   ]
  },
  {
   "cell_type": "markdown",
   "id": "c39f2ac5",
   "metadata": {},
   "source": [
    "Here we have polynomial of degree 4 which is symmetric in valiable $a$. \n",
    "\n",
    "It looks like it is somehow patalogic for TSSOS :("
   ]
  },
  {
   "cell_type": "code",
   "execution_count": 4,
   "id": "c3f97c8e",
   "metadata": {},
   "outputs": [],
   "source": [
    "using TSSOS"
   ]
  },
  {
   "cell_type": "code",
   "execution_count": 5,
   "id": "71581d67",
   "metadata": {},
   "outputs": [
    {
     "name": "stdout",
     "output_type": "stream",
     "text": [
      "*********************************** TSSOS ***********************************\n",
      "Version 1.0.0, developed by Jie Wang, 2020--2023\n",
      "TSSOS is launching...\n",
      "optimum = 0.0031729910612705863\n",
      "\n",
      "******************************************************************************\n",
      "This program contains Ipopt, a library for large-scale nonlinear optimization.\n",
      " Ipopt is released as open source code under the Eclipse Public License (EPL).\n",
      "         For more information visit https://github.com/coin-or/Ipopt\n",
      "******************************************************************************\n",
      "\n",
      "Global optimality certified with relative optimality gap 0.000002%!\n"
     ]
    },
    {
     "data": {
      "text/plain": [
       "2-element Vector{Float64}:\n",
       " 25.207922287328664\n",
       "  1.5620376482685465"
      ]
     },
     "execution_count": 5,
     "metadata": {},
     "output_type": "execute_result"
    }
   ],
   "source": [
    "opt,sol,data = tssos_first(obj, variables(obj), QUIET=true, solution=true);\n",
    "previous_sol = sol"
   ]
  },
  {
   "cell_type": "code",
   "execution_count": 6,
   "id": "0de65c6e",
   "metadata": {},
   "outputs": [],
   "source": [
    "#opt,sol,data = tssos_first(obj, variables(obj), QUIET=true, solution=true, newton=false);\n",
    "#previous_sol = sol"
   ]
  },
  {
   "cell_type": "code",
   "execution_count": 7,
   "id": "4f279bc9",
   "metadata": {},
   "outputs": [],
   "source": [
    "#opt, sol, data = tssos_higher!(data; QUIET=true, solution=true);"
   ]
  },
  {
   "cell_type": "code",
   "execution_count": 8,
   "id": "08e9d93f",
   "metadata": {},
   "outputs": [
    {
     "data": {
      "text/plain": [
       "2-element Vector{Float64}:\n",
       " 25.207922287328664\n",
       "  1.5620376482685465"
      ]
     },
     "execution_count": 8,
     "metadata": {},
     "output_type": "execute_result"
    }
   ],
   "source": [
    "sol"
   ]
  },
  {
   "cell_type": "code",
   "execution_count": 9,
   "id": "21424942",
   "metadata": {},
   "outputs": [
    {
     "data": {
      "text/plain": [
       "PolyVar{true}[E, a] => [25.207922287328664, 1.5620376482685465]"
      ]
     },
     "execution_count": 9,
     "metadata": {},
     "output_type": "execute_result"
    }
   ],
   "source": [
    "solution = variables(obj) => sol"
   ]
  },
  {
   "cell_type": "code",
   "execution_count": 10,
   "id": "70c1d1f0",
   "metadata": {},
   "outputs": [
    {
     "data": {
      "text/plain": [
       "2×2 Matrix{Term{true, Float64}}:\n",
       " 25.2079  0.0\n",
       " 0.0      0.0"
      ]
     },
     "execution_count": 10,
     "metadata": {},
     "output_type": "execute_result"
    }
   ],
   "source": [
    "subs(Hˢʸᵐᵇ, solution)"
   ]
  },
  {
   "cell_type": "code",
   "execution_count": 11,
   "id": "b8f9b287",
   "metadata": {},
   "outputs": [
    {
     "data": {
      "text/plain": [
       "2×2 Matrix{Term{true, Float64}}:\n",
       " 0.0  1.56204\n",
       " 0.0  0.0"
      ]
     },
     "execution_count": 11,
     "metadata": {},
     "output_type": "execute_result"
    }
   ],
   "source": [
    "subs(Aˢʸᵐᵇ, solution)"
   ]
  },
  {
   "cell_type": "markdown",
   "id": "22e47071",
   "metadata": {},
   "source": [
    "The dissipator is almoust zero which is simply not true!!!"
   ]
  },
  {
   "cell_type": "markdown",
   "id": "b396cc3b",
   "metadata": {},
   "source": [
    "### Reformulate the same problem "
   ]
  },
  {
   "cell_type": "markdown",
   "id": "b92aaa44",
   "metadata": {},
   "source": [
    "Lindblad master equation could be rewritten in even simpler form if put $\\gamma$ out of brackets:\n",
    "\n",
    "$\n",
    "     \\frac{d\\rho}{dt} = - \\frac{i}{\\hbar}[H, \\rho]+\\left[A \\rho A^\\dagger - \\frac{1}{2}\\left\\{ A^\\dagger A, \\rho \\right\\} \\right]\n",
    "$\n",
    "\n",
    "$\n",
    "A = \\sqrt{\\gamma} \\sigma = \\begin{pmatrix} 0 & \\sqrt{\\gamma} \\\\ 0 & 0\n",
    "   \\end{pmatrix} = \\begin{pmatrix} 0 & a \\\\ 0 & 0\n",
    "   \\end{pmatrix}$\n",
    "   \n",
    "$\n",
    "    \\frac{d\\rho}{dt} = - \\frac{i}{\\hbar}[H, \\rho]+ \\gamma \\left[\\sigma \\rho \\sigma^\\dagger - \\frac{1}{2} \\left\\{ \\sigma^\\dagger \\sigma, \\rho \\right\\} \\right]\n",
    "$\n",
    "\n",
    "\n",
    "$\\sigma = |0\\rangle \\langle 1|  = \\begin{pmatrix} 0 & 1 \\\\ 0 & 0\n",
    "   \\end{pmatrix}$"
   ]
  },
  {
   "cell_type": "code",
   "execution_count": 12,
   "id": "058dc0aa",
   "metadata": {},
   "outputs": [
    {
     "data": {
      "text/plain": [
       "γ_simpsom_obj (generic function with 1 method)"
      ]
     },
     "execution_count": 12,
     "metadata": {},
     "output_type": "execute_result"
    }
   ],
   "source": [
    "function γ_rhs(ρ, H, γ)\n",
    "    \"\"\"\n",
    "    Right hand side of the Lindblad master equation\n",
    "    \"\"\"\n",
    "    \n",
    "    𝜎 = [ 0  1\n",
    "          0  0. + 0im ]\n",
    "    \n",
    "    return -im * (H * ρ - ρ * H) + γ * (𝜎 * ρ * 𝜎' - (𝜎' * 𝜎  * ρ + ρ * 𝜎' * 𝜎) / 2)\n",
    "    \n",
    "end\n",
    "\n",
    "function γ_simpsom_obj(ρ::Vector{Matrix{ComplexF64}}, t, H, γ)\n",
    "    \n",
    "    obj = 0\n",
    "    for i in 3:length(ρ)\n",
    "        obj += LiPoSID.frobenius_norm2(\n",
    "            ρ[i] - ρ[i-2] - (t[i]-t[i-1])γ_rhs((ρ[i-2] + 4ρ[i-1] + ρ[i])/3, H, γ)\n",
    "        )\n",
    "    end\n",
    "    obj = sum(real(coef) * mon for (coef, mon) in zip(coefficients(obj), monomials(obj)))\n",
    "    return obj\n",
    "end"
   ]
  },
  {
   "cell_type": "code",
   "execution_count": 13,
   "id": "bff32b14",
   "metadata": {},
   "outputs": [
    {
     "data": {
      "text/plain": [
       "2.5133"
      ]
     },
     "execution_count": 13,
     "metadata": {},
     "output_type": "execute_result"
    }
   ],
   "source": [
    "γᶠˡᵒᵃᵗ = parse(Float64, γᵗˣᵗ)"
   ]
  },
  {
   "cell_type": "code",
   "execution_count": 14,
   "id": "5b6611dc",
   "metadata": {},
   "outputs": [
    {
     "data": {
      "text/latex": [
       "$$ 0.001731603372194455E^{2} - 0.08730024647750813E + 1.1035185981973 $$"
      ],
      "text/plain": [
       "0.001731603372194455E² - 0.08730024647750813E + 1.1035185981973"
      ]
     },
     "execution_count": 14,
     "metadata": {},
     "output_type": "execute_result"
    }
   ],
   "source": [
    "𝜎 = [ 0  1\n",
    "      0  0. + 0im ]\n",
    "\n",
    "obj_γ = γ_simpsom_obj(ρᵉ, t, Hˢʸᵐᵇ, γᶠˡᵒᵃᵗ)\n",
    "obj_γ += γ_simpsom_obj(ρᵍ, t, Hˢʸᵐᵇ, γᶠˡᵒᵃᵗ)\n",
    "obj_γ += γ_simpsom_obj(ρˣ, t, Hˢʸᵐᵇ, γᶠˡᵒᵃᵗ)\n",
    "obj_γ += γ_simpsom_obj(ρʸ, t, Hˢʸᵐᵇ, γᶠˡᵒᵃᵗ)"
   ]
  },
  {
   "cell_type": "markdown",
   "id": "32a985df",
   "metadata": {},
   "source": [
    "which is of course very simple quadratic polynomial"
   ]
  },
  {
   "cell_type": "code",
   "execution_count": 15,
   "id": "526e06cc",
   "metadata": {},
   "outputs": [
    {
     "name": "stdout",
     "output_type": "stream",
     "text": [
      "*********************************** TSSOS ***********************************\n",
      "Version 1.0.0, developed by Jie Wang, 2020--2023\n",
      "TSSOS is launching...\n",
      "optimum = 0.00318969210985631\n",
      "Global optimality certified with relative optimality gap 0.000001%!\n"
     ]
    },
    {
     "data": {
      "text/plain": [
       "| (generic function with 36 methods)"
      ]
     },
     "execution_count": 15,
     "metadata": {},
     "output_type": "execute_result"
    }
   ],
   "source": [
    "opt_γ, sol_γ, data_γ = tssos_first(obj_γ, variables(obj_γ), QUIET=true, solution=true, newton=false);|"
   ]
  },
  {
   "cell_type": "markdown",
   "id": "1f9a070e",
   "metadata": {},
   "source": [
    "The Hamiltonian remains almoust the same:"
   ]
  },
  {
   "cell_type": "code",
   "execution_count": 16,
   "id": "0fa078cb",
   "metadata": {},
   "outputs": [
    {
     "data": {
      "text/plain": [
       "2×2 Matrix{Term{true, Float64}}:\n",
       " 25.2081  0.0\n",
       " 0.0      0.0"
      ]
     },
     "execution_count": 16,
     "metadata": {},
     "output_type": "execute_result"
    }
   ],
   "source": [
    "solution = variables(obj_γ) => sol_γ\n",
    "subs(Hˢʸᵐᵇ, solution)"
   ]
  },
  {
   "cell_type": "markdown",
   "id": "466dadc3",
   "metadata": {},
   "source": [
    "but we can find another dissipator $A$ that can fit the data much better"
   ]
  },
  {
   "cell_type": "code",
   "execution_count": 17,
   "id": "a3f4e706",
   "metadata": {},
   "outputs": [
    {
     "data": {
      "text/plain": [
       "2×2 Matrix{ComplexF64}:\n",
       " 0.0+0.0im  1.58534+0.0im\n",
       " 0.0+0.0im      0.0+0.0im"
      ]
     },
     "execution_count": 17,
     "metadata": {},
     "output_type": "execute_result"
    }
   ],
   "source": [
    "√γᶠˡᵒᵃᵗ*𝜎"
   ]
  },
  {
   "cell_type": "markdown",
   "id": "5ff1a28b",
   "metadata": {},
   "source": [
    "Thus for some reason TSSOS fails to find the right solution :("
   ]
  },
  {
   "cell_type": "markdown",
   "id": "959ed653",
   "metadata": {},
   "source": [
    "#### We can also solve it as 2D optimization problem in $E$ and $\\gamma$"
   ]
  },
  {
   "cell_type": "code",
   "execution_count": 18,
   "id": "0a85c27a",
   "metadata": {},
   "outputs": [
    {
     "data": {
      "text/plain": [
       "(γ,)"
      ]
     },
     "execution_count": 18,
     "metadata": {},
     "output_type": "execute_result"
    }
   ],
   "source": [
    "@polyvar γ"
   ]
  },
  {
   "cell_type": "code",
   "execution_count": 19,
   "id": "e4d6e1d7",
   "metadata": {},
   "outputs": [
    {
     "data": {
      "text/latex": [
       "$$ 0.001731603372194455E^{2} + 0.0031063757386775343γ^{2} - 0.08730024647750814E - 0.015158874971351882γ + 1.121995426822635 $$"
      ],
      "text/plain": [
       "0.001731603372194455E² + 0.0031063757386775343γ² - 0.08730024647750814E - 0.015158874971351882γ + 1.121995426822635"
      ]
     },
     "execution_count": 19,
     "metadata": {},
     "output_type": "execute_result"
    }
   ],
   "source": [
    "obj_γˢʸᵐᵇ = γ_simpsom_obj(ρᵉ, t, Hˢʸᵐᵇ, γ)\n",
    "obj_γˢʸᵐᵇ += γ_simpsom_obj(ρᵍ, t, Hˢʸᵐᵇ, γ)\n",
    "obj_γˢʸᵐᵇ += γ_simpsom_obj(ρˣ, t, Hˢʸᵐᵇ, γ)\n",
    "obj_γˢʸᵐᵇ += γ_simpsom_obj(ρʸ, t, Hˢʸᵐᵇ, γ)"
   ]
  },
  {
   "cell_type": "code",
   "execution_count": 20,
   "id": "11c1b079",
   "metadata": {},
   "outputs": [
    {
     "name": "stdout",
     "output_type": "stream",
     "text": [
      "*********************************** TSSOS ***********************************\n",
      "Version 1.0.0, developed by Jie Wang, 2020--2023\n",
      "TSSOS is launching...\n",
      "optimum = 0.003173001708536059\n",
      "Global optimality certified with relative optimality gap 0.000003%!\n"
     ]
    },
    {
     "data": {
      "text/plain": [
       "| (generic function with 36 methods)"
      ]
     },
     "execution_count": 20,
     "metadata": {},
     "output_type": "execute_result"
    }
   ],
   "source": [
    "opt_γˢʸᵐᵇ, sol_γˢʸᵐᵇ, data_γˢʸᵐᵇ = tssos_first(obj_γˢʸᵐᵇ, variables(obj_γˢʸᵐᵇ), QUIET=true, solution=true, newton=false);|"
   ]
  },
  {
   "cell_type": "code",
   "execution_count": 21,
   "id": "ea5cd0e3",
   "metadata": {},
   "outputs": [
    {
     "data": {
      "text/plain": [
       "2×2 Matrix{Term{true, Float64}}:\n",
       " 25.2084  0.0\n",
       " 0.0      0.0"
      ]
     },
     "execution_count": 21,
     "metadata": {},
     "output_type": "execute_result"
    }
   ],
   "source": [
    "solution = variables(obj_γˢʸᵐᵇ) => sol_γˢʸᵐᵇ\n",
    "subs(Hˢʸᵐᵇ, solution)"
   ]
  },
  {
   "cell_type": "code",
   "execution_count": 22,
   "id": "83d79c3e",
   "metadata": {},
   "outputs": [
    {
     "data": {
      "text/latex": [
       "$$ 2.4399885826169965 $$"
      ],
      "text/plain": [
       "2.4399885826169965"
      ]
     },
     "execution_count": 22,
     "metadata": {},
     "output_type": "execute_result"
    }
   ],
   "source": [
    "subs(γ, solution)"
   ]
  },
  {
   "cell_type": "code",
   "execution_count": null,
   "id": "8e8e89d8",
   "metadata": {},
   "outputs": [],
   "source": []
  }
 ],
 "metadata": {
  "@webio": {
   "lastCommId": null,
   "lastKernelId": null
  },
  "kernelspec": {
   "display_name": "Julia 1.7.2",
   "language": "julia",
   "name": "julia-1.7"
  },
  "language_info": {
   "file_extension": ".jl",
   "mimetype": "application/julia",
   "name": "julia",
   "version": "1.7.2"
  }
 },
 "nbformat": 4,
 "nbformat_minor": 5
}
