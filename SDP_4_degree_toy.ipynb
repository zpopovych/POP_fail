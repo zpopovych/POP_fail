{
 "cells": [
  {
   "cell_type": "markdown",
   "id": "5a5bccd1",
   "metadata": {},
   "source": [
    "### Toy Lindblad identification as POP solved with Moment SDP"
   ]
  },
  {
   "cell_type": "code",
   "execution_count": 1,
   "id": "1bcc8bc4",
   "metadata": {},
   "outputs": [],
   "source": [
    "using LinearAlgebra, JuMP, MosekTools\n",
    "using Optim"
   ]
  },
  {
   "cell_type": "markdown",
   "id": "0eb49df0",
   "metadata": {},
   "source": [
    "Consider SDP optimization problem of the form:\n",
    "\\begin{align} \n",
    "&\\operatorname{minimize}{ \\left( \\mathbf{trace}{(C X)} \\right) }\\\\\n",
    "&\\operatorname{subject to} { y_i := \\left( \\mathbf{trace}{(A_i X)} \\right) = b_i}, \\quad i = 1... m, \\quad\n",
    "X \\succcurlyeq 0\n",
    "\\end{align}\n",
    "\n",
    "where $X\\in\\mathbf{S}^{n}$ is the decision variable, and each of the $A_{i}$ matrices and $C$ are also in $\\mathbf{S}^{n}$  By the notation $\\mathbf{S}^{n}$, we denote the set of all symmetric $n \\times n$ matrices.\n",
    "\n",
    "It could be solved with the following function:"
   ]
  },
  {
   "cell_type": "code",
   "execution_count": 2,
   "id": "d7947f1d",
   "metadata": {},
   "outputs": [
    {
     "data": {
      "text/plain": [
       "solve_SDP (generic function with 1 method)"
      ]
     },
     "execution_count": 2,
     "metadata": {},
     "output_type": "execute_result"
    }
   ],
   "source": [
    "function solve_SDP(A, b, C; quiet = false, term_tolerance = 1e-7)\n",
    "    \n",
    "    start_time = time()\n",
    "    \n",
    "    n = size(A)[1] # = size(C)[1]\n",
    "    m = length(b)\n",
    "\n",
    "    model = Model(optimizer_with_attributes(Mosek.Optimizer, \"QUIET\" => quiet, \"INTPNT_CO_TOL_DFEAS\" => term_tolerance))\n",
    "\n",
    "    #set_silent(model)\n",
    "\n",
    "    @variable(model, X[1:n, 1:n], PSD)\n",
    "\n",
    "    @objective(model, Min, tr(C * X));\n",
    "    \n",
    "    @constraint(model, y[j=1:m], tr(A[:, (j - 1) * n + 1:j * n]* X) == b[j])\n",
    "\n",
    "    optimize!(model)\n",
    "\n",
    "    status = JuMP.termination_status(model)\n",
    "    X_sol = JuMP.value.(X)\n",
    "    obj_value = JuMP.objective_value(model)\n",
    "    dual_sol = dual.(y)\n",
    "    run_time = time() - start_time\n",
    "\n",
    "    return model, status, run_time, X_sol, dual_sol, obj_value\n",
    "    \n",
    "end"
   ]
  },
  {
   "cell_type": "code",
   "execution_count": 3,
   "id": "fb3aab0c",
   "metadata": {},
   "outputs": [
    {
     "data": {
      "text/plain": [
       "(PolyVar{true}[x₁, x₂],)"
      ]
     },
     "execution_count": 3,
     "metadata": {},
     "output_type": "execute_result"
    }
   ],
   "source": [
    "using DynamicPolynomials\n",
    "@polyvar x[1:2]"
   ]
  },
  {
   "cell_type": "markdown",
   "id": "223fc5d7",
   "metadata": {},
   "source": [
    "$\\min_{x \\in \\mathbb{R}^2 } p(x)$"
   ]
  },
  {
   "cell_type": "code",
   "execution_count": 4,
   "id": "379110d7",
   "metadata": {},
   "outputs": [
    {
     "data": {
      "text/plain": [
       "p (generic function with 1 method)"
      ]
     },
     "execution_count": 4,
     "metadata": {},
     "output_type": "execute_result"
    }
   ],
   "source": [
    "function p(x)\n",
    "    x[1]^4 + x[1]^2 + 2x[1]x[2] + 2x[1]^2 * x[2] + 2x[2]^2\n",
    "end"
   ]
  },
  {
   "cell_type": "code",
   "execution_count": 5,
   "id": "7e5c25d5",
   "metadata": {},
   "outputs": [
    {
     "data": {
      "text/latex": [
       "$$ x_{1}^{4} + 2x_{1}^{2}x_{2} + x_{1}^{2} + 2x_{1}x_{2} + 2x_{2}^{2} $$"
      ],
      "text/plain": [
       "x₁⁴ + 2x₁²x₂ + x₁² + 2x₁x₂ + 2x₂²"
      ]
     },
     "execution_count": 5,
     "metadata": {},
     "output_type": "execute_result"
    }
   ],
   "source": [
    "obj = p(x)"
   ]
  },
  {
   "cell_type": "markdown",
   "id": "85894c0d",
   "metadata": {},
   "source": [
    "Numerical solution with BFGS:"
   ]
  },
  {
   "cell_type": "code",
   "execution_count": 6,
   "id": "b411f13a",
   "metadata": {},
   "outputs": [
    {
     "name": "stdout",
     "output_type": "stream",
     "text": [
      "(x₁ᵇᶠᵍˢ, x₂ᵇᶠᵍˢ) = Optim.minimizer(result) = [0.0, 0.0]\n"
     ]
    },
    {
     "data": {
      "text/plain": [
       "0.0"
      ]
     },
     "execution_count": 6,
     "metadata": {},
     "output_type": "execute_result"
    }
   ],
   "source": [
    "result = optimize(obj, zeros(2), BFGS())\n",
    "@show x₁ᵇᶠᵍˢ, x₂ᵇᶠᵍˢ = Optim.minimizer(result)\n",
    "p([x₁ᵇᶠᵍˢ, x₂ᵇᶠᵍˢ])"
   ]
  },
  {
   "cell_type": "markdown",
   "id": "862ed507",
   "metadata": {},
   "source": [
    "#### Formulating SDP\n",
    "\n",
    "Having polynomial optimization problem:\n",
    "\n",
    "$\\min_{x \\in \\mathbb{R}^2 } p(x)$\n",
    "\n",
    "we can write the first and second linear matrix inequality (LMI) relaxation for it:\n",
    "    \n",
    "$\\min_{y \\in \\mathbb{R}^6 }$\n",
    "    \n",
    "$\\operatorname{s.t.}{y_{00} = 1, M_1(y)\\succcurlyeq 0}$\n",
    "\n",
    "Which is equivalent to:\n",
    "\\begin{align} \n",
    "&\\operatorname{minimize}{ \\left( \\mathbf{trace}{(C X)} \\right) }\\\\\n",
    "&\\operatorname{subject to} { y_i := \\left( \\mathbf{trace}{(A_i X)} \\right) = b_i}, \\quad i = 1... m, \\quad\n",
    "X \\succcurlyeq 0\n",
    "\\end{align}\n",
    "\n",
    "where\n",
    "\n",
    "$X = M_2(y) =\\begin{pmatrix} \n",
    "    y_{00} & y_{10} & y_{01} & y_{20} & y_{11} & y_{02}\\\\\n",
    "    y_{10} & y_{20} & y_{11} & y_{30} & y_{21} & y_{12}\\\\\n",
    "    y_{01} & y_{11} & y_{02} & y_{21} & y_{12} & y_{03}\\\\\n",
    "    y_{20} & y_{30} & y_{21} & y_{40} & y_{31} & y_{22}\\\\\n",
    "    y_{11} & y_{21} & y_{12} & y_{31} & y_{22} & y_{13}\\\\\n",
    "    y_{02} & y_{12} & y_{03} & y_{22} & y_{13} & y_{04}\\\\\n",
    "    \\end{pmatrix} \\succcurlyeq 0 $"
   ]
  },
  {
   "cell_type": "code",
   "execution_count": 7,
   "id": "6b65f7d8",
   "metadata": {},
   "outputs": [
    {
     "data": {
      "text/plain": [
       "6×6 Matrix{PolyVar{true}}:\n",
       " y₀₋₀  y₁₋₀  y₀₋₁  y₂₋₀  y₁₋₁  y₀₋₂\n",
       " y₁₋₀  y₂₋₀  y₁₋₁  y₃₋₀  y₂₋₁  y₁₋₂\n",
       " y₀₋₁  y₁₋₁  y₀₋₂  y₂₋₁  y₁₋₂  y₀₋₃\n",
       " y₂₋₀  y₃₋₀  y₂₋₁  y₄₋₀  y₃₋₁  y₂₋₂\n",
       " y₁₋₁  y₂₋₁  y₁₋₂  y₃₋₁  y₂₋₂  y₁₋₃\n",
       " y₀₋₂  y₁₋₂  y₀₋₃  y₂₋₂  y₁₋₃  y₀₋₄"
      ]
     },
     "execution_count": 7,
     "metadata": {},
     "output_type": "execute_result"
    }
   ],
   "source": [
    "@polyvar y[0:4,0:4]\n",
    "\n",
    "X     = [ y[1,1] y[2,1] y[1,2] y[3,1] y[2,2] y[1,3]\n",
    "          y[2,1] y[3,1] y[2,2] y[4,1] y[3,2] y[2,3]\n",
    "          y[1,2] y[2,2] y[1,3] y[3,2] y[2,3] y[1,4]\n",
    "          y[3,1] y[4,1] y[3,2] y[5,1] y[4,2] y[3,3]\n",
    "          y[2,2] y[3,2] y[2,3] y[4,2] y[3,3] y[2,4]\n",
    "          y[1,3] y[2,3] y[1,4] y[3,3] y[2,4] y[1,5] ]"
   ]
  },
  {
   "cell_type": "code",
   "execution_count": 8,
   "id": "0f720378",
   "metadata": {},
   "outputs": [
    {
     "data": {
      "text/latex": [
       "$$ x_{1}^{4} + 2x_{1}^{2}x_{2} + x_{1}^{2} + 2x_{1}x_{2} + 2x_{2}^{2} $$"
      ],
      "text/plain": [
       "x₁⁴ + 2x₁²x₂ + x₁² + 2x₁x₂ + 2x₂²"
      ]
     },
     "execution_count": 8,
     "metadata": {},
     "output_type": "execute_result"
    }
   ],
   "source": [
    "obj"
   ]
  },
  {
   "cell_type": "code",
   "execution_count": 9,
   "id": "1f9cfde0",
   "metadata": {},
   "outputs": [
    {
     "name": "stdout",
     "output_type": "stream",
     "text": [
      "rank(C) = 6\n"
     ]
    },
    {
     "data": {
      "text/latex": [
       "$$ y_{2,0} + y_{4,0} + 2.0y_{1,1} + 2.0y_{2,1} + 2.0y_{0,2} $$"
      ],
      "text/plain": [
       "y₂₋₀ + y₄₋₀ + 2.0y₁₋₁ + 2.0y₂₋₁ + 2.0y₀₋₂"
      ]
     },
     "execution_count": 9,
     "metadata": {},
     "output_type": "execute_result"
    }
   ],
   "source": [
    "C = [0   0   0    1/3  1/2  2/3 \n",
    "     0   1/3 1/2  0    1/2  0 \n",
    "     0   1/2 2/3  1/2  0    0         \n",
    "     1/3 0   1/2  1    0    0 \n",
    "     1/2 1/2 0    0    0    0 \n",
    "     2/3 0   0    0    0    0 ]\n",
    "@show rank(C)\n",
    "tr(C*X)"
   ]
  },
  {
   "cell_type": "code",
   "execution_count": 10,
   "id": "ec944f41",
   "metadata": {},
   "outputs": [
    {
     "data": {
      "text/plain": [
       "Eigen{Float64, Float64, Matrix{Float64}, Vector{Float64}}\n",
       "values:\n",
       "6-element Vector{Float64}:\n",
       " -0.9062084980711499\n",
       " -0.3834657745555047\n",
       "  0.13237675713716002\n",
       "  0.8035835880657819\n",
       "  0.8127470836468974\n",
       "  1.540966843776813\n",
       "vectors:\n",
       "6×6 Matrix{Float64}:\n",
       " -0.675832   0.231201   0.107987  -0.594515  -0.243844   -0.255397\n",
       " -0.209996  -0.604923  -0.229154   0.331548  -0.574661   -0.311929\n",
       "  0.031842   0.379922   0.549757   0.475443  -0.0474584  -0.56931\n",
       "  0.109829  -0.193014  -0.358306  -0.201356   0.560795   -0.683567\n",
       "  0.488755   0.487294  -0.457658  -0.163621  -0.503542   -0.184081\n",
       "  0.497187  -0.40195    0.543839  -0.49322   -0.200016   -0.110492"
      ]
     },
     "execution_count": 10,
     "metadata": {},
     "output_type": "execute_result"
    }
   ],
   "source": [
    "eigen(C)"
   ]
  },
  {
   "cell_type": "markdown",
   "id": "04f963c4",
   "metadata": {},
   "source": [
    "and as $y_{00}=1$:\n",
    "\n",
    "$A_1 =\\begin{pmatrix} \n",
    "1 & 0 & 0 & 0 & 0 & 0\\\\\n",
    "0 & 0 & 0 & 0 & 0 & 0\\\\\n",
    "0 & 0 & 0 & 0 & 0 & 0\\\\\n",
    "0 & 0 & 0 & 0 & 0 & 0\\\\\n",
    "0 & 0 & 0 & 0 & 0 & 0\\\\\n",
    "0 & 0 & 0 & 0 & 0 & 0\\\\\n",
    "\\end{pmatrix}, \\quad b_1 = 1$"
   ]
  },
  {
   "cell_type": "code",
   "execution_count": 11,
   "id": "d2f3071b",
   "metadata": {},
   "outputs": [
    {
     "ename": "LoadError",
     "evalue": "UndefVarError: A not defined",
     "output_type": "error",
     "traceback": [
      "UndefVarError: A not defined",
      "",
      "Stacktrace:",
      " [1] top-level scope",
      "   @ In[11]:1",
      " [2] eval",
      "   @ .\\boot.jl:373 [inlined]",
      " [3] include_string(mapexpr::typeof(REPL.softscope), mod::Module, code::String, filename::String)",
      "   @ Base .\\loading.jl:1196"
     ]
    }
   ],
   "source": [
    "model, status, run_time, X_sol, dual_sol, obj_value = solve_SDP(A, b, C)"
   ]
  },
  {
   "cell_type": "code",
   "execution_count": 12,
   "id": "f54a3f99",
   "metadata": {},
   "outputs": [
    {
     "ename": "LoadError",
     "evalue": "UndefVarError: obj_value not defined",
     "output_type": "error",
     "traceback": [
      "UndefVarError: obj_value not defined",
      "",
      "Stacktrace:",
      " [1] top-level scope",
      "   @ :0",
      " [2] eval",
      "   @ .\\boot.jl:373 [inlined]",
      " [3] include_string(mapexpr::typeof(REPL.softscope), mod::Module, code::String, filename::String)",
      "   @ Base .\\loading.jl:1196"
     ]
    }
   ],
   "source": [
    "obj_value"
   ]
  },
  {
   "cell_type": "code",
   "execution_count": 13,
   "id": "05b44360",
   "metadata": {},
   "outputs": [
    {
     "ename": "LoadError",
     "evalue": "UndefVarError: X_sol not defined",
     "output_type": "error",
     "traceback": [
      "UndefVarError: X_sol not defined",
      "",
      "Stacktrace:",
      " [1] top-level scope",
      "   @ :0",
      " [2] eval",
      "   @ .\\boot.jl:373 [inlined]",
      " [3] include_string(mapexpr::typeof(REPL.softscope), mod::Module, code::String, filename::String)",
      "   @ Base .\\loading.jl:1196"
     ]
    }
   ],
   "source": [
    "X_sol"
   ]
  },
  {
   "cell_type": "code",
   "execution_count": 14,
   "id": "6445eb85",
   "metadata": {},
   "outputs": [
    {
     "ename": "LoadError",
     "evalue": "UndefVarError: X_sol not defined",
     "output_type": "error",
     "traceback": [
      "UndefVarError: X_sol not defined",
      "",
      "Stacktrace:",
      " [1] top-level scope",
      "   @ In[14]:1",
      " [2] eval",
      "   @ .\\boot.jl:373 [inlined]",
      " [3] include_string(mapexpr::typeof(REPL.softscope), mod::Module, code::String, filename::String)",
      "   @ Base .\\loading.jl:1196"
     ]
    }
   ],
   "source": [
    "eigen(X_sol)"
   ]
  },
  {
   "cell_type": "code",
   "execution_count": 15,
   "id": "db80fb26",
   "metadata": {},
   "outputs": [
    {
     "data": {
      "text/plain": [
       "6-element Vector{Int64}:\n",
       " 1\n",
       " 1\n",
       " 1\n",
       " 1\n",
       " 1\n",
       " 1"
      ]
     },
     "execution_count": 15,
     "metadata": {},
     "output_type": "execute_result"
    }
   ],
   "source": [
    "coefficients(1+x[1]+x[2]+x[1]^2+x[1]*x[2]+x[2]^2)"
   ]
  },
  {
   "cell_type": "code",
   "execution_count": 16,
   "id": "66e1e699",
   "metadata": {},
   "outputs": [
    {
     "data": {
      "text/plain": [
       "6-element Vector{Monomial{true}}:\n",
       " 1\n",
       " x₂\n",
       " x₁\n",
       " x₂²\n",
       " x₁x₂\n",
       " x₁²"
      ]
     },
     "execution_count": 16,
     "metadata": {},
     "output_type": "execute_result"
    }
   ],
   "source": [
    "rmons = reverse(monomials(1+x[1]+x[2]+x[1]^2+x[1]*x[2]+x[2]^2))"
   ]
  },
  {
   "cell_type": "code",
   "execution_count": 17,
   "id": "2affb732",
   "metadata": {},
   "outputs": [
    {
     "data": {
      "text/plain": [
       "6×6 Matrix{Monomial{true}}:\n",
       " 1     x₂     x₁     x₂²     x₁x₂    x₁²\n",
       " x₂    x₂²    x₁x₂   x₂³     x₁x₂²   x₁²x₂\n",
       " x₁    x₁x₂   x₁²    x₁x₂²   x₁²x₂   x₁³\n",
       " x₂²   x₂³    x₁x₂²  x₂⁴     x₁x₂³   x₁²x₂²\n",
       " x₁x₂  x₁x₂²  x₁²x₂  x₁x₂³   x₁²x₂²  x₁³x₂\n",
       " x₁²   x₁²x₂  x₁³    x₁²x₂²  x₁³x₂   x₁⁴"
      ]
     },
     "execution_count": 17,
     "metadata": {},
     "output_type": "execute_result"
    }
   ],
   "source": [
    "rmons*rmons'"
   ]
  },
  {
   "cell_type": "code",
   "execution_count": 18,
   "id": "553c2b87",
   "metadata": {},
   "outputs": [
    {
     "data": {
      "text/plain": [
       "1×3 Matrix{Monomial{true}}:\n",
       " x₁⁶  x₁⁴x₂  x₁⁴"
      ]
     },
     "execution_count": 18,
     "metadata": {},
     "output_type": "execute_result"
    }
   ],
   "source": [
    "monomials(obj)[3:3]*monomials(obj)[1:3]'"
   ]
  },
  {
   "cell_type": "code",
   "execution_count": 19,
   "id": "12164469",
   "metadata": {},
   "outputs": [
    {
     "data": {
      "text/plain": [
       "5×5 Matrix{Int64}:\n",
       " 1  2  1  2  2\n",
       " 2  4  2  4  4\n",
       " 1  2  1  2  2\n",
       " 2  4  2  4  4\n",
       " 2  4  2  4  4"
      ]
     },
     "execution_count": 19,
     "metadata": {},
     "output_type": "execute_result"
    }
   ],
   "source": [
    "coefficients(obj)*coefficients(obj)'"
   ]
  },
  {
   "cell_type": "code",
   "execution_count": null,
   "id": "48d5f2f4",
   "metadata": {},
   "outputs": [],
   "source": []
  },
  {
   "cell_type": "code",
   "execution_count": 20,
   "id": "ad8b4ce6",
   "metadata": {},
   "outputs": [
    {
     "data": {
      "text/latex": [
       "$$ 7y_{0,0} - 2y_{1,0} - 2y_{0,1} + y_{3,1} - 2y_{0,2} + y_{0,4} $$"
      ],
      "text/plain": [
       "7y₀₋₀ - 2y₁₋₀ - 2y₀₋₁ + y₃₋₁ - 2y₀₋₂ + y₀₋₄"
      ]
     },
     "execution_count": 20,
     "metadata": {},
     "output_type": "execute_result"
    }
   ],
   "source": [
    "C = [7         -1       -1       0           0      -1 \n",
    "     -1          0        0       0           0      0 \n",
    "     -1          0        0       0           0      0         \n",
    "     0           0        0       0           0      0 \n",
    "     0           0        0       1           0      0 \n",
    "     -1          0        0       0           0      1 ]\n",
    "\n",
    "tr(C*X)"
   ]
  },
  {
   "cell_type": "code",
   "execution_count": 21,
   "id": "8e16f63b",
   "metadata": {},
   "outputs": [
    {
     "data": {
      "text/latex": [
       "$$ x_{1}^{4} + 2x_{1}^{2}x_{2} + x_{1}^{2} + 2x_{1}x_{2} + 2x_{2}^{2} $$"
      ],
      "text/plain": [
       "x₁⁴ + 2x₁²x₂ + x₁² + 2x₁x₂ + 2x₂²"
      ]
     },
     "execution_count": 21,
     "metadata": {},
     "output_type": "execute_result"
    }
   ],
   "source": [
    "obj"
   ]
  },
  {
   "cell_type": "markdown",
   "id": "5b66fc8f",
   "metadata": {},
   "source": [
    "This is SDP problem, \n",
    "\n",
    "\n",
    "\n",
    "and as $y_{00}=1$:\n",
    "\n",
    "$A_1 =\\begin{pmatrix} \n",
    "1 & 0 & 0 & 0 & 0 & 0\\\\\n",
    "0 & 0 & 0 & 0 & 0 & 0\\\\\n",
    "0 & 0 & 0 & 0 & 0 & 0\\\\\n",
    "0 & 0 & 0 & 0 & 0 & 0\\\\\n",
    "0 & 0 & 0 & 0 & 0 & 0\\\\\n",
    "0 & 0 & 0 & 0 & 0 & 0\\\\\n",
    "\\end{pmatrix}, \\quad b_1 = 1$\n"
   ]
  },
  {
   "cell_type": "code",
   "execution_count": null,
   "id": "24098916",
   "metadata": {},
   "outputs": [],
   "source": []
  },
  {
   "cell_type": "code",
   "execution_count": null,
   "id": "2d05372c",
   "metadata": {},
   "outputs": [],
   "source": []
  },
  {
   "cell_type": "code",
   "execution_count": null,
   "id": "0cfa6054",
   "metadata": {},
   "outputs": [],
   "source": []
  },
  {
   "cell_type": "code",
   "execution_count": 22,
   "id": "b3eeb960",
   "metadata": {},
   "outputs": [
    {
     "ename": "LoadError",
     "evalue": "UndefVarError: C₂ not defined",
     "output_type": "error",
     "traceback": [
      "UndefVarError: C₂ not defined",
      "",
      "Stacktrace:",
      " [1] top-level scope",
      "   @ In[22]:1",
      " [2] eval",
      "   @ .\\boot.jl:373 [inlined]",
      " [3] include_string(mapexpr::typeof(REPL.softscope), mod::Module, code::String, filename::String)",
      "   @ Base .\\loading.jl:1196"
     ]
    }
   ],
   "source": [
    "rank(C₂)"
   ]
  },
  {
   "cell_type": "code",
   "execution_count": 23,
   "id": "991e42cd",
   "metadata": {},
   "outputs": [
    {
     "data": {
      "text/plain": [
       "(PolyVar{true}[y₁₋₁ y₁₋₂ … y₁₋₅ y₁₋₆; y₂₋₁ y₂₋₂ … y₂₋₅ y₂₋₆; … ; y₅₋₁ y₅₋₂ … y₅₋₅ y₅₋₆; y₆₋₁ y₆₋₂ … y₆₋₅ y₆₋₆],)"
      ]
     },
     "execution_count": 23,
     "metadata": {},
     "output_type": "execute_result"
    }
   ],
   "source": [
    "@polyvar y[1:6,1:6]"
   ]
  },
  {
   "cell_type": "markdown",
   "id": "5d5bb903",
   "metadata": {},
   "source": [
    "Additional constaint for $y_{00}$:"
   ]
  },
  {
   "cell_type": "code",
   "execution_count": 24,
   "id": "16cf421e",
   "metadata": {},
   "outputs": [
    {
     "data": {
      "text/plain": [
       "6×6 Matrix{Float64}:\n",
       " 1.0  0.0  0.0  0.0  0.0  0.0\n",
       " 0.0  0.0  0.0  0.0  0.0  0.0\n",
       " 0.0  0.0  0.0  0.0  0.0  0.0\n",
       " 0.0  0.0  0.0  0.0  0.0  0.0\n",
       " 0.0  0.0  0.0  0.0  0.0  0.0\n",
       " 0.0  0.0  0.0  0.0  0.0  0.0"
      ]
     },
     "execution_count": 24,
     "metadata": {},
     "output_type": "execute_result"
    }
   ],
   "source": [
    "A = zeros(6,6)\n",
    "A[1,1] = 1\n",
    "b = 1\n",
    "A"
   ]
  },
  {
   "cell_type": "markdown",
   "id": "54f4dbe5",
   "metadata": {},
   "source": [
    "Now we can solve SDP"
   ]
  },
  {
   "cell_type": "code",
   "execution_count": 25,
   "id": "68dd5b5c",
   "metadata": {},
   "outputs": [
    {
     "name": "stdout",
     "output_type": "stream",
     "text": [
      "Problem\n",
      "  Name                   :                 \n",
      "  Objective sense        : min             \n",
      "  Type                   : CONIC (conic optimization problem)\n",
      "  Constraints            : 1               \n",
      "  Cones                  : 0               \n",
      "  Scalar variables       : 0               \n",
      "  Matrix variables       : 1               \n",
      "  Integer variables      : 0               \n",
      "\n",
      "Optimizer started.\n",
      "Presolve started.\n",
      "Linear dependency checker started.\n",
      "Linear dependency checker terminated.\n",
      "Eliminator started.\n",
      "Freed constraints in eliminator : 0\n",
      "Eliminator terminated.\n",
      "Eliminator started.\n",
      "Freed constraints in eliminator : 0\n",
      "Eliminator terminated.\n",
      "Eliminator - tries                  : 2                 time                   : 0.00            \n",
      "Lin. dep.  - tries                  : 1                 time                   : 0.00            \n",
      "Lin. dep.  - number                 : 0               \n",
      "Presolve terminated. Time: 0.00    \n",
      "Problem\n",
      "  Name                   :                 \n",
      "  Objective sense        : min             \n",
      "  Type                   : CONIC (conic optimization problem)\n",
      "  Constraints            : 1               \n",
      "  Cones                  : 0               \n",
      "  Scalar variables       : 0               \n",
      "  Matrix variables       : 1               \n",
      "  Integer variables      : 0               \n",
      "\n",
      "Optimizer  - threads                : 4               \n",
      "Optimizer  - solved problem         : the primal      \n",
      "Optimizer  - Constraints            : 1\n",
      "Optimizer  - Cones                  : 0\n",
      "Optimizer  - Scalar variables       : 0                 conic                  : 0               \n",
      "Optimizer  - Semi-definite variables: 1                 scalarized             : 21              \n",
      "Factor     - setup time             : 0.00              dense det. time        : 0.00            \n",
      "Factor     - ML order time          : 0.00              GP order time          : 0.00            \n",
      "Factor     - nonzeros before factor : 1                 after factor           : 1               \n",
      "Factor     - dense dim.             : 0                 flops                  : 1.66e+02        \n",
      "ITE PFEAS    DFEAS    GFEAS    PRSTATUS   POBJ              DOBJ              MU       TIME  \n",
      "0   0.0e+00  6.0e+00  9.0e+00  0.00e+00   8.000000000e+00   0.000000000e+00   1.0e+00  0.02  \n",
      "1   0.0e+00  9.4e-01  1.9e+00  -3.68e-01  4.075572155e+00   1.817928278e+00   1.6e-01  0.02  \n",
      "2   3.6e-16  6.1e-02  3.8e-01  -5.41e-01  -2.342491847e+01  -9.112423718e+00  1.0e-02  0.02  \n",
      "3   2.3e-18  9.0e-05  2.1e-02  -9.78e-01  -3.807208082e+04  -1.493175575e+04  1.5e-05  0.02  \n",
      "4   1.3e-19  5.1e-06  3.4e-03  -8.89e-01  -4.333768603e+05  -2.377711802e+05  8.6e-07  0.02  \n",
      "5   1.0e-21  1.6e-08  1.9e-04  -9.99e-01  -1.330769266e+08  -7.353836298e+07  2.7e-09  0.02  \n",
      "6   1.3e-23  2.0e-10  2.0e-05  -9.96e-01  -1.143461922e+10  -6.730642556e+09  3.3e-11  0.02  \n",
      "7   5.9e-26  2.0e-12  2.1e-06  -9.99e-01  -1.235843750e+12  -7.775523036e+11  3.4e-13  0.02  \n",
      "Optimizer terminated. Time: 0.03    \n",
      "\n"
     ]
    },
    {
     "data": {
      "text/plain": [
       "(A JuMP Model\n",
       "Minimization problem with:\n",
       "Variables: 21\n",
       "Objective function type: AffExpr\n",
       "`AffExpr`-in-`MathOptInterface.EqualTo{Float64}`: 1 constraint\n",
       "`Vector{VariableRef}`-in-`MathOptInterface.PositiveSemidefiniteConeTriangle`: 1 constraint\n",
       "Model mode: AUTOMATIC\n",
       "CachingOptimizer state: ATTACHED_OPTIMIZER\n",
       "Solver name: Mosek\n",
       "Names registered in the model: X, y, MathOptInterface.DUAL_INFEASIBLE, 6.293999910354614, [9.648864805190962e-13 3.112805641442038e-8 … -1.1242504152157373e-34 -4.195261145106528e-7; 3.112805641442038e-8 0.6330493779142524 … -1.3076438217747849e-16 0.018883753382189096; … ; -1.1242504152157373e-34 -1.3076438217747849e-16 … 2.119258751751721 2.662633334820755e-29; -4.195261145106528e-7 0.018883753382189096 … 2.662633334820755e-29 0.3029348143741101], [-0.7502497056251967], -1.1924489262842486)"
      ]
     },
     "execution_count": 25,
     "metadata": {},
     "output_type": "execute_result"
    }
   ],
   "source": [
    "model, status, run_time, X_sol, dual_sol, obj_value = solve_SDP(A, b, C)"
   ]
  },
  {
   "cell_type": "code",
   "execution_count": 26,
   "id": "913cacfc",
   "metadata": {},
   "outputs": [
    {
     "data": {
      "text/plain": [
       "-1.1924489262842486"
      ]
     },
     "execution_count": 26,
     "metadata": {},
     "output_type": "execute_result"
    }
   ],
   "source": [
    "obj_value"
   ]
  },
  {
   "cell_type": "code",
   "execution_count": 27,
   "id": "8661304b",
   "metadata": {},
   "outputs": [
    {
     "data": {
      "text/plain": [
       "DUAL_INFEASIBLE::TerminationStatusCode = 3"
      ]
     },
     "execution_count": 27,
     "metadata": {},
     "output_type": "execute_result"
    }
   ],
   "source": [
    "status"
   ]
  },
  {
   "cell_type": "code",
   "execution_count": 28,
   "id": "256cc85d",
   "metadata": {},
   "outputs": [
    {
     "data": {
      "text/plain": [
       "6×6 Matrix{Float64}:\n",
       "  9.64886e-13   3.11281e-8    3.11281e-8   …  -1.12425e-34  -4.19526e-7\n",
       "  3.11281e-8    0.633049     -0.366951        -1.30764e-16   0.0188838\n",
       "  3.11281e-8   -0.366951      0.633049         1.30764e-16   0.0188838\n",
       "  8.72454e-35   2.87073e-17  -2.87073e-17     -1.49538      -3.5658e-29\n",
       " -1.12425e-34  -1.30764e-16   1.30764e-16      2.11926       2.66263e-29\n",
       " -4.19526e-7    0.0188838     0.0188838    …   2.66263e-29   0.302935"
      ]
     },
     "execution_count": 28,
     "metadata": {},
     "output_type": "execute_result"
    }
   ],
   "source": [
    "X_sol"
   ]
  },
  {
   "cell_type": "code",
   "execution_count": 37,
   "id": "5a28c427",
   "metadata": {},
   "outputs": [
    {
     "data": {
      "text/plain": [
       "Eigen{Float64, Float64, Matrix{Float64}, Vector{Float64}}\n",
       "values:\n",
       "6-element Vector{Float64}:\n",
       " 3.5915818341696296e-13\n",
       " 0.2520758220163274\n",
       " 0.31695774818685835\n",
       " 0.6238742965465974\n",
       " 0.9999999999999979\n",
       " 3.61464320695682\n",
       "vectors:\n",
       "6×6 Matrix{Float64}:\n",
       "  1.0          -9.2834e-7    -1.1073e-6   …   1.64237e-16  -2.70458e-17\n",
       " -2.17179e-7   -0.626047      0.328732        0.707107     -2.22045e-16\n",
       " -2.17179e-7   -0.626047      0.328732       -0.707107     -1.66533e-16\n",
       " -1.11022e-16  -3.38237e-17   2.1939e-17     -3.39806e-16  -0.707107\n",
       " -3.76794e-17   0.0           0.0            -2.68484e-16   0.707107\n",
       "  1.41195e-6    0.464898      0.885364    …  -2.14058e-14  -5.43951e-20"
      ]
     },
     "execution_count": 37,
     "metadata": {},
     "output_type": "execute_result"
    }
   ],
   "source": [
    "eigen(X_sol)"
   ]
  },
  {
   "cell_type": "markdown",
   "id": "e58607f2",
   "metadata": {},
   "source": [
    "#### Compare methods"
   ]
  },
  {
   "cell_type": "code",
   "execution_count": 29,
   "id": "76c9f3b1",
   "metadata": {},
   "outputs": [
    {
     "data": {
      "text/plain": [
       "0.7956440019972829"
      ]
     },
     "execution_count": 29,
     "metadata": {},
     "output_type": "execute_result"
    }
   ],
   "source": [
    "x₁ˢᵈᵖ = sqrt(X_sol[2,2]) # ω = √x₁²"
   ]
  },
  {
   "cell_type": "code",
   "execution_count": 30,
   "id": "8c7e2d44",
   "metadata": {},
   "outputs": [
    {
     "data": {
      "text/plain": [
       "0.7956440019972597"
      ]
     },
     "execution_count": 30,
     "metadata": {},
     "output_type": "execute_result"
    }
   ],
   "source": [
    "x₂ˢᵈᵖ = sqrt(X_sol[3,3]) # a = √x₂²\n",
    "\n",
    "#x₁ˢᵈᵖ, x₂ˢᵈᵖ = X_sol[1,2], X_sol[1,3]"
   ]
  },
  {
   "cell_type": "code",
   "execution_count": 31,
   "id": "e9176cbf",
   "metadata": {},
   "outputs": [
    {
     "data": {
      "text/plain": [
       "(0.0, 0.0)"
      ]
     },
     "execution_count": 31,
     "metadata": {},
     "output_type": "execute_result"
    }
   ],
   "source": [
    "x₁ᵇᶠᵍˢ, x₂ᵇᶠᵍˢ"
   ]
  },
  {
   "cell_type": "code",
   "execution_count": 32,
   "id": "36967b73",
   "metadata": {},
   "outputs": [
    {
     "ename": "LoadError",
     "evalue": "UndefVarError: x₁ᵃⁿᵃˡⁱᵗ not defined",
     "output_type": "error",
     "traceback": [
      "UndefVarError: x₁ᵃⁿᵃˡⁱᵗ not defined",
      "",
      "Stacktrace:",
      " [1] top-level scope",
      "   @ In[32]:1",
      " [2] eval",
      "   @ .\\boot.jl:373 [inlined]",
      " [3] include_string(mapexpr::typeof(REPL.softscope), mod::Module, code::String, filename::String)",
      "   @ Base .\\loading.jl:1196"
     ]
    }
   ],
   "source": [
    "x₁ᵃⁿᵃˡⁱᵗ, x₂ᵃⁿᵃˡⁱᵗ"
   ]
  },
  {
   "cell_type": "code",
   "execution_count": 33,
   "id": "03b554ee",
   "metadata": {},
   "outputs": [
    {
     "ename": "LoadError",
     "evalue": "UndefVarError: x₁ᵃⁿᵃˡⁱᵗ not defined",
     "output_type": "error",
     "traceback": [
      "UndefVarError: x₁ᵃⁿᵃˡⁱᵗ not defined",
      "",
      "Stacktrace:",
      " [1] top-level scope",
      "   @ In[33]:1",
      " [2] eval",
      "   @ .\\boot.jl:373 [inlined]",
      " [3] include_string(mapexpr::typeof(REPL.softscope), mod::Module, code::String, filename::String)",
      "   @ Base .\\loading.jl:1196"
     ]
    }
   ],
   "source": [
    "[x₁ᵇᶠᵍˢ, x₂ᵇᶠᵍˢ] - [x₁ᵃⁿᵃˡⁱᵗ, x₂ᵃⁿᵃˡⁱᵗ]"
   ]
  },
  {
   "cell_type": "markdown",
   "id": "e9a78d3c",
   "metadata": {},
   "source": [
    "The precission of SDP is around $10^{-6}$:"
   ]
  },
  {
   "cell_type": "code",
   "execution_count": 34,
   "id": "85a9814f",
   "metadata": {},
   "outputs": [
    {
     "ename": "LoadError",
     "evalue": "UndefVarError: x₁ᵃⁿᵃˡⁱᵗ not defined",
     "output_type": "error",
     "traceback": [
      "UndefVarError: x₁ᵃⁿᵃˡⁱᵗ not defined",
      "",
      "Stacktrace:",
      " [1] top-level scope",
      "   @ In[34]:1",
      " [2] eval",
      "   @ .\\boot.jl:373 [inlined]",
      " [3] include_string(mapexpr::typeof(REPL.softscope), mod::Module, code::String, filename::String)",
      "   @ Base .\\loading.jl:1196"
     ]
    }
   ],
   "source": [
    "[x₁ˢᵈᵖ, x₂ˢᵈᵖ] - [x₁ᵃⁿᵃˡⁱᵗ, x₂ᵃⁿᵃˡⁱᵗ]"
   ]
  },
  {
   "cell_type": "code",
   "execution_count": 35,
   "id": "12462e06",
   "metadata": {},
   "outputs": [
    {
     "name": "stdout",
     "output_type": "stream",
     "text": [
      "(x₁ˢᵈᵖᵇᶠᵍˢ, x₂ˢᵈᵖᵇᶠᵍˢ) = Optim.minimizer(result) = [0.9999999996696052, -0.9999999994500549]\n"
     ]
    },
    {
     "data": {
      "text/plain": [
       "0.0"
      ]
     },
     "execution_count": 35,
     "metadata": {},
     "output_type": "execute_result"
    }
   ],
   "source": [
    "result = optimize(obj, [x₁ˢᵈᵖ, x₂ˢᵈᵖ], BFGS())\n",
    "@show x₁ˢᵈᵖᵇᶠᵍˢ, x₂ˢᵈᵖᵇᶠᵍˢ = Optim.minimizer(result)\n",
    "p([x₁ˢᵈᵖᵇᶠᵍˢ, x₂ˢᵈᵖᵇᶠᵍˢ])"
   ]
  },
  {
   "cell_type": "code",
   "execution_count": 36,
   "id": "8f83bac0",
   "metadata": {},
   "outputs": [
    {
     "name": "stdout",
     "output_type": "stream",
     "text": [
      "************************TSSOS************************\n",
      "TSSOS is launching...\n",
      "optimum = -2.6376938269342776e-10\n",
      "\n",
      "******************************************************************************\n",
      "This program contains Ipopt, a library for large-scale nonlinear optimization.\n",
      " Ipopt is released as open source code under the Eclipse Public License (EPL).\n",
      "         For more information visit https://github.com/coin-or/Ipopt\n",
      "******************************************************************************\n",
      "\n",
      "Global optimality certified!\n"
     ]
    },
    {
     "data": {
      "text/plain": [
       "2-element Vector{Float64}:\n",
       " -4.757243104594542e-10\n",
       "  3.0862650598908017e-10"
      ]
     },
     "execution_count": 36,
     "metadata": {},
     "output_type": "execute_result"
    }
   ],
   "source": [
    "using TSSOS\n",
    "opt,sol,data = tssos_first(obj, variables(obj), QUIET=true, solution=true);\n",
    "previous_sol = sol"
   ]
  },
  {
   "cell_type": "code",
   "execution_count": null,
   "id": "8b21afe7",
   "metadata": {},
   "outputs": [],
   "source": []
  }
 ],
 "metadata": {
  "@webio": {
   "lastCommId": null,
   "lastKernelId": null
  },
  "kernelspec": {
   "display_name": "Julia 1.7.2",
   "language": "julia",
   "name": "julia-1.7"
  },
  "language_info": {
   "file_extension": ".jl",
   "mimetype": "application/julia",
   "name": "julia",
   "version": "1.7.2"
  }
 },
 "nbformat": 4,
 "nbformat_minor": 5
}
