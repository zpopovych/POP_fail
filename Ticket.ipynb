{
 "cells": [
  {
   "cell_type": "code",
   "execution_count": 1,
   "id": "21321ae1",
   "metadata": {},
   "outputs": [],
   "source": [
    "using LinearAlgebra\n",
    "\n",
    "using DynamicPolynomials\n",
    "\n",
    "using MosekTools\n",
    "\n",
    "using JuMP\n",
    "using NLopt\n",
    "using TSSOS"
   ]
  },
  {
   "cell_type": "code",
   "execution_count": 2,
   "id": "dd131700",
   "metadata": {},
   "outputs": [
    {
     "data": {
      "text/plain": [
       "scaling_poly (generic function with 1 method)"
      ]
     },
     "execution_count": 2,
     "metadata": {},
     "output_type": "execute_result"
    }
   ],
   "source": [
    "function scaling_poly(p::Polynomial)\n",
    "    X = transpose(hcat([exponents(t) for t in terms(p)]...))\n",
    "\n",
    "    # Get the scaling via linear regression\n",
    "    scaling = X \\ log.(abs.(coefficients(p)))\n",
    "\n",
    "    exp.(abs.(scaling))\n",
    "end"
   ]
  },
  {
   "cell_type": "code",
   "execution_count": 3,
   "id": "eb39d027",
   "metadata": {},
   "outputs": [
    {
     "data": {
      "text/plain": [
       "(PolyVar{true}[b₁, b₂, b₃],)"
      ]
     },
     "execution_count": 3,
     "metadata": {},
     "output_type": "execute_result"
    }
   ],
   "source": [
    "@polyvar e[1]\n",
    "#@polyvar h[1:2]\n",
    "@polyvar a[1:3]\n",
    "@polyvar b[1:3]"
   ]
  },
  {
   "cell_type": "code",
   "execution_count": 4,
   "id": "ba1bd0f9",
   "metadata": {},
   "outputs": [],
   "source": [
    "p = 3.1796954746881942*a[1]^4 - 0.013938441211284344*a[1]^3*a[2] + 0.013509761228743686*a[1]^3*a[3] - 0.013452739566579244*a[1]^3*b[2] - 0.018880717674252877*a[1]^3*b[3] + 10.940820302933638*a[1]^2*a[2]^2 - 27.278937190981075*a[1]^2*a[2]*a[3] + 0.013452739566579244*a[1]^2*a[2]*b[1] - 0.0012575996083348737*a[1]^2*a[2]*b[2] - 0.0037727988250046275*a[1]^2*a[2]*b[3] + 29.16440169903429*a[1]^2*a[3]^2 + 0.018880717674252877*a[1]^2*a[3]*b[1] + 0.0037727988250046275*a[1]^2*a[3]*b[2] + 0.0012575996083348737*a[1]^2*a[3]*b[3] + 6.3593909493763885*a[1]^2*b[1]^2 - 0.013938441211284344*a[1]^2*b[1]*b[2] + 0.013509761228743686*a[1]^2*b[1]*b[3] + 10.940904373368438*a[1]^2*b[2]^2 + 27.279441613589867*a[1]^2*b[2]*b[3] + 29.164485769469103*a[1]^2*b[3]^2 - 0.007022805603459752*a[1]*a[2]^3 + 0.006808465612189406*a[1]*a[2]^2*a[3] + 0.0012575996083348737*a[1]*a[2]^2*b[1] - 0.006047872519830426*a[1]*a[2]^2*b[2] - 0.008761861573667231*a[1]*a[2]^2*b[3] - 0.006915635607824613*a[1]*a[2]*a[3]^2 - 0.013938441211284344*a[1]*a[2]*b[1]^2 - 0.00016814086959842539*a[1]*a[2]*b[1]*b[2] - 54.558378804570964*a[1]*a[2]*b[1]*b[3] - 0.007022805603459752*a[1]*a[2]*b[2]^2 - 0.006915635607824613*a[1]*a[2]*b[3]^2 + 0.006701295616554283*a[1]*a[3]^3 - 0.0012575996083348737*a[1]*a[3]^2*b[1] - 0.0074048670467488364*a[1]*a[3]^2*b[2] - 0.010118856100585652*a[1]*a[3]^2*b[3] + 0.013509761228743686*a[1]*a[3]*b[1]^2 - 54.558378804570964*a[1]*a[3]*b[1]*b[2] - 0.00016814086959842539*a[1]*a[3]*b[1]*b[3] + 0.006808465612189413*a[1]*a[3]*b[2]^2 + 0.006701295616554283*a[1]*a[3]*b[3]^2 - 0.013452739566579244*a[1]*b[1]^2*b[2] - 0.018880717674252877*a[1]*b[1]^2*b[3] - 0.0012575996083348737*a[1]*b[1]*b[2]^2 + 0.0012575996083348737*a[1]*b[1]*b[3]^2 - 0.006047872519830426*a[1]*b[2]^3 - 0.008761861573667231*a[1]*b[2]^2*b[3] - 0.007404867046748821*a[1]*b[2]*b[3]^2 - 0.010118856100585652*a[1]*b[3]^3 + 1.6697789826640932*a[2]^4 + 8.407043479921367e-5*a[2]^3*a[3] + 0.006047872519830426*a[2]^3*b[1] - 0.0012575996083348737*a[2]^3*b[3] - 2.8049274679494474*a[2]^2*a[3]^2 + 0.008761861573667238*a[2]^2*a[3]*b[1] + 0.0012575996083348737*a[2]^2*a[3]*b[2] + 10.940904373368438*a[2]^2*b[1]^2 - 0.007022805603459752*a[2]^2*b[1]*b[2] + 0.006808465612189413*a[2]^2*b[1]*b[3] + 3.3395579653281864*a[2]^2*b[2]^2 + 8.407043479921367e-5*a[2]^2*b[2]*b[3] - 2.8049274679494474*a[2]^2*b[3]^2 + 8.407043479921367e-5*a[2]*a[3]^3 + 0.0074048670467488364*a[2]*a[3]^2*b[1] - 0.0012575996083348737*a[2]*a[3]^2*b[3] + 27.279441613589867*a[2]*a[3]*b[1]^2 + 8.407043479921367e-5*a[2]*a[3]*b[2]^2 + 8.407043479921367e-5*a[2]*a[3]*b[3]^2 + 0.013452739566579244*a[2]*b[1]^3 + 0.0012575996083348737*a[2]*b[1]^2*b[2] - 0.0037727988250046275*a[2]*b[1]^2*b[3] + 0.006047872519830426*a[2]*b[1]*b[2]^2 + 0.007404867046748821*a[2]*b[1]*b[3]^2 - 0.0012575996083348737*a[2]*b[2]^2*b[3] - 0.0012575996083348737*a[2]*b[3]^3 + 10.781569680714417*a[3]^4 + 0.010118856100585652*a[3]^3*b[1] + 0.0012575996083348737*a[3]^3*b[2] + 29.164485769469103*a[3]^2*b[1]^2 - 0.006915635607824613*a[3]^2*b[1]*b[2] + 0.006701295616554283*a[3]^2*b[1]*b[3] - 2.8049274679494474*a[3]^2*b[2]^2 + 8.407043479921367e-5*a[3]^2*b[2]*b[3] + 21.563139361428835*a[3]^2*b[3]^2 + 0.018880717674252877*a[3]*b[1]^3 + 0.0037727988250046275*a[3]*b[1]^2*b[2] - 0.0012575996083348737*a[3]*b[1]^2*b[3] + 0.008761861573667238*a[3]*b[1]*b[2]^2 + 0.010118856100585652*a[3]*b[1]*b[3]^2 + 0.0012575996083348737*a[3]*b[2]^3 + 0.0012575996083348737*a[3]*b[2]*b[3]^2 + 3.1796954746881942*b[1]^4 - 0.013938441211284344*b[1]^3*b[2] + 0.013509761228743686*b[1]^3*b[3] + 10.940820302933638*b[1]^2*b[2]^2 - 27.278937190981075*b[1]^2*b[2]*b[3] + 29.16440169903429*b[1]^2*b[3]^2 - 0.007022805603459752*b[1]*b[2]^3 + 0.006808465612189406*b[1]*b[2]^2*b[3] - 0.006915635607824613*b[1]*b[2]*b[3]^2 + 0.006701295616554283*b[1]*b[3]^3 + 1.6697789826640932*b[2]^4 + 8.407043479921367e-5*b[2]^3*b[3] - 2.8049274679494474*b[2]^2*b[3]^2 + 8.407043479921367e-5*b[2]*b[3]^3 + 10.781569680714417*b[3]^4 + 0.006726369783289622e[1]*a[1]*a[2] - 0.009440358837126439e[1]*a[1]*a[3] - 0.006969220605642172e[1]*a[1]*b[2] - 0.006754880614371843e[1]*a[1]*b[3] - 0.0025151992166697473e[1]*a[2]*a[3] + 0.006969220605642172e[1]*a[2]*b[1] - 0.00016814086959842734e[1]*a[2]*b[3] + 0.006754880614371843e[1]*a[3]*b[1] + 0.00016814086959842734e[1]*a[3]*b[2] + 0.006726369783289622e[1]*b[1]*b[2] - 0.009440358837126439e[1]*b[1]*b[3] - 0.0025151992166697473e[1]*b[2]*b[3] + 0.7949238686720486e[1]^2 - 0.12633248529941715*a[1]^2 - 0.16830836694029816*a[1]*a[2] + 0.237859479265304*a[1]*a[3] + 0.17649515156650372*a[1]*b[2] + 0.17048217150495282*a[1]*b[3] - 0.26545473091539*a[2]^2 - 6.903431434130552e-5*a[2]*a[3] - 0.17649515156650372*a[2]*b[1] + 0.00022766619848354*a[2]*b[3] + 0.28623783345868997*a[3]^2 - 0.17048217150495282*a[3]*b[1] - 0.00022766619848354*a[3]*b[2] - 0.12633248529941715*b[1]^2 - 0.16830836694029816*b[1]*b[2] + 0.237859479265304*b[1]*b[3] - 0.26545473091539*b[2]^2 - 6.903431434130552e-5*b[2]*b[3] + 0.28623783345868997*b[3]^2 - 39.94662884489179*e[1] + 501.8627949039175;\n"
   ]
  },
  {
   "cell_type": "code",
   "execution_count": 5,
   "id": "a4e8f915",
   "metadata": {},
   "outputs": [
    {
     "name": "stdout",
     "output_type": "stream",
     "text": [
      "************************TSSOS************************\n",
      "TSSOS is launching...\n",
      "optimum = 0.0005505821371892873\n",
      "\n",
      "******************************************************************************\n",
      "This program contains Ipopt, a library for large-scale nonlinear optimization.\n",
      " Ipopt is released as open source code under the Eclipse Public License (EPL).\n",
      "         For more information visit https://github.com/coin-or/Ipopt\n",
      "******************************************************************************\n",
      "\n",
      "The local solver failed!\n",
      "No higher TSSOS hierarchy!\n"
     ]
    },
    {
     "data": {
      "text/plain": [
       "7-element Vector{Float64}:\n",
       " 25.126104543395467\n",
       "  1.7728627905822017e-15\n",
       " -3.0250889102281968e-15\n",
       "  2.705290476296703e-15\n",
       " -1.1563911953964839e-15\n",
       "  1.9675106328076352e-16\n",
       "  4.3160278445656393e-20"
      ]
     },
     "execution_count": 5,
     "metadata": {},
     "output_type": "execute_result"
    }
   ],
   "source": [
    "opt,sol,data = tssos_first(p, variables(p), QUIET=true, solution=true);\n",
    "previous_sol = sol\n",
    "\n",
    "while ~isnothing(sol)\n",
    "    previous_sol = sol\n",
    "    opt,sol,data = tssos_higher!(data; QUIET=true, solution=true);\n",
    "end\n",
    "\n",
    "minimizer_tssos = previous_sol"
   ]
  },
  {
   "cell_type": "code",
   "execution_count": 11,
   "id": "b1a608e0",
   "metadata": {},
   "outputs": [
    {
     "data": {
      "text/latex": [
       "$$ 0.011857047877299465 $$"
      ],
      "text/plain": [
       "0.011857047877299465"
      ]
     },
     "execution_count": 11,
     "metadata": {},
     "output_type": "execute_result"
    }
   ],
   "source": [
    "solution = variables(p) => minimizer_tssos\n",
    "subs(p, solution)"
   ]
  },
  {
   "cell_type": "code",
   "execution_count": 7,
   "id": "02a73b4f",
   "metadata": {},
   "outputs": [],
   "source": [
    "scale = scaling_poly(p)\n",
    "p_scaled = subs(p, variables(p) => scale .* variables(p));"
   ]
  },
  {
   "cell_type": "code",
   "execution_count": 8,
   "id": "33aa70dc",
   "metadata": {},
   "outputs": [
    {
     "name": "stdout",
     "output_type": "stream",
     "text": [
      "************************TSSOS************************\n",
      "TSSOS is launching...\n",
      "optimum = 0.000550442068907667\n",
      "Found a local optimal solution giving an upper bound: 0.011857047039541158 and a relative optimality gap: 0.01130660497063349.\n",
      "No higher TSSOS hierarchy!\n"
     ]
    },
    {
     "data": {
      "text/plain": [
       "7-element Vector{Float64}:\n",
       " 25.126072080406704\n",
       " -2.6744895600314484e-16\n",
       " -2.363837965291739e-14\n",
       " -6.517617601754702e-16\n",
       " -7.201663784657451e-16\n",
       "  1.1532392265240086e-15\n",
       " -1.578474954452621e-17"
      ]
     },
     "execution_count": 8,
     "metadata": {},
     "output_type": "execute_result"
    }
   ],
   "source": [
    "opt,sols,data = tssos_first(p_scaled, variables(p_scaled), QUIET=true, solution=true);\n",
    "previous_sols = sols\n",
    "\n",
    "while ~isnothing(sols)\n",
    "    previous_sols = sols\n",
    "    opt,sols,data = tssos_higher!(data; QUIET=true, solution=true);\n",
    "end\n",
    "\n",
    "minimizer_tssos_s = scale .* previous_sols"
   ]
  },
  {
   "cell_type": "code",
   "execution_count": 9,
   "id": "2a5f03d6",
   "metadata": {},
   "outputs": [
    {
     "data": {
      "text/plain": [
       "PolyVar{true}[e₁, a₁, a₂, a₃, b₁, b₂, b₃] => [25.126072080406704, -2.6744895600314484e-16, -2.363837965291739e-14, -6.517617601754702e-16, -7.201663784657451e-16, 1.1532392265240086e-15, -1.578474954452621e-17]"
      ]
     },
     "execution_count": 9,
     "metadata": {},
     "output_type": "execute_result"
    }
   ],
   "source": [
    "solution_s = variables(p) => minimizer_tssos_s"
   ]
  },
  {
   "cell_type": "code",
   "execution_count": 12,
   "id": "45c3dcb1",
   "metadata": {},
   "outputs": [
    {
     "data": {
      "text/latex": [
       "$$ 0.011857047039711688 $$"
      ],
      "text/plain": [
       "0.011857047039711688"
      ]
     },
     "execution_count": 12,
     "metadata": {},
     "output_type": "execute_result"
    }
   ],
   "source": [
    "subs(p, solution_s)"
   ]
  },
  {
   "cell_type": "code",
   "execution_count": 14,
   "id": "cec6cc6f",
   "metadata": {},
   "outputs": [
    {
     "data": {
      "text/plain": [
       "PolyVar{true}[e₁, a₁, a₂, a₃, b₁, b₂, b₃] => [25.12607221207684, 0.0, 0.281936, 0.0, 0.0, 0.0, 0.0]"
      ]
     },
     "execution_count": 14,
     "metadata": {},
     "output_type": "execute_result"
    }
   ],
   "source": [
    "good_sol = PolyVar{true}[e[1], a[1], a[2], a[3], b[1], b[2], b[3]] => [25.12607221207684, 0, 0.281936, 0, 0, 0, 0]"
   ]
  },
  {
   "cell_type": "code",
   "execution_count": 15,
   "id": "a6bb038f",
   "metadata": {},
   "outputs": [
    {
     "data": {
      "text/latex": [
       "$$ 0.0013068163059415383 $$"
      ],
      "text/plain": [
       "0.0013068163059415383"
      ]
     },
     "execution_count": 15,
     "metadata": {},
     "output_type": "execute_result"
    }
   ],
   "source": [
    "subs(p, good_sol)"
   ]
  },
  {
   "cell_type": "code",
   "execution_count": null,
   "id": "2e143907",
   "metadata": {},
   "outputs": [],
   "source": []
  }
 ],
 "metadata": {
  "@webio": {
   "lastCommId": null,
   "lastKernelId": null
  },
  "kernelspec": {
   "display_name": "Julia 1.7.2",
   "language": "julia",
   "name": "julia-1.7"
  },
  "language_info": {
   "file_extension": ".jl",
   "mimetype": "application/julia",
   "name": "julia",
   "version": "1.7.2"
  }
 },
 "nbformat": 4,
 "nbformat_minor": 5
}
