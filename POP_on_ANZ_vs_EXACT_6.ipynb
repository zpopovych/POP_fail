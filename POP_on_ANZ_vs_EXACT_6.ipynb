{
 "cells": [
  {
   "cell_type": "code",
   "execution_count": 1,
   "id": "9a5dd686",
   "metadata": {},
   "outputs": [],
   "source": [
    "include(\"LiPoSID.jl\")\n",
    "using QuantumOptics\n",
    "basis = NLevelBasis(2)\n",
    "using DynamicPolynomials\n",
    "using Plots"
   ]
  },
  {
   "cell_type": "code",
   "execution_count": 2,
   "id": "c5ba43ef",
   "metadata": {},
   "outputs": [
    {
     "data": {
      "text/plain": [
       "8-element Vector{Any}:\n",
       " \"0.079477\"\n",
       " \"0.25133\"\n",
       " \"0.79477\"\n",
       " \"2.5133\"\n",
       " \"7.9477\"\n",
       " \"25.133\"\n",
       " \"79.477\"\n",
       " \"251.33\""
      ]
     },
     "execution_count": 2,
     "metadata": {},
     "output_type": "execute_result"
    }
   ],
   "source": [
    "using Pickle\n",
    "load(\"gamma_txt.pkl\")"
   ]
  },
  {
   "cell_type": "markdown",
   "id": "d931ec19",
   "metadata": {},
   "source": [
    "### Load exact data"
   ]
  },
  {
   "cell_type": "code",
   "execution_count": 3,
   "id": "8c5007d4",
   "metadata": {},
   "outputs": [
    {
     "name": "stdout",
     "output_type": "stream",
     "text": [
      "C:\\Users\\Zakhar\\Documents\\GitHub\\POP_fail\\DATA\\\n"
     ]
    },
    {
     "ename": "LoadError",
     "evalue": "AssertionError: tᵍ == tᵉ == tˣ == tʸ",
     "output_type": "error",
     "traceback": [
      "AssertionError: tᵍ == tᵉ == tˣ == tʸ",
      "",
      "Stacktrace:",
      " [1] top-level scope",
      "   @ In[3]:12",
      " [2] eval",
      "   @ .\\boot.jl:373 [inlined]",
      " [3] include_string(mapexpr::typeof(REPL.softscope), mod::Module, code::String, filename::String)",
      "   @ Base .\\loading.jl:1196"
     ]
    }
   ],
   "source": [
    "γᵗˣᵗ = \"79.477\"\n",
    "\n",
    "parentdir = pwd()\n",
    "data_dir = parentdir*\"\\\\DATA\\\\\"\n",
    "println(data_dir)\n",
    "\n",
    "ρᵍ, tᵍ = LiPoSID.get_rho_series(data_dir*\"State_B1_2CUT_data.h5\", γᵗˣᵗ)\n",
    "ρᵉ, tᵉ = LiPoSID.get_rho_series(data_dir*\"State_B2_2CUT_data.h5\", γᵗˣᵗ)\n",
    "ρˣ, tˣ = LiPoSID.get_rho_series(data_dir*\"State_B3_2CUT_data.h5\", γᵗˣᵗ)\n",
    "ρʸ, tʸ = LiPoSID.get_rho_series(data_dir*\"State_B4_2CUT_data.h5\", γᵗˣᵗ)\n",
    "\n",
    "@assert tᵍ == tᵉ == tˣ == tʸ \n",
    "\n",
    "t = convert(Vector{Float64}, tᵉ)\n",
    "@assert maximum(diff(t)) ≈ minimum(diff(t)) ≈ t[2]-t[1]\n",
    "Δt = t[2]-t[1]\n",
    "t_steps = length(t)"
   ]
  },
  {
   "cell_type": "markdown",
   "id": "4f1ce8ed",
   "metadata": {},
   "source": [
    "### Generate ansatz dynamics"
   ]
  },
  {
   "cell_type": "code",
   "execution_count": 4,
   "id": "c1c5f62a",
   "metadata": {},
   "outputs": [
    {
     "ename": "LoadError",
     "evalue": "UndefVarError: t not defined",
     "output_type": "error",
     "traceback": [
      "UndefVarError: t not defined",
      "",
      "Stacktrace:",
      " [1] top-level scope",
      "   @ In[4]:9",
      " [2] eval",
      "   @ .\\boot.jl:373 [inlined]",
      " [3] include_string(mapexpr::typeof(REPL.softscope), mod::Module, code::String, filename::String)",
      "   @ Base .\\loading.jl:1196"
     ]
    }
   ],
   "source": [
    "Hᵃⁿᶻ = [ 25.           0\n",
    "         0             1    ]\n",
    "\n",
    "γ = parse(Float64, γᵗˣᵗ)\n",
    "\n",
    "Lᵃⁿᶻ = [ 0    √γ\n",
    "         0     0. + 0im  ]\n",
    "\n",
    "ρᵍₐₙ = LiPoSID.Lindblad_time_evolution(basis, ρᵍ[1], t, Hᵃⁿᶻ, [Lᵃⁿᶻ])\n",
    "ρᵉₐₙ = LiPoSID.Lindblad_time_evolution(basis, ρᵉ[1], t, Hᵃⁿᶻ, [Lᵃⁿᶻ])\n",
    "ρˣₐₙ = LiPoSID.Lindblad_time_evolution(basis, ρˣ[1], t, Hᵃⁿᶻ, [Lᵃⁿᶻ])\n",
    "ρʸₐₙ = LiPoSID.Lindblad_time_evolution(basis, ρʸ[1], t, Hᵃⁿᶻ, [Lᵃⁿᶻ]);"
   ]
  },
  {
   "cell_type": "markdown",
   "id": "a2548ce4",
   "metadata": {},
   "source": [
    "### Perform POP SID"
   ]
  },
  {
   "cell_type": "code",
   "execution_count": 5,
   "id": "50bc4707",
   "metadata": {},
   "outputs": [
    {
     "ename": "LoadError",
     "evalue": "UndefVarError: t not defined",
     "output_type": "error",
     "traceback": [
      "UndefVarError: t not defined",
      "",
      "Stacktrace:",
      " [1] top-level scope",
      "   @ .\\In[5]:27",
      " [2] eval",
      "   @ .\\boot.jl:373 [inlined]",
      " [3] include_string(mapexpr::typeof(REPL.softscope), mod::Module, code::String, filename::String)",
      "   @ Base .\\loading.jl:1196"
     ]
    }
   ],
   "source": [
    "#using DynamicPolynomials\n",
    "\n",
    "@polyvar e[1:2]\n",
    "@polyvar d[1:2]\n",
    "\n",
    "    Hˢʸᵐᵇ = [ e[1]               d[1] + im*d[2]\n",
    "              d[1] - im*d[2]     0.             ]\n",
    "\n",
    "@polyvar a[1:4]\n",
    "@polyvar b[1:4]\n",
    "\n",
    "    Aˢʸᵐᵇ = [ a[1] + im*b[1]           a[2] + im*b[2]\n",
    "              a[3] + im*b[3]           a[4] + im*b[4]   ]\n",
    "\n",
    "\n",
    "#    POP fails for traceless setup \n",
    "#    Aˢʸᵐᵇ = [ a[1] + im*b[1]           a[2] + im*b[2]\n",
    "#             a[3] + im*b[3]          -a[1] - im*b[1]   ]\n",
    "\n",
    "objₑₓ = 0\n",
    "\n",
    "for ρ in [ρᵍ, ρᵉ, ρˣ, ρʸ]\n",
    "\n",
    "    # Convert cut ρ series:\n",
    "    ρ = convert(Vector{Matrix{ComplexF64}}, ρ)\n",
    "\n",
    "    objₑₓ += LiPoSID.simpson_obj(ρ, t,  Hˢʸᵐᵇ, [Aˢʸᵐᵇ])\n",
    "\n",
    "end # of files (initial states) loop \n",
    "\n",
    "objₐₙ = 0\n",
    "\n",
    "for ρ in [ρᵍₐₙ, ρᵉₐₙ, ρˣₐₙ, ρʸₐₙ]\n",
    "\n",
    "    # Convert cut ρ series:\n",
    "    ρ = convert(Vector{Matrix{ComplexF64}}, ρ)\n",
    "\n",
    "    objₐₙ += LiPoSID.simpson_obj(ρ, t,  Hˢʸᵐᵇ, [Aˢʸᵐᵇ])\n",
    "\n",
    "end # of files (initial states) loop \n"
   ]
  },
  {
   "cell_type": "code",
   "execution_count": 6,
   "id": "2e943a94",
   "metadata": {},
   "outputs": [
    {
     "ename": "LoadError",
     "evalue": "MethodError: no method matching sos_min_newton(::Int64)\n\u001b[0mClosest candidates are:\n\u001b[0m  sos_min_newton(\u001b[91m::Polynomial\u001b[39m) at C:\\Users\\Zakhar\\Documents\\GitHub\\POP_fail\\LiPoSID.jl:816",
     "output_type": "error",
     "traceback": [
      "MethodError: no method matching sos_min_newton(::Int64)\n\u001b[0mClosest candidates are:\n\u001b[0m  sos_min_newton(\u001b[91m::Polynomial\u001b[39m) at C:\\Users\\Zakhar\\Documents\\GitHub\\POP_fail\\LiPoSID.jl:816",
      "",
      "Stacktrace:",
      " [1] top-level scope",
      "   @ In[6]:1",
      " [2] eval",
      "   @ .\\boot.jl:373 [inlined]",
      " [3] include_string(mapexpr::typeof(REPL.softscope), mod::Module, code::String, filename::String)",
      "   @ Base .\\loading.jl:1196"
     ]
    }
   ],
   "source": [
    "solₑₓⁿᵉʷ, best_methodₑₓⁿᵉʷ = LiPoSID.sos_min_newton(objₑₓ) \n",
    "Hˢⁱᵈₑₓ = subs(Hˢʸᵐᵇ, solₑₓⁿᵉʷ)\n",
    "Lˢⁱᵈₑₓ = subs(Aˢʸᵐᵇ, solₑₓⁿᵉʷ)"
   ]
  },
  {
   "cell_type": "code",
   "execution_count": 7,
   "id": "daaea0be",
   "metadata": {},
   "outputs": [
    {
     "ename": "LoadError",
     "evalue": "UndefVarError: best_methodₑₓⁿᵉʷ not defined",
     "output_type": "error",
     "traceback": [
      "UndefVarError: best_methodₑₓⁿᵉʷ not defined",
      "",
      "Stacktrace:",
      " [1] top-level scope",
      "   @ :0",
      " [2] eval",
      "   @ .\\boot.jl:373 [inlined]",
      " [3] include_string(mapexpr::typeof(REPL.softscope), mod::Module, code::String, filename::String)",
      "   @ Base .\\loading.jl:1196"
     ]
    }
   ],
   "source": [
    "best_methodₑₓⁿᵉʷ"
   ]
  },
  {
   "cell_type": "code",
   "execution_count": 8,
   "id": "cc646bc3",
   "metadata": {},
   "outputs": [
    {
     "ename": "LoadError",
     "evalue": "UndefVarError: objₐₙ not defined",
     "output_type": "error",
     "traceback": [
      "UndefVarError: objₐₙ not defined",
      "",
      "Stacktrace:",
      " [1] top-level scope",
      "   @ In[8]:1",
      " [2] eval",
      "   @ .\\boot.jl:373 [inlined]",
      " [3] include_string(mapexpr::typeof(REPL.softscope), mod::Module, code::String, filename::String)",
      "   @ Base .\\loading.jl:1196"
     ]
    }
   ],
   "source": [
    "solₐₙⁿᵉʷ, best_methodₐₙⁿᵉʷ = LiPoSID.sos_min_newton(objₐₙ) \n",
    "Hˢⁱᵈₐₙ = subs(Hˢʸᵐᵇ, solₐₙⁿᵉʷ)\n",
    "Lˢⁱᵈₐₙ = subs(Aˢʸᵐᵇ, solₐₙⁿᵉʷ)"
   ]
  },
  {
   "cell_type": "code",
   "execution_count": 9,
   "id": "7211085d",
   "metadata": {},
   "outputs": [
    {
     "ename": "LoadError",
     "evalue": "UndefVarError: best_methodₐₙⁿᵉʷ not defined",
     "output_type": "error",
     "traceback": [
      "UndefVarError: best_methodₐₙⁿᵉʷ not defined",
      "",
      "Stacktrace:",
      " [1] top-level scope",
      "   @ :0",
      " [2] eval",
      "   @ .\\boot.jl:373 [inlined]",
      " [3] include_string(mapexpr::typeof(REPL.softscope), mod::Module, code::String, filename::String)",
      "   @ Base .\\loading.jl:1196"
     ]
    }
   ],
   "source": [
    "best_methodₐₙⁿᵉʷ"
   ]
  },
  {
   "cell_type": "markdown",
   "id": "25ccc071",
   "metadata": {},
   "source": [
    "### Generate identified dynamics"
   ]
  },
  {
   "cell_type": "code",
   "execution_count": 10,
   "id": "51178532",
   "metadata": {},
   "outputs": [
    {
     "ename": "LoadError",
     "evalue": "UndefVarError: Lˢⁱᵈₐₙ not defined",
     "output_type": "error",
     "traceback": [
      "UndefVarError: Lˢⁱᵈₐₙ not defined",
      "",
      "Stacktrace:",
      " [1] top-level scope",
      "   @ In[10]:1",
      " [2] eval",
      "   @ .\\boot.jl:373 [inlined]",
      " [3] include_string(mapexpr::typeof(REPL.softscope), mod::Module, code::String, filename::String)",
      "   @ Base .\\loading.jl:1196"
     ]
    }
   ],
   "source": [
    "ρᵍₐₙˢⁱᵈ = LiPoSID.Lindblad_time_evolution(basis, ρᵍ[1], t, Hˢⁱᵈₐₙ, [Lˢⁱᵈₐₙ])\n",
    "ρᵉₐₙˢⁱᵈ = LiPoSID.Lindblad_time_evolution(basis, ρᵉ[1], t, Hˢⁱᵈₐₙ, [Lˢⁱᵈₐₙ])\n",
    "ρˣₐₙˢⁱᵈ = LiPoSID.Lindblad_time_evolution(basis, ρˣ[1], t, Hˢⁱᵈₐₙ, [Lˢⁱᵈₐₙ])\n",
    "ρʸₐₙˢⁱᵈ = LiPoSID.Lindblad_time_evolution(basis, ρʸ[1], t, Hˢⁱᵈₐₙ, [Lˢⁱᵈₐₙ]);"
   ]
  },
  {
   "cell_type": "code",
   "execution_count": 11,
   "id": "287b3a92",
   "metadata": {},
   "outputs": [
    {
     "ename": "LoadError",
     "evalue": "UndefVarError: Lˢⁱᵈₑₓ not defined",
     "output_type": "error",
     "traceback": [
      "UndefVarError: Lˢⁱᵈₑₓ not defined",
      "",
      "Stacktrace:",
      " [1] top-level scope",
      "   @ In[11]:1",
      " [2] eval",
      "   @ .\\boot.jl:373 [inlined]",
      " [3] include_string(mapexpr::typeof(REPL.softscope), mod::Module, code::String, filename::String)",
      "   @ Base .\\loading.jl:1196"
     ]
    }
   ],
   "source": [
    "ρᵍₑₓˢⁱᵈ = LiPoSID.Lindblad_time_evolution(basis, ρᵍ[1], t, Hˢⁱᵈₑₓ, [Lˢⁱᵈₑₓ])\n",
    "ρᵉₑₓˢⁱᵈ = LiPoSID.Lindblad_time_evolution(basis, ρᵉ[1], t, Hˢⁱᵈₑₓ, [Lˢⁱᵈₑₓ])\n",
    "ρˣₑₓˢⁱᵈ = LiPoSID.Lindblad_time_evolution(basis, ρˣ[1], t, Hˢⁱᵈₑₓ, [Lˢⁱᵈₑₓ])\n",
    "ρʸₑₓˢⁱᵈ = LiPoSID.Lindblad_time_evolution(basis, ρʸ[1], t, Hˢⁱᵈₑₓ, [Lˢⁱᵈₑₓ]);"
   ]
  },
  {
   "cell_type": "markdown",
   "id": "616b4ad4",
   "metadata": {},
   "source": [
    "### Consider fidelities"
   ]
  },
  {
   "cell_type": "code",
   "execution_count": 12,
   "id": "e9cb7b5f",
   "metadata": {},
   "outputs": [
    {
     "ename": "LoadError",
     "evalue": "UndefVarError: ρˣₑₓˢⁱᵈ not defined",
     "output_type": "error",
     "traceback": [
      "UndefVarError: ρˣₑₓˢⁱᵈ not defined",
      "",
      "Stacktrace:",
      " [1] top-level scope",
      "   @ In[12]:1",
      " [2] eval",
      "   @ .\\boot.jl:373 [inlined]",
      " [3] include_string(mapexpr::typeof(REPL.softscope), mod::Module, code::String, filename::String)",
      "   @ Base .\\loading.jl:1196"
     ]
    }
   ],
   "source": [
    "fˢⁱᵈᵉˣ = LiPoSID.fidelity_series(basis, ρˣ, ρˣₑₓˢⁱᵈ )\n",
    "fˢⁱᵈᵃⁿᶻ = LiPoSID.fidelity_series(basis, ρˣₐₙ, ρˣₐₙˢⁱᵈ)\n",
    "\n",
    "plot(fˢⁱᵈᵉˣ, label = \"POP on exact data\")\n",
    "plot!(fˢⁱᵈᵃⁿᶻ, label = \"POP on ansatz\")"
   ]
  },
  {
   "cell_type": "code",
   "execution_count": 13,
   "id": "90c16f6d",
   "metadata": {},
   "outputs": [
    {
     "name": "stdout",
     "output_type": "stream",
     "text": [
      "State_D1 "
     ]
    },
    {
     "ename": "LoadError",
     "evalue": "UndefVarError: Lˢⁱᵈₑₓ not defined",
     "output_type": "error",
     "traceback": [
      "UndefVarError: Lˢⁱᵈₑₓ not defined",
      "",
      "Stacktrace:",
      " [1] top-level scope",
      "   @ .\\In[13]:20",
      " [2] eval",
      "   @ .\\boot.jl:373 [inlined]",
      " [3] include_string(mapexpr::typeof(REPL.softscope), mod::Module, code::String, filename::String)",
      "   @ Base .\\loading.jl:1196"
     ]
    }
   ],
   "source": [
    "Fˢⁱᵈᵉˣ = []\n",
    "Fˢⁱᵈᵃⁿᶻ = []\n",
    "\n",
    "test_files = [\"State_D\"*string(n) for n=1:20]\n",
    "\n",
    "for df in test_files # loop over initial states\n",
    "\n",
    "    print(df*\" \")\n",
    "\n",
    "    # Read EXACT data series of Kurt data\n",
    "\n",
    "    ρ, t = LiPoSID.get_rho_series(data_dir*df*\"_2CUT_data.h5\", string(γᵗˣᵗ))\n",
    "\n",
    "    ρₑₓ = convert(Vector{Matrix{ComplexF64}}, ρ)\n",
    "    t = convert(Vector{Float64}, t)\n",
    "\n",
    "    # Restore data series POP identified\n",
    "\n",
    "    ρ₀ = ρₑₓ[1]\n",
    "    ρₑₓˢⁱᵈ = LiPoSID.Lindblad_time_evolution(basis, ρ₀, t, Hˢⁱᵈₑₓ, [Lˢⁱᵈₑₓ])\n",
    "    \n",
    "    \n",
    "    ρₐₙ = LiPoSID.Lindblad_time_evolution(basis, ρ₀, t, Hᵃⁿᶻ, [Lᵃⁿᶻ])    \n",
    "    ρₐₙˢⁱᵈ = LiPoSID.Lindblad_time_evolution(basis, ρ₀, t, Hˢⁱᵈₐₙ, [Lˢⁱᵈₐₙ])\n",
    "    \n",
    "\n",
    "    # Calculating fidelity series\n",
    "    Fˢⁱᵈᵉˣ = vcat(Fˢⁱᵈᵉˣ, LiPoSID.fidelity_series(basis, ρₑₓ, ρₑₓˢⁱᵈ))\n",
    "    Fˢⁱᵈᵃⁿᶻ = vcat(Fˢⁱᵈᵃⁿᶻ, LiPoSID.fidelity_series(basis, ρₐₙ, ρₐₙˢⁱᵈ))\n",
    "\n",
    "end # of files (initial states) df loop  \n"
   ]
  },
  {
   "cell_type": "code",
   "execution_count": 14,
   "id": "1378090a",
   "metadata": {},
   "outputs": [],
   "source": [
    "Fˢⁱᵈᵉˣ = convert.(Float64, Fˢⁱᵈᵉˣ)\n",
    "Fˢⁱᵈᵃⁿᶻ = convert.(Float64, Fˢⁱᵈᵃⁿᶻ);"
   ]
  },
  {
   "cell_type": "code",
   "execution_count": 15,
   "id": "ee9d10d3",
   "metadata": {},
   "outputs": [],
   "source": [
    "using StatsPlots"
   ]
  },
  {
   "cell_type": "code",
   "execution_count": 16,
   "id": "cd972852",
   "metadata": {},
   "outputs": [
    {
     "ename": "LoadError",
     "evalue": "MethodError: no method matching default_bandwidth(::Vector{Any})\n\u001b[0mClosest candidates are:\n\u001b[0m  default_bandwidth(\u001b[91m::AbstractVector{T} where T<:Real\u001b[39m) at C:\\Users\\Zakhar\\.julia\\packages\\KernelDensity\\bNBAQ\\src\\univariate.jl:32\n\u001b[0m  default_bandwidth(\u001b[91m::AbstractVector{T} where T<:Real\u001b[39m, \u001b[91m::Float64\u001b[39m) at C:\\Users\\Zakhar\\.julia\\packages\\KernelDensity\\bNBAQ\\src\\univariate.jl:32\n\u001b[0m  default_bandwidth(\u001b[91m::Tuple{AbstractVector{T} where T<:Real, AbstractVector{T} where T<:Real}\u001b[39m) at C:\\Users\\Zakhar\\.julia\\packages\\KernelDensity\\bNBAQ\\src\\bivariate.jl:41",
     "output_type": "error",
     "traceback": [
      "MethodError: no method matching default_bandwidth(::Vector{Any})\n\u001b[0mClosest candidates are:\n\u001b[0m  default_bandwidth(\u001b[91m::AbstractVector{T} where T<:Real\u001b[39m) at C:\\Users\\Zakhar\\.julia\\packages\\KernelDensity\\bNBAQ\\src\\univariate.jl:32\n\u001b[0m  default_bandwidth(\u001b[91m::AbstractVector{T} where T<:Real\u001b[39m, \u001b[91m::Float64\u001b[39m) at C:\\Users\\Zakhar\\.julia\\packages\\KernelDensity\\bNBAQ\\src\\univariate.jl:32\n\u001b[0m  default_bandwidth(\u001b[91m::Tuple{AbstractVector{T} where T<:Real, AbstractVector{T} where T<:Real}\u001b[39m) at C:\\Users\\Zakhar\\.julia\\packages\\KernelDensity\\bNBAQ\\src\\bivariate.jl:41",
      "",
      "Stacktrace:",
      "  [1] apply_recipe(plotattributes::AbstractDict{Symbol, Any}, #unused#::Type{Val{:violin}}, x::Any, y::Any, z::Any)",
      "    @ StatsPlots C:\\Users\\Zakhar\\.julia\\packages\\RecipesBase\\eU0hg\\src\\RecipesBase.jl:297",
      "  [2] _process_seriesrecipe(plt::Any, plotattributes::Any)",
      "    @ RecipesPipeline C:\\Users\\Zakhar\\.julia\\packages\\RecipesPipeline\\F2mWY\\src\\series_recipe.jl:50",
      "  [3] _process_seriesrecipes!(plt::Any, kw_list::Any)",
      "    @ RecipesPipeline C:\\Users\\Zakhar\\.julia\\packages\\RecipesPipeline\\F2mWY\\src\\series_recipe.jl:27",
      "  [4] recipe_pipeline!(plt::Any, plotattributes::Any, args::Any)",
      "    @ RecipesPipeline C:\\Users\\Zakhar\\.julia\\packages\\RecipesPipeline\\F2mWY\\src\\RecipesPipeline.jl:97",
      "  [5] _plot!(plt::Plots.Plot, plotattributes::Any, args::Any)",
      "    @ Plots C:\\Users\\Zakhar\\.julia\\packages\\Plots\\1KWPG\\src\\plot.jl:208",
      "  [6] #plot#139",
      "    @ C:\\Users\\Zakhar\\.julia\\packages\\Plots\\1KWPG\\src\\plot.jl:91 [inlined]",
      "  [7] violin(args::Any; kw::Base.Pairs{Symbol, V, Tuple{Vararg{Symbol, N}}, NamedTuple{names, T}} where {V, N, names, T<:Tuple{Vararg{Any, N}}})",
      "    @ Plots C:\\Users\\Zakhar\\.julia\\packages\\RecipesBase\\eU0hg\\src\\RecipesBase.jl:427",
      "  [8] top-level scope",
      "    @ In[16]:1",
      "  [9] eval",
      "    @ .\\boot.jl:373 [inlined]",
      " [10] include_string(mapexpr::typeof(REPL.softscope), mod::Module, code::String, filename::String)",
      "    @ Base .\\loading.jl:1196"
     ]
    }
   ],
   "source": [
    "violin([Fˢⁱᵈᵉˣ, Fˢⁱᵈᵃⁿᶻ], labels = [\"POP on exact\" \"POP on ansatz\"], legend = :bottomright)\n",
    "title!(\"γ = \"*γᵗˣᵗ)\n",
    "savefig(\"violin_\"*γᵗˣᵗ*\".png\")"
   ]
  },
  {
   "cell_type": "code",
   "execution_count": null,
   "id": "f8154616",
   "metadata": {},
   "outputs": [],
   "source": []
  }
 ],
 "metadata": {
  "@webio": {
   "lastCommId": null,
   "lastKernelId": null
  },
  "kernelspec": {
   "display_name": "Julia 1.7.2",
   "language": "julia",
   "name": "julia-1.7"
  },
  "language_info": {
   "file_extension": ".jl",
   "mimetype": "application/julia",
   "name": "julia",
   "version": "1.7.2"
  }
 },
 "nbformat": 4,
 "nbformat_minor": 5
}
