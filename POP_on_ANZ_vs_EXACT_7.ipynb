{
 "cells": [
  {
   "cell_type": "code",
   "execution_count": 1,
   "id": "9a5dd686",
   "metadata": {},
   "outputs": [],
   "source": [
    "include(\"LiPoSID.jl\")\n",
    "using QuantumOptics\n",
    "basis = NLevelBasis(2)\n",
    "using DynamicPolynomials\n",
    "using Plots"
   ]
  },
  {
   "cell_type": "code",
   "execution_count": 2,
   "id": "c5ba43ef",
   "metadata": {},
   "outputs": [
    {
     "data": {
      "text/plain": [
       "8-element Vector{Any}:\n",
       " \"0.079477\"\n",
       " \"0.25133\"\n",
       " \"0.79477\"\n",
       " \"2.5133\"\n",
       " \"7.9477\"\n",
       " \"25.133\"\n",
       " \"79.477\"\n",
       " \"251.33\""
      ]
     },
     "execution_count": 2,
     "metadata": {},
     "output_type": "execute_result"
    }
   ],
   "source": [
    "using Pickle\n",
    "load(\"gamma_txt.pkl\")"
   ]
  },
  {
   "cell_type": "markdown",
   "id": "d931ec19",
   "metadata": {},
   "source": [
    "### Load exact data"
   ]
  },
  {
   "cell_type": "code",
   "execution_count": 3,
   "id": "8c5007d4",
   "metadata": {},
   "outputs": [
    {
     "name": "stdout",
     "output_type": "stream",
     "text": [
      "C:\\Users\\Zakhar\\Documents\\GitHub\\POP_fail\\DATA\\\n"
     ]
    },
    {
     "data": {
      "text/plain": [
       "388"
      ]
     },
     "execution_count": 3,
     "metadata": {},
     "output_type": "execute_result"
    }
   ],
   "source": [
    "γᵗˣᵗ = \"251.33\"\n",
    "\n",
    "parentdir = pwd()\n",
    "data_dir = parentdir*\"\\\\DATA\\\\\"\n",
    "println(data_dir)\n",
    "\n",
    "ρᵍ, tᵍ = LiPoSID.get_rho_series(data_dir*\"State_B1_2CUT_data.h5\", γᵗˣᵗ)\n",
    "ρᵉ, tᵉ = LiPoSID.get_rho_series(data_dir*\"State_B2_2CUT_data.h5\", γᵗˣᵗ)\n",
    "ρˣ, tˣ = LiPoSID.get_rho_series(data_dir*\"State_B3_2CUT_data.h5\", γᵗˣᵗ)\n",
    "ρʸ, tʸ = LiPoSID.get_rho_series(data_dir*\"State_B4_2CUT_data.h5\", γᵗˣᵗ)\n",
    "\n",
    "@assert tᵍ == tᵉ == tˣ == tʸ \n",
    "\n",
    "t = convert(Vector{Float64}, tᵉ)\n",
    "@assert maximum(diff(t)) ≈ minimum(diff(t)) ≈ t[2]-t[1]\n",
    "Δt = t[2]-t[1]\n",
    "t_steps = length(t)"
   ]
  },
  {
   "cell_type": "markdown",
   "id": "4f1ce8ed",
   "metadata": {},
   "source": [
    "### Generate ansatz dynamics"
   ]
  },
  {
   "cell_type": "code",
   "execution_count": 4,
   "id": "c1c5f62a",
   "metadata": {},
   "outputs": [
    {
     "name": "stderr",
     "output_type": "stream",
     "text": [
      "┌ Warning: Backwards compatability support of the new return codes to Symbols will be deprecated with the Julia v1.9 release. Please see https://docs.sciml.ai/SciMLBase/stable/interfaces/Solutions/#retcodes for more information\n",
      "└ @ SciMLBase C:\\Users\\Zakhar\\.julia\\packages\\SciMLBase\\VKnrY\\src\\retcodes.jl:360\n",
      "┌ Warning: Backwards compatability support of the new return codes to Symbols will be deprecated with the Julia v1.9 release. Please see https://docs.sciml.ai/SciMLBase/stable/interfaces/Solutions/#retcodes for more information\n",
      "└ @ SciMLBase C:\\Users\\Zakhar\\.julia\\packages\\SciMLBase\\VKnrY\\src\\retcodes.jl:360\n",
      "┌ Warning: Backwards compatability support of the new return codes to Symbols will be deprecated with the Julia v1.9 release. Please see https://docs.sciml.ai/SciMLBase/stable/interfaces/Solutions/#retcodes for more information\n",
      "└ @ SciMLBase C:\\Users\\Zakhar\\.julia\\packages\\SciMLBase\\VKnrY\\src\\retcodes.jl:360\n",
      "┌ Warning: Backwards compatability support of the new return codes to Symbols will be deprecated with the Julia v1.9 release. Please see https://docs.sciml.ai/SciMLBase/stable/interfaces/Solutions/#retcodes for more information\n",
      "└ @ SciMLBase C:\\Users\\Zakhar\\.julia\\packages\\SciMLBase\\VKnrY\\src\\retcodes.jl:360\n"
     ]
    }
   ],
   "source": [
    "Hᵃⁿᶻ = [ 25.           0\n",
    "         0             1    ]\n",
    "\n",
    "γ = parse(Float64, γᵗˣᵗ)\n",
    "\n",
    "Lᵃⁿᶻ = [ 0    √γ\n",
    "         0     0. + 0im  ]\n",
    "\n",
    "ρᵍₐₙ = LiPoSID.Lindblad_time_evolution(basis, ρᵍ[1], t, Hᵃⁿᶻ, [Lᵃⁿᶻ])\n",
    "ρᵉₐₙ = LiPoSID.Lindblad_time_evolution(basis, ρᵉ[1], t, Hᵃⁿᶻ, [Lᵃⁿᶻ])\n",
    "ρˣₐₙ = LiPoSID.Lindblad_time_evolution(basis, ρˣ[1], t, Hᵃⁿᶻ, [Lᵃⁿᶻ])\n",
    "ρʸₐₙ = LiPoSID.Lindblad_time_evolution(basis, ρʸ[1], t, Hᵃⁿᶻ, [Lᵃⁿᶻ]);"
   ]
  },
  {
   "cell_type": "markdown",
   "id": "a2548ce4",
   "metadata": {},
   "source": [
    "### Perform POP SID"
   ]
  },
  {
   "cell_type": "code",
   "execution_count": 5,
   "id": "50bc4707",
   "metadata": {},
   "outputs": [],
   "source": [
    "#using DynamicPolynomials\n",
    "\n",
    "@polyvar e[1:2]\n",
    "@polyvar d[1:2]\n",
    "\n",
    "    Hˢʸᵐᵇ = [ e[1]               d[1] + im*d[2]\n",
    "              d[1] - im*d[2]     0.             ]\n",
    "\n",
    "@polyvar a[1:4]\n",
    "@polyvar b[1:4]\n",
    "\n",
    "    Aˢʸᵐᵇ = [ a[1] + im*b[1]           a[2] + im*b[2]\n",
    "              a[3] + im*b[3]           a[4] + im*b[4]   ]\n",
    "\n",
    "\n",
    "#    POP fails for traceless setup \n",
    "#    Aˢʸᵐᵇ = [ a[1] + im*b[1]           a[2] + im*b[2]\n",
    "#             a[3] + im*b[3]          -a[1] - im*b[1]   ]\n",
    "\n",
    "objₑₓ = 0\n",
    "\n",
    "for ρ in [ρᵍ, ρᵉ, ρˣ, ρʸ]\n",
    "\n",
    "    # Convert cut ρ series:\n",
    "    ρ = convert(Vector{Matrix{ComplexF64}}, ρ)\n",
    "\n",
    "    objₑₓ += LiPoSID.simpson_obj(ρ, t,  Hˢʸᵐᵇ, [Aˢʸᵐᵇ])\n",
    "\n",
    "end # of files (initial states) loop \n",
    "\n",
    "objₐₙ = 0\n",
    "\n",
    "for ρ in [ρᵍₐₙ, ρᵉₐₙ, ρˣₐₙ, ρʸₐₙ]\n",
    "\n",
    "    # Convert cut ρ series:\n",
    "    ρ = convert(Vector{Matrix{ComplexF64}}, ρ)\n",
    "\n",
    "    objₐₙ += LiPoSID.simpson_obj(ρ, t,  Hˢʸᵐᵇ, [Aˢʸᵐᵇ])\n",
    "\n",
    "end # of files (initial states) loop \n"
   ]
  },
  {
   "cell_type": "code",
   "execution_count": 6,
   "id": "2e943a94",
   "metadata": {},
   "outputs": [
    {
     "name": "stdout",
     "output_type": "stream",
     "text": [
      "************************TSSOS************************\n",
      "TSSOS is launching...\n",
      "optimum = 0.014495034603854167\n",
      "\n",
      "******************************************************************************\n",
      "This program contains Ipopt, a library for large-scale nonlinear optimization.\n",
      " Ipopt is released as open source code under the Eclipse Public License (EPL).\n",
      "         For more information visit https://github.com/coin-or/Ipopt\n",
      "******************************************************************************\n",
      "\n",
      "Global optimality certified!\n",
      "No higher TSSOS hierarchy!\n",
      "************************TSSOS************************\n",
      "TSSOS is launching...\n",
      "optimum = 0.01449483080374602\n",
      "Global optimality certified!\n",
      "No higher TSSOS hierarchy!\n"
     ]
    },
    {
     "data": {
      "text/plain": [
       "2×2 Matrix{Polynomial{true, ComplexF64}}:\n",
       " (9.90933-4.75556im)  (3.09725+3.84531im)\n",
       " (3.39918+2.90889im)  (9.80832-4.72035im)"
      ]
     },
     "execution_count": 6,
     "metadata": {},
     "output_type": "execute_result"
    }
   ],
   "source": [
    "solₑₓⁿᵉʷ, best_methodₑₓⁿᵉʷ = LiPoSID.sos_min_newton(objₑₓ) \n",
    "Hˢⁱᵈₑₓ = subs(Hˢʸᵐᵇ, solₑₓⁿᵉʷ)\n",
    "Lˢⁱᵈₑₓ = subs(Aˢʸᵐᵇ, solₑₓⁿᵉʷ)"
   ]
  },
  {
   "cell_type": "code",
   "execution_count": 7,
   "id": "daaea0be",
   "metadata": {},
   "outputs": [
    {
     "data": {
      "text/plain": [
       "\"scaled_tssos\""
      ]
     },
     "execution_count": 7,
     "metadata": {},
     "output_type": "execute_result"
    }
   ],
   "source": [
    "best_methodₑₓⁿᵉʷ"
   ]
  },
  {
   "cell_type": "code",
   "execution_count": 8,
   "id": "cc646bc3",
   "metadata": {},
   "outputs": [
    {
     "name": "stdout",
     "output_type": "stream",
     "text": [
      "************************TSSOS************************\n",
      "TSSOS is launching...\n",
      "optimum = 1.8918941489958497e-7\n",
      "Global optimality certified!\n",
      "No higher TSSOS hierarchy!\n",
      "************************TSSOS************************\n",
      "TSSOS is launching...\n",
      "optimum = -2.2555587966572716e-8\n",
      "Global optimality certified!\n",
      "No higher TSSOS hierarchy!\n"
     ]
    },
    {
     "data": {
      "text/plain": [
       "2×2 Matrix{Polynomial{true, ComplexF64}}:\n",
       " (2.1988-5.90528im)         (1.17001+15.8102im)\n",
       " (1.02061e-6-2.43109e-6im)  (2.1988-5.90528im)"
      ]
     },
     "execution_count": 8,
     "metadata": {},
     "output_type": "execute_result"
    }
   ],
   "source": [
    "solₐₙⁿᵉʷ, best_methodₐₙⁿᵉʷ = LiPoSID.sos_min_newton(objₐₙ) \n",
    "Hˢⁱᵈₐₙ = subs(Hˢʸᵐᵇ, solₐₙⁿᵉʷ)\n",
    "Lˢⁱᵈₐₙ = subs(Aˢʸᵐᵇ, solₐₙⁿᵉʷ)"
   ]
  },
  {
   "cell_type": "code",
   "execution_count": 9,
   "id": "7211085d",
   "metadata": {},
   "outputs": [
    {
     "data": {
      "text/plain": [
       "\"scaled_tssos\""
      ]
     },
     "execution_count": 9,
     "metadata": {},
     "output_type": "execute_result"
    }
   ],
   "source": [
    "best_methodₐₙⁿᵉʷ"
   ]
  },
  {
   "cell_type": "markdown",
   "id": "25ccc071",
   "metadata": {},
   "source": [
    "### Generate identified dynamics"
   ]
  },
  {
   "cell_type": "code",
   "execution_count": 10,
   "id": "51178532",
   "metadata": {},
   "outputs": [
    {
     "name": "stderr",
     "output_type": "stream",
     "text": [
      "┌ Warning: Backwards compatability support of the new return codes to Symbols will be deprecated with the Julia v1.9 release. Please see https://docs.sciml.ai/SciMLBase/stable/interfaces/Solutions/#retcodes for more information\n",
      "└ @ SciMLBase C:\\Users\\Zakhar\\.julia\\packages\\SciMLBase\\VKnrY\\src\\retcodes.jl:360\n",
      "┌ Warning: Backwards compatability support of the new return codes to Symbols will be deprecated with the Julia v1.9 release. Please see https://docs.sciml.ai/SciMLBase/stable/interfaces/Solutions/#retcodes for more information\n",
      "└ @ SciMLBase C:\\Users\\Zakhar\\.julia\\packages\\SciMLBase\\VKnrY\\src\\retcodes.jl:360\n",
      "┌ Warning: Backwards compatability support of the new return codes to Symbols will be deprecated with the Julia v1.9 release. Please see https://docs.sciml.ai/SciMLBase/stable/interfaces/Solutions/#retcodes for more information\n",
      "└ @ SciMLBase C:\\Users\\Zakhar\\.julia\\packages\\SciMLBase\\VKnrY\\src\\retcodes.jl:360\n",
      "┌ Warning: Backwards compatability support of the new return codes to Symbols will be deprecated with the Julia v1.9 release. Please see https://docs.sciml.ai/SciMLBase/stable/interfaces/Solutions/#retcodes for more information\n",
      "└ @ SciMLBase C:\\Users\\Zakhar\\.julia\\packages\\SciMLBase\\VKnrY\\src\\retcodes.jl:360\n"
     ]
    }
   ],
   "source": [
    "ρᵍₐₙˢⁱᵈ = LiPoSID.Lindblad_time_evolution(basis, ρᵍ[1], t, Hˢⁱᵈₐₙ, [Lˢⁱᵈₐₙ])\n",
    "ρᵉₐₙˢⁱᵈ = LiPoSID.Lindblad_time_evolution(basis, ρᵉ[1], t, Hˢⁱᵈₐₙ, [Lˢⁱᵈₐₙ])\n",
    "ρˣₐₙˢⁱᵈ = LiPoSID.Lindblad_time_evolution(basis, ρˣ[1], t, Hˢⁱᵈₐₙ, [Lˢⁱᵈₐₙ])\n",
    "ρʸₐₙˢⁱᵈ = LiPoSID.Lindblad_time_evolution(basis, ρʸ[1], t, Hˢⁱᵈₐₙ, [Lˢⁱᵈₐₙ]);"
   ]
  },
  {
   "cell_type": "code",
   "execution_count": 11,
   "id": "287b3a92",
   "metadata": {},
   "outputs": [
    {
     "name": "stderr",
     "output_type": "stream",
     "text": [
      "┌ Warning: Backwards compatability support of the new return codes to Symbols will be deprecated with the Julia v1.9 release. Please see https://docs.sciml.ai/SciMLBase/stable/interfaces/Solutions/#retcodes for more information\n",
      "└ @ SciMLBase C:\\Users\\Zakhar\\.julia\\packages\\SciMLBase\\VKnrY\\src\\retcodes.jl:360\n",
      "┌ Warning: Backwards compatability support of the new return codes to Symbols will be deprecated with the Julia v1.9 release. Please see https://docs.sciml.ai/SciMLBase/stable/interfaces/Solutions/#retcodes for more information\n",
      "└ @ SciMLBase C:\\Users\\Zakhar\\.julia\\packages\\SciMLBase\\VKnrY\\src\\retcodes.jl:360\n",
      "┌ Warning: Backwards compatability support of the new return codes to Symbols will be deprecated with the Julia v1.9 release. Please see https://docs.sciml.ai/SciMLBase/stable/interfaces/Solutions/#retcodes for more information\n",
      "└ @ SciMLBase C:\\Users\\Zakhar\\.julia\\packages\\SciMLBase\\VKnrY\\src\\retcodes.jl:360\n",
      "┌ Warning: Backwards compatability support of the new return codes to Symbols will be deprecated with the Julia v1.9 release. Please see https://docs.sciml.ai/SciMLBase/stable/interfaces/Solutions/#retcodes for more information\n",
      "└ @ SciMLBase C:\\Users\\Zakhar\\.julia\\packages\\SciMLBase\\VKnrY\\src\\retcodes.jl:360\n"
     ]
    }
   ],
   "source": [
    "ρᵍₑₓˢⁱᵈ = LiPoSID.Lindblad_time_evolution(basis, ρᵍ[1], t, Hˢⁱᵈₑₓ, [Lˢⁱᵈₑₓ])\n",
    "ρᵉₑₓˢⁱᵈ = LiPoSID.Lindblad_time_evolution(basis, ρᵉ[1], t, Hˢⁱᵈₑₓ, [Lˢⁱᵈₑₓ])\n",
    "ρˣₑₓˢⁱᵈ = LiPoSID.Lindblad_time_evolution(basis, ρˣ[1], t, Hˢⁱᵈₑₓ, [Lˢⁱᵈₑₓ])\n",
    "ρʸₑₓˢⁱᵈ = LiPoSID.Lindblad_time_evolution(basis, ρʸ[1], t, Hˢⁱᵈₑₓ, [Lˢⁱᵈₑₓ]);"
   ]
  },
  {
   "cell_type": "markdown",
   "id": "616b4ad4",
   "metadata": {},
   "source": [
    "### Consider fidelities"
   ]
  },
  {
   "cell_type": "code",
   "execution_count": 12,
   "id": "e9cb7b5f",
   "metadata": {},
   "outputs": [
    {
     "data": {
      "image/svg+xml": [
       "<?xml version=\"1.0\" encoding=\"utf-8\"?>\n",
       "<svg xmlns=\"http://www.w3.org/2000/svg\" xmlns:xlink=\"http://www.w3.org/1999/xlink\" width=\"600\" height=\"400\" viewBox=\"0 0 2400 1600\">\n",
       "<defs>\n",
       "  <clipPath id=\"clip690\">\n",
       "    <rect x=\"0\" y=\"0\" width=\"2400\" height=\"1600\"/>\n",
       "  </clipPath>\n",
       "</defs>\n",
       "<path clip-path=\"url(#clip690)\" d=\"\n",
       "M0 1600 L2400 1600 L2400 0 L0 0  Z\n",
       "  \" fill=\"#ffffff\" fill-rule=\"evenodd\" fill-opacity=\"1\"/>\n",
       "<defs>\n",
       "  <clipPath id=\"clip691\">\n",
       "    <rect x=\"480\" y=\"0\" width=\"1681\" height=\"1600\"/>\n",
       "  </clipPath>\n",
       "</defs>\n",
       "<path clip-path=\"url(#clip690)\" d=\"\n",
       "M247.084 1486.45 L2352.76 1486.45 L2352.76 47.2441 L247.084 47.2441  Z\n",
       "  \" fill=\"#ffffff\" fill-rule=\"evenodd\" fill-opacity=\"1\"/>\n",
       "<defs>\n",
       "  <clipPath id=\"clip692\">\n",
       "    <rect x=\"247\" y=\"47\" width=\"2107\" height=\"1440\"/>\n",
       "  </clipPath>\n",
       "</defs>\n",
       "<polyline clip-path=\"url(#clip692)\" style=\"stroke:#000000; stroke-linecap:round; stroke-linejoin:round; stroke-width:2; stroke-opacity:0.1; fill:none\" points=\"\n",
       "  301.545,1486.45 301.545,47.2441 \n",
       "  \"/>\n",
       "<polyline clip-path=\"url(#clip692)\" style=\"stroke:#000000; stroke-linecap:round; stroke-linejoin:round; stroke-width:2; stroke-opacity:0.1; fill:none\" points=\"\n",
       "  814.848,1486.45 814.848,47.2441 \n",
       "  \"/>\n",
       "<polyline clip-path=\"url(#clip692)\" style=\"stroke:#000000; stroke-linecap:round; stroke-linejoin:round; stroke-width:2; stroke-opacity:0.1; fill:none\" points=\"\n",
       "  1328.15,1486.45 1328.15,47.2441 \n",
       "  \"/>\n",
       "<polyline clip-path=\"url(#clip692)\" style=\"stroke:#000000; stroke-linecap:round; stroke-linejoin:round; stroke-width:2; stroke-opacity:0.1; fill:none\" points=\"\n",
       "  1841.45,1486.45 1841.45,47.2441 \n",
       "  \"/>\n",
       "<polyline clip-path=\"url(#clip690)\" style=\"stroke:#000000; stroke-linecap:round; stroke-linejoin:round; stroke-width:4; stroke-opacity:1; fill:none\" points=\"\n",
       "  247.084,1486.45 2352.76,1486.45 \n",
       "  \"/>\n",
       "<polyline clip-path=\"url(#clip690)\" style=\"stroke:#000000; stroke-linecap:round; stroke-linejoin:round; stroke-width:4; stroke-opacity:1; fill:none\" points=\"\n",
       "  301.545,1486.45 301.545,1467.55 \n",
       "  \"/>\n",
       "<polyline clip-path=\"url(#clip690)\" style=\"stroke:#000000; stroke-linecap:round; stroke-linejoin:round; stroke-width:4; stroke-opacity:1; fill:none\" points=\"\n",
       "  814.848,1486.45 814.848,1467.55 \n",
       "  \"/>\n",
       "<polyline clip-path=\"url(#clip690)\" style=\"stroke:#000000; stroke-linecap:round; stroke-linejoin:round; stroke-width:4; stroke-opacity:1; fill:none\" points=\"\n",
       "  1328.15,1486.45 1328.15,1467.55 \n",
       "  \"/>\n",
       "<polyline clip-path=\"url(#clip690)\" style=\"stroke:#000000; stroke-linecap:round; stroke-linejoin:round; stroke-width:4; stroke-opacity:1; fill:none\" points=\"\n",
       "  1841.45,1486.45 1841.45,1467.55 \n",
       "  \"/>\n",
       "<path clip-path=\"url(#clip690)\" d=\"M301.545 1517.37 Q297.934 1517.37 296.106 1520.93 Q294.3 1524.47 294.3 1531.6 Q294.3 1538.71 296.106 1542.27 Q297.934 1545.82 301.545 1545.82 Q305.18 1545.82 306.985 1542.27 Q308.814 1538.71 308.814 1531.6 Q308.814 1524.47 306.985 1520.93 Q305.18 1517.37 301.545 1517.37 M301.545 1513.66 Q307.355 1513.66 310.411 1518.27 Q313.49 1522.85 313.49 1531.6 Q313.49 1540.33 310.411 1544.94 Q307.355 1549.52 301.545 1549.52 Q295.735 1549.52 292.656 1544.94 Q289.601 1540.33 289.601 1531.6 Q289.601 1522.85 292.656 1518.27 Q295.735 1513.66 301.545 1513.66 Z\" fill=\"#000000\" fill-rule=\"evenodd\" fill-opacity=\"1\" /><path clip-path=\"url(#clip690)\" d=\"M774.455 1544.91 L782.094 1544.91 L782.094 1518.55 L773.784 1520.21 L773.784 1515.95 L782.048 1514.29 L786.724 1514.29 L786.724 1544.91 L794.362 1544.91 L794.362 1548.85 L774.455 1548.85 L774.455 1544.91 Z\" fill=\"#000000\" fill-rule=\"evenodd\" fill-opacity=\"1\" /><path clip-path=\"url(#clip690)\" d=\"M813.807 1517.37 Q810.196 1517.37 808.367 1520.93 Q806.561 1524.47 806.561 1531.6 Q806.561 1538.71 808.367 1542.27 Q810.196 1545.82 813.807 1545.82 Q817.441 1545.82 819.247 1542.27 Q821.075 1538.71 821.075 1531.6 Q821.075 1524.47 819.247 1520.93 Q817.441 1517.37 813.807 1517.37 M813.807 1513.66 Q819.617 1513.66 822.672 1518.27 Q825.751 1522.85 825.751 1531.6 Q825.751 1540.33 822.672 1544.94 Q819.617 1549.52 813.807 1549.52 Q807.997 1549.52 804.918 1544.94 Q801.862 1540.33 801.862 1531.6 Q801.862 1522.85 804.918 1518.27 Q807.997 1513.66 813.807 1513.66 Z\" fill=\"#000000\" fill-rule=\"evenodd\" fill-opacity=\"1\" /><path clip-path=\"url(#clip690)\" d=\"M843.969 1517.37 Q840.358 1517.37 838.529 1520.93 Q836.723 1524.47 836.723 1531.6 Q836.723 1538.71 838.529 1542.27 Q840.358 1545.82 843.969 1545.82 Q847.603 1545.82 849.408 1542.27 Q851.237 1538.71 851.237 1531.6 Q851.237 1524.47 849.408 1520.93 Q847.603 1517.37 843.969 1517.37 M843.969 1513.66 Q849.779 1513.66 852.834 1518.27 Q855.913 1522.85 855.913 1531.6 Q855.913 1540.33 852.834 1544.94 Q849.779 1549.52 843.969 1549.52 Q838.158 1549.52 835.08 1544.94 Q832.024 1540.33 832.024 1531.6 Q832.024 1522.85 835.08 1518.27 Q838.158 1513.66 843.969 1513.66 Z\" fill=\"#000000\" fill-rule=\"evenodd\" fill-opacity=\"1\" /><path clip-path=\"url(#clip690)\" d=\"M1291.84 1544.91 L1308.16 1544.91 L1308.16 1548.85 L1286.22 1548.85 L1286.22 1544.91 Q1288.88 1542.16 1293.46 1537.53 Q1298.07 1532.88 1299.25 1531.53 Q1301.5 1529.01 1302.38 1527.27 Q1303.28 1525.51 1303.28 1523.82 Q1303.28 1521.07 1301.33 1519.33 Q1299.41 1517.6 1296.31 1517.6 Q1294.11 1517.6 1291.66 1518.36 Q1289.23 1519.13 1286.45 1520.68 L1286.45 1515.95 Q1289.27 1514.82 1291.73 1514.24 Q1294.18 1513.66 1296.22 1513.66 Q1301.59 1513.66 1304.78 1516.35 Q1307.98 1519.03 1307.98 1523.52 Q1307.98 1525.65 1307.17 1527.57 Q1306.38 1529.47 1304.27 1532.07 Q1303.7 1532.74 1300.59 1535.95 Q1297.49 1539.15 1291.84 1544.91 Z\" fill=\"#000000\" fill-rule=\"evenodd\" fill-opacity=\"1\" /><path clip-path=\"url(#clip690)\" d=\"M1327.98 1517.37 Q1324.37 1517.37 1322.54 1520.93 Q1320.73 1524.47 1320.73 1531.6 Q1320.73 1538.71 1322.54 1542.27 Q1324.37 1545.82 1327.98 1545.82 Q1331.61 1545.82 1333.42 1542.27 Q1335.25 1538.71 1335.25 1531.6 Q1335.25 1524.47 1333.42 1520.93 Q1331.61 1517.37 1327.98 1517.37 M1327.98 1513.66 Q1333.79 1513.66 1336.84 1518.27 Q1339.92 1522.85 1339.92 1531.6 Q1339.92 1540.33 1336.84 1544.94 Q1333.79 1549.52 1327.98 1549.52 Q1322.17 1549.52 1319.09 1544.94 Q1316.03 1540.33 1316.03 1531.6 Q1316.03 1522.85 1319.09 1518.27 Q1322.17 1513.66 1327.98 1513.66 Z\" fill=\"#000000\" fill-rule=\"evenodd\" fill-opacity=\"1\" /><path clip-path=\"url(#clip690)\" d=\"M1358.14 1517.37 Q1354.53 1517.37 1352.7 1520.93 Q1350.89 1524.47 1350.89 1531.6 Q1350.89 1538.71 1352.7 1542.27 Q1354.53 1545.82 1358.14 1545.82 Q1361.77 1545.82 1363.58 1542.27 Q1365.41 1538.71 1365.41 1531.6 Q1365.41 1524.47 1363.58 1520.93 Q1361.77 1517.37 1358.14 1517.37 M1358.14 1513.66 Q1363.95 1513.66 1367.01 1518.27 Q1370.08 1522.85 1370.08 1531.6 Q1370.08 1540.33 1367.01 1544.94 Q1363.95 1549.52 1358.14 1549.52 Q1352.33 1549.52 1349.25 1544.94 Q1346.2 1540.33 1346.2 1531.6 Q1346.2 1522.85 1349.25 1518.27 Q1352.33 1513.66 1358.14 1513.66 Z\" fill=\"#000000\" fill-rule=\"evenodd\" fill-opacity=\"1\" /><path clip-path=\"url(#clip690)\" d=\"M1815.22 1530.21 Q1818.57 1530.93 1820.45 1533.2 Q1822.35 1535.47 1822.35 1538.8 Q1822.35 1543.92 1818.83 1546.72 Q1815.31 1549.52 1808.83 1549.52 Q1806.65 1549.52 1804.34 1549.08 Q1802.05 1548.66 1799.59 1547.81 L1799.59 1543.29 Q1801.54 1544.43 1803.85 1545.01 Q1806.17 1545.58 1808.69 1545.58 Q1813.09 1545.58 1815.38 1543.85 Q1817.69 1542.11 1817.69 1538.8 Q1817.69 1535.75 1815.54 1534.03 Q1813.41 1532.3 1809.59 1532.3 L1805.56 1532.3 L1805.56 1528.45 L1809.78 1528.45 Q1813.23 1528.45 1815.05 1527.09 Q1816.88 1525.7 1816.88 1523.11 Q1816.88 1520.45 1814.98 1519.03 Q1813.11 1517.6 1809.59 1517.6 Q1807.67 1517.6 1805.47 1518.01 Q1803.27 1518.43 1800.63 1519.31 L1800.63 1515.14 Q1803.3 1514.4 1805.61 1514.03 Q1807.95 1513.66 1810.01 1513.66 Q1815.33 1513.66 1818.43 1516.09 Q1821.54 1518.5 1821.54 1522.62 Q1821.54 1525.49 1819.89 1527.48 Q1818.25 1529.45 1815.22 1530.21 Z\" fill=\"#000000\" fill-rule=\"evenodd\" fill-opacity=\"1\" /><path clip-path=\"url(#clip690)\" d=\"M1841.21 1517.37 Q1837.6 1517.37 1835.77 1520.93 Q1833.97 1524.47 1833.97 1531.6 Q1833.97 1538.71 1835.77 1542.27 Q1837.6 1545.82 1841.21 1545.82 Q1844.85 1545.82 1846.65 1542.27 Q1848.48 1538.71 1848.48 1531.6 Q1848.48 1524.47 1846.65 1520.93 Q1844.85 1517.37 1841.21 1517.37 M1841.21 1513.66 Q1847.02 1513.66 1850.08 1518.27 Q1853.16 1522.85 1853.16 1531.6 Q1853.16 1540.33 1850.08 1544.94 Q1847.02 1549.52 1841.21 1549.52 Q1835.4 1549.52 1832.32 1544.94 Q1829.27 1540.33 1829.27 1531.6 Q1829.27 1522.85 1832.32 1518.27 Q1835.4 1513.66 1841.21 1513.66 Z\" fill=\"#000000\" fill-rule=\"evenodd\" fill-opacity=\"1\" /><path clip-path=\"url(#clip690)\" d=\"M1871.37 1517.37 Q1867.76 1517.37 1865.93 1520.93 Q1864.13 1524.47 1864.13 1531.6 Q1864.13 1538.71 1865.93 1542.27 Q1867.76 1545.82 1871.37 1545.82 Q1875.01 1545.82 1876.81 1542.27 Q1878.64 1538.71 1878.64 1531.6 Q1878.64 1524.47 1876.81 1520.93 Q1875.01 1517.37 1871.37 1517.37 M1871.37 1513.66 Q1877.18 1513.66 1880.24 1518.27 Q1883.32 1522.85 1883.32 1531.6 Q1883.32 1540.33 1880.24 1544.94 Q1877.18 1549.52 1871.37 1549.52 Q1865.56 1549.52 1862.48 1544.94 Q1859.43 1540.33 1859.43 1531.6 Q1859.43 1522.85 1862.48 1518.27 Q1865.56 1513.66 1871.37 1513.66 Z\" fill=\"#000000\" fill-rule=\"evenodd\" fill-opacity=\"1\" /><polyline clip-path=\"url(#clip692)\" style=\"stroke:#000000; stroke-linecap:round; stroke-linejoin:round; stroke-width:2; stroke-opacity:0.1; fill:none\" points=\"\n",
       "  247.084,1302.92 2352.76,1302.92 \n",
       "  \"/>\n",
       "<polyline clip-path=\"url(#clip692)\" style=\"stroke:#000000; stroke-linecap:round; stroke-linejoin:round; stroke-width:2; stroke-opacity:0.1; fill:none\" points=\"\n",
       "  247.084,1100.43 2352.76,1100.43 \n",
       "  \"/>\n",
       "<polyline clip-path=\"url(#clip692)\" style=\"stroke:#000000; stroke-linecap:round; stroke-linejoin:round; stroke-width:2; stroke-opacity:0.1; fill:none\" points=\"\n",
       "  247.084,897.936 2352.76,897.936 \n",
       "  \"/>\n",
       "<polyline clip-path=\"url(#clip692)\" style=\"stroke:#000000; stroke-linecap:round; stroke-linejoin:round; stroke-width:2; stroke-opacity:0.1; fill:none\" points=\"\n",
       "  247.084,695.446 2352.76,695.446 \n",
       "  \"/>\n",
       "<polyline clip-path=\"url(#clip692)\" style=\"stroke:#000000; stroke-linecap:round; stroke-linejoin:round; stroke-width:2; stroke-opacity:0.1; fill:none\" points=\"\n",
       "  247.084,492.956 2352.76,492.956 \n",
       "  \"/>\n",
       "<polyline clip-path=\"url(#clip692)\" style=\"stroke:#000000; stroke-linecap:round; stroke-linejoin:round; stroke-width:2; stroke-opacity:0.1; fill:none\" points=\"\n",
       "  247.084,290.466 2352.76,290.466 \n",
       "  \"/>\n",
       "<polyline clip-path=\"url(#clip692)\" style=\"stroke:#000000; stroke-linecap:round; stroke-linejoin:round; stroke-width:2; stroke-opacity:0.1; fill:none\" points=\"\n",
       "  247.084,87.9763 2352.76,87.9763 \n",
       "  \"/>\n",
       "<polyline clip-path=\"url(#clip690)\" style=\"stroke:#000000; stroke-linecap:round; stroke-linejoin:round; stroke-width:4; stroke-opacity:1; fill:none\" points=\"\n",
       "  247.084,1486.45 247.084,47.2441 \n",
       "  \"/>\n",
       "<polyline clip-path=\"url(#clip690)\" style=\"stroke:#000000; stroke-linecap:round; stroke-linejoin:round; stroke-width:4; stroke-opacity:1; fill:none\" points=\"\n",
       "  247.084,1302.92 265.981,1302.92 \n",
       "  \"/>\n",
       "<polyline clip-path=\"url(#clip690)\" style=\"stroke:#000000; stroke-linecap:round; stroke-linejoin:round; stroke-width:4; stroke-opacity:1; fill:none\" points=\"\n",
       "  247.084,1100.43 265.981,1100.43 \n",
       "  \"/>\n",
       "<polyline clip-path=\"url(#clip690)\" style=\"stroke:#000000; stroke-linecap:round; stroke-linejoin:round; stroke-width:4; stroke-opacity:1; fill:none\" points=\"\n",
       "  247.084,897.936 265.981,897.936 \n",
       "  \"/>\n",
       "<polyline clip-path=\"url(#clip690)\" style=\"stroke:#000000; stroke-linecap:round; stroke-linejoin:round; stroke-width:4; stroke-opacity:1; fill:none\" points=\"\n",
       "  247.084,695.446 265.981,695.446 \n",
       "  \"/>\n",
       "<polyline clip-path=\"url(#clip690)\" style=\"stroke:#000000; stroke-linecap:round; stroke-linejoin:round; stroke-width:4; stroke-opacity:1; fill:none\" points=\"\n",
       "  247.084,492.956 265.981,492.956 \n",
       "  \"/>\n",
       "<polyline clip-path=\"url(#clip690)\" style=\"stroke:#000000; stroke-linecap:round; stroke-linejoin:round; stroke-width:4; stroke-opacity:1; fill:none\" points=\"\n",
       "  247.084,290.466 265.981,290.466 \n",
       "  \"/>\n",
       "<polyline clip-path=\"url(#clip690)\" style=\"stroke:#000000; stroke-linecap:round; stroke-linejoin:round; stroke-width:4; stroke-opacity:1; fill:none\" points=\"\n",
       "  247.084,87.9763 265.981,87.9763 \n",
       "  \"/>\n",
       "<path clip-path=\"url(#clip690)\" d=\"M63.5152 1288.71 Q59.9041 1288.71 58.0754 1292.28 Q56.2699 1295.82 56.2699 1302.95 Q56.2699 1310.06 58.0754 1313.62 Q59.9041 1317.16 63.5152 1317.16 Q67.1494 1317.16 68.955 1313.62 Q70.7837 1310.06 70.7837 1302.95 Q70.7837 1295.82 68.955 1292.28 Q67.1494 1288.71 63.5152 1288.71 M63.5152 1285.01 Q69.3254 1285.01 72.3809 1289.62 Q75.4596 1294.2 75.4596 1302.95 Q75.4596 1311.68 72.3809 1316.28 Q69.3254 1320.87 63.5152 1320.87 Q57.7051 1320.87 54.6264 1316.28 Q51.5708 1311.68 51.5708 1302.95 Q51.5708 1294.2 54.6264 1289.62 Q57.7051 1285.01 63.5152 1285.01 Z\" fill=\"#000000\" fill-rule=\"evenodd\" fill-opacity=\"1\" /><path clip-path=\"url(#clip690)\" d=\"M83.6771 1314.32 L88.5614 1314.32 L88.5614 1320.2 L83.6771 1320.2 L83.6771 1314.32 Z\" fill=\"#000000\" fill-rule=\"evenodd\" fill-opacity=\"1\" /><path clip-path=\"url(#clip690)\" d=\"M98.8854 1319.48 L98.8854 1315.22 Q100.645 1316.05 102.45 1316.49 Q104.256 1316.93 105.992 1316.93 Q110.621 1316.93 113.052 1313.83 Q115.506 1310.7 115.853 1304.36 Q114.51 1306.35 112.45 1307.42 Q110.39 1308.48 107.89 1308.48 Q102.705 1308.48 99.6724 1305.36 Q96.6632 1302.21 96.6632 1296.77 Q96.6632 1291.45 99.8113 1288.23 Q102.959 1285.01 108.191 1285.01 Q114.186 1285.01 117.334 1289.62 Q120.506 1294.2 120.506 1302.95 Q120.506 1311.12 116.617 1316.01 Q112.751 1320.87 106.2 1320.87 Q104.441 1320.87 102.635 1320.52 Q100.83 1320.17 98.8854 1319.48 M108.191 1304.83 Q111.339 1304.83 113.168 1302.67 Q115.02 1300.52 115.02 1296.77 Q115.02 1293.04 113.168 1290.89 Q111.339 1288.71 108.191 1288.71 Q105.043 1288.71 103.191 1290.89 Q101.362 1293.04 101.362 1296.77 Q101.362 1300.52 103.191 1302.67 Q105.043 1304.83 108.191 1304.83 Z\" fill=\"#000000\" fill-rule=\"evenodd\" fill-opacity=\"1\" /><path clip-path=\"url(#clip690)\" d=\"M129.047 1319.48 L129.047 1315.22 Q130.807 1316.05 132.612 1316.49 Q134.418 1316.93 136.154 1316.93 Q140.783 1316.93 143.214 1313.83 Q145.668 1310.7 146.015 1304.36 Q144.672 1306.35 142.612 1307.42 Q140.552 1308.48 138.052 1308.48 Q132.867 1308.48 129.834 1305.36 Q126.825 1302.21 126.825 1296.77 Q126.825 1291.45 129.973 1288.23 Q133.121 1285.01 138.353 1285.01 Q144.348 1285.01 147.496 1289.62 Q150.668 1294.2 150.668 1302.95 Q150.668 1311.12 146.779 1316.01 Q142.913 1320.87 136.362 1320.87 Q134.603 1320.87 132.797 1320.52 Q130.992 1320.17 129.047 1319.48 M138.353 1304.83 Q141.501 1304.83 143.33 1302.67 Q145.181 1300.52 145.181 1296.77 Q145.181 1293.04 143.33 1290.89 Q141.501 1288.71 138.353 1288.71 Q135.205 1288.71 133.353 1290.89 Q131.524 1293.04 131.524 1296.77 Q131.524 1300.52 133.353 1302.67 Q135.205 1304.83 138.353 1304.83 Z\" fill=\"#000000\" fill-rule=\"evenodd\" fill-opacity=\"1\" /><path clip-path=\"url(#clip690)\" d=\"M169.07 1303.78 Q165.737 1303.78 163.816 1305.57 Q161.917 1307.35 161.917 1310.47 Q161.917 1313.6 163.816 1315.38 Q165.737 1317.16 169.07 1317.16 Q172.404 1317.16 174.325 1315.38 Q176.246 1313.58 176.246 1310.47 Q176.246 1307.35 174.325 1305.57 Q172.427 1303.78 169.07 1303.78 M164.394 1301.79 Q161.385 1301.05 159.695 1298.99 Q158.029 1296.93 158.029 1293.97 Q158.029 1289.83 160.968 1287.42 Q163.931 1285.01 169.07 1285.01 Q174.232 1285.01 177.172 1287.42 Q180.112 1289.83 180.112 1293.97 Q180.112 1296.93 178.422 1298.99 Q176.755 1301.05 173.769 1301.79 Q177.149 1302.58 179.024 1304.87 Q180.922 1307.16 180.922 1310.47 Q180.922 1315.5 177.843 1318.18 Q174.788 1320.87 169.07 1320.87 Q163.353 1320.87 160.274 1318.18 Q157.218 1315.5 157.218 1310.47 Q157.218 1307.16 159.117 1304.87 Q161.015 1302.58 164.394 1301.79 M162.681 1294.41 Q162.681 1297.09 164.348 1298.6 Q166.038 1300.1 169.07 1300.1 Q172.079 1300.1 173.769 1298.6 Q175.482 1297.09 175.482 1294.41 Q175.482 1291.72 173.769 1290.22 Q172.079 1288.71 169.07 1288.71 Q166.038 1288.71 164.348 1290.22 Q162.681 1291.72 162.681 1294.41 Z\" fill=\"#000000\" fill-rule=\"evenodd\" fill-opacity=\"1\" /><path clip-path=\"url(#clip690)\" d=\"M199.232 1303.78 Q195.899 1303.78 193.977 1305.57 Q192.079 1307.35 192.079 1310.47 Q192.079 1313.6 193.977 1315.38 Q195.899 1317.16 199.232 1317.16 Q202.565 1317.16 204.487 1315.38 Q206.408 1313.58 206.408 1310.47 Q206.408 1307.35 204.487 1305.57 Q202.589 1303.78 199.232 1303.78 M194.556 1301.79 Q191.547 1301.05 189.857 1298.99 Q188.19 1296.93 188.19 1293.97 Q188.19 1289.83 191.13 1287.42 Q194.093 1285.01 199.232 1285.01 Q204.394 1285.01 207.334 1287.42 Q210.274 1289.83 210.274 1293.97 Q210.274 1296.93 208.584 1298.99 Q206.917 1301.05 203.931 1301.79 Q207.311 1302.58 209.186 1304.87 Q211.084 1307.16 211.084 1310.47 Q211.084 1315.5 208.005 1318.18 Q204.95 1320.87 199.232 1320.87 Q193.515 1320.87 190.436 1318.18 Q187.38 1315.5 187.38 1310.47 Q187.38 1307.16 189.278 1304.87 Q191.177 1302.58 194.556 1301.79 M192.843 1294.41 Q192.843 1297.09 194.51 1298.6 Q196.2 1300.1 199.232 1300.1 Q202.241 1300.1 203.931 1298.6 Q205.644 1297.09 205.644 1294.41 Q205.644 1291.72 203.931 1290.22 Q202.241 1288.71 199.232 1288.71 Q196.2 1288.71 194.51 1290.22 Q192.843 1291.72 192.843 1294.41 Z\" fill=\"#000000\" fill-rule=\"evenodd\" fill-opacity=\"1\" /><path clip-path=\"url(#clip690)\" d=\"M63.4226 1086.22 Q59.8115 1086.22 57.9828 1089.79 Q56.1773 1093.33 56.1773 1100.46 Q56.1773 1107.57 57.9828 1111.13 Q59.8115 1114.67 63.4226 1114.67 Q67.0569 1114.67 68.8624 1111.13 Q70.6911 1107.57 70.6911 1100.46 Q70.6911 1093.33 68.8624 1089.79 Q67.0569 1086.22 63.4226 1086.22 M63.4226 1082.52 Q69.2328 1082.52 72.2883 1087.13 Q75.367 1091.71 75.367 1100.46 Q75.367 1109.19 72.2883 1113.79 Q69.2328 1118.38 63.4226 1118.38 Q57.6125 1118.38 54.5338 1113.79 Q51.4782 1109.19 51.4782 1100.46 Q51.4782 1091.71 54.5338 1087.13 Q57.6125 1082.52 63.4226 1082.52 Z\" fill=\"#000000\" fill-rule=\"evenodd\" fill-opacity=\"1\" /><path clip-path=\"url(#clip690)\" d=\"M83.5845 1111.83 L88.4688 1111.83 L88.4688 1117.71 L83.5845 1117.71 L83.5845 1111.83 Z\" fill=\"#000000\" fill-rule=\"evenodd\" fill-opacity=\"1\" /><path clip-path=\"url(#clip690)\" d=\"M98.7928 1116.99 L98.7928 1112.73 Q100.552 1113.56 102.358 1114 Q104.163 1114.44 105.899 1114.44 Q110.529 1114.44 112.959 1111.34 Q115.413 1108.21 115.76 1101.87 Q114.418 1103.86 112.358 1104.93 Q110.297 1105.99 107.797 1105.99 Q102.612 1105.99 99.5798 1102.87 Q96.5706 1099.72 96.5706 1094.28 Q96.5706 1088.96 99.7187 1085.74 Q102.867 1082.52 108.098 1082.52 Q114.094 1082.52 117.242 1087.13 Q120.413 1091.71 120.413 1100.46 Q120.413 1108.63 116.524 1113.52 Q112.658 1118.38 106.108 1118.38 Q104.348 1118.38 102.543 1118.03 Q100.737 1117.68 98.7928 1116.99 M108.098 1102.34 Q111.246 1102.34 113.075 1100.18 Q114.927 1098.03 114.927 1094.28 Q114.927 1090.55 113.075 1088.4 Q111.246 1086.22 108.098 1086.22 Q104.95 1086.22 103.098 1088.4 Q101.27 1090.55 101.27 1094.28 Q101.27 1098.03 103.098 1100.18 Q104.95 1102.34 108.098 1102.34 Z\" fill=\"#000000\" fill-rule=\"evenodd\" fill-opacity=\"1\" /><path clip-path=\"url(#clip690)\" d=\"M128.955 1116.99 L128.955 1112.73 Q130.714 1113.56 132.519 1114 Q134.325 1114.44 136.061 1114.44 Q140.691 1114.44 143.121 1111.34 Q145.575 1108.21 145.922 1101.87 Q144.58 1103.86 142.519 1104.93 Q140.459 1105.99 137.959 1105.99 Q132.774 1105.99 129.742 1102.87 Q126.732 1099.72 126.732 1094.28 Q126.732 1088.96 129.881 1085.74 Q133.029 1082.52 138.26 1082.52 Q144.256 1082.52 147.404 1087.13 Q150.575 1091.71 150.575 1100.46 Q150.575 1108.63 146.686 1113.52 Q142.82 1118.38 136.269 1118.38 Q134.51 1118.38 132.705 1118.03 Q130.899 1117.68 128.955 1116.99 M138.26 1102.34 Q141.408 1102.34 143.237 1100.18 Q145.089 1098.03 145.089 1094.28 Q145.089 1090.55 143.237 1088.4 Q141.408 1086.22 138.26 1086.22 Q135.112 1086.22 133.26 1088.4 Q131.432 1090.55 131.432 1094.28 Q131.432 1098.03 133.26 1100.18 Q135.112 1102.34 138.26 1102.34 Z\" fill=\"#000000\" fill-rule=\"evenodd\" fill-opacity=\"1\" /><path clip-path=\"url(#clip690)\" d=\"M159.117 1116.99 L159.117 1112.73 Q160.876 1113.56 162.681 1114 Q164.487 1114.44 166.223 1114.44 Q170.853 1114.44 173.283 1111.34 Q175.737 1108.21 176.084 1101.87 Q174.741 1103.86 172.681 1104.93 Q170.621 1105.99 168.121 1105.99 Q162.936 1105.99 159.904 1102.87 Q156.894 1099.72 156.894 1094.28 Q156.894 1088.96 160.042 1085.74 Q163.191 1082.52 168.422 1082.52 Q174.417 1082.52 177.566 1087.13 Q180.737 1091.71 180.737 1100.46 Q180.737 1108.63 176.848 1113.52 Q172.982 1118.38 166.431 1118.38 Q164.672 1118.38 162.867 1118.03 Q161.061 1117.68 159.117 1116.99 M168.422 1102.34 Q171.57 1102.34 173.399 1100.18 Q175.251 1098.03 175.251 1094.28 Q175.251 1090.55 173.399 1088.4 Q171.57 1086.22 168.422 1086.22 Q165.274 1086.22 163.422 1088.4 Q161.593 1090.55 161.593 1094.28 Q161.593 1098.03 163.422 1100.18 Q165.274 1102.34 168.422 1102.34 Z\" fill=\"#000000\" fill-rule=\"evenodd\" fill-opacity=\"1\" /><path clip-path=\"url(#clip690)\" d=\"M199.139 1086.22 Q195.528 1086.22 193.7 1089.79 Q191.894 1093.33 191.894 1100.46 Q191.894 1107.57 193.7 1111.13 Q195.528 1114.67 199.139 1114.67 Q202.774 1114.67 204.579 1111.13 Q206.408 1107.57 206.408 1100.46 Q206.408 1093.33 204.579 1089.79 Q202.774 1086.22 199.139 1086.22 M199.139 1082.52 Q204.95 1082.52 208.005 1087.13 Q211.084 1091.71 211.084 1100.46 Q211.084 1109.19 208.005 1113.79 Q204.95 1118.38 199.139 1118.38 Q193.329 1118.38 190.251 1113.79 Q187.195 1109.19 187.195 1100.46 Q187.195 1091.71 190.251 1087.13 Q193.329 1082.52 199.139 1082.52 Z\" fill=\"#000000\" fill-rule=\"evenodd\" fill-opacity=\"1\" /><path clip-path=\"url(#clip690)\" d=\"M65.0198 883.734 Q61.4087 883.734 59.58 887.299 Q57.7745 890.841 57.7745 897.97 Q57.7745 905.077 59.58 908.642 Q61.4087 912.183 65.0198 912.183 Q68.6541 912.183 70.4596 908.642 Q72.2883 905.077 72.2883 897.97 Q72.2883 890.841 70.4596 887.299 Q68.6541 883.734 65.0198 883.734 M65.0198 880.031 Q70.83 880.031 73.8855 884.637 Q76.9642 889.22 76.9642 897.97 Q76.9642 906.697 73.8855 911.304 Q70.83 915.887 65.0198 915.887 Q59.2097 915.887 56.131 911.304 Q53.0754 906.697 53.0754 897.97 Q53.0754 889.22 56.131 884.637 Q59.2097 880.031 65.0198 880.031 Z\" fill=\"#000000\" fill-rule=\"evenodd\" fill-opacity=\"1\" /><path clip-path=\"url(#clip690)\" d=\"M85.1818 909.336 L90.066 909.336 L90.066 915.216 L85.1818 915.216 L85.1818 909.336 Z\" fill=\"#000000\" fill-rule=\"evenodd\" fill-opacity=\"1\" /><path clip-path=\"url(#clip690)\" d=\"M100.39 914.498 L100.39 910.239 Q102.149 911.072 103.955 911.512 Q105.76 911.952 107.496 911.952 Q112.126 911.952 114.557 908.85 Q117.01 905.725 117.358 899.382 Q116.015 901.373 113.955 902.438 Q111.895 903.503 109.395 903.503 Q104.209 903.503 101.177 900.378 Q98.1678 897.23 98.1678 891.79 Q98.1678 886.466 101.316 883.248 Q104.464 880.031 109.696 880.031 Q115.691 880.031 118.839 884.637 Q122.01 889.22 122.01 897.97 Q122.01 906.142 118.121 911.026 Q114.256 915.887 107.705 915.887 Q105.946 915.887 104.14 915.54 Q102.334 915.193 100.39 914.498 M109.696 899.845 Q112.844 899.845 114.672 897.693 Q116.524 895.54 116.524 891.79 Q116.524 888.063 114.672 885.91 Q112.844 883.734 109.696 883.734 Q106.547 883.734 104.696 885.91 Q102.867 888.063 102.867 891.79 Q102.867 895.54 104.696 897.693 Q106.547 899.845 109.696 899.845 Z\" fill=\"#000000\" fill-rule=\"evenodd\" fill-opacity=\"1\" /><path clip-path=\"url(#clip690)\" d=\"M130.552 914.498 L130.552 910.239 Q132.311 911.072 134.117 911.512 Q135.922 911.952 137.658 911.952 Q142.288 911.952 144.718 908.85 Q147.172 905.725 147.519 899.382 Q146.177 901.373 144.117 902.438 Q142.056 903.503 139.556 903.503 Q134.371 903.503 131.339 900.378 Q128.33 897.23 128.33 891.79 Q128.33 886.466 131.478 883.248 Q134.626 880.031 139.857 880.031 Q145.853 880.031 149.001 884.637 Q152.172 889.22 152.172 897.97 Q152.172 906.142 148.283 911.026 Q144.418 915.887 137.867 915.887 Q136.107 915.887 134.302 915.54 Q132.496 915.193 130.552 914.498 M139.857 899.845 Q143.006 899.845 144.834 897.693 Q146.686 895.54 146.686 891.79 Q146.686 888.063 144.834 885.91 Q143.006 883.734 139.857 883.734 Q136.709 883.734 134.857 885.91 Q133.029 888.063 133.029 891.79 Q133.029 895.54 134.857 897.693 Q136.709 899.845 139.857 899.845 Z\" fill=\"#000000\" fill-rule=\"evenodd\" fill-opacity=\"1\" /><path clip-path=\"url(#clip690)\" d=\"M160.714 914.498 L160.714 910.239 Q162.473 911.072 164.279 911.512 Q166.084 911.952 167.82 911.952 Q172.45 911.952 174.88 908.85 Q177.334 905.725 177.681 899.382 Q176.339 901.373 174.279 902.438 Q172.218 903.503 169.718 903.503 Q164.533 903.503 161.501 900.378 Q158.492 897.23 158.492 891.79 Q158.492 886.466 161.64 883.248 Q164.788 880.031 170.019 880.031 Q176.015 880.031 179.163 884.637 Q182.334 889.22 182.334 897.97 Q182.334 906.142 178.445 911.026 Q174.579 915.887 168.029 915.887 Q166.269 915.887 164.464 915.54 Q162.658 915.193 160.714 914.498 M170.019 899.845 Q173.167 899.845 174.996 897.693 Q176.848 895.54 176.848 891.79 Q176.848 888.063 174.996 885.91 Q173.167 883.734 170.019 883.734 Q166.871 883.734 165.019 885.91 Q163.191 888.063 163.191 891.79 Q163.191 895.54 165.019 897.693 Q166.871 899.845 170.019 899.845 Z\" fill=\"#000000\" fill-rule=\"evenodd\" fill-opacity=\"1\" /><path clip-path=\"url(#clip690)\" d=\"M194.765 911.281 L211.084 911.281 L211.084 915.216 L189.14 915.216 L189.14 911.281 Q191.802 908.526 196.385 903.896 Q200.991 899.244 202.172 897.901 Q204.417 895.378 205.297 893.642 Q206.2 891.882 206.2 890.193 Q206.2 887.438 204.255 885.702 Q202.334 883.966 199.232 883.966 Q197.033 883.966 194.579 884.73 Q192.149 885.494 189.371 887.045 L189.371 882.322 Q192.195 881.188 194.649 880.609 Q197.102 880.031 199.139 880.031 Q204.51 880.031 207.704 882.716 Q210.899 885.401 210.899 889.892 Q210.899 892.021 210.088 893.943 Q209.301 895.841 207.195 898.433 Q206.616 899.105 203.514 902.322 Q200.413 905.517 194.765 911.281 Z\" fill=\"#000000\" fill-rule=\"evenodd\" fill-opacity=\"1\" /><path clip-path=\"url(#clip690)\" d=\"M62.9365 681.245 Q59.3254 681.245 57.4967 684.809 Q55.6912 688.351 55.6912 695.481 Q55.6912 702.587 57.4967 706.152 Q59.3254 709.693 62.9365 709.693 Q66.5707 709.693 68.3763 706.152 Q70.205 702.587 70.205 695.481 Q70.205 688.351 68.3763 684.809 Q66.5707 681.245 62.9365 681.245 M62.9365 677.541 Q68.7467 677.541 71.8022 682.147 Q74.8809 686.731 74.8809 695.481 Q74.8809 704.207 71.8022 708.814 Q68.7467 713.397 62.9365 713.397 Q57.1264 713.397 54.0477 708.814 Q50.9921 704.207 50.9921 695.481 Q50.9921 686.731 54.0477 682.147 Q57.1264 677.541 62.9365 677.541 Z\" fill=\"#000000\" fill-rule=\"evenodd\" fill-opacity=\"1\" /><path clip-path=\"url(#clip690)\" d=\"M83.0984 706.846 L87.9827 706.846 L87.9827 712.726 L83.0984 712.726 L83.0984 706.846 Z\" fill=\"#000000\" fill-rule=\"evenodd\" fill-opacity=\"1\" /><path clip-path=\"url(#clip690)\" d=\"M98.3067 712.008 L98.3067 707.749 Q100.066 708.582 101.871 709.022 Q103.677 709.462 105.413 709.462 Q110.043 709.462 112.473 706.36 Q114.927 703.235 115.274 696.893 Q113.932 698.883 111.871 699.948 Q109.811 701.013 107.311 701.013 Q102.126 701.013 99.0937 697.888 Q96.0845 694.74 96.0845 689.3 Q96.0845 683.976 99.2326 680.758 Q102.381 677.541 107.612 677.541 Q113.608 677.541 116.756 682.147 Q119.927 686.731 119.927 695.481 Q119.927 703.652 116.038 708.536 Q112.172 713.397 105.621 713.397 Q103.862 713.397 102.057 713.05 Q100.251 712.703 98.3067 712.008 M107.612 697.356 Q110.76 697.356 112.589 695.203 Q114.441 693.05 114.441 689.3 Q114.441 685.573 112.589 683.42 Q110.76 681.245 107.612 681.245 Q104.464 681.245 102.612 683.42 Q100.784 685.573 100.784 689.3 Q100.784 693.05 102.612 695.203 Q104.464 697.356 107.612 697.356 Z\" fill=\"#000000\" fill-rule=\"evenodd\" fill-opacity=\"1\" /><path clip-path=\"url(#clip690)\" d=\"M128.469 712.008 L128.469 707.749 Q130.228 708.582 132.033 709.022 Q133.839 709.462 135.575 709.462 Q140.205 709.462 142.635 706.36 Q145.089 703.235 145.436 696.893 Q144.093 698.883 142.033 699.948 Q139.973 701.013 137.473 701.013 Q132.288 701.013 129.256 697.888 Q126.246 694.74 126.246 689.3 Q126.246 683.976 129.394 680.758 Q132.543 677.541 137.774 677.541 Q143.769 677.541 146.918 682.147 Q150.089 686.731 150.089 695.481 Q150.089 703.652 146.2 708.536 Q142.334 713.397 135.783 713.397 Q134.024 713.397 132.219 713.05 Q130.413 712.703 128.469 712.008 M137.774 697.356 Q140.922 697.356 142.751 695.203 Q144.603 693.05 144.603 689.3 Q144.603 685.573 142.751 683.42 Q140.922 681.245 137.774 681.245 Q134.626 681.245 132.774 683.42 Q130.945 685.573 130.945 689.3 Q130.945 693.05 132.774 695.203 Q134.626 697.356 137.774 697.356 Z\" fill=\"#000000\" fill-rule=\"evenodd\" fill-opacity=\"1\" /><path clip-path=\"url(#clip690)\" d=\"M158.63 712.008 L158.63 707.749 Q160.39 708.582 162.195 709.022 Q164.001 709.462 165.737 709.462 Q170.366 709.462 172.797 706.36 Q175.251 703.235 175.598 696.893 Q174.255 698.883 172.195 699.948 Q170.135 701.013 167.635 701.013 Q162.45 701.013 159.417 697.888 Q156.408 694.74 156.408 689.3 Q156.408 683.976 159.556 680.758 Q162.704 677.541 167.936 677.541 Q173.931 677.541 177.079 682.147 Q180.251 686.731 180.251 695.481 Q180.251 703.652 176.362 708.536 Q172.496 713.397 165.945 713.397 Q164.186 713.397 162.38 713.05 Q160.575 712.703 158.63 712.008 M167.936 697.356 Q171.084 697.356 172.913 695.203 Q174.765 693.05 174.765 689.3 Q174.765 685.573 172.913 683.42 Q171.084 681.245 167.936 681.245 Q164.788 681.245 162.936 683.42 Q161.107 685.573 161.107 689.3 Q161.107 693.05 162.936 695.203 Q164.788 697.356 167.936 697.356 Z\" fill=\"#000000\" fill-rule=\"evenodd\" fill-opacity=\"1\" /><path clip-path=\"url(#clip690)\" d=\"M201.501 682.24 L189.695 700.689 L201.501 700.689 L201.501 682.24 M200.274 678.166 L206.153 678.166 L206.153 700.689 L211.084 700.689 L211.084 704.578 L206.153 704.578 L206.153 712.726 L201.501 712.726 L201.501 704.578 L185.899 704.578 L185.899 700.064 L200.274 678.166 Z\" fill=\"#000000\" fill-rule=\"evenodd\" fill-opacity=\"1\" /><path clip-path=\"url(#clip690)\" d=\"M63.2606 478.755 Q59.6495 478.755 57.8208 482.319 Q56.0152 485.861 56.0152 492.991 Q56.0152 500.097 57.8208 503.662 Q59.6495 507.204 63.2606 507.204 Q66.8948 507.204 68.7004 503.662 Q70.5291 500.097 70.5291 492.991 Q70.5291 485.861 68.7004 482.319 Q66.8948 478.755 63.2606 478.755 M63.2606 475.051 Q69.0707 475.051 72.1263 479.657 Q75.205 484.241 75.205 492.991 Q75.205 501.718 72.1263 506.324 Q69.0707 510.907 63.2606 510.907 Q57.4504 510.907 54.3717 506.324 Q51.3162 501.718 51.3162 492.991 Q51.3162 484.241 54.3717 479.657 Q57.4504 475.051 63.2606 475.051 Z\" fill=\"#000000\" fill-rule=\"evenodd\" fill-opacity=\"1\" /><path clip-path=\"url(#clip690)\" d=\"M83.4225 504.356 L88.3067 504.356 L88.3067 510.236 L83.4225 510.236 L83.4225 504.356 Z\" fill=\"#000000\" fill-rule=\"evenodd\" fill-opacity=\"1\" /><path clip-path=\"url(#clip690)\" d=\"M98.6308 509.518 L98.6308 505.259 Q100.39 506.092 102.196 506.532 Q104.001 506.972 105.737 506.972 Q110.367 506.972 112.797 503.87 Q115.251 500.745 115.598 494.403 Q114.256 496.393 112.196 497.458 Q110.135 498.523 107.635 498.523 Q102.45 498.523 99.4178 495.398 Q96.4085 492.25 96.4085 486.81 Q96.4085 481.486 99.5567 478.269 Q102.705 475.051 107.936 475.051 Q113.932 475.051 117.08 479.657 Q120.251 484.241 120.251 492.991 Q120.251 501.162 116.362 506.046 Q112.496 510.907 105.946 510.907 Q104.186 510.907 102.381 510.56 Q100.575 510.213 98.6308 509.518 M107.936 494.866 Q111.084 494.866 112.913 492.713 Q114.765 490.56 114.765 486.81 Q114.765 483.083 112.913 480.931 Q111.084 478.755 107.936 478.755 Q104.788 478.755 102.936 480.931 Q101.108 483.083 101.108 486.81 Q101.108 490.56 102.936 492.713 Q104.788 494.866 107.936 494.866 Z\" fill=\"#000000\" fill-rule=\"evenodd\" fill-opacity=\"1\" /><path clip-path=\"url(#clip690)\" d=\"M128.793 509.518 L128.793 505.259 Q130.552 506.092 132.357 506.532 Q134.163 506.972 135.899 506.972 Q140.529 506.972 142.959 503.87 Q145.413 500.745 145.76 494.403 Q144.418 496.393 142.357 497.458 Q140.297 498.523 137.797 498.523 Q132.612 498.523 129.58 495.398 Q126.57 492.25 126.57 486.81 Q126.57 481.486 129.719 478.269 Q132.867 475.051 138.098 475.051 Q144.093 475.051 147.242 479.657 Q150.413 484.241 150.413 492.991 Q150.413 501.162 146.524 506.046 Q142.658 510.907 136.107 510.907 Q134.348 510.907 132.543 510.56 Q130.737 510.213 128.793 509.518 M138.098 494.866 Q141.246 494.866 143.075 492.713 Q144.927 490.56 144.927 486.81 Q144.927 483.083 143.075 480.931 Q141.246 478.755 138.098 478.755 Q134.95 478.755 133.098 480.931 Q131.269 483.083 131.269 486.81 Q131.269 490.56 133.098 492.713 Q134.95 494.866 138.098 494.866 Z\" fill=\"#000000\" fill-rule=\"evenodd\" fill-opacity=\"1\" /><path clip-path=\"url(#clip690)\" d=\"M158.955 509.518 L158.955 505.259 Q160.714 506.092 162.519 506.532 Q164.325 506.972 166.061 506.972 Q170.691 506.972 173.121 503.87 Q175.575 500.745 175.922 494.403 Q174.579 496.393 172.519 497.458 Q170.459 498.523 167.959 498.523 Q162.774 498.523 159.742 495.398 Q156.732 492.25 156.732 486.81 Q156.732 481.486 159.88 478.269 Q163.029 475.051 168.26 475.051 Q174.255 475.051 177.403 479.657 Q180.575 484.241 180.575 492.991 Q180.575 501.162 176.686 506.046 Q172.82 510.907 166.269 510.907 Q164.51 510.907 162.704 510.56 Q160.899 510.213 158.955 509.518 M168.26 494.866 Q171.408 494.866 173.237 492.713 Q175.089 490.56 175.089 486.81 Q175.089 483.083 173.237 480.931 Q171.408 478.755 168.26 478.755 Q165.112 478.755 163.26 480.931 Q161.431 483.083 161.431 486.81 Q161.431 490.56 163.26 492.713 Q165.112 494.866 168.26 494.866 Z\" fill=\"#000000\" fill-rule=\"evenodd\" fill-opacity=\"1\" /><path clip-path=\"url(#clip690)\" d=\"M199.556 491.093 Q196.408 491.093 194.556 493.245 Q192.727 495.398 192.727 499.148 Q192.727 502.875 194.556 505.051 Q196.408 507.204 199.556 507.204 Q202.704 507.204 204.533 505.051 Q206.385 502.875 206.385 499.148 Q206.385 495.398 204.533 493.245 Q202.704 491.093 199.556 491.093 M208.839 476.44 L208.839 480.699 Q207.079 479.866 205.274 479.426 Q203.491 478.986 201.732 478.986 Q197.102 478.986 194.649 482.111 Q192.218 485.236 191.871 491.556 Q193.237 489.542 195.297 488.477 Q197.357 487.389 199.834 487.389 Q205.042 487.389 208.051 490.56 Q211.084 493.708 211.084 499.148 Q211.084 504.472 207.936 507.69 Q204.788 510.907 199.556 510.907 Q193.561 510.907 190.39 506.324 Q187.218 501.718 187.218 492.991 Q187.218 484.796 191.107 479.935 Q194.996 475.051 201.547 475.051 Q203.306 475.051 205.089 475.398 Q206.894 475.745 208.839 476.44 Z\" fill=\"#000000\" fill-rule=\"evenodd\" fill-opacity=\"1\" /><path clip-path=\"url(#clip690)\" d=\"M63.5152 276.265 Q59.9041 276.265 58.0754 279.83 Q56.2699 283.371 56.2699 290.501 Q56.2699 297.607 58.0754 301.172 Q59.9041 304.714 63.5152 304.714 Q67.1494 304.714 68.955 301.172 Q70.7837 297.607 70.7837 290.501 Q70.7837 283.371 68.955 279.83 Q67.1494 276.265 63.5152 276.265 M63.5152 272.561 Q69.3254 272.561 72.3809 277.168 Q75.4596 281.751 75.4596 290.501 Q75.4596 299.228 72.3809 303.834 Q69.3254 308.417 63.5152 308.417 Q57.7051 308.417 54.6264 303.834 Q51.5708 299.228 51.5708 290.501 Q51.5708 281.751 54.6264 277.168 Q57.7051 272.561 63.5152 272.561 Z\" fill=\"#000000\" fill-rule=\"evenodd\" fill-opacity=\"1\" /><path clip-path=\"url(#clip690)\" d=\"M83.6771 301.867 L88.5614 301.867 L88.5614 307.746 L83.6771 307.746 L83.6771 301.867 Z\" fill=\"#000000\" fill-rule=\"evenodd\" fill-opacity=\"1\" /><path clip-path=\"url(#clip690)\" d=\"M98.8854 307.029 L98.8854 302.769 Q100.645 303.603 102.45 304.042 Q104.256 304.482 105.992 304.482 Q110.621 304.482 113.052 301.38 Q115.506 298.255 115.853 291.913 Q114.51 293.904 112.45 294.968 Q110.39 296.033 107.89 296.033 Q102.705 296.033 99.6724 292.908 Q96.6632 289.76 96.6632 284.32 Q96.6632 278.996 99.8113 275.779 Q102.959 272.561 108.191 272.561 Q114.186 272.561 117.334 277.168 Q120.506 281.751 120.506 290.501 Q120.506 298.672 116.617 303.556 Q112.751 308.417 106.2 308.417 Q104.441 308.417 102.635 308.07 Q100.83 307.723 98.8854 307.029 M108.191 292.376 Q111.339 292.376 113.168 290.223 Q115.02 288.07 115.02 284.32 Q115.02 280.594 113.168 278.441 Q111.339 276.265 108.191 276.265 Q105.043 276.265 103.191 278.441 Q101.362 280.594 101.362 284.32 Q101.362 288.07 103.191 290.223 Q105.043 292.376 108.191 292.376 Z\" fill=\"#000000\" fill-rule=\"evenodd\" fill-opacity=\"1\" /><path clip-path=\"url(#clip690)\" d=\"M129.047 307.029 L129.047 302.769 Q130.807 303.603 132.612 304.042 Q134.418 304.482 136.154 304.482 Q140.783 304.482 143.214 301.38 Q145.668 298.255 146.015 291.913 Q144.672 293.904 142.612 294.968 Q140.552 296.033 138.052 296.033 Q132.867 296.033 129.834 292.908 Q126.825 289.76 126.825 284.32 Q126.825 278.996 129.973 275.779 Q133.121 272.561 138.353 272.561 Q144.348 272.561 147.496 277.168 Q150.668 281.751 150.668 290.501 Q150.668 298.672 146.779 303.556 Q142.913 308.417 136.362 308.417 Q134.603 308.417 132.797 308.07 Q130.992 307.723 129.047 307.029 M138.353 292.376 Q141.501 292.376 143.33 290.223 Q145.181 288.07 145.181 284.32 Q145.181 280.594 143.33 278.441 Q141.501 276.265 138.353 276.265 Q135.205 276.265 133.353 278.441 Q131.524 280.594 131.524 284.32 Q131.524 288.07 133.353 290.223 Q135.205 292.376 138.353 292.376 Z\" fill=\"#000000\" fill-rule=\"evenodd\" fill-opacity=\"1\" /><path clip-path=\"url(#clip690)\" d=\"M159.209 307.029 L159.209 302.769 Q160.968 303.603 162.774 304.042 Q164.579 304.482 166.316 304.482 Q170.945 304.482 173.376 301.38 Q175.829 298.255 176.177 291.913 Q174.834 293.904 172.774 294.968 Q170.714 296.033 168.214 296.033 Q163.029 296.033 159.996 292.908 Q156.987 289.76 156.987 284.32 Q156.987 278.996 160.135 275.779 Q163.283 272.561 168.515 272.561 Q174.51 272.561 177.658 277.168 Q180.829 281.751 180.829 290.501 Q180.829 298.672 176.941 303.556 Q173.075 308.417 166.524 308.417 Q164.765 308.417 162.959 308.07 Q161.154 307.723 159.209 307.029 M168.515 292.376 Q171.663 292.376 173.491 290.223 Q175.343 288.07 175.343 284.32 Q175.343 280.594 173.491 278.441 Q171.663 276.265 168.515 276.265 Q165.367 276.265 163.515 278.441 Q161.686 280.594 161.686 284.32 Q161.686 288.07 163.515 290.223 Q165.367 292.376 168.515 292.376 Z\" fill=\"#000000\" fill-rule=\"evenodd\" fill-opacity=\"1\" /><path clip-path=\"url(#clip690)\" d=\"M199.232 291.334 Q195.899 291.334 193.977 293.117 Q192.079 294.899 192.079 298.024 Q192.079 301.149 193.977 302.931 Q195.899 304.714 199.232 304.714 Q202.565 304.714 204.487 302.931 Q206.408 301.126 206.408 298.024 Q206.408 294.899 204.487 293.117 Q202.589 291.334 199.232 291.334 M194.556 289.343 Q191.547 288.603 189.857 286.543 Q188.19 284.482 188.19 281.519 Q188.19 277.376 191.13 274.969 Q194.093 272.561 199.232 272.561 Q204.394 272.561 207.334 274.969 Q210.274 277.376 210.274 281.519 Q210.274 284.482 208.584 286.543 Q206.917 288.603 203.931 289.343 Q207.311 290.13 209.186 292.422 Q211.084 294.714 211.084 298.024 Q211.084 303.047 208.005 305.732 Q204.95 308.417 199.232 308.417 Q193.515 308.417 190.436 305.732 Q187.38 303.047 187.38 298.024 Q187.38 294.714 189.278 292.422 Q191.177 290.13 194.556 289.343 M192.843 281.959 Q192.843 284.644 194.51 286.149 Q196.2 287.654 199.232 287.654 Q202.241 287.654 203.931 286.149 Q205.644 284.644 205.644 281.959 Q205.644 279.274 203.931 277.769 Q202.241 276.265 199.232 276.265 Q196.2 276.265 194.51 277.769 Q192.843 279.274 192.843 281.959 Z\" fill=\"#000000\" fill-rule=\"evenodd\" fill-opacity=\"1\" /><path clip-path=\"url(#clip690)\" d=\"M54.2328 101.321 L61.8717 101.321 L61.8717 74.9555 L53.5616 76.6222 L53.5616 72.3629 L61.8254 70.6963 L66.5013 70.6963 L66.5013 101.321 L74.1402 101.321 L74.1402 105.256 L54.2328 105.256 L54.2328 101.321 Z\" fill=\"#000000\" fill-rule=\"evenodd\" fill-opacity=\"1\" /><path clip-path=\"url(#clip690)\" d=\"M83.5845 99.3767 L88.4688 99.3767 L88.4688 105.256 L83.5845 105.256 L83.5845 99.3767 Z\" fill=\"#000000\" fill-rule=\"evenodd\" fill-opacity=\"1\" /><path clip-path=\"url(#clip690)\" d=\"M108.654 73.775 Q105.043 73.775 103.214 77.3398 Q101.409 80.8814 101.409 88.011 Q101.409 95.1174 103.214 98.6822 Q105.043 102.224 108.654 102.224 Q112.288 102.224 114.094 98.6822 Q115.922 95.1174 115.922 88.011 Q115.922 80.8814 114.094 77.3398 Q112.288 73.775 108.654 73.775 M108.654 70.0713 Q114.464 70.0713 117.52 74.6777 Q120.598 79.261 120.598 88.011 Q120.598 96.7378 117.52 101.344 Q114.464 105.928 108.654 105.928 Q102.844 105.928 99.765 101.344 Q96.7095 96.7378 96.7095 88.011 Q96.7095 79.261 99.765 74.6777 Q102.844 70.0713 108.654 70.0713 Z\" fill=\"#000000\" fill-rule=\"evenodd\" fill-opacity=\"1\" /><path clip-path=\"url(#clip690)\" d=\"M138.816 73.775 Q135.205 73.775 133.376 77.3398 Q131.57 80.8814 131.57 88.011 Q131.57 95.1174 133.376 98.6822 Q135.205 102.224 138.816 102.224 Q142.45 102.224 144.256 98.6822 Q146.084 95.1174 146.084 88.011 Q146.084 80.8814 144.256 77.3398 Q142.45 73.775 138.816 73.775 M138.816 70.0713 Q144.626 70.0713 147.681 74.6777 Q150.76 79.261 150.76 88.011 Q150.76 96.7378 147.681 101.344 Q144.626 105.928 138.816 105.928 Q133.006 105.928 129.927 101.344 Q126.871 96.7378 126.871 88.011 Q126.871 79.261 129.927 74.6777 Q133.006 70.0713 138.816 70.0713 Z\" fill=\"#000000\" fill-rule=\"evenodd\" fill-opacity=\"1\" /><path clip-path=\"url(#clip690)\" d=\"M168.978 73.775 Q165.367 73.775 163.538 77.3398 Q161.732 80.8814 161.732 88.011 Q161.732 95.1174 163.538 98.6822 Q165.367 102.224 168.978 102.224 Q172.612 102.224 174.417 98.6822 Q176.246 95.1174 176.246 88.011 Q176.246 80.8814 174.417 77.3398 Q172.612 73.775 168.978 73.775 M168.978 70.0713 Q174.788 70.0713 177.843 74.6777 Q180.922 79.261 180.922 88.011 Q180.922 96.7378 177.843 101.344 Q174.788 105.928 168.978 105.928 Q163.167 105.928 160.089 101.344 Q157.033 96.7378 157.033 88.011 Q157.033 79.261 160.089 74.6777 Q163.167 70.0713 168.978 70.0713 Z\" fill=\"#000000\" fill-rule=\"evenodd\" fill-opacity=\"1\" /><path clip-path=\"url(#clip690)\" d=\"M199.139 73.775 Q195.528 73.775 193.7 77.3398 Q191.894 80.8814 191.894 88.011 Q191.894 95.1174 193.7 98.6822 Q195.528 102.224 199.139 102.224 Q202.774 102.224 204.579 98.6822 Q206.408 95.1174 206.408 88.011 Q206.408 80.8814 204.579 77.3398 Q202.774 73.775 199.139 73.775 M199.139 70.0713 Q204.95 70.0713 208.005 74.6777 Q211.084 79.261 211.084 88.011 Q211.084 96.7378 208.005 101.344 Q204.95 105.928 199.139 105.928 Q193.329 105.928 190.251 101.344 Q187.195 96.7378 187.195 88.011 Q187.195 79.261 190.251 74.6777 Q193.329 70.0713 199.139 70.0713 Z\" fill=\"#000000\" fill-rule=\"evenodd\" fill-opacity=\"1\" /><polyline clip-path=\"url(#clip692)\" style=\"stroke:#009af9; stroke-linecap:round; stroke-linejoin:round; stroke-width:4; stroke-opacity:1; fill:none\" points=\"\n",
       "  306.678,87.9763 311.811,88.3313 316.944,89.344 322.077,90.9353 327.21,93.0265 332.344,95.5403 337.477,98.4016 342.61,101.538 347.743,104.882 352.876,108.37 \n",
       "  358.009,111.945 363.142,115.552 368.275,119.148 373.408,122.692 378.541,126.152 383.674,129.503 388.807,132.726 393.94,135.81 399.073,138.749 404.206,141.547 \n",
       "  409.339,144.212 414.472,146.757 419.605,149.203 424.738,151.574 429.871,153.897 435.004,156.203 440.137,158.524 445.27,160.894 450.403,163.345 455.536,165.907 \n",
       "  460.669,168.606 465.802,171.465 470.935,174.499 476.068,177.718 481.201,181.122 486.334,184.704 491.467,188.448 496.601,192.326 501.734,196.304 506.867,200.339 \n",
       "  512,204.38 517.133,208.37 522.266,212.248 527.399,215.948 532.532,219.406 537.665,222.558 542.798,225.342 547.931,227.704 553.064,229.593 558.197,230.972 \n",
       "  563.33,231.808 568.463,232.084 573.596,231.791 578.729,230.935 583.862,229.53 588.995,227.602 594.128,225.189 599.261,222.333 604.394,219.086 609.527,215.504 \n",
       "  614.66,211.648 619.793,207.577 624.926,203.354 630.059,199.036 635.192,194.679 640.325,190.334 645.458,186.046 650.591,181.854 655.724,177.793 660.858,173.887 \n",
       "  665.991,170.157 671.124,166.619 676.257,163.28 681.39,160.148 686.523,157.225 691.656,154.509 696.789,152 701.922,149.697 707.055,147.596 712.188,145.697 \n",
       "  717.321,144 722.454,142.508 727.587,141.223 732.72,140.151 737.853,139.297 742.986,138.669 748.119,138.274 753.252,138.12 758.385,138.213 763.518,138.561 \n",
       "  768.651,139.167 773.784,140.033 778.917,141.162 784.05,142.55 789.183,144.194 794.316,146.087 799.449,148.221 804.582,150.586 809.715,153.171 814.848,155.961 \n",
       "  819.981,158.943 825.115,162.103 830.248,165.427 835.381,168.9 840.514,172.507 845.647,176.235 850.78,180.071 855.913,184.002 861.046,188.016 866.179,192.102 \n",
       "  871.312,196.246 876.445,200.439 881.578,204.669 886.711,208.925 891.844,213.196 896.977,217.47 902.11,221.737 907.243,225.987 912.376,230.209 917.509,234.394 \n",
       "  922.642,238.533 927.775,242.617 932.908,246.64 938.041,250.597 943.174,254.482 948.307,258.291 953.44,262.022 958.573,265.673 963.706,269.24 968.839,272.723 \n",
       "  973.972,276.118 979.105,279.423 984.238,282.632 989.371,285.74 994.505,288.739 999.638,291.618 1004.77,294.366 1009.9,296.97 1015.04,299.415 1020.17,301.685 \n",
       "  1025.3,303.764 1030.44,305.637 1035.57,307.288 1040.7,308.706 1045.83,309.881 1050.97,310.807 1056.1,311.483 1061.23,311.913 1066.37,312.106 1071.5,312.078 \n",
       "  1076.63,311.849 1081.77,311.446 1086.9,310.901 1092.03,310.251 1097.17,309.535 1102.3,308.796 1107.43,308.078 1112.56,307.427 1117.7,306.886 1122.83,306.497 \n",
       "  1127.96,306.299 1133.1,306.327 1138.23,306.612 1143.36,307.179 1148.5,308.046 1153.63,309.228 1158.76,310.732 1163.89,312.56 1169.03,314.711 1174.16,317.177 \n",
       "  1179.29,319.947 1184.43,323.008 1189.56,326.344 1194.69,329.938 1199.83,333.774 1204.96,337.833 1210.09,342.1 1215.22,346.56 1220.36,351.197 1225.49,356.001 \n",
       "  1230.62,360.96 1235.76,366.065 1240.89,371.308 1246.02,376.681 1251.16,382.178 1256.29,387.792 1261.42,393.515 1266.56,399.34 1271.69,405.259 1276.82,411.262 \n",
       "  1281.95,417.338 1287.09,423.475 1292.22,429.661 1297.35,435.883 1302.49,442.126 1307.62,448.376 1312.75,454.619 1317.89,460.842 1323.02,467.033 1328.15,473.18 \n",
       "  1333.28,479.274 1338.42,485.305 1343.55,491.268 1348.68,497.159 1353.82,502.973 1358.95,508.709 1364.08,514.367 1369.22,519.948 1374.35,525.453 1379.48,530.883 \n",
       "  1384.61,536.241 1389.75,541.529 1394.88,546.749 1400.01,551.902 1405.15,556.99 1410.28,562.012 1415.41,566.97 1420.55,571.863 1425.68,576.69 1430.81,581.45 \n",
       "  1435.95,586.142 1441.08,590.764 1446.21,595.317 1451.34,599.796 1456.48,604.202 1461.61,608.53 1466.74,612.779 1471.88,616.946 1477.01,621.024 1482.14,625.01 \n",
       "  1487.28,628.895 1492.41,632.672 1497.54,636.331 1502.67,639.861 1507.81,643.25 1512.94,646.484 1518.07,649.551 1523.21,652.435 1528.34,655.123 1533.47,657.604 \n",
       "  1538.61,659.867 1543.74,661.903 1548.87,663.71 1554,665.285 1559.14,666.632 1564.27,667.762 1569.4,668.686 1574.54,669.426 1579.67,670.004 1584.8,670.452 \n",
       "  1589.94,670.802 1595.07,671.092 1600.2,671.364 1605.34,671.661 1610.47,672.027 1615.6,672.507 1620.73,673.144 1625.87,673.98 1631,675.056 1636.13,676.405 \n",
       "  1641.27,678.06 1646.4,680.048 1651.53,682.389 1656.67,685.1 1661.8,688.193 1666.93,691.674 1672.06,695.543 1677.2,699.798 1682.33,704.434 1687.46,709.439 \n",
       "  1692.6,714.803 1697.73,720.511 1702.86,726.548 1708,732.898 1713.13,739.544 1718.26,746.471 1723.39,753.662 1728.53,761.102 1733.66,768.774 1738.79,776.663 \n",
       "  1743.93,784.756 1749.06,793.036 1754.19,801.49 1759.33,810.101 1764.46,818.856 1769.59,827.737 1774.73,836.729 1779.86,845.816 1784.99,854.979 1790.12,864.203 \n",
       "  1795.26,873.47 1800.39,882.763 1805.52,892.066 1810.66,901.365 1815.79,910.644 1820.92,919.891 1826.06,929.096 1831.19,938.249 1836.32,947.343 1841.45,956.373 \n",
       "  1846.59,965.335 1851.72,974.227 1856.85,983.05 1861.99,991.803 1867.12,1000.49 1872.25,1009.11 1877.39,1017.66 1882.52,1026.15 1887.65,1034.58 1892.78,1042.95 \n",
       "  1897.92,1051.26 1903.05,1059.5 1908.18,1067.68 1913.32,1075.79 1918.45,1083.82 1923.58,1091.77 1928.72,1099.64 1933.85,1107.41 1938.98,1115.08 1944.12,1122.64 \n",
       "  1949.25,1130.08 1954.38,1137.4 1959.51,1144.59 1964.65,1151.64 1969.78,1158.54 1974.91,1165.3 1980.05,1171.89 1985.18,1178.32 1990.31,1184.57 1995.45,1190.64 \n",
       "  2000.58,1196.51 2005.71,1202.18 2010.84,1207.65 2015.98,1212.89 2021.11,1217.89 2026.24,1222.66 2031.38,1227.17 2036.51,1231.43 2041.64,1235.41 2046.78,1239.13 \n",
       "  2051.91,1242.56 2057.04,1245.73 2062.18,1248.63 2067.31,1251.27 2072.44,1253.66 2077.57,1255.82 2082.71,1257.77 2087.84,1259.53 2092.97,1261.14 2098.11,1262.63 \n",
       "  2103.24,1264.03 2108.37,1265.38 2113.51,1266.71 2118.64,1268.08 2123.77,1269.5 2128.9,1271.02 2134.04,1272.69 2139.17,1274.52 2144.3,1276.55 2149.44,1278.81 \n",
       "  2154.57,1281.31 2159.7,1284.09 2164.84,1287.15 2169.97,1290.5 2175.1,1294.15 2180.23,1298.11 2185.37,1302.37 2190.5,1306.93 2195.63,1311.79 2200.77,1316.95 \n",
       "  2205.9,1322.38 2211.03,1328.09 2216.17,1334.06 2221.3,1340.28 2226.43,1346.73 2231.57,1353.41 2236.7,1360.3 2241.83,1367.38 2246.96,1374.65 2252.1,1382.08 \n",
       "  2257.23,1389.66 2262.36,1397.39 2267.5,1405.23 2272.63,1413.17 2277.76,1421.21 2282.9,1429.32 2288.03,1437.5 2293.16,1445.72 \n",
       "  \"/>\n",
       "<polyline clip-path=\"url(#clip692)\" style=\"stroke:#e26f46; stroke-linecap:round; stroke-linejoin:round; stroke-width:4; stroke-opacity:1; fill:none\" points=\"\n",
       "  306.678,87.9763 311.811,87.9763 316.944,87.9763 322.077,87.9763 327.21,87.9763 332.344,87.9763 337.477,87.9763 342.61,87.9763 347.743,87.9763 352.876,87.9763 \n",
       "  358.009,87.9763 363.142,87.9763 368.275,87.9763 373.408,87.9763 378.541,87.9763 383.674,87.9763 388.807,87.9763 393.94,87.9763 399.073,87.9763 404.206,87.9763 \n",
       "  409.339,87.9763 414.472,87.9763 419.605,87.9763 424.738,87.9763 429.871,87.9763 435.004,87.9763 440.137,87.9763 445.27,87.9763 450.403,87.9763 455.536,87.9763 \n",
       "  460.669,87.9763 465.802,87.9763 470.935,87.9763 476.068,87.9763 481.201,87.9763 486.334,87.9763 491.467,87.9763 496.601,87.9763 501.734,87.9763 506.867,87.9763 \n",
       "  512,87.9763 517.133,87.9763 522.266,87.9763 527.399,87.9763 532.532,87.9763 537.665,87.9763 542.798,87.9763 547.931,87.9763 553.064,87.9763 558.197,87.9763 \n",
       "  563.33,87.9763 568.463,87.9763 573.596,87.9763 578.729,87.9763 583.862,87.9763 588.995,87.9763 594.128,87.9763 599.261,87.9763 604.394,87.9763 609.527,87.9763 \n",
       "  614.66,87.9763 619.793,87.9763 624.926,87.9763 630.059,87.9763 635.192,87.9763 640.325,87.9763 645.458,87.9763 650.591,87.9763 655.724,87.9763 660.858,87.9763 \n",
       "  665.991,87.9763 671.124,87.9763 676.257,87.9763 681.39,87.9763 686.523,87.9763 691.656,87.9763 696.789,87.9763 701.922,87.9763 707.055,87.9763 712.188,87.9763 \n",
       "  717.321,87.9763 722.454,87.9763 727.587,87.9763 732.72,87.9763 737.853,87.9763 742.986,87.9763 748.119,87.9763 753.252,87.9763 758.385,87.9763 763.518,87.9763 \n",
       "  768.651,87.9763 773.784,87.9763 778.917,87.9763 784.05,87.9763 789.183,87.9763 794.316,87.9763 799.449,87.9763 804.582,87.9763 809.715,87.9763 814.848,87.9763 \n",
       "  819.981,87.9763 825.115,87.9763 830.248,87.9763 835.381,87.9763 840.514,87.9763 845.647,87.9763 850.78,87.9763 855.913,87.9763 861.046,87.9763 866.179,87.9763 \n",
       "  871.312,87.9763 876.445,87.9763 881.578,87.9763 886.711,87.9763 891.844,87.9763 896.977,87.9763 902.11,87.9763 907.243,87.9763 912.376,87.9763 917.509,87.9763 \n",
       "  922.642,87.9763 927.775,87.9763 932.908,87.9763 938.041,87.9763 943.174,87.9763 948.307,87.9763 953.44,87.9763 958.573,87.9763 963.706,87.9763 968.839,87.9763 \n",
       "  973.972,87.9763 979.105,87.9763 984.238,87.9763 989.371,87.9763 994.505,87.9763 999.638,87.9763 1004.77,87.9763 1009.9,87.9763 1015.04,87.9763 1020.17,87.9763 \n",
       "  1025.3,87.9763 1030.44,87.9763 1035.57,87.9763 1040.7,87.9763 1045.83,87.9763 1050.97,87.9763 1056.1,87.9763 1061.23,87.9763 1066.37,87.9763 1071.5,87.9763 \n",
       "  1076.63,87.9763 1081.77,87.9763 1086.9,87.9763 1092.03,87.9763 1097.17,87.9763 1102.3,87.9763 1107.43,87.9763 1112.56,87.9763 1117.7,87.9763 1122.83,87.9763 \n",
       "  1127.96,87.9763 1133.1,87.9763 1138.23,87.9763 1143.36,87.9763 1148.5,87.9763 1153.63,87.9763 1158.76,87.9763 1163.89,87.9763 1169.03,87.9763 1174.16,87.9763 \n",
       "  1179.29,87.9763 1184.43,87.9763 1189.56,87.9763 1194.69,87.9763 1199.83,87.9763 1204.96,87.9763 1210.09,87.9763 1215.22,87.9763 1220.36,87.9763 1225.49,87.9763 \n",
       "  1230.62,87.9763 1235.76,87.9763 1240.89,87.9763 1246.02,87.9763 1251.16,87.9763 1256.29,87.9763 1261.42,87.9763 1266.56,87.9763 1271.69,87.9763 1276.82,87.9763 \n",
       "  1281.95,87.9763 1287.09,87.9763 1292.22,87.9763 1297.35,87.9763 1302.49,87.9763 1307.62,87.9763 1312.75,87.9763 1317.89,87.9763 1323.02,87.9763 1328.15,87.9763 \n",
       "  1333.28,87.9763 1338.42,87.9763 1343.55,87.9763 1348.68,87.9763 1353.82,87.9763 1358.95,87.9763 1364.08,87.9763 1369.22,87.9763 1374.35,87.9763 1379.48,87.9763 \n",
       "  1384.61,87.9763 1389.75,87.9763 1394.88,87.9763 1400.01,87.9763 1405.15,87.9763 1410.28,87.9763 1415.41,87.9763 1420.55,87.9763 1425.68,87.9763 1430.81,87.9763 \n",
       "  1435.95,87.9763 1441.08,87.9763 1446.21,87.9763 1451.34,87.9763 1456.48,87.9763 1461.61,87.9763 1466.74,87.9763 1471.88,87.9763 1477.01,87.9763 1482.14,87.9763 \n",
       "  1487.28,87.9763 1492.41,87.9763 1497.54,87.9763 1502.67,87.9763 1507.81,87.9763 1512.94,87.9763 1518.07,87.9763 1523.21,87.9763 1528.34,87.9763 1533.47,87.9763 \n",
       "  1538.61,87.9763 1543.74,87.9763 1548.87,87.9763 1554,87.9763 1559.14,87.9763 1564.27,87.9763 1569.4,87.9763 1574.54,87.9763 1579.67,87.9763 1584.8,87.9763 \n",
       "  1589.94,87.9763 1595.07,87.9763 1600.2,87.9763 1605.34,87.9763 1610.47,87.9763 1615.6,87.9763 1620.73,87.9763 1625.87,87.9763 1631,87.9763 1636.13,87.9763 \n",
       "  1641.27,87.9763 1646.4,87.9763 1651.53,87.9763 1656.67,87.9763 1661.8,87.9763 1666.93,87.9763 1672.06,87.9763 1677.2,87.9763 1682.33,87.9763 1687.46,87.9763 \n",
       "  1692.6,87.9763 1697.73,87.9763 1702.86,87.9763 1708,87.9763 1713.13,87.9763 1718.26,87.9763 1723.39,87.9763 1728.53,87.9763 1733.66,87.9763 1738.79,87.9763 \n",
       "  1743.93,87.9763 1749.06,87.9763 1754.19,87.9763 1759.33,87.9763 1764.46,87.9763 1769.59,87.9763 1774.73,87.9763 1779.86,87.9763 1784.99,87.9763 1790.12,87.9763 \n",
       "  1795.26,87.9763 1800.39,87.9763 1805.52,87.9763 1810.66,87.9763 1815.79,87.9763 1820.92,87.9763 1826.06,87.9763 1831.19,87.9763 1836.32,87.9763 1841.45,87.9763 \n",
       "  1846.59,87.9763 1851.72,87.9763 1856.85,87.9763 1861.99,87.9763 1867.12,87.9763 1872.25,87.9763 1877.39,87.9763 1882.52,87.9763 1887.65,87.9763 1892.78,87.9763 \n",
       "  1897.92,87.9763 1903.05,87.9763 1908.18,87.9763 1913.32,87.9763 1918.45,87.9763 1923.58,87.9763 1928.72,87.9763 1933.85,87.9763 1938.98,87.9763 1944.12,87.9763 \n",
       "  1949.25,87.9763 1954.38,87.9763 1959.51,87.9763 1964.65,87.9763 1969.78,87.9763 1974.91,87.9763 1980.05,87.9763 1985.18,87.9763 1990.31,87.9763 1995.45,87.9763 \n",
       "  2000.58,87.9763 2005.71,87.9763 2010.84,87.9763 2015.98,87.9763 2021.11,87.9763 2026.24,87.9763 2031.38,87.9763 2036.51,87.9763 2041.64,87.9763 2046.78,87.9763 \n",
       "  2051.91,87.9763 2057.04,87.9763 2062.18,87.9763 2067.31,87.9763 2072.44,87.9763 2077.57,87.9763 2082.71,87.9763 2087.84,87.9763 2092.97,87.9763 2098.11,87.9763 \n",
       "  2103.24,87.9763 2108.37,87.9763 2113.51,87.9763 2118.64,87.9763 2123.77,87.9763 2128.9,87.9763 2134.04,87.9763 2139.17,87.9763 2144.3,87.9763 2149.44,87.9763 \n",
       "  2154.57,87.9763 2159.7,87.9763 2164.84,87.9763 2169.97,87.9763 2175.1,87.9763 2180.23,87.9763 2185.37,87.9763 2190.5,87.9763 2195.63,87.9763 2200.77,87.9763 \n",
       "  2205.9,87.9763 2211.03,87.9763 2216.17,87.9763 2221.3,87.9763 2226.43,87.9763 2231.57,87.9763 2236.7,87.9763 2241.83,87.9763 2246.96,87.9763 2252.1,87.9763 \n",
       "  2257.23,87.9763 2262.36,87.9763 2267.5,87.9763 2272.63,87.9763 2277.76,87.9763 2282.9,87.9763 2288.03,87.9763 2293.16,87.9763 \n",
       "  \"/>\n",
       "<path clip-path=\"url(#clip690)\" d=\"\n",
       "M1621.94 250.738 L2282.57 250.738 L2282.57 95.2176 L1621.94 95.2176  Z\n",
       "  \" fill=\"#ffffff\" fill-rule=\"evenodd\" fill-opacity=\"1\"/>\n",
       "<polyline clip-path=\"url(#clip690)\" style=\"stroke:#000000; stroke-linecap:round; stroke-linejoin:round; stroke-width:4; stroke-opacity:1; fill:none\" points=\"\n",
       "  1621.94,250.738 2282.57,250.738 2282.57,95.2176 1621.94,95.2176 1621.94,250.738 \n",
       "  \"/>\n",
       "<polyline clip-path=\"url(#clip690)\" style=\"stroke:#009af9; stroke-linecap:round; stroke-linejoin:round; stroke-width:4; stroke-opacity:1; fill:none\" points=\"\n",
       "  1645.34,147.058 1785.71,147.058 \n",
       "  \"/>\n",
       "<path clip-path=\"url(#clip690)\" d=\"M1813.79 133.62 L1813.79 146.606 L1819.67 146.606 Q1822.93 146.606 1824.71 144.916 Q1826.49 143.227 1826.49 140.102 Q1826.49 137 1824.71 135.31 Q1822.93 133.62 1819.67 133.62 L1813.79 133.62 M1809.11 129.778 L1819.67 129.778 Q1825.48 129.778 1828.44 132.416 Q1831.42 135.032 1831.42 140.102 Q1831.42 145.217 1828.44 147.833 Q1825.48 150.449 1819.67 150.449 L1813.79 150.449 L1813.79 164.338 L1809.11 164.338 L1809.11 129.778 Z\" fill=\"#000000\" fill-rule=\"evenodd\" fill-opacity=\"1\" /><path clip-path=\"url(#clip690)\" d=\"M1851.73 132.949 Q1846.63 132.949 1843.62 136.745 Q1840.64 140.541 1840.64 147.092 Q1840.64 153.62 1843.62 157.416 Q1846.63 161.213 1851.73 161.213 Q1856.82 161.213 1859.78 157.416 Q1862.77 153.62 1862.77 147.092 Q1862.77 140.541 1859.78 136.745 Q1856.82 132.949 1851.73 132.949 M1851.73 129.153 Q1858.99 129.153 1863.35 134.037 Q1867.7 138.898 1867.7 147.092 Q1867.7 155.264 1863.35 160.148 Q1858.99 165.009 1851.73 165.009 Q1844.43 165.009 1840.06 160.148 Q1835.71 155.287 1835.71 147.092 Q1835.71 138.898 1840.06 134.037 Q1844.43 129.153 1851.73 129.153 Z\" fill=\"#000000\" fill-rule=\"evenodd\" fill-opacity=\"1\" /><path clip-path=\"url(#clip690)\" d=\"M1879.69 133.62 L1879.69 146.606 L1885.57 146.606 Q1888.83 146.606 1890.61 144.916 Q1892.4 143.227 1892.4 140.102 Q1892.4 137 1890.61 135.31 Q1888.83 133.62 1885.57 133.62 L1879.69 133.62 M1875.01 129.778 L1885.57 129.778 Q1891.38 129.778 1894.34 132.416 Q1897.33 135.032 1897.33 140.102 Q1897.33 145.217 1894.34 147.833 Q1891.38 150.449 1885.57 150.449 L1879.69 150.449 L1879.69 164.338 L1875.01 164.338 L1875.01 129.778 Z\" fill=\"#000000\" fill-rule=\"evenodd\" fill-opacity=\"1\" /><path clip-path=\"url(#clip690)\" d=\"M1928.53 141.398 Q1925.1 141.398 1923.11 144.083 Q1921.12 146.745 1921.12 151.398 Q1921.12 156.051 1923.09 158.736 Q1925.08 161.398 1928.53 161.398 Q1931.93 161.398 1933.92 158.713 Q1935.91 156.027 1935.91 151.398 Q1935.91 146.791 1933.92 144.106 Q1931.93 141.398 1928.53 141.398 M1928.53 137.787 Q1934.09 137.787 1937.26 141.398 Q1940.43 145.009 1940.43 151.398 Q1940.43 157.764 1937.26 161.398 Q1934.09 165.009 1928.53 165.009 Q1922.95 165.009 1919.78 161.398 Q1916.63 157.764 1916.63 151.398 Q1916.63 145.009 1919.78 141.398 Q1922.95 137.787 1928.53 137.787 Z\" fill=\"#000000\" fill-rule=\"evenodd\" fill-opacity=\"1\" /><path clip-path=\"url(#clip690)\" d=\"M1969.04 148.689 L1969.04 164.338 L1964.78 164.338 L1964.78 148.828 Q1964.78 145.148 1963.35 143.319 Q1961.91 141.49 1959.04 141.49 Q1955.59 141.49 1953.6 143.69 Q1951.61 145.889 1951.61 149.685 L1951.61 164.338 L1947.33 164.338 L1947.33 138.412 L1951.61 138.412 L1951.61 142.44 Q1953.14 140.102 1955.2 138.944 Q1957.28 137.787 1959.99 137.787 Q1964.46 137.787 1966.75 140.565 Q1969.04 143.319 1969.04 148.689 Z\" fill=\"#000000\" fill-rule=\"evenodd\" fill-opacity=\"1\" /><path clip-path=\"url(#clip690)\" d=\"M2014.78 150.31 L2014.78 152.393 L1995.2 152.393 Q1995.47 156.791 1997.84 159.106 Q2000.22 161.398 2004.46 161.398 Q2006.91 161.398 2009.2 160.796 Q2011.52 160.194 2013.78 158.99 L2013.78 163.018 Q2011.49 163.99 2009.09 164.5 Q2006.68 165.009 2004.2 165.009 Q1998 165.009 1994.36 161.398 Q1990.75 157.787 1990.75 151.629 Q1990.75 145.264 1994.18 141.537 Q1997.63 137.787 2003.46 137.787 Q2008.69 137.787 2011.72 141.166 Q2014.78 144.523 2014.78 150.31 M2010.52 149.06 Q2010.47 145.565 2008.55 143.481 Q2006.65 141.398 2003.51 141.398 Q1999.94 141.398 1997.79 143.412 Q1995.66 145.426 1995.34 149.083 L2010.52 149.06 Z\" fill=\"#000000\" fill-rule=\"evenodd\" fill-opacity=\"1\" /><path clip-path=\"url(#clip690)\" d=\"M2042.49 138.412 L2033.11 151.027 L2042.97 164.338 L2037.95 164.338 L2030.4 154.152 L2022.86 164.338 L2017.84 164.338 L2027.9 150.773 L2018.69 138.412 L2023.72 138.412 L2030.59 147.648 L2037.47 138.412 L2042.49 138.412 Z\" fill=\"#000000\" fill-rule=\"evenodd\" fill-opacity=\"1\" /><path clip-path=\"url(#clip690)\" d=\"M2060.78 151.305 Q2055.61 151.305 2053.62 152.486 Q2051.63 153.666 2051.63 156.514 Q2051.63 158.782 2053.11 160.125 Q2054.62 161.444 2057.19 161.444 Q2060.73 161.444 2062.86 158.944 Q2065.01 156.421 2065.01 152.254 L2065.01 151.305 L2060.78 151.305 M2069.27 149.546 L2069.27 164.338 L2065.01 164.338 L2065.01 160.402 Q2063.55 162.763 2061.38 163.898 Q2059.2 165.009 2056.05 165.009 Q2052.07 165.009 2049.71 162.787 Q2047.37 160.541 2047.37 156.791 Q2047.37 152.416 2050.29 150.194 Q2053.23 147.972 2059.04 147.972 L2065.01 147.972 L2065.01 147.555 Q2065.01 144.615 2063.07 143.018 Q2061.15 141.398 2057.65 141.398 Q2055.43 141.398 2053.32 141.93 Q2051.21 142.463 2049.27 143.527 L2049.27 139.592 Q2051.61 138.69 2053.81 138.25 Q2056.01 137.787 2058.09 137.787 Q2063.71 137.787 2066.49 140.703 Q2069.27 143.62 2069.27 149.546 Z\" fill=\"#000000\" fill-rule=\"evenodd\" fill-opacity=\"1\" /><path clip-path=\"url(#clip690)\" d=\"M2096.7 139.407 L2096.7 143.389 Q2094.9 142.393 2093.07 141.907 Q2091.26 141.398 2089.41 141.398 Q2085.27 141.398 2082.97 144.037 Q2080.68 146.652 2080.68 151.398 Q2080.68 156.143 2082.97 158.782 Q2085.27 161.398 2089.41 161.398 Q2091.26 161.398 2093.07 160.912 Q2094.9 160.402 2096.7 159.407 L2096.7 163.342 Q2094.92 164.176 2093 164.592 Q2091.1 165.009 2088.95 165.009 Q2083.09 165.009 2079.64 161.328 Q2076.19 157.648 2076.19 151.398 Q2076.19 145.055 2079.66 141.421 Q2083.16 137.787 2089.22 137.787 Q2091.19 137.787 2093.07 138.203 Q2094.94 138.597 2096.7 139.407 Z\" fill=\"#000000\" fill-rule=\"evenodd\" fill-opacity=\"1\" /><path clip-path=\"url(#clip690)\" d=\"M2108.32 131.051 L2108.32 138.412 L2117.09 138.412 L2117.09 141.722 L2108.32 141.722 L2108.32 155.796 Q2108.32 158.967 2109.18 159.87 Q2110.06 160.773 2112.72 160.773 L2117.09 160.773 L2117.09 164.338 L2112.72 164.338 Q2107.79 164.338 2105.91 162.509 Q2104.04 160.657 2104.04 155.796 L2104.04 141.722 L2100.91 141.722 L2100.91 138.412 L2104.04 138.412 L2104.04 131.051 L2108.32 131.051 Z\" fill=\"#000000\" fill-rule=\"evenodd\" fill-opacity=\"1\" /><path clip-path=\"url(#clip690)\" d=\"M2154.83 142.347 L2154.83 128.319 L2159.08 128.319 L2159.08 164.338 L2154.83 164.338 L2154.83 160.449 Q2153.48 162.763 2151.42 163.898 Q2149.39 165.009 2146.52 165.009 Q2141.82 165.009 2138.85 161.259 Q2135.91 157.509 2135.91 151.398 Q2135.91 145.287 2138.85 141.537 Q2141.82 137.787 2146.52 137.787 Q2149.39 137.787 2151.42 138.921 Q2153.48 140.032 2154.83 142.347 M2140.31 151.398 Q2140.31 156.097 2142.23 158.782 Q2144.18 161.444 2147.56 161.444 Q2150.94 161.444 2152.88 158.782 Q2154.83 156.097 2154.83 151.398 Q2154.83 146.699 2152.88 144.037 Q2150.94 141.352 2147.56 141.352 Q2144.18 141.352 2142.23 144.037 Q2140.31 146.699 2140.31 151.398 Z\" fill=\"#000000\" fill-rule=\"evenodd\" fill-opacity=\"1\" /><path clip-path=\"url(#clip690)\" d=\"M2179.64 151.305 Q2174.48 151.305 2172.49 152.486 Q2170.5 153.666 2170.5 156.514 Q2170.5 158.782 2171.98 160.125 Q2173.48 161.444 2176.05 161.444 Q2179.59 161.444 2181.72 158.944 Q2183.88 156.421 2183.88 152.254 L2183.88 151.305 L2179.64 151.305 M2188.14 149.546 L2188.14 164.338 L2183.88 164.338 L2183.88 160.402 Q2182.42 162.763 2180.24 163.898 Q2178.07 165.009 2174.92 165.009 Q2170.94 165.009 2168.58 162.787 Q2166.24 160.541 2166.24 156.791 Q2166.24 152.416 2169.15 150.194 Q2172.09 147.972 2177.9 147.972 L2183.88 147.972 L2183.88 147.555 Q2183.88 144.615 2181.93 143.018 Q2180.01 141.398 2176.52 141.398 Q2174.29 141.398 2172.19 141.93 Q2170.08 142.463 2168.14 143.527 L2168.14 139.592 Q2170.47 138.69 2172.67 138.25 Q2174.87 137.787 2176.95 137.787 Q2182.58 137.787 2185.36 140.703 Q2188.14 143.62 2188.14 149.546 Z\" fill=\"#000000\" fill-rule=\"evenodd\" fill-opacity=\"1\" /><path clip-path=\"url(#clip690)\" d=\"M2201.12 131.051 L2201.12 138.412 L2209.89 138.412 L2209.89 141.722 L2201.12 141.722 L2201.12 155.796 Q2201.12 158.967 2201.98 159.87 Q2202.86 160.773 2205.52 160.773 L2209.89 160.773 L2209.89 164.338 L2205.52 164.338 Q2200.59 164.338 2198.71 162.509 Q2196.84 160.657 2196.84 155.796 L2196.84 141.722 L2193.71 141.722 L2193.71 138.412 L2196.84 138.412 L2196.84 131.051 L2201.12 131.051 Z\" fill=\"#000000\" fill-rule=\"evenodd\" fill-opacity=\"1\" /><path clip-path=\"url(#clip690)\" d=\"M2227.28 151.305 Q2222.12 151.305 2220.13 152.486 Q2218.14 153.666 2218.14 156.514 Q2218.14 158.782 2219.62 160.125 Q2221.12 161.444 2223.69 161.444 Q2227.23 161.444 2229.36 158.944 Q2231.51 156.421 2231.51 152.254 L2231.51 151.305 L2227.28 151.305 M2235.77 149.546 L2235.77 164.338 L2231.51 164.338 L2231.51 160.402 Q2230.06 162.763 2227.88 163.898 Q2225.7 165.009 2222.56 165.009 Q2218.58 165.009 2216.21 162.787 Q2213.88 160.541 2213.88 156.791 Q2213.88 152.416 2216.79 150.194 Q2219.73 147.972 2225.54 147.972 L2231.51 147.972 L2231.51 147.555 Q2231.51 144.615 2229.57 143.018 Q2227.65 141.398 2224.15 141.398 Q2221.93 141.398 2219.83 141.93 Q2217.72 142.463 2215.77 143.527 L2215.77 139.592 Q2218.11 138.69 2220.31 138.25 Q2222.51 137.787 2224.59 137.787 Q2230.22 137.787 2233 140.703 Q2235.77 143.62 2235.77 149.546 Z\" fill=\"#000000\" fill-rule=\"evenodd\" fill-opacity=\"1\" /><polyline clip-path=\"url(#clip690)\" style=\"stroke:#e26f46; stroke-linecap:round; stroke-linejoin:round; stroke-width:4; stroke-opacity:1; fill:none\" points=\"\n",
       "  1645.34,198.898 1785.71,198.898 \n",
       "  \"/>\n",
       "<path clip-path=\"url(#clip690)\" d=\"M1813.79 185.46 L1813.79 198.446 L1819.67 198.446 Q1822.93 198.446 1824.71 196.756 Q1826.49 195.067 1826.49 191.942 Q1826.49 188.84 1824.71 187.15 Q1822.93 185.46 1819.67 185.46 L1813.79 185.46 M1809.11 181.618 L1819.67 181.618 Q1825.48 181.618 1828.44 184.256 Q1831.42 186.872 1831.42 191.942 Q1831.42 197.057 1828.44 199.673 Q1825.48 202.289 1819.67 202.289 L1813.79 202.289 L1813.79 216.178 L1809.11 216.178 L1809.11 181.618 Z\" fill=\"#000000\" fill-rule=\"evenodd\" fill-opacity=\"1\" /><path clip-path=\"url(#clip690)\" d=\"M1851.73 184.789 Q1846.63 184.789 1843.62 188.585 Q1840.64 192.381 1840.64 198.932 Q1840.64 205.46 1843.62 209.256 Q1846.63 213.053 1851.73 213.053 Q1856.82 213.053 1859.78 209.256 Q1862.77 205.46 1862.77 198.932 Q1862.77 192.381 1859.78 188.585 Q1856.82 184.789 1851.73 184.789 M1851.73 180.993 Q1858.99 180.993 1863.35 185.877 Q1867.7 190.738 1867.7 198.932 Q1867.7 207.104 1863.35 211.988 Q1858.99 216.849 1851.73 216.849 Q1844.43 216.849 1840.06 211.988 Q1835.71 207.127 1835.71 198.932 Q1835.71 190.738 1840.06 185.877 Q1844.43 180.993 1851.73 180.993 Z\" fill=\"#000000\" fill-rule=\"evenodd\" fill-opacity=\"1\" /><path clip-path=\"url(#clip690)\" d=\"M1879.69 185.46 L1879.69 198.446 L1885.57 198.446 Q1888.83 198.446 1890.61 196.756 Q1892.4 195.067 1892.4 191.942 Q1892.4 188.84 1890.61 187.15 Q1888.83 185.46 1885.57 185.46 L1879.69 185.46 M1875.01 181.618 L1885.57 181.618 Q1891.38 181.618 1894.34 184.256 Q1897.33 186.872 1897.33 191.942 Q1897.33 197.057 1894.34 199.673 Q1891.38 202.289 1885.57 202.289 L1879.69 202.289 L1879.69 216.178 L1875.01 216.178 L1875.01 181.618 Z\" fill=\"#000000\" fill-rule=\"evenodd\" fill-opacity=\"1\" /><path clip-path=\"url(#clip690)\" d=\"M1928.53 193.238 Q1925.1 193.238 1923.11 195.923 Q1921.12 198.585 1921.12 203.238 Q1921.12 207.891 1923.09 210.576 Q1925.08 213.238 1928.53 213.238 Q1931.93 213.238 1933.92 210.553 Q1935.91 207.867 1935.91 203.238 Q1935.91 198.631 1933.92 195.946 Q1931.93 193.238 1928.53 193.238 M1928.53 189.627 Q1934.09 189.627 1937.26 193.238 Q1940.43 196.849 1940.43 203.238 Q1940.43 209.604 1937.26 213.238 Q1934.09 216.849 1928.53 216.849 Q1922.95 216.849 1919.78 213.238 Q1916.63 209.604 1916.63 203.238 Q1916.63 196.849 1919.78 193.238 Q1922.95 189.627 1928.53 189.627 Z\" fill=\"#000000\" fill-rule=\"evenodd\" fill-opacity=\"1\" /><path clip-path=\"url(#clip690)\" d=\"M1969.04 200.529 L1969.04 216.178 L1964.78 216.178 L1964.78 200.668 Q1964.78 196.988 1963.35 195.159 Q1961.91 193.33 1959.04 193.33 Q1955.59 193.33 1953.6 195.53 Q1951.61 197.729 1951.61 201.525 L1951.61 216.178 L1947.33 216.178 L1947.33 190.252 L1951.61 190.252 L1951.61 194.28 Q1953.14 191.942 1955.2 190.784 Q1957.28 189.627 1959.99 189.627 Q1964.46 189.627 1966.75 192.405 Q1969.04 195.159 1969.04 200.529 Z\" fill=\"#000000\" fill-rule=\"evenodd\" fill-opacity=\"1\" /><path clip-path=\"url(#clip690)\" d=\"M2004.39 203.145 Q1999.22 203.145 1997.23 204.326 Q1995.24 205.506 1995.24 208.354 Q1995.24 210.622 1996.72 211.965 Q1998.23 213.284 2000.8 213.284 Q2004.34 213.284 2006.47 210.784 Q2008.62 208.261 2008.62 204.094 L2008.62 203.145 L2004.39 203.145 M2012.88 201.386 L2012.88 216.178 L2008.62 216.178 L2008.62 212.242 Q2007.16 214.603 2004.99 215.738 Q2002.81 216.849 1999.66 216.849 Q1995.68 216.849 1993.32 214.627 Q1990.98 212.381 1990.98 208.631 Q1990.98 204.256 1993.9 202.034 Q1996.84 199.812 2002.65 199.812 L2008.62 199.812 L2008.62 199.395 Q2008.62 196.455 2006.68 194.858 Q2004.76 193.238 2001.26 193.238 Q1999.04 193.238 1996.93 193.77 Q1994.83 194.303 1992.88 195.367 L1992.88 191.432 Q1995.22 190.53 1997.42 190.09 Q1999.62 189.627 2001.7 189.627 Q2007.33 189.627 2010.1 192.543 Q2012.88 195.46 2012.88 201.386 Z\" fill=\"#000000\" fill-rule=\"evenodd\" fill-opacity=\"1\" /><path clip-path=\"url(#clip690)\" d=\"M2043.21 200.529 L2043.21 216.178 L2038.95 216.178 L2038.95 200.668 Q2038.95 196.988 2037.51 195.159 Q2036.08 193.33 2033.21 193.33 Q2029.76 193.33 2027.77 195.53 Q2025.78 197.729 2025.78 201.525 L2025.78 216.178 L2021.49 216.178 L2021.49 190.252 L2025.78 190.252 L2025.78 194.28 Q2027.3 191.942 2029.36 190.784 Q2031.45 189.627 2034.15 189.627 Q2038.62 189.627 2040.91 192.405 Q2043.21 195.159 2043.21 200.529 Z\" fill=\"#000000\" fill-rule=\"evenodd\" fill-opacity=\"1\" /><path clip-path=\"url(#clip690)\" d=\"M2068.23 191.016 L2068.23 195.043 Q2066.42 194.117 2064.48 193.655 Q2062.53 193.192 2060.45 193.192 Q2057.28 193.192 2055.68 194.164 Q2054.11 195.136 2054.11 197.08 Q2054.11 198.562 2055.24 199.418 Q2056.38 200.252 2059.8 201.016 L2061.26 201.34 Q2065.8 202.312 2067.7 204.094 Q2069.62 205.854 2069.62 209.025 Q2069.62 212.636 2066.75 214.742 Q2063.9 216.849 2058.9 216.849 Q2056.82 216.849 2054.55 216.432 Q2052.3 216.039 2049.8 215.228 L2049.8 210.83 Q2052.16 212.057 2054.46 212.682 Q2056.75 213.284 2058.99 213.284 Q2062 213.284 2063.62 212.266 Q2065.24 211.224 2065.24 209.349 Q2065.24 207.613 2064.06 206.687 Q2062.9 205.761 2058.95 204.904 L2057.46 204.557 Q2053.51 203.724 2051.75 202.011 Q2049.99 200.275 2049.99 197.266 Q2049.99 193.608 2052.58 191.618 Q2055.17 189.627 2059.94 189.627 Q2062.3 189.627 2064.39 189.974 Q2066.47 190.321 2068.23 191.016 Z\" fill=\"#000000\" fill-rule=\"evenodd\" fill-opacity=\"1\" /><path clip-path=\"url(#clip690)\" d=\"M2088.18 203.145 Q2083.02 203.145 2081.03 204.326 Q2079.04 205.506 2079.04 208.354 Q2079.04 210.622 2080.52 211.965 Q2082.02 213.284 2084.59 213.284 Q2088.14 213.284 2090.27 210.784 Q2092.42 208.261 2092.42 204.094 L2092.42 203.145 L2088.18 203.145 M2096.68 201.386 L2096.68 216.178 L2092.42 216.178 L2092.42 212.242 Q2090.96 214.603 2088.78 215.738 Q2086.61 216.849 2083.46 216.849 Q2079.48 216.849 2077.12 214.627 Q2074.78 212.381 2074.78 208.631 Q2074.78 204.256 2077.7 202.034 Q2080.64 199.812 2086.45 199.812 L2092.42 199.812 L2092.42 199.395 Q2092.42 196.455 2090.47 194.858 Q2088.55 193.238 2085.06 193.238 Q2082.84 193.238 2080.73 193.77 Q2078.62 194.303 2076.68 195.367 L2076.68 191.432 Q2079.02 190.53 2081.21 190.09 Q2083.41 189.627 2085.5 189.627 Q2091.12 189.627 2093.9 192.543 Q2096.68 195.46 2096.68 201.386 Z\" fill=\"#000000\" fill-rule=\"evenodd\" fill-opacity=\"1\" /><path clip-path=\"url(#clip690)\" d=\"M2109.66 182.891 L2109.66 190.252 L2118.44 190.252 L2118.44 193.562 L2109.66 193.562 L2109.66 207.636 Q2109.66 210.807 2110.52 211.71 Q2111.4 212.613 2114.06 212.613 L2118.44 212.613 L2118.44 216.178 L2114.06 216.178 Q2109.13 216.178 2107.26 214.349 Q2105.38 212.497 2105.38 207.636 L2105.38 193.562 L2102.26 193.562 L2102.26 190.252 L2105.38 190.252 L2105.38 182.891 L2109.66 182.891 Z\" fill=\"#000000\" fill-rule=\"evenodd\" fill-opacity=\"1\" /><path clip-path=\"url(#clip690)\" d=\"M2122.19 190.252 L2142.42 190.252 L2142.42 194.141 L2126.4 212.775 L2142.42 212.775 L2142.42 216.178 L2121.61 216.178 L2121.61 212.289 L2137.63 193.655 L2122.19 193.655 L2122.19 190.252 Z\" fill=\"#000000\" fill-rule=\"evenodd\" fill-opacity=\"1\" /></svg>\n"
      ]
     },
     "execution_count": 12,
     "metadata": {},
     "output_type": "execute_result"
    }
   ],
   "source": [
    "fˢⁱᵈᵉˣ = LiPoSID.fidelity_series(basis, ρˣ, ρˣₑₓˢⁱᵈ )\n",
    "fˢⁱᵈᵃⁿᶻ = LiPoSID.fidelity_series(basis, ρˣₐₙ, ρˣₐₙˢⁱᵈ)\n",
    "\n",
    "plot(fˢⁱᵈᵉˣ, label = \"POP on exact data\")\n",
    "plot!(fˢⁱᵈᵃⁿᶻ, label = \"POP on ansatz\")"
   ]
  },
  {
   "cell_type": "code",
   "execution_count": 13,
   "id": "90c16f6d",
   "metadata": {},
   "outputs": [
    {
     "name": "stderr",
     "output_type": "stream",
     "text": [
      "┌ Warning: Backwards compatability support of the new return codes to Symbols will be deprecated with the Julia v1.9 release. Please see https://docs.sciml.ai/SciMLBase/stable/interfaces/Solutions/#retcodes for more information\n",
      "└ @ SciMLBase C:\\Users\\Zakhar\\.julia\\packages\\SciMLBase\\VKnrY\\src\\retcodes.jl:360\n",
      "┌ Warning: Backwards compatability support of the new return codes to Symbols will be deprecated with the Julia v1.9 release. Please see https://docs.sciml.ai/SciMLBase/stable/interfaces/Solutions/#retcodes for more information\n",
      "└ @ SciMLBase C:\\Users\\Zakhar\\.julia\\packages\\SciMLBase\\VKnrY\\src\\retcodes.jl:360\n",
      "┌ Warning: Backwards compatability support of the new return codes to Symbols will be deprecated with the Julia v1.9 release. Please see https://docs.sciml.ai/SciMLBase/stable/interfaces/Solutions/#retcodes for more information\n",
      "└ @ SciMLBase C:\\Users\\Zakhar\\.julia\\packages\\SciMLBase\\VKnrY\\src\\retcodes.jl:360\n",
      "┌ Warning: Backwards compatability support of the new return codes to Symbols will be deprecated with the Julia v1.9 release. Please see https://docs.sciml.ai/SciMLBase/stable/interfaces/Solutions/#retcodes for more information\n",
      "└ @ SciMLBase C:\\Users\\Zakhar\\.julia\\packages\\SciMLBase\\VKnrY\\src\\retcodes.jl:360\n",
      "┌ Warning: Backwards compatability support of the new return codes to Symbols will be deprecated with the Julia v1.9 release. Please see https://docs.sciml.ai/SciMLBase/stable/interfaces/Solutions/#retcodes for more information\n",
      "└ @ SciMLBase C:\\Users\\Zakhar\\.julia\\packages\\SciMLBase\\VKnrY\\src\\retcodes.jl:360\n",
      "┌ Warning: Backwards compatability support of the new return codes to Symbols will be deprecated with the Julia v1.9 release. Please see https://docs.sciml.ai/SciMLBase/stable/interfaces/Solutions/#retcodes for more information\n",
      "└ @ SciMLBase C:\\Users\\Zakhar\\.julia\\packages\\SciMLBase\\VKnrY\\src\\retcodes.jl:360\n",
      "┌ Warning: Backwards compatability support of the new return codes to Symbols will be deprecated with the Julia v1.9 release. Please see https://docs.sciml.ai/SciMLBase/stable/interfaces/Solutions/#retcodes for more information\n",
      "└ @ SciMLBase C:\\Users\\Zakhar\\.julia\\packages\\SciMLBase\\VKnrY\\src\\retcodes.jl:360\n",
      "┌ Warning: Backwards compatability support of the new return codes to Symbols will be deprecated with the Julia v1.9 release. Please see https://docs.sciml.ai/SciMLBase/stable/interfaces/Solutions/#retcodes for more information\n",
      "└ @ SciMLBase C:\\Users\\Zakhar\\.julia\\packages\\SciMLBase\\VKnrY\\src\\retcodes.jl:360\n",
      "┌ Warning: Backwards compatability support of the new return codes to Symbols will be deprecated with the Julia v1.9 release. Please see https://docs.sciml.ai/SciMLBase/stable/interfaces/Solutions/#retcodes for more information\n",
      "└ @ SciMLBase C:\\Users\\Zakhar\\.julia\\packages\\SciMLBase\\VKnrY\\src\\retcodes.jl:360\n",
      "┌ Warning: Backwards compatability support of the new return codes to Symbols will be deprecated with the Julia v1.9 release. Please see https://docs.sciml.ai/SciMLBase/stable/interfaces/Solutions/#retcodes for more information\n",
      "└ @ SciMLBase C:\\Users\\Zakhar\\.julia\\packages\\SciMLBase\\VKnrY\\src\\retcodes.jl:360\n",
      "┌ Warning: Backwards compatability support of the new return codes to Symbols will be deprecated with the Julia v1.9 release. Please see https://docs.sciml.ai/SciMLBase/stable/interfaces/Solutions/#retcodes for more information\n",
      "└ @ SciMLBase C:\\Users\\Zakhar\\.julia\\packages\\SciMLBase\\VKnrY\\src\\retcodes.jl:360\n",
      "┌ Warning: Backwards compatability support of the new return codes to Symbols will be deprecated with the Julia v1.9 release. Please see https://docs.sciml.ai/SciMLBase/stable/interfaces/Solutions/#retcodes for more information\n",
      "└ @ SciMLBase C:\\Users\\Zakhar\\.julia\\packages\\SciMLBase\\VKnrY\\src\\retcodes.jl:360\n",
      "┌ Warning: Backwards compatability support of the new return codes to Symbols will be deprecated with the Julia v1.9 release. Please see https://docs.sciml.ai/SciMLBase/stable/interfaces/Solutions/#retcodes for more information\n",
      "└ @ SciMLBase C:\\Users\\Zakhar\\.julia\\packages\\SciMLBase\\VKnrY\\src\\retcodes.jl:360\n",
      "┌ Warning: Backwards compatability support of the new return codes to Symbols will be deprecated with the Julia v1.9 release. Please see https://docs.sciml.ai/SciMLBase/stable/interfaces/Solutions/#retcodes for more information\n",
      "└ @ SciMLBase C:\\Users\\Zakhar\\.julia\\packages\\SciMLBase\\VKnrY\\src\\retcodes.jl:360\n",
      "┌ Warning: Backwards compatability support of the new return codes to Symbols will be deprecated with the Julia v1.9 release. Please see https://docs.sciml.ai/SciMLBase/stable/interfaces/Solutions/#retcodes for more information\n",
      "└ @ SciMLBase C:\\Users\\Zakhar\\.julia\\packages\\SciMLBase\\VKnrY\\src\\retcodes.jl:360\n",
      "┌ Warning: Backwards compatability support of the new return codes to Symbols will be deprecated with the Julia v1.9 release. Please see https://docs.sciml.ai/SciMLBase/stable/interfaces/Solutions/#retcodes for more information\n",
      "└ @ SciMLBase C:\\Users\\Zakhar\\.julia\\packages\\SciMLBase\\VKnrY\\src\\retcodes.jl:360\n",
      "┌ Warning: Backwards compatability support of the new return codes to Symbols will be deprecated with the Julia v1.9 release. Please see https://docs.sciml.ai/SciMLBase/stable/interfaces/Solutions/#retcodes for more information\n",
      "└ @ SciMLBase C:\\Users\\Zakhar\\.julia\\packages\\SciMLBase\\VKnrY\\src\\retcodes.jl:360\n",
      "┌ Warning: Backwards compatability support of the new return codes to Symbols will be deprecated with the Julia v1.9 release. Please see https://docs.sciml.ai/SciMLBase/stable/interfaces/Solutions/#retcodes for more information\n",
      "└ @ SciMLBase C:\\Users\\Zakhar\\.julia\\packages\\SciMLBase\\VKnrY\\src\\retcodes.jl:360\n",
      "┌ Warning: Backwards compatability support of the new return codes to Symbols will be deprecated with the Julia v1.9 release. Please see https://docs.sciml.ai/SciMLBase/stable/interfaces/Solutions/#retcodes for more information\n",
      "└ @ SciMLBase C:\\Users\\Zakhar\\.julia\\packages\\SciMLBase\\VKnrY\\src\\retcodes.jl:360\n",
      "┌ Warning: Backwards compatability support of the new return codes to Symbols will be deprecated with the Julia v1.9 release. Please see https://docs.sciml.ai/SciMLBase/stable/interfaces/Solutions/#retcodes for more information\n",
      "└ @ SciMLBase C:\\Users\\Zakhar\\.julia\\packages\\SciMLBase\\VKnrY\\src\\retcodes.jl:360\n",
      "┌ Warning: Backwards compatability support of the new return codes to Symbols will be deprecated with the Julia v1.9 release. Please see https://docs.sciml.ai/SciMLBase/stable/interfaces/Solutions/#retcodes for more information\n",
      "└ @ SciMLBase C:\\Users\\Zakhar\\.julia\\packages\\SciMLBase\\VKnrY\\src\\retcodes.jl:360\n",
      "┌ Warning: Backwards compatability support of the new return codes to Symbols will be deprecated with the Julia v1.9 release. Please see https://docs.sciml.ai/SciMLBase/stable/interfaces/Solutions/#retcodes for more information\n",
      "└ @ SciMLBase C:\\Users\\Zakhar\\.julia\\packages\\SciMLBase\\VKnrY\\src\\retcodes.jl:360\n",
      "┌ Warning: Backwards compatability support of the new return codes to Symbols will be deprecated with the Julia v1.9 release. Please see https://docs.sciml.ai/SciMLBase/stable/interfaces/Solutions/#retcodes for more information\n",
      "└ @ SciMLBase C:\\Users\\Zakhar\\.julia\\packages\\SciMLBase\\VKnrY\\src\\retcodes.jl:360\n",
      "┌ Warning: Backwards compatability support of the new return codes to Symbols will be deprecated with the Julia v1.9 release. Please see https://docs.sciml.ai/SciMLBase/stable/interfaces/Solutions/#retcodes for more information\n",
      "└ @ SciMLBase C:\\Users\\Zakhar\\.julia\\packages\\SciMLBase\\VKnrY\\src\\retcodes.jl:360\n",
      "┌ Warning: Backwards compatability support of the new return codes to Symbols will be deprecated with the Julia v1.9 release. Please see https://docs.sciml.ai/SciMLBase/stable/interfaces/Solutions/#retcodes for more information\n",
      "└ @ SciMLBase C:\\Users\\Zakhar\\.julia\\packages\\SciMLBase\\VKnrY\\src\\retcodes.jl:360\n",
      "┌ Warning: Backwards compatability support of the new return codes to Symbols will be deprecated with the Julia v1.9 release. Please see https://docs.sciml.ai/SciMLBase/stable/interfaces/Solutions/#retcodes for more information\n",
      "└ @ SciMLBase C:\\Users\\Zakhar\\.julia\\packages\\SciMLBase\\VKnrY\\src\\retcodes.jl:360\n",
      "┌ Warning: Backwards compatability support of the new return codes to Symbols will be deprecated with the Julia v1.9 release. Please see https://docs.sciml.ai/SciMLBase/stable/interfaces/Solutions/#retcodes for more information\n",
      "└ @ SciMLBase C:\\Users\\Zakhar\\.julia\\packages\\SciMLBase\\VKnrY\\src\\retcodes.jl:360\n",
      "┌ Warning: Backwards compatability support of the new return codes to Symbols will be deprecated with the Julia v1.9 release. Please see https://docs.sciml.ai/SciMLBase/stable/interfaces/Solutions/#retcodes for more information\n",
      "└ @ SciMLBase C:\\Users\\Zakhar\\.julia\\packages\\SciMLBase\\VKnrY\\src\\retcodes.jl:360\n",
      "┌ Warning: Backwards compatability support of the new return codes to Symbols will be deprecated with the Julia v1.9 release. Please see https://docs.sciml.ai/SciMLBase/stable/interfaces/Solutions/#retcodes for more information\n",
      "└ @ SciMLBase C:\\Users\\Zakhar\\.julia\\packages\\SciMLBase\\VKnrY\\src\\retcodes.jl:360\n",
      "┌ Warning: Backwards compatability support of the new return codes to Symbols will be deprecated with the Julia v1.9 release. Please see https://docs.sciml.ai/SciMLBase/stable/interfaces/Solutions/#retcodes for more information\n",
      "└ @ SciMLBase C:\\Users\\Zakhar\\.julia\\packages\\SciMLBase\\VKnrY\\src\\retcodes.jl:360\n",
      "┌ Warning: Backwards compatability support of the new return codes to Symbols will be deprecated with the Julia v1.9 release. Please see https://docs.sciml.ai/SciMLBase/stable/interfaces/Solutions/#retcodes for more information\n",
      "└ @ SciMLBase C:\\Users\\Zakhar\\.julia\\packages\\SciMLBase\\VKnrY\\src\\retcodes.jl:360\n",
      "┌ Warning: Backwards compatability support of the new return codes to Symbols will be deprecated with the Julia v1.9 release. Please see https://docs.sciml.ai/SciMLBase/stable/interfaces/Solutions/#retcodes for more information\n",
      "└ @ SciMLBase C:\\Users\\Zakhar\\.julia\\packages\\SciMLBase\\VKnrY\\src\\retcodes.jl:360\n",
      "┌ Warning: Backwards compatability support of the new return codes to Symbols will be deprecated with the Julia v1.9 release. Please see https://docs.sciml.ai/SciMLBase/stable/interfaces/Solutions/#retcodes for more information\n",
      "└ @ SciMLBase C:\\Users\\Zakhar\\.julia\\packages\\SciMLBase\\VKnrY\\src\\retcodes.jl:360\n"
     ]
    },
    {
     "name": "stdout",
     "output_type": "stream",
     "text": [
      "State_D1 State_D2 State_D3 State_D4 State_D5 State_D6 State_D7 State_D8 State_D9 State_D10 State_D11 State_D12 State_D13 State_D14 State_D15 State_D16 State_D17 State_D18 State_D19 State_D20 "
     ]
    },
    {
     "name": "stderr",
     "output_type": "stream",
     "text": [
      "┌ Warning: Backwards compatability support of the new return codes to Symbols will be deprecated with the Julia v1.9 release. Please see https://docs.sciml.ai/SciMLBase/stable/interfaces/Solutions/#retcodes for more information\n",
      "└ @ SciMLBase C:\\Users\\Zakhar\\.julia\\packages\\SciMLBase\\VKnrY\\src\\retcodes.jl:360\n",
      "┌ Warning: Backwards compatability support of the new return codes to Symbols will be deprecated with the Julia v1.9 release. Please see https://docs.sciml.ai/SciMLBase/stable/interfaces/Solutions/#retcodes for more information\n",
      "└ @ SciMLBase C:\\Users\\Zakhar\\.julia\\packages\\SciMLBase\\VKnrY\\src\\retcodes.jl:360\n",
      "┌ Warning: Backwards compatability support of the new return codes to Symbols will be deprecated with the Julia v1.9 release. Please see https://docs.sciml.ai/SciMLBase/stable/interfaces/Solutions/#retcodes for more information\n",
      "└ @ SciMLBase C:\\Users\\Zakhar\\.julia\\packages\\SciMLBase\\VKnrY\\src\\retcodes.jl:360\n",
      "┌ Warning: Backwards compatability support of the new return codes to Symbols will be deprecated with the Julia v1.9 release. Please see https://docs.sciml.ai/SciMLBase/stable/interfaces/Solutions/#retcodes for more information\n",
      "└ @ SciMLBase C:\\Users\\Zakhar\\.julia\\packages\\SciMLBase\\VKnrY\\src\\retcodes.jl:360\n",
      "┌ Warning: Backwards compatability support of the new return codes to Symbols will be deprecated with the Julia v1.9 release. Please see https://docs.sciml.ai/SciMLBase/stable/interfaces/Solutions/#retcodes for more information\n",
      "└ @ SciMLBase C:\\Users\\Zakhar\\.julia\\packages\\SciMLBase\\VKnrY\\src\\retcodes.jl:360\n",
      "┌ Warning: Backwards compatability support of the new return codes to Symbols will be deprecated with the Julia v1.9 release. Please see https://docs.sciml.ai/SciMLBase/stable/interfaces/Solutions/#retcodes for more information\n",
      "└ @ SciMLBase C:\\Users\\Zakhar\\.julia\\packages\\SciMLBase\\VKnrY\\src\\retcodes.jl:360\n",
      "┌ Warning: Backwards compatability support of the new return codes to Symbols will be deprecated with the Julia v1.9 release. Please see https://docs.sciml.ai/SciMLBase/stable/interfaces/Solutions/#retcodes for more information\n",
      "└ @ SciMLBase C:\\Users\\Zakhar\\.julia\\packages\\SciMLBase\\VKnrY\\src\\retcodes.jl:360\n",
      "┌ Warning: Backwards compatability support of the new return codes to Symbols will be deprecated with the Julia v1.9 release. Please see https://docs.sciml.ai/SciMLBase/stable/interfaces/Solutions/#retcodes for more information\n",
      "└ @ SciMLBase C:\\Users\\Zakhar\\.julia\\packages\\SciMLBase\\VKnrY\\src\\retcodes.jl:360\n",
      "┌ Warning: Backwards compatability support of the new return codes to Symbols will be deprecated with the Julia v1.9 release. Please see https://docs.sciml.ai/SciMLBase/stable/interfaces/Solutions/#retcodes for more information\n",
      "└ @ SciMLBase C:\\Users\\Zakhar\\.julia\\packages\\SciMLBase\\VKnrY\\src\\retcodes.jl:360\n",
      "┌ Warning: Backwards compatability support of the new return codes to Symbols will be deprecated with the Julia v1.9 release. Please see https://docs.sciml.ai/SciMLBase/stable/interfaces/Solutions/#retcodes for more information\n",
      "└ @ SciMLBase C:\\Users\\Zakhar\\.julia\\packages\\SciMLBase\\VKnrY\\src\\retcodes.jl:360\n",
      "┌ Warning: Backwards compatability support of the new return codes to Symbols will be deprecated with the Julia v1.9 release. Please see https://docs.sciml.ai/SciMLBase/stable/interfaces/Solutions/#retcodes for more information\n",
      "└ @ SciMLBase C:\\Users\\Zakhar\\.julia\\packages\\SciMLBase\\VKnrY\\src\\retcodes.jl:360\n",
      "┌ Warning: Backwards compatability support of the new return codes to Symbols will be deprecated with the Julia v1.9 release. Please see https://docs.sciml.ai/SciMLBase/stable/interfaces/Solutions/#retcodes for more information\n",
      "└ @ SciMLBase C:\\Users\\Zakhar\\.julia\\packages\\SciMLBase\\VKnrY\\src\\retcodes.jl:360\n",
      "┌ Warning: Backwards compatability support of the new return codes to Symbols will be deprecated with the Julia v1.9 release. Please see https://docs.sciml.ai/SciMLBase/stable/interfaces/Solutions/#retcodes for more information\n",
      "└ @ SciMLBase C:\\Users\\Zakhar\\.julia\\packages\\SciMLBase\\VKnrY\\src\\retcodes.jl:360\n",
      "┌ Warning: Backwards compatability support of the new return codes to Symbols will be deprecated with the Julia v1.9 release. Please see https://docs.sciml.ai/SciMLBase/stable/interfaces/Solutions/#retcodes for more information\n",
      "└ @ SciMLBase C:\\Users\\Zakhar\\.julia\\packages\\SciMLBase\\VKnrY\\src\\retcodes.jl:360\n",
      "┌ Warning: Backwards compatability support of the new return codes to Symbols will be deprecated with the Julia v1.9 release. Please see https://docs.sciml.ai/SciMLBase/stable/interfaces/Solutions/#retcodes for more information\n",
      "└ @ SciMLBase C:\\Users\\Zakhar\\.julia\\packages\\SciMLBase\\VKnrY\\src\\retcodes.jl:360\n",
      "┌ Warning: Backwards compatability support of the new return codes to Symbols will be deprecated with the Julia v1.9 release. Please see https://docs.sciml.ai/SciMLBase/stable/interfaces/Solutions/#retcodes for more information\n",
      "└ @ SciMLBase C:\\Users\\Zakhar\\.julia\\packages\\SciMLBase\\VKnrY\\src\\retcodes.jl:360\n",
      "┌ Warning: Backwards compatability support of the new return codes to Symbols will be deprecated with the Julia v1.9 release. Please see https://docs.sciml.ai/SciMLBase/stable/interfaces/Solutions/#retcodes for more information\n",
      "└ @ SciMLBase C:\\Users\\Zakhar\\.julia\\packages\\SciMLBase\\VKnrY\\src\\retcodes.jl:360\n",
      "┌ Warning: Backwards compatability support of the new return codes to Symbols will be deprecated with the Julia v1.9 release. Please see https://docs.sciml.ai/SciMLBase/stable/interfaces/Solutions/#retcodes for more information\n",
      "└ @ SciMLBase C:\\Users\\Zakhar\\.julia\\packages\\SciMLBase\\VKnrY\\src\\retcodes.jl:360\n",
      "┌ Warning: Backwards compatability support of the new return codes to Symbols will be deprecated with the Julia v1.9 release. Please see https://docs.sciml.ai/SciMLBase/stable/interfaces/Solutions/#retcodes for more information\n",
      "└ @ SciMLBase C:\\Users\\Zakhar\\.julia\\packages\\SciMLBase\\VKnrY\\src\\retcodes.jl:360\n",
      "┌ Warning: Backwards compatability support of the new return codes to Symbols will be deprecated with the Julia v1.9 release. Please see https://docs.sciml.ai/SciMLBase/stable/interfaces/Solutions/#retcodes for more information\n",
      "└ @ SciMLBase C:\\Users\\Zakhar\\.julia\\packages\\SciMLBase\\VKnrY\\src\\retcodes.jl:360\n",
      "┌ Warning: Backwards compatability support of the new return codes to Symbols will be deprecated with the Julia v1.9 release. Please see https://docs.sciml.ai/SciMLBase/stable/interfaces/Solutions/#retcodes for more information\n",
      "└ @ SciMLBase C:\\Users\\Zakhar\\.julia\\packages\\SciMLBase\\VKnrY\\src\\retcodes.jl:360\n",
      "┌ Warning: Backwards compatability support of the new return codes to Symbols will be deprecated with the Julia v1.9 release. Please see https://docs.sciml.ai/SciMLBase/stable/interfaces/Solutions/#retcodes for more information\n",
      "└ @ SciMLBase C:\\Users\\Zakhar\\.julia\\packages\\SciMLBase\\VKnrY\\src\\retcodes.jl:360\n",
      "┌ Warning: Backwards compatability support of the new return codes to Symbols will be deprecated with the Julia v1.9 release. Please see https://docs.sciml.ai/SciMLBase/stable/interfaces/Solutions/#retcodes for more information\n",
      "└ @ SciMLBase C:\\Users\\Zakhar\\.julia\\packages\\SciMLBase\\VKnrY\\src\\retcodes.jl:360\n",
      "┌ Warning: Backwards compatability support of the new return codes to Symbols will be deprecated with the Julia v1.9 release. Please see https://docs.sciml.ai/SciMLBase/stable/interfaces/Solutions/#retcodes for more information\n",
      "└ @ SciMLBase C:\\Users\\Zakhar\\.julia\\packages\\SciMLBase\\VKnrY\\src\\retcodes.jl:360\n",
      "┌ Warning: Backwards compatability support of the new return codes to Symbols will be deprecated with the Julia v1.9 release. Please see https://docs.sciml.ai/SciMLBase/stable/interfaces/Solutions/#retcodes for more information\n",
      "└ @ SciMLBase C:\\Users\\Zakhar\\.julia\\packages\\SciMLBase\\VKnrY\\src\\retcodes.jl:360\n",
      "┌ Warning: Backwards compatability support of the new return codes to Symbols will be deprecated with the Julia v1.9 release. Please see https://docs.sciml.ai/SciMLBase/stable/interfaces/Solutions/#retcodes for more information\n",
      "└ @ SciMLBase C:\\Users\\Zakhar\\.julia\\packages\\SciMLBase\\VKnrY\\src\\retcodes.jl:360\n",
      "┌ Warning: Backwards compatability support of the new return codes to Symbols will be deprecated with the Julia v1.9 release. Please see https://docs.sciml.ai/SciMLBase/stable/interfaces/Solutions/#retcodes for more information\n",
      "└ @ SciMLBase C:\\Users\\Zakhar\\.julia\\packages\\SciMLBase\\VKnrY\\src\\retcodes.jl:360\n"
     ]
    }
   ],
   "source": [
    "Fˢⁱᵈᵉˣ = []\n",
    "Fˢⁱᵈᵃⁿᶻ = []\n",
    "\n",
    "test_files = [\"State_D\"*string(n) for n=1:20]\n",
    "\n",
    "for df in test_files # loop over initial states\n",
    "\n",
    "    print(df*\" \")\n",
    "\n",
    "    # Read EXACT data series of Kurt data\n",
    "\n",
    "    ρ, t = LiPoSID.get_rho_series(data_dir*df*\"_2CUT_data.h5\", string(γᵗˣᵗ))\n",
    "\n",
    "    ρₑₓ = convert(Vector{Matrix{ComplexF64}}, ρ)\n",
    "    t = convert(Vector{Float64}, t)\n",
    "\n",
    "    # Restore data series POP identified\n",
    "\n",
    "    ρ₀ = ρₑₓ[1]\n",
    "    ρₑₓˢⁱᵈ = LiPoSID.Lindblad_time_evolution(basis, ρ₀, t, Hˢⁱᵈₑₓ, [Lˢⁱᵈₑₓ])\n",
    "    \n",
    "    \n",
    "    ρₐₙ = LiPoSID.Lindblad_time_evolution(basis, ρ₀, t, Hᵃⁿᶻ, [Lᵃⁿᶻ])    \n",
    "    ρₐₙˢⁱᵈ = LiPoSID.Lindblad_time_evolution(basis, ρ₀, t, Hˢⁱᵈₐₙ, [Lˢⁱᵈₐₙ])\n",
    "    \n",
    "\n",
    "    # Calculating fidelity series\n",
    "    Fˢⁱᵈᵉˣ = vcat(Fˢⁱᵈᵉˣ, LiPoSID.fidelity_series(basis, ρₑₓ, ρₑₓˢⁱᵈ))\n",
    "    Fˢⁱᵈᵃⁿᶻ = vcat(Fˢⁱᵈᵃⁿᶻ, LiPoSID.fidelity_series(basis, ρₐₙ, ρₐₙˢⁱᵈ))\n",
    "\n",
    "end # of files (initial states) df loop  \n"
   ]
  },
  {
   "cell_type": "code",
   "execution_count": 14,
   "id": "1378090a",
   "metadata": {},
   "outputs": [],
   "source": [
    "Fˢⁱᵈᵉˣ = convert.(Float64, Fˢⁱᵈᵉˣ)\n",
    "Fˢⁱᵈᵃⁿᶻ = convert.(Float64, Fˢⁱᵈᵃⁿᶻ);"
   ]
  },
  {
   "cell_type": "code",
   "execution_count": 15,
   "id": "ee9d10d3",
   "metadata": {},
   "outputs": [],
   "source": [
    "using StatsPlots"
   ]
  },
  {
   "cell_type": "code",
   "execution_count": 16,
   "id": "cd972852",
   "metadata": {},
   "outputs": [],
   "source": [
    "violin([Fˢⁱᵈᵉˣ, Fˢⁱᵈᵃⁿᶻ], labels = [\"POP on exact\" \"POP on ansatz\"], legend = :bottomright)\n",
    "title!(\"γ = \"*γᵗˣᵗ)\n",
    "savefig(\"violin_\"*γᵗˣᵗ*\".png\")"
   ]
  },
  {
   "cell_type": "code",
   "execution_count": null,
   "id": "f8154616",
   "metadata": {},
   "outputs": [],
   "source": []
  }
 ],
 "metadata": {
  "@webio": {
   "lastCommId": null,
   "lastKernelId": null
  },
  "kernelspec": {
   "display_name": "Julia 1.7.2",
   "language": "julia",
   "name": "julia-1.7"
  },
  "language_info": {
   "file_extension": ".jl",
   "mimetype": "application/julia",
   "name": "julia",
   "version": "1.7.2"
  }
 },
 "nbformat": 4,
 "nbformat_minor": 5
}
