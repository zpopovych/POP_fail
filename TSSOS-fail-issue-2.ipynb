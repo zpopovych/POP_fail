{
 "cells": [
  {
   "cell_type": "markdown",
   "id": "70117052",
   "metadata": {},
   "source": [
    "Dear Jie Wang,\n",
    "\n",
    "I found out that TSSOS fails to solve minimization problem for my polynomial of degree 7. Correct solution include two non-zero target variables and gives objective value around $10^{-3}$, but TSSOS finds the solution where only one target valiable is non-zero and it gives objective function value around $10^{-2}$ (ten times larger). "
   ]
  },
  {
   "cell_type": "code",
   "execution_count": 1,
   "id": "21321ae1",
   "metadata": {},
   "outputs": [
    {
     "name": "stderr",
     "output_type": "stream",
     "text": [
      "┌ Info: Precompiling TSSOS [81648402-ffe6-11e9-2394-0de17a9afdad]\n",
      "└ @ Base loading.jl:1423\n",
      "\u001b[33m\u001b[1m┌ \u001b[22m\u001b[39m\u001b[33m\u001b[1mWarning: \u001b[22m\u001b[39mPackage TSSOS does not have Printf in its dependencies:\n",
      "\u001b[33m\u001b[1m│ \u001b[22m\u001b[39m- If you have TSSOS checked out for development and have\n",
      "\u001b[33m\u001b[1m│ \u001b[22m\u001b[39m  added Printf as a dependency but haven't updated your primary\n",
      "\u001b[33m\u001b[1m│ \u001b[22m\u001b[39m  environment's manifest file, try `Pkg.resolve()`.\n",
      "\u001b[33m\u001b[1m│ \u001b[22m\u001b[39m- Otherwise you may need to report an issue with TSSOS\n",
      "\u001b[33m\u001b[1m└ \u001b[22m\u001b[39mLoading Printf into TSSOS from project dependency, future warnings for TSSOS are suppressed.\n"
     ]
    }
   ],
   "source": [
    "using DynamicPolynomials\n",
    "using TSSOS"
   ]
  },
  {
   "cell_type": "code",
   "execution_count": 2,
   "id": "eb39d027",
   "metadata": {},
   "outputs": [
    {
     "data": {
      "text/plain": [
       "(PolyVar{true}[b₁, b₂, b₃],)"
      ]
     },
     "execution_count": 2,
     "metadata": {},
     "output_type": "execute_result"
    }
   ],
   "source": [
    "@polyvar e[1]\n",
    "@polyvar a[1:3]\n",
    "@polyvar b[1:3]"
   ]
  },
  {
   "cell_type": "markdown",
   "id": "ad1b5174",
   "metadata": {},
   "source": [
    "Here is the polynomial objective:"
   ]
  },
  {
   "cell_type": "code",
   "execution_count": 3,
   "id": "ba1bd0f9",
   "metadata": {},
   "outputs": [],
   "source": [
    "p = 3.1796954746881942*a[1]^4 - 0.013938441211284344*a[1]^3*a[2] + 0.013509761228743686*a[1]^3*a[3] - 0.013452739566579244*a[1]^3*b[2] - 0.018880717674252877*a[1]^3*b[3] + 10.940820302933638*a[1]^2*a[2]^2 - 27.278937190981075*a[1]^2*a[2]*a[3] + 0.013452739566579244*a[1]^2*a[2]*b[1] - 0.0012575996083348737*a[1]^2*a[2]*b[2] - 0.0037727988250046275*a[1]^2*a[2]*b[3] + 29.16440169903429*a[1]^2*a[3]^2 + 0.018880717674252877*a[1]^2*a[3]*b[1] + 0.0037727988250046275*a[1]^2*a[3]*b[2] + 0.0012575996083348737*a[1]^2*a[3]*b[3] + 6.3593909493763885*a[1]^2*b[1]^2 - 0.013938441211284344*a[1]^2*b[1]*b[2] + 0.013509761228743686*a[1]^2*b[1]*b[3] + 10.940904373368438*a[1]^2*b[2]^2 + 27.279441613589867*a[1]^2*b[2]*b[3] + 29.164485769469103*a[1]^2*b[3]^2 - 0.007022805603459752*a[1]*a[2]^3 + 0.006808465612189406*a[1]*a[2]^2*a[3] + 0.0012575996083348737*a[1]*a[2]^2*b[1] - 0.006047872519830426*a[1]*a[2]^2*b[2] - 0.008761861573667231*a[1]*a[2]^2*b[3] - 0.006915635607824613*a[1]*a[2]*a[3]^2 - 0.013938441211284344*a[1]*a[2]*b[1]^2 - 0.00016814086959842539*a[1]*a[2]*b[1]*b[2] - 54.558378804570964*a[1]*a[2]*b[1]*b[3] - 0.007022805603459752*a[1]*a[2]*b[2]^2 - 0.006915635607824613*a[1]*a[2]*b[3]^2 + 0.006701295616554283*a[1]*a[3]^3 - 0.0012575996083348737*a[1]*a[3]^2*b[1] - 0.0074048670467488364*a[1]*a[3]^2*b[2] - 0.010118856100585652*a[1]*a[3]^2*b[3] + 0.013509761228743686*a[1]*a[3]*b[1]^2 - 54.558378804570964*a[1]*a[3]*b[1]*b[2] - 0.00016814086959842539*a[1]*a[3]*b[1]*b[3] + 0.006808465612189413*a[1]*a[3]*b[2]^2 + 0.006701295616554283*a[1]*a[3]*b[3]^2 - 0.013452739566579244*a[1]*b[1]^2*b[2] - 0.018880717674252877*a[1]*b[1]^2*b[3] - 0.0012575996083348737*a[1]*b[1]*b[2]^2 + 0.0012575996083348737*a[1]*b[1]*b[3]^2 - 0.006047872519830426*a[1]*b[2]^3 - 0.008761861573667231*a[1]*b[2]^2*b[3] - 0.007404867046748821*a[1]*b[2]*b[3]^2 - 0.010118856100585652*a[1]*b[3]^3 + 1.6697789826640932*a[2]^4 + 8.407043479921367e-5*a[2]^3*a[3] + 0.006047872519830426*a[2]^3*b[1] - 0.0012575996083348737*a[2]^3*b[3] - 2.8049274679494474*a[2]^2*a[3]^2 + 0.008761861573667238*a[2]^2*a[3]*b[1] + 0.0012575996083348737*a[2]^2*a[3]*b[2] + 10.940904373368438*a[2]^2*b[1]^2 - 0.007022805603459752*a[2]^2*b[1]*b[2] + 0.006808465612189413*a[2]^2*b[1]*b[3] + 3.3395579653281864*a[2]^2*b[2]^2 + 8.407043479921367e-5*a[2]^2*b[2]*b[3] - 2.8049274679494474*a[2]^2*b[3]^2 + 8.407043479921367e-5*a[2]*a[3]^3 + 0.0074048670467488364*a[2]*a[3]^2*b[1] - 0.0012575996083348737*a[2]*a[3]^2*b[3] + 27.279441613589867*a[2]*a[3]*b[1]^2 + 8.407043479921367e-5*a[2]*a[3]*b[2]^2 + 8.407043479921367e-5*a[2]*a[3]*b[3]^2 + 0.013452739566579244*a[2]*b[1]^3 + 0.0012575996083348737*a[2]*b[1]^2*b[2] - 0.0037727988250046275*a[2]*b[1]^2*b[3] + 0.006047872519830426*a[2]*b[1]*b[2]^2 + 0.007404867046748821*a[2]*b[1]*b[3]^2 - 0.0012575996083348737*a[2]*b[2]^2*b[3] - 0.0012575996083348737*a[2]*b[3]^3 + 10.781569680714417*a[3]^4 + 0.010118856100585652*a[3]^3*b[1] + 0.0012575996083348737*a[3]^3*b[2] + 29.164485769469103*a[3]^2*b[1]^2 - 0.006915635607824613*a[3]^2*b[1]*b[2] + 0.006701295616554283*a[3]^2*b[1]*b[3] - 2.8049274679494474*a[3]^2*b[2]^2 + 8.407043479921367e-5*a[3]^2*b[2]*b[3] + 21.563139361428835*a[3]^2*b[3]^2 + 0.018880717674252877*a[3]*b[1]^3 + 0.0037727988250046275*a[3]*b[1]^2*b[2] - 0.0012575996083348737*a[3]*b[1]^2*b[3] + 0.008761861573667238*a[3]*b[1]*b[2]^2 + 0.010118856100585652*a[3]*b[1]*b[3]^2 + 0.0012575996083348737*a[3]*b[2]^3 + 0.0012575996083348737*a[3]*b[2]*b[3]^2 + 3.1796954746881942*b[1]^4 - 0.013938441211284344*b[1]^3*b[2] + 0.013509761228743686*b[1]^3*b[3] + 10.940820302933638*b[1]^2*b[2]^2 - 27.278937190981075*b[1]^2*b[2]*b[3] + 29.16440169903429*b[1]^2*b[3]^2 - 0.007022805603459752*b[1]*b[2]^3 + 0.006808465612189406*b[1]*b[2]^2*b[3] - 0.006915635607824613*b[1]*b[2]*b[3]^2 + 0.006701295616554283*b[1]*b[3]^3 + 1.6697789826640932*b[2]^4 + 8.407043479921367e-5*b[2]^3*b[3] - 2.8049274679494474*b[2]^2*b[3]^2 + 8.407043479921367e-5*b[2]*b[3]^3 + 10.781569680714417*b[3]^4 + 0.006726369783289622e[1]*a[1]*a[2] - 0.009440358837126439e[1]*a[1]*a[3] - 0.006969220605642172e[1]*a[1]*b[2] - 0.006754880614371843e[1]*a[1]*b[3] - 0.0025151992166697473e[1]*a[2]*a[3] + 0.006969220605642172e[1]*a[2]*b[1] - 0.00016814086959842734e[1]*a[2]*b[3] + 0.006754880614371843e[1]*a[3]*b[1] + 0.00016814086959842734e[1]*a[3]*b[2] + 0.006726369783289622e[1]*b[1]*b[2] - 0.009440358837126439e[1]*b[1]*b[3] - 0.0025151992166697473e[1]*b[2]*b[3] + 0.7949238686720486e[1]^2 - 0.12633248529941715*a[1]^2 - 0.16830836694029816*a[1]*a[2] + 0.237859479265304*a[1]*a[3] + 0.17649515156650372*a[1]*b[2] + 0.17048217150495282*a[1]*b[3] - 0.26545473091539*a[2]^2 - 6.903431434130552e-5*a[2]*a[3] - 0.17649515156650372*a[2]*b[1] + 0.00022766619848354*a[2]*b[3] + 0.28623783345868997*a[3]^2 - 0.17048217150495282*a[3]*b[1] - 0.00022766619848354*a[3]*b[2] - 0.12633248529941715*b[1]^2 - 0.16830836694029816*b[1]*b[2] + 0.237859479265304*b[1]*b[3] - 0.26545473091539*b[2]^2 - 6.903431434130552e-5*b[2]*b[3] + 0.28623783345868997*b[3]^2 - 39.94662884489179*e[1] + 501.8627949039175;\n"
   ]
  },
  {
   "cell_type": "code",
   "execution_count": 4,
   "id": "a4e8f915",
   "metadata": {},
   "outputs": [
    {
     "name": "stdout",
     "output_type": "stream",
     "text": [
      "*********************************** TSSOS ***********************************\n",
      "Version 1.0.0, developed by Jie Wang, 2020--2023\n",
      "TSSOS is launching...\n",
      "optimum = 0.0005505821371892873\n",
      "\n",
      "******************************************************************************\n",
      "This program contains Ipopt, a library for large-scale nonlinear optimization.\n",
      " Ipopt is released as open source code under the Eclipse Public License (EPL).\n",
      "         For more information visit https://github.com/coin-or/Ipopt\n",
      "******************************************************************************\n",
      "\n",
      "Global optimality certified with relative optimality gap 0.000012%!\n",
      "No higher TS step of the TSSOS hierarchy!\n"
     ]
    },
    {
     "data": {
      "text/plain": [
       "7-element Vector{Float64}:\n",
       " 25.126102546753827\n",
       " -0.00014081513419069612\n",
       "  0.208176601347012\n",
       "  0.04385206932745535\n",
       " -2.825295411971285e-5\n",
       "  0.20477404116965028\n",
       "  0.049122111493195134"
      ]
     },
     "execution_count": 4,
     "metadata": {},
     "output_type": "execute_result"
    }
   ],
   "source": [
    "opt,sol,data = tssos_first(p, variables(p), QUIET=true, solution=true);\n",
    "previous_sol = sol\n",
    "\n",
    "while ~isnothing(sol)\n",
    "    previous_sol = sol\n",
    "    opt,sol,data = tssos_higher!(data; QUIET=true, solution=true);\n",
    "end\n",
    "\n",
    "minimizer_tssos = previous_sol"
   ]
  },
  {
   "cell_type": "markdown",
   "id": "1f28b794",
   "metadata": {},
   "source": [
    "All the values in the solution above are zero except the first one. "
   ]
  },
  {
   "cell_type": "markdown",
   "id": "1b37061c",
   "metadata": {},
   "source": [
    "With TSSOS solution objective is around $10^{−2}$:"
   ]
  },
  {
   "cell_type": "code",
   "execution_count": 5,
   "id": "b1a608e0",
   "metadata": {},
   "outputs": [
    {
     "data": {
      "text/latex": [
       "$$ 0.0005504616794951289 $$"
      ],
      "text/plain": [
       "0.0005504616794951289"
      ]
     },
     "execution_count": 5,
     "metadata": {},
     "output_type": "execute_result"
    }
   ],
   "source": [
    "solution = variables(p) => minimizer_tssos\n",
    "subs(p, solution)"
   ]
  },
  {
   "cell_type": "code",
   "execution_count": 6,
   "id": "c078600b",
   "metadata": {},
   "outputs": [
    {
     "name": "stdout",
     "output_type": "stream",
     "text": [
      "*********************************** TSSOS ***********************************\n",
      "Version 1.0.0, developed by Jie Wang, 2020--2023\n",
      "TSSOS is launching...\n",
      "optimum = 0.0005505821371892873\n",
      "Global optimality certified with relative optimality gap 0.000012%!\n",
      "No higher TS step of the TSSOS hierarchy!\n"
     ]
    },
    {
     "data": {
      "text/plain": [
       "7-element Vector{Float64}:\n",
       " 25.126102546753827\n",
       " -0.00014081513419069612\n",
       "  0.208176601347012\n",
       "  0.04385206932745535\n",
       " -2.825295411971285e-5\n",
       "  0.20477404116965028\n",
       "  0.049122111493195134"
      ]
     },
     "execution_count": 6,
     "metadata": {},
     "output_type": "execute_result"
    }
   ],
   "source": [
    "opt,sol,data = tssos_first(p, variables(p), QUIET=true, solution=true);\n",
    "previous_sol = sol\n",
    "\n",
    "while ~isnothing(sol)\n",
    "    previous_sol = sol\n",
    "    opt,sol,data = tssos_higher!(data; QUIET=true, solution=true);\n",
    "end\n",
    "\n",
    "minimizer_tssos = previous_sol"
   ]
  },
  {
   "cell_type": "code",
   "execution_count": 7,
   "id": "76cbe3e6",
   "metadata": {},
   "outputs": [
    {
     "data": {
      "text/latex": [
       "$$ 0.0005504616794951289 $$"
      ],
      "text/plain": [
       "0.0005504616794951289"
      ]
     },
     "execution_count": 7,
     "metadata": {},
     "output_type": "execute_result"
    }
   ],
   "source": [
    "solution = variables(p) => minimizer_tssos\n",
    "subs(p, solution)"
   ]
  },
  {
   "cell_type": "markdown",
   "id": "6e61e43c",
   "metadata": {},
   "source": [
    "But a better solution exists where two variables are non-zero:"
   ]
  },
  {
   "cell_type": "code",
   "execution_count": 6,
   "id": "cec6cc6f",
   "metadata": {},
   "outputs": [
    {
     "data": {
      "text/plain": [
       "PolyVar{true}[e₁, a₁, a₂, a₃, b₁, b₂, b₃] => [25.12607221207684, 0.0, 0.281936, 0.0, 0.0, 0.0, 0.0]"
      ]
     },
     "execution_count": 6,
     "metadata": {},
     "output_type": "execute_result"
    }
   ],
   "source": [
    "good_sol = PolyVar{true}[e[1], a[1], a[2], a[3], b[1], b[2], b[3]] => [25.12607221207684, 0, 0.281936, 0, 0, 0, 0]"
   ]
  },
  {
   "cell_type": "markdown",
   "id": "cb615269",
   "metadata": {},
   "source": [
    "With this solution objective is around $10^{−3}$:"
   ]
  },
  {
   "cell_type": "code",
   "execution_count": 7,
   "id": "a6bb038f",
   "metadata": {},
   "outputs": [
    {
     "data": {
      "text/latex": [
       "$$ 0.0013068163059415383 $$"
      ],
      "text/plain": [
       "0.0013068163059415383"
      ]
     },
     "execution_count": 7,
     "metadata": {},
     "output_type": "execute_result"
    }
   ],
   "source": [
    "subs(p, good_sol)"
   ]
  },
  {
   "cell_type": "code",
   "execution_count": null,
   "id": "b757f660",
   "metadata": {},
   "outputs": [],
   "source": [
    "$L' = L + a I$\n",
    "\n",
    "$ a = -\\operatorname{tr}(L)/2$\n",
    "\n",
    "$ H' = H + \\frac{1}{2i} (a^*L - a L^\\dagger)$"
   ]
  }
 ],
 "metadata": {
  "@webio": {
   "lastCommId": null,
   "lastKernelId": null
  },
  "kernelspec": {
   "display_name": "Julia 1.7.2",
   "language": "julia",
   "name": "julia-1.7"
  },
  "language_info": {
   "file_extension": ".jl",
   "mimetype": "application/julia",
   "name": "julia",
   "version": "1.7.2"
  }
 },
 "nbformat": 4,
 "nbformat_minor": 5
}
