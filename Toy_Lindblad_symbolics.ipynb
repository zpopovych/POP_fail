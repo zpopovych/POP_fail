{
 "cells": [
  {
   "cell_type": "code",
   "execution_count": 2,
   "id": "e3deb380",
   "metadata": {},
   "outputs": [],
   "source": [
    "using Symbolics"
   ]
  },
  {
   "cell_type": "markdown",
   "id": "e8787437",
   "metadata": {},
   "source": [
    "Consider simplified Lindblad type equation:\n",
    "\n",
    "$\n",
    "    \\frac{d\\rho}{dt} = - i[H, \\rho]+\\gamma\\left[A \\rho A^\\dagger - \\frac{1}{2}\\left\\{ A^\\dagger A, \\rho \\right\\} \\right],\n",
    "$\n",
    "\n",
    "where\n",
    "$A = a|0\\rangle \\langle 1|  = \\begin{pmatrix} 0 & a \\\\ 0 & 0\n",
    "   \\end{pmatrix}$, \n",
    "    and\n",
    "$ H =  \\begin{pmatrix} \\omega & 0 \\\\ 0 & 0\n",
    "   \\end{pmatrix}$\n",
    "\n",
    "To identify parameters of Lindblad equation we need to find optimum values of  angular frequency $\\omega$ and decay rate $\\gamma$.\n"
   ]
  },
  {
   "cell_type": "code",
   "execution_count": 3,
   "id": "ba455c18",
   "metadata": {},
   "outputs": [
    {
     "data": {
      "text/plain": [
       "2×2 Matrix{Any}:\n",
       " 1//3                (1//3)*sqrt(2)\n",
       "   (1//3)*sqrt(2)  1//3"
      ]
     },
     "execution_count": 3,
     "metadata": {},
     "output_type": "execute_result"
    }
   ],
   "source": [
    "@variables a ω\n",
    "\n",
    "sqrt2 = Symbolics.Term(sqrt,[2])\n",
    "\n",
    "H = [ω 0 + 0im\n",
    "     0 0.]\n",
    "A = [0 a + 0im\n",
    "     0 0.]\n",
    "\n",
    "ρ₀ = [1 -im\n",
    "      im  1]//2\n",
    "\n",
    "ρ₂ = [ 1 sqrt2 \n",
    "      sqrt2  1]//3\n"
   ]
  },
  {
   "cell_type": "code",
   "execution_count": 4,
   "id": "de439623",
   "metadata": {},
   "outputs": [
    {
     "data": {
      "text/plain": [
       "lindblad_rhs (generic function with 1 method)"
      ]
     },
     "execution_count": 4,
     "metadata": {},
     "output_type": "execute_result"
    }
   ],
   "source": [
    "function lindblad_rhs(ρ, H, A::Matrix)\n",
    "    \"\"\"\n",
    "    Right hand side of the Lindblad master equation\n",
    "    \"\"\"\n",
    "    return -im * (H * ρ - ρ * H) + A * ρ * A' - (A' * A  * ρ + ρ * A' * A) / 2\n",
    "    \n",
    "end"
   ]
  },
  {
   "cell_type": "code",
   "execution_count": 5,
   "id": "bff3b8e5",
   "metadata": {},
   "outputs": [
    {
     "data": {
      "text/plain": [
       "2×2 Matrix{Any}:\n",
       " (5//12)*(a^2)                                                                       …    ((1//8)*im*(a^2) - (1//4)*ω) + ((-1//12)*(a^2) - (1//6)*im*ω)*sqrt(2)\n",
       "              ((-1//4)*ω - (1//8)*im*(a^2)) + ((1//6)*im*ω - (1//12)*(a^2))*sqrt(2)     (-5//12)*(a^2)"
      ]
     },
     "execution_count": 5,
     "metadata": {},
     "output_type": "execute_result"
    }
   ],
   "source": [
    "L = lindblad_rhs((ρ₀ + ρ₂)/2, H, A)"
   ]
  },
  {
   "cell_type": "code",
   "execution_count": 6,
   "id": "fed86202",
   "metadata": {},
   "outputs": [
    {
     "data": {
      "text/plain": [
       "2×2 Matrix{Any}:\n",
       " (-1//6) - (5//12)*(a^2)                                                                            …                 ((1//4)*ω + im*((1//2) - (1//8)*(a^2))) + ((1//3) + (1//12)*(a^2) + (1//6)*im*ω)*sqrt(2)\n",
       "          ((1//4)*ω + im*((1//8)*(a^2) - (1//2))) + ((1//3) + (1//12)*(a^2) - (1//6)*im*ω)*sqrt(2)     (5//12)*(a^2) - (1//6)"
      ]
     },
     "execution_count": 6,
     "metadata": {},
     "output_type": "execute_result"
    }
   ],
   "source": [
    "M = (ρ₂ - ρ₀) - L"
   ]
  },
  {
   "cell_type": "code",
   "execution_count": 7,
   "id": "7ca4746d",
   "metadata": {},
   "outputs": [],
   "source": [
    "using LinearAlgebra"
   ]
  },
  {
   "cell_type": "code",
   "execution_count": 22,
   "id": "19c074f4",
   "metadata": {},
   "outputs": [
    {
     "ename": "LoadError",
     "evalue": "UndefVarError: AbstractPolynomial not defined",
     "output_type": "error",
     "traceback": [
      "UndefVarError: AbstractPolynomial not defined",
      "",
      "Stacktrace:",
      " [1] top-level scope",
      "   @ In[22]:2",
      " [2] eval",
      "   @ .\\boot.jl:373 [inlined]",
      " [3] include_string(mapexpr::typeof(REPL.softscope), mod::Module, code::String, filename::String)",
      "   @ Base .\\loading.jl:1196"
     ]
    }
   ],
   "source": [
    "import Base.real\n",
    "function real(p::AbstractPolynomial)\n",
    "    sum(real(coef) * mon for (coef, mon) in zip(coefficients(p), monomials(p))) #if ~isapproxzero(abs(coef)))\n",
    "end"
   ]
  },
  {
   "cell_type": "code",
   "execution_count": 8,
   "id": "f81d9056",
   "metadata": {},
   "outputs": [
    {
     "data": {
      "text/plain": [
       "(((-1//6) - (5//12)*(a^2))^2) + (((1//4)*ω + im*((1//8)*(a^2) - (1//2))) + ((1//3) + (1//12)*(a^2) - (1//6)*im*ω)*sqrt(2))^2"
      ]
     },
     "execution_count": 8,
     "metadata": {},
     "output_type": "execute_result"
    }
   ],
   "source": [
    "M1 = M[1,1]^2 + M[2,1]^2 "
   ]
  },
  {
   "cell_type": "code",
   "execution_count": 9,
   "id": "fb924989",
   "metadata": {},
   "outputs": [
    {
     "data": {
      "text/plain": [
       "(((1//4)*ω + im*((1//2) - (1//8)*(a^2))) + ((1//3) + (1//12)*(a^2) + (1//6)*im*ω)*sqrt(2))^2"
      ]
     },
     "execution_count": 9,
     "metadata": {},
     "output_type": "execute_result"
    }
   ],
   "source": [
    "M[1,2]^2"
   ]
  },
  {
   "cell_type": "code",
   "execution_count": 10,
   "id": "017b188e",
   "metadata": {},
   "outputs": [
    {
     "data": {
      "text/plain": [
       "((5//12)*(a^2) - (1//6))^2"
      ]
     },
     "execution_count": 10,
     "metadata": {},
     "output_type": "execute_result"
    }
   ],
   "source": [
    "M[2,2]^2"
   ]
  },
  {
   "cell_type": "code",
   "execution_count": 11,
   "id": "0d3b7daa",
   "metadata": {},
   "outputs": [
    {
     "data": {
      "text/plain": [
       "(((5//12)*(a^2) - (1//6))^2) + (((1//4)*ω + im*((1//2) - (1//8)*(a^2))) + ((1//3) + (1//12)*(a^2) + (1//6)*im*ω)*sqrt(2))^2"
      ]
     },
     "execution_count": 11,
     "metadata": {},
     "output_type": "execute_result"
    }
   ],
   "source": [
    "M2 = M[1,2]^2 + M[2,2]^2"
   ]
  },
  {
   "cell_type": "code",
   "execution_count": 15,
   "id": "a31b5ea1",
   "metadata": {},
   "outputs": [
    {
     "data": {
      "text/plain": [
       "(((-1//6) - (5//12)*(a^2))^2) + (((1//4)*ω + im*((1//8)*(a^2) - (1//2))) + ((1//3) + (1//12)*(a^2) - (1//6)*im*ω)*sqrt(2))^2 + real((((5//12)*(a^2) - (1//6))^2) + (((1//4)*ω + im*((1//2) - (1//8)*(a^2))) + ((1//3) + (1//12)*(a^2) + (1//6)*im*ω)*sqrt(2))^2)"
      ]
     },
     "execution_count": 15,
     "metadata": {},
     "output_type": "execute_result"
    }
   ],
   "source": [
    "M12 = M1 + real(M2)"
   ]
  },
  {
   "cell_type": "code",
   "execution_count": 21,
   "id": "b017e646",
   "metadata": {},
   "outputs": [
    {
     "ename": "LoadError",
     "evalue": "UndefVarError: coefficients not defined",
     "output_type": "error",
     "traceback": [
      "UndefVarError: coefficients not defined",
      "",
      "Stacktrace:",
      " [1] top-level scope",
      "   @ In[21]:2",
      " [2] eval",
      "   @ .\\boot.jl:373 [inlined]",
      " [3] include_string(mapexpr::typeof(REPL.softscope), mod::Module, code::String, filename::String)",
      "   @ Base .\\loading.jl:1196"
     ]
    }
   ],
   "source": [
    "\n",
    "obj = sum(real(coef) * mon for (coef, mon) in zip(coefficients(M12), monomials(M12)))"
   ]
  },
  {
   "cell_type": "code",
   "execution_count": null,
   "id": "a21636dd",
   "metadata": {},
   "outputs": [],
   "source": []
  }
 ],
 "metadata": {
  "kernelspec": {
   "display_name": "Julia 1.7.2",
   "language": "julia",
   "name": "julia-1.7"
  },
  "language_info": {
   "file_extension": ".jl",
   "mimetype": "application/julia",
   "name": "julia",
   "version": "1.7.2"
  }
 },
 "nbformat": 4,
 "nbformat_minor": 5
}
