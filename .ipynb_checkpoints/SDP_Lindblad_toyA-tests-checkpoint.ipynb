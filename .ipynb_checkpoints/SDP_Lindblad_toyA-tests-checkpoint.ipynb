{
 "cells": [
  {
   "cell_type": "markdown",
   "id": "5a5bccd1",
   "metadata": {},
   "source": [
    "### Toy Lindblad identification as POP solved with Moment SDP"
   ]
  },
  {
   "cell_type": "code",
   "execution_count": 1,
   "id": "1bcc8bc4",
   "metadata": {},
   "outputs": [],
   "source": [
    "using LinearAlgebra, JuMP, MosekTools\n",
    "using Optim"
   ]
  },
  {
   "cell_type": "markdown",
   "id": "0eb49df0",
   "metadata": {},
   "source": [
    "Consider SDP optimization problem of the form:\n",
    "\\begin{align} \n",
    "&\\operatorname{minimize}{ \\left( \\mathbf{trace}{(C X)} \\right) }\\\\\n",
    "&\\operatorname{subject to} { y_i := \\left( \\mathbf{trace}{(A_i X)} \\right) = b_i}, \\quad i = 1... m, \\quad\n",
    "X \\succcurlyeq 0\n",
    "\\end{align}\n",
    "\n",
    "where $X\\in\\mathbf{S}^{n}$ is the decision variable, and each of the $A_{i}$ matrices and $C$ are also in $\\mathbf{S}^{n}$  By the notation $\\mathbf{S}^{n}$, we denote the set of all symmetric $n \\times n$ matrices.\n",
    "\n",
    "It could be solved with the following function:"
   ]
  },
  {
   "cell_type": "code",
   "execution_count": 2,
   "id": "d7947f1d",
   "metadata": {},
   "outputs": [
    {
     "data": {
      "text/plain": [
       "solve_SDP (generic function with 1 method)"
      ]
     },
     "execution_count": 2,
     "metadata": {},
     "output_type": "execute_result"
    }
   ],
   "source": [
    "function solve_SDP(A, b, C; quiet = false, term_tolerance = 1e-7)\n",
    "    \n",
    "    start_time = time()\n",
    "    \n",
    "    n = size(A)[1] # = size(C)[1]\n",
    "    m = length(b)\n",
    "\n",
    "    model = Model(optimizer_with_attributes(Mosek.Optimizer, \"QUIET\" => quiet, \"INTPNT_CO_TOL_DFEAS\" => term_tolerance))\n",
    "\n",
    "    #set_silent(model)\n",
    "\n",
    "    @variable(model, X[1:n, 1:n], PSD)\n",
    "\n",
    "    @objective(model, Min, tr(C * X));\n",
    "    \n",
    "    @constraint(model, y[j=1:m], tr(A[:, (j - 1) * n + 1:j * n]* X) == b[j])\n",
    "\n",
    "    optimize!(model)\n",
    "\n",
    "    status = JuMP.termination_status(model)\n",
    "    X_sol = JuMP.value.(X)\n",
    "    obj_value = JuMP.objective_value(model)\n",
    "    dual_sol = dual.(y)\n",
    "    run_time = time() - start_time\n",
    "\n",
    "    return model, status, run_time, X_sol, dual_sol, obj_value\n",
    "    \n",
    "end"
   ]
  },
  {
   "cell_type": "markdown",
   "id": "d2686b1c",
   "metadata": {},
   "source": [
    "Within the Markovian approximation when the trajectory of the system is determined by its current state and do not depend on the previous history of its evolution we can use Lindblad master equation:\n",
    "\n",
    "$\\mathcal{L}\\left[\\rho\\right] = - i [H, \\rho]+\\sum_{\\ell=1}^{s-1}\\left[A_\\ell\n",
    "\\rho A_\\ell^\\dagger - \\frac{1}{2}\\left\\{ A_\\ell^\\dagger A_\\ell, \\rho \\right\\} \\right]$\n",
    "\n",
    "Consider simplified Lindblad type equation:\n",
    "\n",
    "$\n",
    "    \\frac{d\\rho}{dt} = - i[H, \\rho]+\\gamma\\left[A \\rho A^\\dagger - \\frac{1}{2}\\left\\{ A^\\dagger A, \\rho \\right\\} \\right],\n",
    "$\n",
    "\n",
    "where\n",
    "$A = \\begin{pmatrix} 0 & a \\\\ 0 & 0\n",
    "   \\end{pmatrix}$ and\n",
    "$ H =  \\begin{pmatrix} \\omega & 0 \\\\ 0 & 0\n",
    "    \\end{pmatrix}$\n",
    "\n",
    "To identify parameters of Lindblad equation we need to find optimum values of  angular frequency $\\omega$ and decay rate $\\gamma$.\n"
   ]
  },
  {
   "cell_type": "markdown",
   "id": "92d4b921",
   "metadata": {},
   "source": [
    "We can formulate the following minimization problem using Pade approximation and just the initial and final state of the evolution (we do it here just for illustrative purposes as in practice we can do it only if $\\Delta t$ is small):\n",
    "\n",
    "$\\min_{\\gamma, H}{{\\left\\|{ \\rho_f - \\rho_0 - \\Delta t {\\mathcal{L}} \\left[\\frac{ \\rho_f + \\rho_0}{2} \\right]} \\right\\|}_F^2}$\n",
    "\n",
    "where  $\\mathcal{L}$ is the Lindbladian operator:\n",
    "\n",
    "$\\mathcal{L} = - i[H, \\rho]+\\gamma\\left[A \\rho A^\\dagger - \\frac{1}{2}\\left\\{ A^\\dagger A, \\rho \\right\\} \\right]$\n",
    "\n",
    "Consider Hamiltonian $H$ and dissipator  $A$  of a very simple form\n"
   ]
  },
  {
   "cell_type": "code",
   "execution_count": 3,
   "id": "8e8b96dc",
   "metadata": {},
   "outputs": [
    {
     "data": {
      "text/plain": [
       "2×2 Matrix{Term{true, Int64}}:\n",
       " 0  a\n",
       " 0  0"
      ]
     },
     "execution_count": 3,
     "metadata": {},
     "output_type": "execute_result"
    }
   ],
   "source": [
    "using DynamicPolynomials\n",
    "using LinearAlgebra\n",
    "\n",
    "@polyvar ω a\n",
    "\n",
    "H = [ω 0\n",
    "     0 0]\n",
    "A = [0 a\n",
    "     0 0]"
   ]
  },
  {
   "cell_type": "markdown",
   "id": "07829a74",
   "metadata": {},
   "source": [
    "Now consider transfer:\n",
    "$ |y \\rangle  = \\frac{|0 \\rangle + i|1\\rangle}{\\sqrt{2}} \\rightarrow |\\psi \\rangle  = \\sqrt{\\frac{2}{3}}|0\\rangle + \\frac{1}{\\sqrt{3}} |1 \\rangle   $"
   ]
  },
  {
   "cell_type": "code",
   "execution_count": 4,
   "id": "9ea060f8",
   "metadata": {},
   "outputs": [
    {
     "data": {
      "text/latex": [
       "$$ (0.40624999999999994 + 0.0im)a^{4} + (0.23611111111111113 + 0.0im)ω^{2} + (-0.30555555555555547 + 0.0im)a^{2} + (-0.9428090415820635 + 0.0im)ω + (1.0 + 0.0im) $$"
      ],
      "text/plain": [
       "(0.40624999999999994 + 0.0im)a⁴ + (0.23611111111111113 + 0.0im)ω² + (-0.30555555555555547 + 0.0im)a² + (-0.9428090415820635 + 0.0im)ω + (1.0 + 0.0im)"
      ]
     },
     "execution_count": 4,
     "metadata": {},
     "output_type": "execute_result"
    }
   ],
   "source": [
    "ρ₁ = [1   im\n",
    "      -im  1]/2\n",
    "\n",
    "ρ₂ = [ 2 √2 \n",
    "      √2  1]/3\n",
    "\n",
    "ρ = (ρ₁ + ρ₂)/2\n",
    "\n",
    "L = -im * (H * ρ - ρ * H) + (A * ρ * A' - (A' * A  * ρ + ρ * A' * A) / 2)\n",
    "M = (ρ₂ - ρ₁) - L\n",
    "\n",
    "obj = tr(M * M')"
   ]
  },
  {
   "cell_type": "code",
   "execution_count": 5,
   "id": "ae90928c",
   "metadata": {},
   "outputs": [
    {
     "data": {
      "text/latex": [
       "$$ 0.40624999999999994a^{4} + 0.23611111111111113ω^{2} - 0.30555555555555547a^{2} - 0.9428090415820635ω + 1.0 $$"
      ],
      "text/plain": [
       "0.40624999999999994a⁴ + 0.23611111111111113ω² - 0.30555555555555547a² - 0.9428090415820635ω + 1.0"
      ]
     },
     "execution_count": 5,
     "metadata": {},
     "output_type": "execute_result"
    }
   ],
   "source": [
    "import Base.real\n",
    "\n",
    "function real(p::AbstractPolynomial)\n",
    "    sum(Base.real(coef) * mon for (coef, mon) in zip(coefficients(p), monomials(p))) #if ~isapproxzero(abs(coef)))\n",
    "end\n",
    "\n",
    "obj = real(obj)"
   ]
  },
  {
   "cell_type": "markdown",
   "id": "9799d9e1",
   "metadata": {},
   "source": [
    "we have objective function:\n",
    "$\n",
    "L = {\\left\\|{ \\rho_2 - \\rho_1 - \\Delta t {\\mathcal{L}} \\left[\\frac{ \\rho_1 + \\rho_2}{2} \\right]} \\right\\|}_F^2 =\n",
    "1 - \\frac{11 }{36}\\Delta t a^2 + \\frac{13 }{32}\\Delta t^2 a^4 - \\frac{2 \\sqrt{2} }{3}\\Delta t\\omega + \\frac{17 }{72}\\Delta t^2\\omega^2\n",
    "$,\n",
    "\n",
    "where "
   ]
  },
  {
   "cell_type": "code",
   "execution_count": 6,
   "id": "73efa0e0",
   "metadata": {},
   "outputs": [
    {
     "data": {
      "text/plain": [
       "(0.2361111111111111, 0.40625, -0.9428090415820635, -0.3055555555555556, 1)"
      ]
     },
     "execution_count": 6,
     "metadata": {},
     "output_type": "execute_result"
    }
   ],
   "source": [
    "17/72, 13/32, -2√2/3, -11/36, 1"
   ]
  },
  {
   "cell_type": "markdown",
   "id": "97552676",
   "metadata": {},
   "source": [
    "Introducing $x_1 = \\Delta t \\omega$ and $ x_2 = \\Delta t a$ we can rewrite the objective as a following polynomial optimization problem:"
   ]
  },
  {
   "cell_type": "markdown",
   "id": "223fc5d7",
   "metadata": {},
   "source": [
    "$\n",
    "p(x) = 1 - \\frac{2 \\sqrt2}{3}x_1 -\\frac{11}{36} x_2^2  + \\frac{17}{72}x_1^4 + 0x_1x_2 + \\frac{13}{32}x_2^4\n",
    "$\n",
    "\n",
    "$\\min_{x \\in \\mathbb{R}^2 } p(x)$"
   ]
  },
  {
   "cell_type": "code",
   "execution_count": 7,
   "id": "379110d7",
   "metadata": {},
   "outputs": [
    {
     "data": {
      "text/plain": [
       "p (generic function with 1 method)"
      ]
     },
     "execution_count": 7,
     "metadata": {},
     "output_type": "execute_result"
    }
   ],
   "source": [
    "function p(x)\n",
    "    1 -(2√2/3)*x[1] -(11/36)*x[2]^2 + (17/72)*x[1]^2 + (13/32)*x[2]^4\n",
    "end"
   ]
  },
  {
   "cell_type": "markdown",
   "id": "ff3e5a31",
   "metadata": {},
   "source": [
    "For such a simple polynomial minimizers could be found analiticaly\n",
    "or by standard numerical methods.\n",
    "\n",
    "Analitical solution:"
   ]
  },
  {
   "cell_type": "code",
   "execution_count": 8,
   "id": "cc927d5f",
   "metadata": {},
   "outputs": [
    {
     "name": "stdout",
     "output_type": "stream",
     "text": [
      "x₁ᵃⁿᵃˡⁱᵗ = (24 * √2) / 17 = 1.9965367939384873\n",
      "x₂ᵃⁿᵃˡⁱᵗ = (2 * sqrt(11 / 13)) / 3 = 0.6132441406718666\n"
     ]
    },
    {
     "data": {
      "text/plain": [
       "0.0013686386235402595"
      ]
     },
     "execution_count": 8,
     "metadata": {},
     "output_type": "execute_result"
    }
   ],
   "source": [
    "@show x₁ᵃⁿᵃˡⁱᵗ = 24√2/17 # ω\n",
    "@show x₂ᵃⁿᵃˡⁱᵗ = 2*sqrt(11/13)/3 # a = 2*sqrt(11/13)/3, γ = 44/117\n",
    "p([x₁ᵃⁿᵃˡⁱᵗ, x₂ᵃⁿᵃˡⁱᵗ])"
   ]
  },
  {
   "cell_type": "markdown",
   "id": "85894c0d",
   "metadata": {},
   "source": [
    "Numerical solution with BFGS:"
   ]
  },
  {
   "cell_type": "code",
   "execution_count": 9,
   "id": "b411f13a",
   "metadata": {},
   "outputs": [
    {
     "name": "stdout",
     "output_type": "stream",
     "text": [
      "(x₁ᵇᶠᵍˢ, x₂ᵇᶠᵍˢ) = Optim.minimizer(result) = [1.9965367939244139, 0.0]\n"
     ]
    },
    {
     "data": {
      "text/plain": [
       "0.05882352941176461"
      ]
     },
     "execution_count": 9,
     "metadata": {},
     "output_type": "execute_result"
    }
   ],
   "source": [
    "result = optimize(obj, zeros(2), BFGS())\n",
    "@show x₁ᵇᶠᵍˢ, x₂ᵇᶠᵍˢ = Optim.minimizer(result)\n",
    "p([x₁ᵇᶠᵍˢ, x₂ᵇᶠᵍˢ])"
   ]
  },
  {
   "cell_type": "markdown",
   "id": "4d0d1849",
   "metadata": {},
   "source": [
    "#### We can also try to solve our polynomial optimization problem as SDP in the space of moments\n",
    "\n",
    "We can rewrite polynomial $p(x)$ as linear combination of monomials\n",
    "$\n",
    "p(x) = \\sum_{\\alpha \\leq d} p_\\alpha x^\\alpha,   \n",
    "$\n",
    "\n",
    "where $x = \\left( x_1, x_2 \\right)^T$ and $\\alpha = (\\alpha_1, \\alpha_2), \\quad \\alpha_i \\in \\{0 \\dots d\\}$, as in our case $x \\in \\mathbb{R}^2$ thus $d=2$ and for $\\alpha$ we have all combinations of degrees $\\alpha_i = 0,1,2$.\n",
    "\n",
    "To solve our problem as SDP in the space of moments we move in the following steps:"
   ]
  },
  {
   "cell_type": "markdown",
   "id": "3dcc69c8",
   "metadata": {},
   "source": [
    "#### 1. Infinite-dimensional LP\n",
    "Reformulate the Nonlinear Optimization problem in terms of Probability Distributions (measures) to obtain the Infinite-dimensional Linear Programming problem in infinite-dimensional space of measures.\n",
    "\n",
    "$\\min_{\\mu \\in \\mathcal{M}(\\mathcal{X}} {\\operatorname{E} [p(x)] = \\sum_\\alpha^\\infty p_\\alpha y_\\alpha}$\n",
    "\n"
   ]
  },
  {
   "cell_type": "markdown",
   "id": "f4b0c773",
   "metadata": {},
   "source": [
    "#### 2. Infinite-dimensional SDP \n",
    "\n",
    "Reformulate the infinite-dimensional Problem of Step 1 in terms of Moments (higher order statistics) to obtain an infinite-dimensional Semi-Definite Programming problem.\n",
    "\n",
    "$\\min_{y \\in \\mathcal{Y}}{\\operatorname{E} [p(x)] = \\sum_\\alpha^\\infty p_\\alpha y_\\alpha}{}$\n",
    " \n",
    "$\\operatorname{s.t.}\n",
    " M_1(y), M_2(y), M_3(y) \\dots \\succcurlyeq 0$,\n",
    " \n",
    "where $y_\\alpha$ are moments defined as follows:\n",
    "$\n",
    "    y_\\alpha := \\int_\\mathcal{X} x^\\alpha \\mu(dx),\n",
    "$"
   ]
  },
  {
   "cell_type": "markdown",
   "id": "946d86a5",
   "metadata": {},
   "source": [
    "#### 3.Finite SDP \n",
    "\n",
    "Truncate matrices of infinite-dimensional Semi-Definite Programming problem of Step 2 (use truncated moments) to obtain finite-dimensional Semi-Definite Programming problem.\n",
    "\n",
    "For example, for two-dimensional $x \\in \\mathbb{R}^2 \\mapsto p(x)$ we can write the first relaxation of it:\n",
    "\n",
    "$\\min_{y \\in \\mathbb{R}^6 } {\\sum_{\\alpha_1, \\alpha_2 = 0}^{2} p_\\alpha y_\\alpha}$\n",
    "\n",
    "$\\operatorname{s.t.}{y_{00} = 1 }$\n",
    "\n",
    "$  \n",
    " M_1(y) =\\begin{pmatrix} \n",
    "y_{00} & y_{10} & y_{01}\\\\\n",
    "y_{10} & y_{20} & y_{11}\\\\\n",
    "y_{01} & y_{11} & y_{02} \n",
    "\\end{pmatrix} \\succcurlyeq 0\n",
    "$"
   ]
  },
  {
   "cell_type": "markdown",
   "id": "862ed507",
   "metadata": {},
   "source": [
    "#### In our case:\n",
    "\n",
    "Having polynomial optimization problem:\n",
    "\n",
    "$\n",
    "p(x) = 1 - \\frac{2 \\sqrt2}{3}x_1 -\\frac{11}{36} x_2^2  + \\frac{17}{72}x_1^2 + 0x_1x_2 + \\frac{13}{32}x_2^4\n",
    "$\n",
    "\n",
    "$\n",
    " = 1 x_1^0 x_2^0 -\\frac{2 \\sqrt2}{3} x_1^1 x_2^0 - \\frac{11}{36} x_1^0 x_2^2 + \\frac{17}{72}x_1^2 x_2^0 + 0x_1^1x_2^2 + \\frac{13}{32}x_1^0x_2^4\n",
    "$\n",
    "\n",
    "$\\min_{x \\in \\mathbb{R}^2 } p(x)$\n",
    "\n",
    "we can write the first and second linear matrix inequality (LMI) relaxation for it:\n",
    "    \n",
    "$\\min_{y \\in \\mathbb{R}^6 }\n",
    "    1 y_{00} - \\frac{2 \\sqrt2}{3} y_{10} - \\frac{11}{36} y_{02} + \\frac{17}{72}y_{20} + \\frac{13}{32}y_{04}$\n",
    "    \n",
    "$\\operatorname{s.t.}{y_{00} = 1, M_1(y)\\succcurlyeq 0}$\n",
    "\n",
    "where\n",
    "\n",
    "$M_1(y) =\\begin{pmatrix} \n",
    "y_{00} & y_{10} & y_{01}\\\\\n",
    "y_{10} & y_{20} & y_{11}\\\\\n",
    "y_{01} & y_{11} & y_{02}\n",
    "\\end{pmatrix}$\n",
    "\n",
    "$M_2(y) =\\begin{pmatrix} \n",
    "    y_{00} & y_{10} & y_{01} & y_{20} & y_{11} & y_{02}\\\\\n",
    "    y_{10} & y_{20} & y_{11} & y_{30} & y_{21} & y_{12}\\\\\n",
    "    y_{01} & y_{11} & y_{02} & y_{21} & y_{12} & y_{03}\\\\\n",
    "    y_{20} & y_{30} & y_{21} & y_{40} & y_{31} & y_{22}\\\\\n",
    "    y_{11} & y_{21} & y_{12} & y_{31} & y_{22} & y_{13}\\\\\n",
    "    y_{02} & y_{12} & y_{03} & y_{22} & y_{13} & y_{04}\\\\\n",
    "    \\end{pmatrix}$"
   ]
  },
  {
   "cell_type": "markdown",
   "id": "5b66fc8f",
   "metadata": {},
   "source": [
    "This is SDP problem, \n",
    "\n",
    "$\n",
    "\\operatorname{minimize}{ \\left( \\mathbf{trace}{(C X)} \\right) }\\\\\n",
    "\\operatorname{subject to} { y_i := \\left( \\mathbf{trace}{(A_i X)} \\right) = b_i}, \\quad i = 1... m, \n",
    "X \\succcurlyeq 0\n",
    "$\n",
    "\n",
    "where:\n",
    "\n",
    "$C =\\begin{pmatrix} \n",
    "1 & -\\frac{\\sqrt2}{3} & 0 & \\frac{17}{72}/3 & 0 &-\\frac{11}{36}/3 \\\\\n",
    "-\\frac{\\sqrt2}{3}  &  \\frac{17}{72}/3  & 0  & 0 & 0 & 0\\\\\n",
    "0 & 0 &  -\\frac{11}{36}/3  & 0 & 0 & 0\\\\\n",
    "\\frac{17}{72}/3 & 0 & 0 & 0 & 0 & 0 \\\\\n",
    "0 & 0 & 0 & 0 & 0 & 0 \\\\\n",
    "-\\frac{11}{36}/3 & 0 & 0 & 0 & 0 & \\frac{13}{32}\\\\\n",
    "\\end{pmatrix}$\n",
    "\n",
    "target variables:\n",
    "$X =\\begin{pmatrix} \n",
    "    y_{00} & y_{10} & y_{01} & y_{20} & y_{11} & y_{02}\\\\\n",
    "    y_{10} & y_{20} & y_{11} & y_{30} & y_{21} & y_{12}\\\\\n",
    "    y_{01} & y_{11} & y_{02} & y_{21} & y_{12} & y_{03}\\\\\n",
    "    y_{20} & y_{30} & y_{21} & y_{40} & y_{31} & y_{22}\\\\\n",
    "    y_{11} & y_{21} & y_{12} & y_{31} & y_{22} & y_{13}\\\\\n",
    "    y_{02} & y_{12} & y_{03} & y_{22} & y_{13} & y_{04}\\\\\n",
    "    \\end{pmatrix} \\succcurlyeq 0$\n",
    "\n",
    "and as $y_{00}=1$:\n",
    "\n",
    "$A_1 =\\begin{pmatrix} \n",
    "1 & 0 & 0 & 0 & 0 & 0\\\\\n",
    "0 & 0 & 0 & 0 & 0 & 0\\\\\n",
    "0 & 0 & 0 & 0 & 0 & 0\\\\\n",
    "0 & 0 & 0 & 0 & 0 & 0\\\\\n",
    "0 & 0 & 0 & 0 & 0 & 0\\\\\n",
    "0 & 0 & 0 & 0 & 0 & 0\\\\\n",
    "\\end{pmatrix}, \\quad b_1 = 1$\n"
   ]
  },
  {
   "cell_type": "code",
   "execution_count": 10,
   "id": "5ca81221",
   "metadata": {},
   "outputs": [
    {
     "data": {
      "text/plain": [
       "3×3 Matrix{Float64}:\n",
       "  1.0       -0.471405   0.0\n",
       " -0.471405   0.236111   0.0\n",
       "  0.0        0.0       -0.305556"
      ]
     },
     "execution_count": 10,
     "metadata": {},
     "output_type": "execute_result"
    }
   ],
   "source": [
    "using DynamicPolynomials\n",
    "\n",
    "@polyvar y[0:4, 0:4]\n",
    "\n",
    "@polyvar x[1:2]\n",
    "\n",
    "C₁ = [1           -√2/3        0      \n",
    "     -√2/3        17/72        0       \n",
    "      0             0      -11/36 ]"
   ]
  },
  {
   "cell_type": "code",
   "execution_count": 11,
   "id": "0cfa6054",
   "metadata": {},
   "outputs": [
    {
     "data": {
      "text/plain": [
       "6×6 Matrix{Float64}:\n",
       "  1.0        -0.471405    0.0       0.0787037  0.0  -0.101852\n",
       " -0.471405    0.0787037   0.0       0.0        0.0   0.0\n",
       "  0.0         0.0        -0.101852  0.0        0.0   0.0\n",
       "  0.0787037   0.0         0.0       0.0        0.0   0.0\n",
       "  0.0         0.0         0.0       0.0        0.0   0.0\n",
       " -0.101852    0.0         0.0       0.0        0.0   0.40625"
      ]
     },
     "execution_count": 11,
     "metadata": {},
     "output_type": "execute_result"
    }
   ],
   "source": [
    "C₂ = [1           -√2/3        0      (17/72)/3    0     -(11/36)/3 \n",
    "     -√2/3       (17/72)/3    0       0           0      0 \n",
    "     0             0      -(11/36)/3  0           0      0         \n",
    "     (17/72)/3     0          0       0           0      0 \n",
    "     0             0          0       0           0      0 \n",
    "    -(11/36)/3     0          0       0           0      13/32 ]\n",
    "\n",
    "#C = [1           -√2/3        0      -(11/36)/3    0     (17/72)/3 \n",
    "#     -√2/3       -(11/36)/3   0       0           0      0 \n",
    "#     0             0      (17/72)/3   0           0      0         \n",
    "#     -(11/36)/3    0          0       0           0      0 \n",
    "#     0             0          0       0           0      0 \n",
    "#    (17/72)/3      0          0       0           0      13/32 ]"
   ]
  },
  {
   "cell_type": "code",
   "execution_count": 12,
   "id": "276fdac1",
   "metadata": {},
   "outputs": [
    {
     "data": {
      "text/plain": [
       "6×6 Matrix{PolyVar{true}}:\n",
       " y₀₋₀  y₁₋₀  y₀₋₁  y₂₋₀  y₁₋₁  y₀₋₂\n",
       " y₁₋₀  y₂₋₀  y₁₋₁  y₃₋₀  y₂₋₁  y₁₋₂\n",
       " y₀₋₁  y₁₋₁  y₀₋₂  y₂₋₁  y₁₋₂  y₀₋₃\n",
       " y₂₋₀  y₃₋₀  y₂₋₁  y₄₋₀  y₃₋₁  y₂₋₂\n",
       " y₁₋₁  y₂₋₁  y₁₋₂  y₃₋₁  y₂₋₂  y₁₋₃\n",
       " y₀₋₂  y₁₋₂  y₀₋₃  y₂₋₂  y₁₋₃  y₀₋₄"
      ]
     },
     "execution_count": 12,
     "metadata": {},
     "output_type": "execute_result"
    }
   ],
   "source": [
    "Xˢʸᵐᵇ₁ = [ y[1,1] y[2,1] y[1,2] \n",
    "          y[2,1] y[3,1] y[2,2] \n",
    "          y[1,2] y[2,2] y[1,3] ]\n",
    "\n",
    "Xˢʸᵐᵇ₂ = [ y[1,1] y[2,1] y[1,2] y[3,1] y[2,2] y[1,3]\n",
    "          y[2,1] y[3,1] y[2,2] y[4,1] y[3,2] y[2,3]\n",
    "          y[1,2] y[2,2] y[1,3] y[3,2] y[2,3] y[1,4]\n",
    "          y[3,1] y[4,1] y[3,2] y[5,1] y[4,2] y[3,3]\n",
    "          y[2,2] y[3,2] y[2,3] y[4,2] y[3,3] y[2,4]\n",
    "          y[1,3] y[2,3] y[1,4] y[3,3] y[2,4] y[1,5] ]"
   ]
  },
  {
   "cell_type": "markdown",
   "id": "ee7749b2",
   "metadata": {},
   "source": [
    "We can check the coefficients are the same:"
   ]
  },
  {
   "cell_type": "markdown",
   "id": "e882eba4",
   "metadata": {},
   "source": [
    "$\\min_{y \\in \\mathbb{R}^6 }\n",
    "    1 y_{00} - \\frac{2 \\sqrt2}{3} y_{10} - \\frac{11}{36} y_{02} + \\frac{17}{72}y_{20}  + \\frac{13}{32}y_{04}$"
   ]
  },
  {
   "cell_type": "code",
   "execution_count": 13,
   "id": "4ed6a2af",
   "metadata": {},
   "outputs": [
    {
     "data": {
      "text/plain": [
       "(1, -0.9428090415820635, 0.2361111111111111, -0.3055555555555556, 0.40625)"
      ]
     },
     "execution_count": 13,
     "metadata": {},
     "output_type": "execute_result"
    }
   ],
   "source": [
    "1, -2√2/3, 17/72, -11/36, 13/32"
   ]
  },
  {
   "cell_type": "code",
   "execution_count": 14,
   "id": "b4510337",
   "metadata": {},
   "outputs": [
    {
     "ename": "LoadError",
     "evalue": "UndefVarError: C not defined",
     "output_type": "error",
     "traceback": [
      "UndefVarError: C not defined",
      "",
      "Stacktrace:",
      " [1] top-level scope",
      "   @ In[14]:1",
      " [2] eval",
      "   @ .\\boot.jl:373 [inlined]",
      " [3] include_string(mapexpr::typeof(REPL.softscope), mod::Module, code::String, filename::String)",
      "   @ Base .\\loading.jl:1196"
     ]
    }
   ],
   "source": [
    "tr(C * Xˢʸᵐᵇ₂)"
   ]
  },
  {
   "cell_type": "code",
   "execution_count": 15,
   "id": "93acd4b2",
   "metadata": {},
   "outputs": [
    {
     "data": {
      "text/latex": [
       "$$ 0.40625x_{2}^{4} + 0.2361111111111111x_{1}^{2} - 0.3055555555555556x_{2}^{2} - 0.9428090415820635x_{1} + 1.0 $$"
      ],
      "text/plain": [
       "0.40625x₂⁴ + 0.2361111111111111x₁² - 0.3055555555555556x₂² - 0.9428090415820635x₁ + 1.0"
      ]
     },
     "execution_count": 15,
     "metadata": {},
     "output_type": "execute_result"
    }
   ],
   "source": [
    "p(x)"
   ]
  },
  {
   "cell_type": "markdown",
   "id": "5d5bb903",
   "metadata": {},
   "source": [
    "Additional constaint for $y_{00}$:"
   ]
  },
  {
   "cell_type": "code",
   "execution_count": 16,
   "id": "16cf421e",
   "metadata": {},
   "outputs": [
    {
     "data": {
      "text/plain": [
       "6×6 Matrix{Float64}:\n",
       " 1.0  0.0  0.0  0.0  0.0  0.0\n",
       " 0.0  0.0  0.0  0.0  0.0  0.0\n",
       " 0.0  0.0  0.0  0.0  0.0  0.0\n",
       " 0.0  0.0  0.0  0.0  0.0  0.0\n",
       " 0.0  0.0  0.0  0.0  0.0  0.0\n",
       " 0.0  0.0  0.0  0.0  0.0  0.0"
      ]
     },
     "execution_count": 16,
     "metadata": {},
     "output_type": "execute_result"
    }
   ],
   "source": [
    "A = zeros(6,6)\n",
    "A[1,1] = 1\n",
    "b = 1\n",
    "A"
   ]
  },
  {
   "cell_type": "markdown",
   "id": "54f4dbe5",
   "metadata": {},
   "source": [
    "Now we can solve SDP"
   ]
  },
  {
   "cell_type": "code",
   "execution_count": 17,
   "id": "68dd5b5c",
   "metadata": {},
   "outputs": [
    {
     "name": "stdout",
     "output_type": "stream",
     "text": [
      "Problem\n",
      "  Name                   :                 \n",
      "  Objective sense        : min             \n",
      "  Type                   : CONIC (conic optimization problem)\n",
      "  Constraints            : 1               \n",
      "  Cones                  : 0               \n",
      "  Scalar variables       : 0               \n",
      "  Matrix variables       : 1               \n",
      "  Integer variables      : 0               \n",
      "\n",
      "Optimizer started.\n",
      "Presolve started.\n",
      "Linear dependency checker started.\n",
      "Linear dependency checker terminated.\n",
      "Eliminator started.\n",
      "Freed constraints in eliminator : 0\n",
      "Eliminator terminated.\n",
      "Eliminator started.\n",
      "Freed constraints in eliminator : 0\n",
      "Eliminator terminated.\n",
      "Eliminator - tries                  : 2                 time                   : 0.00            \n",
      "Lin. dep.  - tries                  : 1                 time                   : 0.00            \n",
      "Lin. dep.  - number                 : 0               \n",
      "Presolve terminated. Time: 0.00    \n",
      "Problem\n",
      "  Name                   :                 \n",
      "  Objective sense        : min             \n",
      "  Type                   : CONIC (conic optimization problem)\n",
      "  Constraints            : 1               \n",
      "  Cones                  : 0               \n",
      "  Scalar variables       : 0               \n",
      "  Matrix variables       : 1               \n",
      "  Integer variables      : 0               \n",
      "\n",
      "Optimizer  - threads                : 4               \n",
      "Optimizer  - solved problem         : the primal      \n",
      "Optimizer  - Constraints            : 1\n",
      "Optimizer  - Cones                  : 0\n",
      "Optimizer  - Scalar variables       : 0                 conic                  : 0               \n",
      "Optimizer  - Semi-definite variables: 1                 scalarized             : 21              \n",
      "Factor     - setup time             : 0.00              dense det. time        : 0.00            \n",
      "Factor     - ML order time          : 0.00              GP order time          : 0.00            \n",
      "Factor     - nonzeros before factor : 1                 after factor           : 1               \n",
      "Factor     - dense dim.             : 0                 flops                  : 2.00e+02        \n",
      "ITE PFEAS    DFEAS    GFEAS    PRSTATUS   POBJ              DOBJ              MU       TIME  \n",
      "0   0.0e+00  1.1e+00  2.4e+00  0.00e+00   1.383101852e+00   0.000000000e+00   1.0e+00  0.00  \n",
      "1   1.1e-16  2.1e-01  3.0e-01  7.92e-01   5.270138174e-01   3.721676526e-01   1.9e-01  0.00  \n",
      "2   1.1e-16  3.4e-02  6.2e-02  -5.64e-02  -8.110633033e-01  -3.580772211e-01  3.0e-02  0.00  \n",
      "3   5.0e-17  3.8e-03  5.8e-02  -5.66e-01  -6.668750580e+01  -2.052299800e+01  3.5e-03  0.00  \n",
      "4   1.7e-18  4.7e-05  1.8e-03  -8.58e-01  -5.960139500e+02  -2.667736696e+02  4.2e-05  0.02  \n",
      "5   3.4e-21  4.3e-07  1.8e-04  -1.00e+00  -6.732047113e+04  -3.151125956e+04  3.9e-07  0.02  \n",
      "6   1.5e-21  3.2e-09  1.5e-05  -1.00e+00  -9.615297014e+06  -4.761883915e+06  2.9e-09  0.02  \n",
      "7   2.4e-23  5.0e-11  1.9e-06  -9.99e-01  -6.660641851e+08  -3.524886578e+08  4.5e-11  0.02  \n",
      "8   5.4e-25  6.8e-13  2.3e-07  -9.99e-01  -5.554954462e+10  -3.211488411e+10  6.2e-13  0.02  \n",
      "9   9.9e-27  4.1e-15  1.9e-08  -9.99e-01  -1.047243800e+13  -6.481860552e+12  3.8e-15  0.02  \n",
      "Optimizer terminated. Time: 0.03    \n",
      "\n"
     ]
    },
    {
     "data": {
      "text/plain": [
       "(A JuMP Model\n",
       "Minimization problem with:\n",
       "Variables: 21\n",
       "Objective function type: AffExpr\n",
       "`AffExpr`-in-`MathOptInterface.EqualTo{Float64}`: 1 constraint\n",
       "`Vector{VariableRef}`-in-`MathOptInterface.PositiveSemidefiniteConeTriangle`: 1 constraint\n",
       "Model mode: AUTOMATIC\n",
       "CachingOptimizer state: ATTACHED_OPTIMIZER\n",
       "Solver name: Mosek\n",
       "Names registered in the model: X, y, MathOptInterface.DUAL_INFEASIBLE, 6.7170000076293945, [3.753934072784202e-14 -7.768523789227827e-9 … -2.022519381650722e-37 5.935201601259699e-8; -7.768523789227827e-9 0.17577701779222285 … -2.05901467760187e-31 -0.035505900625077386; … ; -2.022519381650722e-37 -2.05901467760187e-31 … 0.9999999999999988 -1.936599212836618e-31; 5.935201601259699e-8 -0.035505900625077386 … -1.936599212836618e-31 0.13954223220710882], [-0.2433247717942646], -0.3931284184103365)"
      ]
     },
     "execution_count": 17,
     "metadata": {},
     "output_type": "execute_result"
    }
   ],
   "source": [
    "model, status, run_time, X_sol, dual_sol, obj_value = solve_SDP(A, b, C₂)"
   ]
  },
  {
   "cell_type": "code",
   "execution_count": 18,
   "id": "913cacfc",
   "metadata": {},
   "outputs": [
    {
     "data": {
      "text/plain": [
       "-0.3931284184103365"
      ]
     },
     "execution_count": 18,
     "metadata": {},
     "output_type": "execute_result"
    }
   ],
   "source": [
    "obj_value"
   ]
  },
  {
   "cell_type": "code",
   "execution_count": 19,
   "id": "8661304b",
   "metadata": {},
   "outputs": [
    {
     "data": {
      "text/plain": [
       "DUAL_INFEASIBLE::TerminationStatusCode = 3"
      ]
     },
     "execution_count": 19,
     "metadata": {},
     "output_type": "execute_result"
    }
   ],
   "source": [
    "status"
   ]
  },
  {
   "cell_type": "code",
   "execution_count": 20,
   "id": "256cc85d",
   "metadata": {},
   "outputs": [
    {
     "data": {
      "text/plain": [
       "6×6 Matrix{Float64}:\n",
       "  3.75393e-14  -7.76852e-9    6.88045e-22  …  -2.02252e-37   5.9352e-8\n",
       " -7.76852e-9    0.175777      8.11861e-16     -2.05901e-31  -0.0355059\n",
       "  6.88045e-22   8.11861e-16   4.55222         -6.99545e-16   1.86079e-15\n",
       " -4.35633e-8    0.223759      1.08227e-15     -3.20908e-31  -0.13014\n",
       " -2.02252e-37  -2.05901e-31  -6.99545e-16      1.0          -1.9366e-31\n",
       "  5.9352e-8    -0.0355059     1.86079e-15  …  -1.9366e-31    0.139542"
      ]
     },
     "execution_count": 20,
     "metadata": {},
     "output_type": "execute_result"
    }
   ],
   "source": [
    "X_sol"
   ]
  },
  {
   "cell_type": "markdown",
   "id": "e58607f2",
   "metadata": {},
   "source": [
    "#### Compare methods"
   ]
  },
  {
   "cell_type": "code",
   "execution_count": 21,
   "id": "76c9f3b1",
   "metadata": {},
   "outputs": [
    {
     "data": {
      "text/plain": [
       "0.4192576985485453"
      ]
     },
     "execution_count": 21,
     "metadata": {},
     "output_type": "execute_result"
    }
   ],
   "source": [
    "x₁ˢᵈᵖ = sqrt(X_sol[2,2]) # ω = √x₁²"
   ]
  },
  {
   "cell_type": "code",
   "execution_count": 22,
   "id": "8c7e2d44",
   "metadata": {},
   "outputs": [
    {
     "data": {
      "text/plain": [
       "2.1335925320781857"
      ]
     },
     "execution_count": 22,
     "metadata": {},
     "output_type": "execute_result"
    }
   ],
   "source": [
    "x₂ˢᵈᵖ = sqrt(X_sol[3,3]) # a = √x₂²\n",
    "\n",
    "#x₁ˢᵈᵖ, x₂ˢᵈᵖ = X_sol[1,2], X_sol[1,3]"
   ]
  },
  {
   "cell_type": "code",
   "execution_count": 23,
   "id": "e9176cbf",
   "metadata": {},
   "outputs": [
    {
     "data": {
      "text/plain": [
       "(1.9965367939244139, 0.0)"
      ]
     },
     "execution_count": 23,
     "metadata": {},
     "output_type": "execute_result"
    }
   ],
   "source": [
    "x₁ᵇᶠᵍˢ, x₂ᵇᶠᵍˢ"
   ]
  },
  {
   "cell_type": "code",
   "execution_count": 24,
   "id": "36967b73",
   "metadata": {},
   "outputs": [
    {
     "data": {
      "text/plain": [
       "(1.9965367939384873, 0.6132441406718666)"
      ]
     },
     "execution_count": 24,
     "metadata": {},
     "output_type": "execute_result"
    }
   ],
   "source": [
    "x₁ᵃⁿᵃˡⁱᵗ, x₂ᵃⁿᵃˡⁱᵗ"
   ]
  },
  {
   "cell_type": "code",
   "execution_count": 25,
   "id": "03b554ee",
   "metadata": {},
   "outputs": [
    {
     "data": {
      "text/plain": [
       "2-element Vector{Float64}:\n",
       " -1.407340910475341e-11\n",
       " -0.6132441406718666"
      ]
     },
     "execution_count": 25,
     "metadata": {},
     "output_type": "execute_result"
    }
   ],
   "source": [
    "[x₁ᵇᶠᵍˢ, x₂ᵇᶠᵍˢ] - [x₁ᵃⁿᵃˡⁱᵗ, x₂ᵃⁿᵃˡⁱᵗ]"
   ]
  },
  {
   "cell_type": "markdown",
   "id": "e9a78d3c",
   "metadata": {},
   "source": [
    "The precission of SDP is around $10^{-6}$:"
   ]
  },
  {
   "cell_type": "code",
   "execution_count": 26,
   "id": "85a9814f",
   "metadata": {},
   "outputs": [
    {
     "data": {
      "text/plain": [
       "2-element Vector{Float64}:\n",
       " -1.577279095389942\n",
       "  1.5203483914063192"
      ]
     },
     "execution_count": 26,
     "metadata": {},
     "output_type": "execute_result"
    }
   ],
   "source": [
    "[x₁ˢᵈᵖ, x₂ˢᵈᵖ] - [x₁ᵃⁿᵃˡⁱᵗ, x₂ᵃⁿᵃˡⁱᵗ]"
   ]
  },
  {
   "cell_type": "code",
   "execution_count": 27,
   "id": "12462e06",
   "metadata": {},
   "outputs": [
    {
     "name": "stdout",
     "output_type": "stream",
     "text": [
      "(x₁ˢᵈᵖᵇᶠᵍˢ, x₂ˢᵈᵖᵇᶠᵍˢ) = Optim.minimizer(result) = [1.9965367940612397, 0.6132441407464312]\n"
     ]
    },
    {
     "data": {
      "text/plain": [
       "0.0013686386235402317"
      ]
     },
     "execution_count": 27,
     "metadata": {},
     "output_type": "execute_result"
    }
   ],
   "source": [
    "result = optimize(obj, [x₁ˢᵈᵖ, x₂ˢᵈᵖ], BFGS())\n",
    "@show x₁ˢᵈᵖᵇᶠᵍˢ, x₂ˢᵈᵖᵇᶠᵍˢ = Optim.minimizer(result)\n",
    "p([x₁ˢᵈᵖᵇᶠᵍˢ, x₂ˢᵈᵖᵇᶠᵍˢ])"
   ]
  },
  {
   "cell_type": "code",
   "execution_count": 28,
   "id": "8f83bac0",
   "metadata": {},
   "outputs": [
    {
     "name": "stdout",
     "output_type": "stream",
     "text": [
      "************************TSSOS************************\n",
      "TSSOS is launching...\n",
      "optimum = 0.001368660301030318\n",
      "\n",
      "******************************************************************************\n",
      "This program contains Ipopt, a library for large-scale nonlinear optimization.\n",
      " Ipopt is released as open source code under the Eclipse Public License (EPL).\n",
      "         For more information visit https://github.com/coin-or/Ipopt\n",
      "******************************************************************************\n",
      "\n",
      "Global optimality certified!\n"
     ]
    },
    {
     "data": {
      "text/plain": [
       "2-element Vector{Float64}:\n",
       " 1.9965367939384873\n",
       " 0.6132441406933407"
      ]
     },
     "execution_count": 28,
     "metadata": {},
     "output_type": "execute_result"
    }
   ],
   "source": [
    "using TSSOS\n",
    "opt,sol,data = tssos_first(obj, variables(obj), QUIET=true, solution=true);\n",
    "previous_sol = sol"
   ]
  },
  {
   "cell_type": "code",
   "execution_count": null,
   "id": "8b21afe7",
   "metadata": {},
   "outputs": [],
   "source": []
  }
 ],
 "metadata": {
  "@webio": {
   "lastCommId": null,
   "lastKernelId": null
  },
  "kernelspec": {
   "display_name": "Julia 1.7.2",
   "language": "julia",
   "name": "julia-1.7"
  },
  "language_info": {
   "file_extension": ".jl",
   "mimetype": "application/julia",
   "name": "julia",
   "version": "1.7.2"
  }
 },
 "nbformat": 4,
 "nbformat_minor": 5
}
