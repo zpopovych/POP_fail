{
 "cells": [
  {
   "cell_type": "markdown",
   "id": "2f51a805",
   "metadata": {},
   "source": [
    "### POP with cubic reqularization"
   ]
  },
  {
   "cell_type": "code",
   "execution_count": 1,
   "id": "696f7494",
   "metadata": {},
   "outputs": [],
   "source": [
    "using DynamicPolynomials\n",
    "using LinearAlgebra\n",
    "include(\"LiPoSID.jl\")\n",
    "using Dates\n",
    "using HDF5"
   ]
  },
  {
   "cell_type": "markdown",
   "id": "c500d299",
   "metadata": {},
   "source": [
    "$\n",
    "    \\frac{d\\rho}{dt} = -\\frac{i}{\\hbar} [H,\\rho(t)] + \\mathcal{D}[\\rho(t)] = - \\frac{i}{\\hbar}[H, \\rho]+\\sum_{\\ell=1}^{s-1}\\left[A_\\ell \\rho A_\\ell^\\dagger - \\frac{1}{2}\\left\\{ A_\\ell^\\dagger A_\\ell, \\rho \\right\\} \\right]\n",
    "$"
   ]
  },
  {
   "cell_type": "code",
   "execution_count": 2,
   "id": "77214b8a",
   "metadata": {},
   "outputs": [
    {
     "data": {
      "text/plain": [
       "2×2 Matrix{Polynomial{true, ComplexF64}}:\n",
       " e₁                  h₁ + (0.0-1.0im)h₂\n",
       " h₁ + (0.0+1.0im)h₂  0.0+0.0im"
      ]
     },
     "execution_count": 2,
     "metadata": {},
     "output_type": "execute_result"
    }
   ],
   "source": [
    "#using DynamicPolynomials\n",
    "\n",
    "@polyvar e[1:2]\n",
    "@polyvar h[1:2]\n",
    "\n",
    "\n",
    "Hˢʸᵐᵇ = [ e[1]               h[1] - im*h[2]\n",
    "          h[1] + im*h[2]     0.             ]"
   ]
  },
  {
   "cell_type": "code",
   "execution_count": 3,
   "id": "4e16b8a8",
   "metadata": {},
   "outputs": [
    {
     "data": {
      "text/plain": [
       "2×2 Matrix{Polynomial{true, Complex{Int64}}}:\n",
       " a₁ + (0+1im)b₁  a₂ + (0+1im)b₂\n",
       " a₃ + (0+1im)b₃  -a₁ + (0-1im)b₁"
      ]
     },
     "execution_count": 3,
     "metadata": {},
     "output_type": "execute_result"
    }
   ],
   "source": [
    "@polyvar a[1:3]\n",
    "@polyvar b[1:3]\n",
    "\n",
    "\n",
    "Aˢʸᵐᵇ = [ a[1] + im*b[1]           a[2] + im*b[2]\n",
    "          a[3] + im*b[3]          -a[1] - im*b[1]   ]"
   ]
  },
  {
   "cell_type": "code",
   "execution_count": 4,
   "id": "cfc2fb9f",
   "metadata": {},
   "outputs": [
    {
     "data": {
      "text/plain": [
       "\"C:\\\\Users\\\\Zakhar\\\\Documents\\\\GitHub\\\\POP_fail\\\\DATA\\\\\""
      ]
     },
     "execution_count": 4,
     "metadata": {},
     "output_type": "execute_result"
    }
   ],
   "source": [
    "parentdir = pwd()\n",
    "data_dir = parentdir*\"\\\\DATA\\\\\""
   ]
  },
  {
   "cell_type": "code",
   "execution_count": 5,
   "id": "c41e271a",
   "metadata": {},
   "outputs": [
    {
     "data": {
      "text/plain": [
       "\"C:\\\\Users\\\\Zakhar\\\\Documents\\\\GitHub\\\\POP_fail\\\\MODELS\\\\\""
      ]
     },
     "execution_count": 5,
     "metadata": {},
     "output_type": "execute_result"
    }
   ],
   "source": [
    "output_directory = parentdir*\"\\\\MODELS\\\\\""
   ]
  },
  {
   "cell_type": "markdown",
   "id": "ac212e09",
   "metadata": {},
   "source": [
    "$\n",
    " L^{(Lindblad)}\n",
    "= \\sum_{i=1}^N {\n",
    "{\\left\\|\n",
    "\\rho_{(i)} - \\rho_{(i-2)}\n",
    "- {\\mathcal{L}} \\left[\\int^{t_i}_{t_{i-2}}\\rho(t)dt \\right] \\right\\| }^2_F }\n",
    "$\n",
    "\n",
    "$\n",
    "\\int^{t_i}_{t_{i-2}}\\rho(t)dt = \\frac{1}{3} \\Delta t \\left[ {\\rho(t_{i-2}) + 4 \\rho(t_{i-1}) + \\rho(t_i)} \\right] +  \\mathcal{O}(\\Delta t^5). \\label{eq:simpson}\n",
    "$"
   ]
  },
  {
   "cell_type": "code",
   "execution_count": 6,
   "id": "3f42f92e",
   "metadata": {},
   "outputs": [
    {
     "name": "stdout",
     "output_type": "stream",
     "text": [
      "γ = 0.079477\n",
      "************************TSSOS************************\n",
      "TSSOS is launching...\n",
      "optimum = 0.0005252831278639165\n",
      "\n",
      "******************************************************************************\n",
      "This program contains Ipopt, a library for large-scale nonlinear optimization.\n",
      " Ipopt is released as open source code under the Eclipse Public License (EPL).\n",
      "         For more information visit https://github.com/coin-or/Ipopt\n",
      "******************************************************************************\n",
      "\n",
      "Global optimality certified!\n",
      "No higher TSSOS hierarchy!\n",
      "************************TSSOS************************\n",
      "TSSOS is launching...\n",
      "optimum = 0.0005252104680473283\n",
      "Global optimality certified!\n",
      "No higher TSSOS hierarchy!\n",
      "val_p = [0.0005252240571280709, 0.0005252239063224806]\n",
      "\n",
      "γ = 0.25133\n",
      "************************TSSOS************************\n",
      "TSSOS is launching...\n",
      "optimum = 0.0008165415602671289\n",
      "Global optimality certified!\n",
      "No higher TSSOS hierarchy!\n",
      "************************TSSOS************************\n",
      "TSSOS is launching...\n",
      "optimum = 0.0008165163011963128\n",
      "Global optimality certified!\n",
      "No higher TSSOS hierarchy!\n",
      "val_p = [0.000816526109787219, 0.0008165261097730081]\n",
      "\n",
      "γ = 0.79477\n",
      "************************TSSOS************************\n",
      "TSSOS is launching...\n",
      "optimum = 0.0002826797338489469\n",
      "Global optimality certified!\n",
      "No higher TSSOS hierarchy!\n",
      "************************TSSOS************************\n",
      "TSSOS is launching...\n",
      "optimum = 0.0002826012636609344\n",
      "Global optimality certified!\n",
      "No higher TSSOS hierarchy!\n",
      "val_p = [0.0002826035141154648, 0.0002826035141145766]\n",
      "\n",
      "γ = 2.5133\n",
      "************************TSSOS************************\n",
      "TSSOS is launching...\n",
      "optimum = -0.0034011010353420597\n",
      "Global optimality certified!\n",
      "No higher TSSOS hierarchy!\n",
      "************************TSSOS************************\n",
      "TSSOS is launching...\n",
      "optimum = -0.0034019671401560397\n",
      "Global optimality certified!\n",
      "No higher TSSOS hierarchy!\n",
      "val_p = [-0.003401952684730203, -0.003401952684731091]\n",
      "\n",
      "γ = 7.9477\n",
      "************************TSSOS************************\n",
      "TSSOS is launching...\n",
      "optimum = -0.0549046677722754\n",
      "Global optimality certified!\n",
      "No higher TSSOS hierarchy!\n",
      "************************TSSOS************************\n",
      "TSSOS is launching...\n",
      "optimum = -0.05490469348098551\n",
      "Global optimality certified!\n",
      "No higher TSSOS hierarchy!\n",
      "val_p = [-0.05490467184046141, -0.05490466498570784]\n",
      "\n",
      "γ = 25.133\n",
      "************************TSSOS************************\n",
      "TSSOS is launching...\n",
      "optimum = -192.15023569489034\n",
      "Global optimality certified!\n",
      "No higher TSSOS hierarchy!\n",
      "************************TSSOS************************\n",
      "TSSOS is launching...\n",
      "optimum = -192.1503041157025\n",
      "Global optimality certified!\n",
      "No higher TSSOS hierarchy!\n",
      "val_p = [-192.15030428718708, -192.15030484469287]\n",
      "\n",
      "γ = 79.477\n",
      "************************TSSOS************************\n",
      "TSSOS is launching...\n",
      "termination status: SLOW_PROGRESS\n",
      "solution status: UNKNOWN_RESULT_STATUS\n",
      "optimum = -383232.983792308\n",
      "Found a local optimal solution giving an upper bound: -2.454844775183388e6 and a relative optimality gap: 0.8438870808995739.\n",
      "No higher TSSOS hierarchy!\n",
      "************************TSSOS************************\n",
      "TSSOS is launching...\n",
      "termination status: SLOW_PROGRESS\n",
      "solution status: FEASIBLE_POINT\n",
      "optimum = -2.4548474003573847e6\n",
      "Global optimality certified!\n",
      "No higher TSSOS hierarchy!\n",
      "val_p = [-2.454844775182704e6, -2.4548447751833247e6]\n",
      "\n",
      "γ = 251.33\n",
      "************************TSSOS************************\n",
      "TSSOS is launching...\n",
      "termination status: SLOW_PROGRESS\n",
      "solution status: UNKNOWN_RESULT_STATUS\n",
      "optimum = -534688.7120516988\n",
      "Found a local optimal solution giving an upper bound: -1.2383839200595666e6 and a relative optimality gap: 0.56823671287174.\n",
      "No higher TSSOS hierarchy!\n",
      "************************TSSOS************************\n",
      "TSSOS is launching...\n",
      "optimum = -1.2383838526905563e6\n",
      "Global optimality certified!\n",
      "No higher TSSOS hierarchy!\n",
      "val_p = [-1.2383839200595587e6, -1.23838391980368e6]\n",
      "\n",
      "158.675968 seconds (995.31 M allocations: 135.063 GiB, 11.67% gc time, 25.20% compilation time)\n"
     ]
    }
   ],
   "source": [
    "date_and_time_string =  string(Dates.format(now(), \"yyyy-u-dd_at_HH-MM\"))\n",
    "res_file_name = \"POP_2CUT_train-B_reg3_0001\" * date_and_time_string * \".h5\"\n",
    "\n",
    "Eˢⁱᵈ = []\n",
    "γˢⁱᵈ = []\n",
    "\n",
    "γᵗˣᵗ = [ \"0.079477\"] #, \"0.25133\", \"0.79477\", \"2.5133\", \"7.9477\", \"25.133\", \"79.477\", \"251.33\"]\n",
    "\n",
    "@time for γᵢᵗˣᵗ in γᵗˣᵗ\n",
    "    \n",
    "    println(\"γ = \", γᵢᵗˣᵗ)\n",
    "    \n",
    "    ρᵍ, tᵍ = LiPoSID.get_rho_series(data_dir*\"State_B1_2CUT_data.h5\", γᵢᵗˣᵗ)\n",
    "    ρᵉ, tᵉ = LiPoSID.get_rho_series(data_dir*\"State_B2_2CUT_data.h5\", γᵢᵗˣᵗ)\n",
    "    ρˣ, tˣ = LiPoSID.get_rho_series(data_dir*\"State_B3_2CUT_data.h5\", γᵢᵗˣᵗ)\n",
    "    ρʸ, tʸ = LiPoSID.get_rho_series(data_dir*\"State_B4_2CUT_data.h5\", γᵢᵗˣᵗ)\n",
    "    \n",
    "    tˢᵗᵉᵖₘₐₓ = min(length(ρᵍ), length(ρᵉ), length(ρˣ), length(ρʸ)) \n",
    "\n",
    "    @assert tᵍ[1:tˢᵗᵉᵖₘₐₓ] == tᵉ[1:tˢᵗᵉᵖₘₐₓ] == tˣ[1:tˢᵗᵉᵖₘₐₓ] == tʸ[1:tˢᵗᵉᵖₘₐₓ] \n",
    "    t = convert(Vector{Float64}, tᵉ)\n",
    "    @assert maximum(diff(t)) ≈ minimum(diff(t)) ≈ t[2]-t[1]\n",
    "    \n",
    "    obj = 0\n",
    "\n",
    "    for ρ in [ρᵍ[1:tˢᵗᵉᵖₘₐₓ], ρᵉ[1:tˢᵗᵉᵖₘₐₓ], ρˣ[1:tˢᵗᵉᵖₘₐₓ], ρʸ[1:tˢᵗᵉᵖₘₐₓ]]\n",
    "\n",
    "        ρ = convert(Vector{Matrix{ComplexF64}}, ρ)\n",
    "        obj += LiPoSID.simpson_obj(ρ, t,  Hˢʸᵐᵇ, [Aˢʸᵐᵇ])\n",
    "\n",
    "    end # of files (initial states) loop \n",
    "    \n",
    "    solution_simp, best_method_simp = LiPoSID.sos_min_newton(obj + 0.001 * sum(a.^3 + b.^3) )\n",
    "    \n",
    "    Hˢⁱᵈ = subs(Hˢʸᵐᵇ, solution_simp)\n",
    "    Aˢⁱᵈ = subs(Aˢʸᵐᵇ, solution_simp)\n",
    "    \n",
    "    h5open(output_directory*res_file_name,\"cw\") do fid  # read-write, create file if not existing, preserve existing contents\n",
    "\n",
    "       γ_group = create_group(fid, \"gamma_\"*string(γᵢᵗˣᵗ))\n",
    "\n",
    "        γ_group[\"H\"] = convert.(ComplexF64, Hˢⁱᵈ )\n",
    "        γ_group[\"A\"] = convert.(ComplexF64, Aˢⁱᵈ )\n",
    "\n",
    "        end # of HDF5 writing\n",
    "    \n",
    "    println()\n",
    "\n",
    "end # of loop over γ"
   ]
  },
  {
   "cell_type": "code",
   "execution_count": null,
   "id": "d7f1d615",
   "metadata": {},
   "outputs": [],
   "source": []
  }
 ],
 "metadata": {
  "@webio": {
   "lastCommId": null,
   "lastKernelId": null
  },
  "kernelspec": {
   "display_name": "Julia 1.7.2",
   "language": "julia",
   "name": "julia-1.7"
  },
  "language_info": {
   "file_extension": ".jl",
   "mimetype": "application/julia",
   "name": "julia",
   "version": "1.7.2"
  }
 },
 "nbformat": 4,
 "nbformat_minor": 5
}
