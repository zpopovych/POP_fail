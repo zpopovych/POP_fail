{
 "cells": [
  {
   "cell_type": "markdown",
   "id": "5a5bccd1",
   "metadata": {},
   "source": [
    "### Toy Lindblad identification as POP solved with Moment SDP"
   ]
  },
  {
   "cell_type": "code",
   "execution_count": 1,
   "id": "1bcc8bc4",
   "metadata": {},
   "outputs": [],
   "source": [
    "using LinearAlgebra, JuMP, MosekTools\n",
    "using Optim"
   ]
  },
  {
   "cell_type": "markdown",
   "id": "0eb49df0",
   "metadata": {},
   "source": [
    "Consider SDP optimization problem of the form:\n",
    "\\begin{align} \n",
    "&\\operatorname{minimize}{ \\left( \\mathbf{trace}{(C X)} \\right) }\\\\\n",
    "&\\operatorname{subject to} { y_i := \\left( \\mathbf{trace}{(A_i X)} \\right) = b_i}, \\quad i = 1... m, \\quad\n",
    "X \\succcurlyeq 0\n",
    "\\end{align}\n",
    "\n",
    "where $X\\in\\mathbf{S}^{n}$ is the decision variable, and each of the $A_{i}$ matrices and $C$ are also in $\\mathbf{S}^{n}$  By the notation $\\mathbf{S}^{n}$, we denote the set of all symmetric $n \\times n$ matrices.\n",
    "\n",
    "It could be solved with the following function:"
   ]
  },
  {
   "cell_type": "code",
   "execution_count": 2,
   "id": "d7947f1d",
   "metadata": {},
   "outputs": [
    {
     "data": {
      "text/plain": [
       "solve_SDP (generic function with 1 method)"
      ]
     },
     "execution_count": 2,
     "metadata": {},
     "output_type": "execute_result"
    }
   ],
   "source": [
    "function solve_SDP(A, b, C; quiet = false, term_tolerance = 1e-7)\n",
    "    \n",
    "    start_time = time()\n",
    "    \n",
    "    n = size(A)[1] # = size(C)[1]\n",
    "    m = length(b)\n",
    "\n",
    "    model = Model(optimizer_with_attributes(Mosek.Optimizer, \"QUIET\" => quiet, \"INTPNT_CO_TOL_DFEAS\" => term_tolerance))\n",
    "\n",
    "    #set_silent(model)\n",
    "\n",
    "    @variable(model, X[1:n, 1:n], PSD)\n",
    "\n",
    "    @objective(model, Min, tr(C * X));\n",
    "    \n",
    "    @constraint(model, y[j=1:m], tr(A[:, (j - 1) * n + 1:j * n]* X) == b[j])\n",
    "\n",
    "    optimize!(model)\n",
    "\n",
    "    status = JuMP.termination_status(model)\n",
    "    X_sol = JuMP.value.(X)\n",
    "    obj_value = JuMP.objective_value(model)\n",
    "    dual_sol = dual.(y)\n",
    "    run_time = time() - start_time\n",
    "\n",
    "    return model, status, run_time, X_sol, dual_sol, obj_value\n",
    "    \n",
    "end"
   ]
  },
  {
   "cell_type": "code",
   "execution_count": 3,
   "id": "fb3aab0c",
   "metadata": {},
   "outputs": [
    {
     "data": {
      "text/plain": [
       "(PolyVar{true}[x₁, x₂],)"
      ]
     },
     "execution_count": 3,
     "metadata": {},
     "output_type": "execute_result"
    }
   ],
   "source": [
    "using DynamicPolynomials\n",
    "@polyvar x[1:2]"
   ]
  },
  {
   "cell_type": "markdown",
   "id": "223fc5d7",
   "metadata": {},
   "source": [
    "$\\min_{x \\in \\mathbb{R}^2 } p(x)$"
   ]
  },
  {
   "cell_type": "code",
   "execution_count": 123,
   "id": "379110d7",
   "metadata": {},
   "outputs": [
    {
     "data": {
      "text/plain": [
       "p (generic function with 1 method)"
      ]
     },
     "execution_count": 123,
     "metadata": {},
     "output_type": "execute_result"
    }
   ],
   "source": [
    "function p(x)\n",
    "    x[1]^4 + x[1]^2 + 2x[1]x[2] + 2x[1]^2 * x[2] + 2x[2]^2\n",
    "end"
   ]
  },
  {
   "cell_type": "code",
   "execution_count": 124,
   "id": "7e5c25d5",
   "metadata": {},
   "outputs": [
    {
     "data": {
      "text/latex": [
       "$$ x_{1}^{4} + 2x_{1}^{2}x_{2} + x_{1}^{2} + 2x_{1}x_{2} + 2x_{2}^{2} $$"
      ],
      "text/plain": [
       "x₁⁴ + 2x₁²x₂ + x₁² + 2x₁x₂ + 2x₂²"
      ]
     },
     "execution_count": 124,
     "metadata": {},
     "output_type": "execute_result"
    }
   ],
   "source": [
    "obj = p(x)"
   ]
  },
  {
   "cell_type": "markdown",
   "id": "85894c0d",
   "metadata": {},
   "source": [
    "Numerical solution with BFGS:"
   ]
  },
  {
   "cell_type": "code",
   "execution_count": 125,
   "id": "b411f13a",
   "metadata": {},
   "outputs": [
    {
     "name": "stdout",
     "output_type": "stream",
     "text": [
      "(x₁ᵇᶠᵍˢ, x₂ᵇᶠᵍˢ) = Optim.minimizer(result) = [0.0, 0.0]\n"
     ]
    },
    {
     "data": {
      "text/plain": [
       "0.0"
      ]
     },
     "execution_count": 125,
     "metadata": {},
     "output_type": "execute_result"
    }
   ],
   "source": [
    "result = optimize(obj, zeros(2), BFGS())\n",
    "@show x₁ᵇᶠᵍˢ, x₂ᵇᶠᵍˢ = Optim.minimizer(result)\n",
    "p([x₁ᵇᶠᵍˢ, x₂ᵇᶠᵍˢ])"
   ]
  },
  {
   "cell_type": "markdown",
   "id": "862ed507",
   "metadata": {},
   "source": [
    "#### Formulating SDP\n",
    "\n",
    "Having polynomial optimization problem:\n",
    "\n",
    "$\\min_{x \\in \\mathbb{R}^2 } p(x)$\n",
    "\n",
    "we can write the first and second linear matrix inequality (LMI) relaxation for it:\n",
    "    \n",
    "$\\min_{y \\in \\mathbb{R}^6 }$\n",
    "    \n",
    "$\\operatorname{s.t.}{y_{00} = 1, M_1(y)\\succcurlyeq 0}$\n",
    "\n",
    "Which is equivalent to:\n",
    "\\begin{align} \n",
    "&\\operatorname{minimize}{ \\left( \\mathbf{trace}{(C X)} \\right) }\\\\\n",
    "&\\operatorname{subject to} { y_i := \\left( \\mathbf{trace}{(A_i X)} \\right) = b_i}, \\quad i = 1... m, \\quad\n",
    "X \\succcurlyeq 0\n",
    "\\end{align}\n",
    "\n",
    "where\n",
    "\n",
    "$X = M_2(y) =\\begin{pmatrix} \n",
    "    y_{00} & y_{10} & y_{01} & y_{20} & y_{11} & y_{02}\\\\\n",
    "    y_{10} & y_{20} & y_{11} & y_{30} & y_{21} & y_{12}\\\\\n",
    "    y_{01} & y_{11} & y_{02} & y_{21} & y_{12} & y_{03}\\\\\n",
    "    y_{20} & y_{30} & y_{21} & y_{40} & y_{31} & y_{22}\\\\\n",
    "    y_{11} & y_{21} & y_{12} & y_{31} & y_{22} & y_{13}\\\\\n",
    "    y_{02} & y_{12} & y_{03} & y_{22} & y_{13} & y_{04}\\\\\n",
    "    \\end{pmatrix} \\succcurlyeq 0 $"
   ]
  },
  {
   "cell_type": "code",
   "execution_count": 126,
   "id": "6b65f7d8",
   "metadata": {},
   "outputs": [
    {
     "data": {
      "text/plain": [
       "6×6 Matrix{PolyVar{true}}:\n",
       " y₀₋₀  y₁₋₀  y₀₋₁  y₂₋₀  y₁₋₁  y₀₋₂\n",
       " y₁₋₀  y₂₋₀  y₁₋₁  y₃₋₀  y₂₋₁  y₁₋₂\n",
       " y₀₋₁  y₁₋₁  y₀₋₂  y₂₋₁  y₁₋₂  y₀₋₃\n",
       " y₂₋₀  y₃₋₀  y₂₋₁  y₄₋₀  y₃₋₁  y₂₋₂\n",
       " y₁₋₁  y₂₋₁  y₁₋₂  y₃₋₁  y₂₋₂  y₁₋₃\n",
       " y₀₋₂  y₁₋₂  y₀₋₃  y₂₋₂  y₁₋₃  y₀₋₄"
      ]
     },
     "execution_count": 126,
     "metadata": {},
     "output_type": "execute_result"
    }
   ],
   "source": [
    "@polyvar y[0:4,0:4]\n",
    "\n",
    "X     = [ y[1,1] y[2,1] y[1,2] y[3,1] y[2,2] y[1,3]\n",
    "          y[2,1] y[3,1] y[2,2] y[4,1] y[3,2] y[2,3]\n",
    "          y[1,2] y[2,2] y[1,3] y[3,2] y[2,3] y[1,4]\n",
    "          y[3,1] y[4,1] y[3,2] y[5,1] y[4,2] y[3,3]\n",
    "          y[2,2] y[3,2] y[2,3] y[4,2] y[3,3] y[2,4]\n",
    "          y[1,3] y[2,3] y[1,4] y[3,3] y[2,4] y[1,5] ]"
   ]
  },
  {
   "cell_type": "code",
   "execution_count": 127,
   "id": "0f720378",
   "metadata": {},
   "outputs": [
    {
     "data": {
      "text/latex": [
       "$$ x_{1}^{4} + 2x_{1}^{2}x_{2} + x_{1}^{2} + 2x_{1}x_{2} + 2x_{2}^{2} $$"
      ],
      "text/plain": [
       "x₁⁴ + 2x₁²x₂ + x₁² + 2x₁x₂ + 2x₂²"
      ]
     },
     "execution_count": 127,
     "metadata": {},
     "output_type": "execute_result"
    }
   ],
   "source": [
    "obj"
   ]
  },
  {
   "cell_type": "code",
   "execution_count": 143,
   "id": "1f9cfde0",
   "metadata": {},
   "outputs": [
    {
     "name": "stdout",
     "output_type": "stream",
     "text": [
      "rank(C) = 6\n"
     ]
    },
    {
     "data": {
      "text/latex": [
       "$$ y_{2,0} + y_{4,0} + 2.0y_{1,1} + 2.0y_{2,1} + 2.0y_{0,2} $$"
      ],
      "text/plain": [
       "y₂₋₀ + y₄₋₀ + 2.0y₁₋₁ + 2.0y₂₋₁ + 2.0y₀₋₂"
      ]
     },
     "execution_count": 143,
     "metadata": {},
     "output_type": "execute_result"
    }
   ],
   "source": [
    "C = [0   0   0    1/3  1/2  2/3 \n",
    "     0   1/3 1/2  0    1/2  0 \n",
    "     0   1/2 2/3  1/2  0    0         \n",
    "     1/3 0   1/2  1    0    0 \n",
    "     1/2 1/2 0    0    0    0 \n",
    "     2/3 0   0    0    0    0 ]\n",
    "@show rank(C)\n",
    "tr(C*X)"
   ]
  },
  {
   "cell_type": "markdown",
   "id": "04f963c4",
   "metadata": {},
   "source": [
    "and as $y_{00}=1$:\n",
    "\n",
    "$A_1 =\\begin{pmatrix} \n",
    "1 & 0 & 0 & 0 & 0 & 0\\\\\n",
    "0 & 0 & 0 & 0 & 0 & 0\\\\\n",
    "0 & 0 & 0 & 0 & 0 & 0\\\\\n",
    "0 & 0 & 0 & 0 & 0 & 0\\\\\n",
    "0 & 0 & 0 & 0 & 0 & 0\\\\\n",
    "0 & 0 & 0 & 0 & 0 & 0\\\\\n",
    "\\end{pmatrix}, \\quad b_1 = 1$"
   ]
  },
  {
   "cell_type": "code",
   "execution_count": 144,
   "id": "d2f3071b",
   "metadata": {},
   "outputs": [
    {
     "name": "stdout",
     "output_type": "stream",
     "text": [
      "Problem\n",
      "  Name                   :                 \n",
      "  Objective sense        : min             \n",
      "  Type                   : CONIC (conic optimization problem)\n",
      "  Constraints            : 1               \n",
      "  Cones                  : 0               \n",
      "  Scalar variables       : 0               \n",
      "  Matrix variables       : 1               \n",
      "  Integer variables      : 0               \n",
      "\n",
      "Optimizer started.\n",
      "Presolve started.\n",
      "Linear dependency checker started.\n",
      "Linear dependency checker terminated.\n",
      "Eliminator started.\n",
      "Freed constraints in eliminator : 0\n",
      "Eliminator terminated.\n",
      "Eliminator started.\n",
      "Freed constraints in eliminator : 0\n",
      "Eliminator terminated.\n",
      "Eliminator - tries                  : 2                 time                   : 0.00            \n",
      "Lin. dep.  - tries                  : 1                 time                   : 0.00            \n",
      "Lin. dep.  - number                 : 0               \n",
      "Presolve terminated. Time: 0.01    \n",
      "Problem\n",
      "  Name                   :                 \n",
      "  Objective sense        : min             \n",
      "  Type                   : CONIC (conic optimization problem)\n",
      "  Constraints            : 1               \n",
      "  Cones                  : 0               \n",
      "  Scalar variables       : 0               \n",
      "  Matrix variables       : 1               \n",
      "  Integer variables      : 0               \n",
      "\n",
      "Optimizer  - threads                : 4               \n",
      "Optimizer  - solved problem         : the primal      \n",
      "Optimizer  - Constraints            : 1\n",
      "Optimizer  - Cones                  : 0\n",
      "Optimizer  - Scalar variables       : 0                 conic                  : 0               \n",
      "Optimizer  - Semi-definite variables: 1                 scalarized             : 21              \n",
      "Factor     - setup time             : 0.00              dense det. time        : 0.00            \n",
      "Factor     - ML order time          : 0.00              GP order time          : 0.00            \n",
      "Factor     - nonzeros before factor : 1                 after factor           : 1               \n",
      "Factor     - dense dim.             : 0                 flops                  : 2.76e+02        \n",
      "ITE PFEAS    DFEAS    GFEAS    PRSTATUS   POBJ              DOBJ              MU       TIME  \n",
      "0   0.0e+00  1.0e+00  3.0e+00  0.00e+00   2.000000000e+00   0.000000000e+00   1.0e+00  0.01  \n",
      "1   0.0e+00  2.3e-01  6.5e-01  2.00e-01   -5.283948171e-01  -8.888984005e-01  2.3e-01  0.03  \n",
      "2   8.3e-17  2.9e-02  3.9e-01  -5.57e-01  -3.055753050e+01  -1.476447928e+01  2.9e-02  0.03  \n",
      "3   1.2e-17  2.4e-03  5.6e-02  -7.26e-01  -1.756668198e+02  -1.175387771e+02  2.4e-03  0.03  \n",
      "4   1.7e-18  4.5e-04  2.0e-02  -7.61e-01  -8.040738930e+02  -5.845774070e+02  4.5e-04  0.03  \n",
      "5   8.1e-20  1.9e-05  4.1e-03  -9.67e-01  -1.814348926e+04  -1.323755564e+04  1.9e-05  0.03  \n",
      "6   2.2e-21  1.7e-07  3.8e-04  -9.98e-01  -2.039608560e+06  -1.488499922e+06  1.7e-07  0.03  \n",
      "7   1.3e-22  2.6e-10  1.5e-05  -1.00e+00  -1.321918035e+09  -9.651591645e+08  2.6e-10  0.03  \n",
      "8   8.5e-25  8.0e-13  8.4e-07  -1.00e+00  -4.326560540e+11  -3.174384785e+11  8.0e-13  0.03  \n",
      "9   6.6e-27  5.4e-15  7.7e-07  -1.00e+00  -7.873389028e+13  -5.925167817e+13  4.8e-15  0.03  \n",
      "Optimizer terminated. Time: 0.05    \n",
      "\n"
     ]
    },
    {
     "data": {
      "text/plain": [
       "(A JuMP Model\n",
       "Minimization problem with:\n",
       "Variables: 21\n",
       "Objective function type: AffExpr\n",
       "`AffExpr`-in-`MathOptInterface.EqualTo{Float64}`: 1 constraint\n",
       "`Vector{VariableRef}`-in-`MathOptInterface.PositiveSemidefiniteConeTriangle`: 1 constraint\n",
       "Model mode: AUTOMATIC\n",
       "CachingOptimizer state: ATTACHED_OPTIMIZER\n",
       "Solver name: Mosek\n",
       "Names registered in the model: X, y, MathOptInterface.DUAL_INFEASIBLE, 0.05200004577636719, [1.4874908609671533e-14 -7.078258016716129e-9 … -1.9601012849968702e-8 -3.589478562748878e-8; -7.078258016716129e-9 1.7970898618545519 … -1.547621926450226 -0.1577466141969152; … ; -1.9601012849968702e-8 -1.547621926450226 … 2.1546464910302103 0.014384929947756663; -3.589478562748878e-8 -0.1577466141969152 … 0.014384929947756663 0.7232554323884658], [-0.8813632976772162], -1.1711594224558475)"
      ]
     },
     "execution_count": 144,
     "metadata": {},
     "output_type": "execute_result"
    }
   ],
   "source": [
    "model, status, run_time, X_sol, dual_sol, obj_value = solve_SDP(A, b, C)"
   ]
  },
  {
   "cell_type": "code",
   "execution_count": 145,
   "id": "f54a3f99",
   "metadata": {},
   "outputs": [
    {
     "data": {
      "text/plain": [
       "-1.1711594224558475"
      ]
     },
     "execution_count": 145,
     "metadata": {},
     "output_type": "execute_result"
    }
   ],
   "source": [
    "obj_value"
   ]
  },
  {
   "cell_type": "code",
   "execution_count": 146,
   "id": "05b44360",
   "metadata": {},
   "outputs": [
    {
     "data": {
      "text/plain": [
       "6×6 Matrix{Float64}:\n",
       "  1.48749e-14  -7.07826e-9  -6.11854e-9  -2.32425e-8  -1.9601e-8  -3.58948e-8\n",
       " -7.07826e-9    1.79709     -0.816069     0.24184     -1.54762    -0.157747\n",
       " -6.11854e-9   -0.816069     0.809274    -0.290589     0.644744    0.102201\n",
       " -2.32425e-8    0.24184     -0.290589     0.344575    -0.237807   -0.125072\n",
       " -1.9601e-8    -1.54762      0.644744    -0.237807     2.15465     0.0143849\n",
       " -3.58948e-8   -0.157747     0.102201    -0.125072     0.0143849   0.723255"
      ]
     },
     "execution_count": 146,
     "metadata": {},
     "output_type": "execute_result"
    }
   ],
   "source": [
    "X_sol"
   ]
  },
  {
   "cell_type": "code",
   "execution_count": 48,
   "id": "db80fb26",
   "metadata": {},
   "outputs": [
    {
     "data": {
      "text/plain": [
       "6-element Vector{Int64}:\n",
       " 1\n",
       " 1\n",
       " 1\n",
       " 1\n",
       " 1\n",
       " 1"
      ]
     },
     "execution_count": 48,
     "metadata": {},
     "output_type": "execute_result"
    }
   ],
   "source": [
    "coefficients(1+x[1]+x[2]+x[1]^2+x[1]*x[2]+x[2]^2)"
   ]
  },
  {
   "cell_type": "code",
   "execution_count": 9,
   "id": "66e1e699",
   "metadata": {},
   "outputs": [
    {
     "data": {
      "text/plain": [
       "6-element Vector{Monomial{true}}:\n",
       " 1\n",
       " x₂\n",
       " x₁\n",
       " x₂²\n",
       " x₁x₂\n",
       " x₁²"
      ]
     },
     "execution_count": 9,
     "metadata": {},
     "output_type": "execute_result"
    }
   ],
   "source": [
    "rmons = reverse(monomials(1+x[1]+x[2]+x[1]^2+x[1]*x[2]+x[2]^2))"
   ]
  },
  {
   "cell_type": "code",
   "execution_count": 10,
   "id": "2affb732",
   "metadata": {},
   "outputs": [
    {
     "data": {
      "text/plain": [
       "6×6 Matrix{Monomial{true}}:\n",
       " 1     x₂     x₁     x₂²     x₁x₂    x₁²\n",
       " x₂    x₂²    x₁x₂   x₂³     x₁x₂²   x₁²x₂\n",
       " x₁    x₁x₂   x₁²    x₁x₂²   x₁²x₂   x₁³\n",
       " x₂²   x₂³    x₁x₂²  x₂⁴     x₁x₂³   x₁²x₂²\n",
       " x₁x₂  x₁x₂²  x₁²x₂  x₁x₂³   x₁²x₂²  x₁³x₂\n",
       " x₁²   x₁²x₂  x₁³    x₁²x₂²  x₁³x₂   x₁⁴"
      ]
     },
     "execution_count": 10,
     "metadata": {},
     "output_type": "execute_result"
    }
   ],
   "source": [
    "rmons*rmons'"
   ]
  },
  {
   "cell_type": "code",
   "execution_count": 11,
   "id": "553c2b87",
   "metadata": {},
   "outputs": [
    {
     "data": {
      "text/plain": [
       "1×3 Matrix{Monomial{true}}:\n",
       " x₁⁵  x₁x₂²  x₁²"
      ]
     },
     "execution_count": 11,
     "metadata": {},
     "output_type": "execute_result"
    }
   ],
   "source": [
    "monomials(obj)[3:3]*monomials(obj)[1:3]'"
   ]
  },
  {
   "cell_type": "code",
   "execution_count": 12,
   "id": "12164469",
   "metadata": {},
   "outputs": [
    {
     "data": {
      "text/plain": [
       "5×5 Matrix{Int64}:\n",
       "  1   -2   -2   -2    7\n",
       " -2    4    4    4  -14\n",
       " -2    4    4    4  -14\n",
       " -2    4    4    4  -14\n",
       "  7  -14  -14  -14   49"
      ]
     },
     "execution_count": 12,
     "metadata": {},
     "output_type": "execute_result"
    }
   ],
   "source": [
    "coefficients(obj)*coefficients(obj)'"
   ]
  },
  {
   "cell_type": "code",
   "execution_count": null,
   "id": "48d5f2f4",
   "metadata": {},
   "outputs": [],
   "source": []
  },
  {
   "cell_type": "code",
   "execution_count": 13,
   "id": "ad8b4ce6",
   "metadata": {},
   "outputs": [
    {
     "data": {
      "text/latex": [
       "$$ 7y_{0,0} - 2y_{1,0} - 2y_{0,1} + y_{3,1} - 2y_{0,2} + y_{0,4} $$"
      ],
      "text/plain": [
       "7y₀₋₀ - 2y₁₋₀ - 2y₀₋₁ + y₃₋₁ - 2y₀₋₂ + y₀₋₄"
      ]
     },
     "execution_count": 13,
     "metadata": {},
     "output_type": "execute_result"
    }
   ],
   "source": [
    "C = [7         -1       -1       0           0      -1 \n",
    "     -1          0        0       0           0      0 \n",
    "     -1          0        0       0           0      0         \n",
    "     0           0        0       0           0      0 \n",
    "     0           0        0       1           0      0 \n",
    "     -1          0        0       0           0      1 ]\n",
    "\n",
    "tr(C*X)"
   ]
  },
  {
   "cell_type": "code",
   "execution_count": 14,
   "id": "8e16f63b",
   "metadata": {},
   "outputs": [
    {
     "data": {
      "text/latex": [
       "$$ x_{1}^{4} - 2x_{2}^{2} - 2x_{1} - 2x_{2} + 7 $$"
      ],
      "text/plain": [
       "x₁⁴ - 2x₂² - 2x₁ - 2x₂ + 7"
      ]
     },
     "execution_count": 14,
     "metadata": {},
     "output_type": "execute_result"
    }
   ],
   "source": [
    "obj"
   ]
  },
  {
   "cell_type": "markdown",
   "id": "5b66fc8f",
   "metadata": {},
   "source": [
    "This is SDP problem, \n",
    "\n",
    "\n",
    "\n",
    "and as $y_{00}=1$:\n",
    "\n",
    "$A_1 =\\begin{pmatrix} \n",
    "1 & 0 & 0 & 0 & 0 & 0\\\\\n",
    "0 & 0 & 0 & 0 & 0 & 0\\\\\n",
    "0 & 0 & 0 & 0 & 0 & 0\\\\\n",
    "0 & 0 & 0 & 0 & 0 & 0\\\\\n",
    "0 & 0 & 0 & 0 & 0 & 0\\\\\n",
    "0 & 0 & 0 & 0 & 0 & 0\\\\\n",
    "\\end{pmatrix}, \\quad b_1 = 1$\n"
   ]
  },
  {
   "cell_type": "code",
   "execution_count": null,
   "id": "24098916",
   "metadata": {},
   "outputs": [],
   "source": []
  },
  {
   "cell_type": "code",
   "execution_count": null,
   "id": "2d05372c",
   "metadata": {},
   "outputs": [],
   "source": []
  },
  {
   "cell_type": "code",
   "execution_count": null,
   "id": "0cfa6054",
   "metadata": {},
   "outputs": [],
   "source": []
  },
  {
   "cell_type": "code",
   "execution_count": 15,
   "id": "b3eeb960",
   "metadata": {},
   "outputs": [
    {
     "ename": "LoadError",
     "evalue": "UndefVarError: C₂ not defined",
     "output_type": "error",
     "traceback": [
      "UndefVarError: C₂ not defined",
      "",
      "Stacktrace:",
      " [1] top-level scope",
      "   @ In[15]:1",
      " [2] eval",
      "   @ .\\boot.jl:373 [inlined]",
      " [3] include_string(mapexpr::typeof(REPL.softscope), mod::Module, code::String, filename::String)",
      "   @ Base .\\loading.jl:1196"
     ]
    }
   ],
   "source": [
    "rank(C₂)"
   ]
  },
  {
   "cell_type": "code",
   "execution_count": 16,
   "id": "991e42cd",
   "metadata": {},
   "outputs": [
    {
     "data": {
      "text/plain": [
       "(PolyVar{true}[y₁₋₁ y₁₋₂ … y₁₋₅ y₁₋₆; y₂₋₁ y₂₋₂ … y₂₋₅ y₂₋₆; … ; y₅₋₁ y₅₋₂ … y₅₋₅ y₅₋₆; y₆₋₁ y₆₋₂ … y₆₋₅ y₆₋₆],)"
      ]
     },
     "execution_count": 16,
     "metadata": {},
     "output_type": "execute_result"
    }
   ],
   "source": [
    "@polyvar y[1:6,1:6]"
   ]
  },
  {
   "cell_type": "markdown",
   "id": "5d5bb903",
   "metadata": {},
   "source": [
    "Additional constaint for $y_{00}$:"
   ]
  },
  {
   "cell_type": "code",
   "execution_count": 49,
   "id": "16cf421e",
   "metadata": {},
   "outputs": [
    {
     "data": {
      "text/plain": [
       "6×6 Matrix{Float64}:\n",
       " 1.0  0.0  0.0  0.0  0.0  0.0\n",
       " 0.0  0.0  0.0  0.0  0.0  0.0\n",
       " 0.0  0.0  0.0  0.0  0.0  0.0\n",
       " 0.0  0.0  0.0  0.0  0.0  0.0\n",
       " 0.0  0.0  0.0  0.0  0.0  0.0\n",
       " 0.0  0.0  0.0  0.0  0.0  0.0"
      ]
     },
     "execution_count": 49,
     "metadata": {},
     "output_type": "execute_result"
    }
   ],
   "source": [
    "A = zeros(6,6)\n",
    "A[1,1] = 1\n",
    "b = 1\n",
    "A"
   ]
  },
  {
   "cell_type": "markdown",
   "id": "54f4dbe5",
   "metadata": {},
   "source": [
    "Now we can solve SDP"
   ]
  },
  {
   "cell_type": "code",
   "execution_count": 50,
   "id": "68dd5b5c",
   "metadata": {},
   "outputs": [
    {
     "name": "stdout",
     "output_type": "stream",
     "text": [
      "Problem\n",
      "  Name                   :                 \n",
      "  Objective sense        : min             \n",
      "  Type                   : CONIC (conic optimization problem)\n",
      "  Constraints            : 1               \n",
      "  Cones                  : 0               \n",
      "  Scalar variables       : 0               \n",
      "  Matrix variables       : 1               \n",
      "  Integer variables      : 0               \n",
      "\n",
      "Optimizer started.\n",
      "Presolve started.\n",
      "Linear dependency checker started.\n",
      "Linear dependency checker terminated.\n",
      "Eliminator started.\n",
      "Freed constraints in eliminator : 0\n",
      "Eliminator terminated.\n",
      "Eliminator started.\n",
      "Freed constraints in eliminator : 0\n",
      "Eliminator terminated.\n",
      "Eliminator - tries                  : 2                 time                   : 0.00            \n",
      "Lin. dep.  - tries                  : 1                 time                   : 0.00            \n",
      "Lin. dep.  - number                 : 0               \n",
      "Presolve terminated. Time: 0.00    \n",
      "Problem\n",
      "  Name                   :                 \n",
      "  Objective sense        : min             \n",
      "  Type                   : CONIC (conic optimization problem)\n",
      "  Constraints            : 1               \n",
      "  Cones                  : 0               \n",
      "  Scalar variables       : 0               \n",
      "  Matrix variables       : 1               \n",
      "  Integer variables      : 0               \n",
      "\n",
      "Optimizer  - threads                : 4               \n",
      "Optimizer  - solved problem         : the primal      \n",
      "Optimizer  - Constraints            : 1\n",
      "Optimizer  - Cones                  : 0\n",
      "Optimizer  - Scalar variables       : 0                 conic                  : 0               \n",
      "Optimizer  - Semi-definite variables: 1                 scalarized             : 21              \n",
      "Factor     - setup time             : 0.00              dense det. time        : 0.00            \n",
      "Factor     - ML order time          : 0.00              GP order time          : 0.00            \n",
      "Factor     - nonzeros before factor : 1                 after factor           : 1               \n",
      "Factor     - dense dim.             : 0                 flops                  : 5.80e+01        \n",
      "ITE PFEAS    DFEAS    GFEAS    PRSTATUS   POBJ              DOBJ              MU       TIME  \n",
      "0   0.0e+00  6.0e+00  9.0e+00  0.00e+00   8.000000000e+00   0.000000000e+00   1.0e+00  0.01  \n",
      "1   0.0e+00  0.0e+00  0.0e+00  1.00e+00   7.000000000e+00   7.000000000e+00   0.0e+00  0.01  \n",
      "Optimizer terminated. Time: 0.03    \n",
      "\n"
     ]
    },
    {
     "data": {
      "text/plain": [
       "(A JuMP Model\n",
       "Minimization problem with:\n",
       "Variables: 21\n",
       "Objective function type: AffExpr\n",
       "`AffExpr`-in-`MathOptInterface.EqualTo{Float64}`: 1 constraint\n",
       "`Vector{VariableRef}`-in-`MathOptInterface.PositiveSemidefiniteConeTriangle`: 1 constraint\n",
       "Model mode: AUTOMATIC\n",
       "CachingOptimizer state: ATTACHED_OPTIMIZER\n",
       "Solver name: Mosek\n",
       "Names registered in the model: X, y, MathOptInterface.OPTIMAL, 0.27699995040893555, [1.0 0.0 … 0.0 0.0; 0.0 1.0 … 0.0 0.0; … ; 0.0 0.0 … 1.0 0.0; 0.0 0.0 … 0.0 0.0], [7.0], 7.0)"
      ]
     },
     "execution_count": 50,
     "metadata": {},
     "output_type": "execute_result"
    }
   ],
   "source": [
    "model, status, run_time, X_sol, dual_sol, obj_value = solve_SDP(A, b, C)"
   ]
  },
  {
   "cell_type": "code",
   "execution_count": 51,
   "id": "913cacfc",
   "metadata": {},
   "outputs": [
    {
     "data": {
      "text/plain": [
       "7.0"
      ]
     },
     "execution_count": 51,
     "metadata": {},
     "output_type": "execute_result"
    }
   ],
   "source": [
    "obj_value"
   ]
  },
  {
   "cell_type": "code",
   "execution_count": 52,
   "id": "8661304b",
   "metadata": {},
   "outputs": [
    {
     "data": {
      "text/plain": [
       "OPTIMAL::TerminationStatusCode = 1"
      ]
     },
     "execution_count": 52,
     "metadata": {},
     "output_type": "execute_result"
    }
   ],
   "source": [
    "status"
   ]
  },
  {
   "cell_type": "code",
   "execution_count": 53,
   "id": "256cc85d",
   "metadata": {},
   "outputs": [
    {
     "data": {
      "text/plain": [
       "6×6 Matrix{Float64}:\n",
       " 1.0  0.0  0.0  0.0  0.0  0.0\n",
       " 0.0  1.0  0.0  0.0  0.0  0.0\n",
       " 0.0  0.0  1.0  0.0  0.0  0.0\n",
       " 0.0  0.0  0.0  1.0  0.0  0.0\n",
       " 0.0  0.0  0.0  0.0  1.0  0.0\n",
       " 0.0  0.0  0.0  0.0  0.0  0.0"
      ]
     },
     "execution_count": 53,
     "metadata": {},
     "output_type": "execute_result"
    }
   ],
   "source": [
    "X_sol"
   ]
  },
  {
   "cell_type": "markdown",
   "id": "e58607f2",
   "metadata": {},
   "source": [
    "#### Compare methods"
   ]
  },
  {
   "cell_type": "code",
   "execution_count": 25,
   "id": "76c9f3b1",
   "metadata": {},
   "outputs": [
    {
     "ename": "LoadError",
     "evalue": "UndefVarError: X_sol not defined",
     "output_type": "error",
     "traceback": [
      "UndefVarError: X_sol not defined",
      "",
      "Stacktrace:",
      " [1] top-level scope",
      "   @ In[25]:1",
      " [2] eval",
      "   @ .\\boot.jl:373 [inlined]",
      " [3] include_string(mapexpr::typeof(REPL.softscope), mod::Module, code::String, filename::String)",
      "   @ Base .\\loading.jl:1196"
     ]
    }
   ],
   "source": [
    "x₁ˢᵈᵖ = sqrt(X_sol[2,2]) # ω = √x₁²"
   ]
  },
  {
   "cell_type": "code",
   "execution_count": 26,
   "id": "8c7e2d44",
   "metadata": {},
   "outputs": [
    {
     "ename": "LoadError",
     "evalue": "UndefVarError: X_sol not defined",
     "output_type": "error",
     "traceback": [
      "UndefVarError: X_sol not defined",
      "",
      "Stacktrace:",
      " [1] top-level scope",
      "   @ In[26]:1",
      " [2] eval",
      "   @ .\\boot.jl:373 [inlined]",
      " [3] include_string(mapexpr::typeof(REPL.softscope), mod::Module, code::String, filename::String)",
      "   @ Base .\\loading.jl:1196"
     ]
    }
   ],
   "source": [
    "x₂ˢᵈᵖ = sqrt(X_sol[3,3]) # a = √x₂²\n",
    "\n",
    "#x₁ˢᵈᵖ, x₂ˢᵈᵖ = X_sol[1,2], X_sol[1,3]"
   ]
  },
  {
   "cell_type": "code",
   "execution_count": 27,
   "id": "e9176cbf",
   "metadata": {},
   "outputs": [
    {
     "data": {
      "text/plain": [
       "(4.302277544443461e13, 2.0633761535037166e27)"
      ]
     },
     "execution_count": 27,
     "metadata": {},
     "output_type": "execute_result"
    }
   ],
   "source": [
    "x₁ᵇᶠᵍˢ, x₂ᵇᶠᵍˢ"
   ]
  },
  {
   "cell_type": "code",
   "execution_count": 28,
   "id": "36967b73",
   "metadata": {},
   "outputs": [
    {
     "ename": "LoadError",
     "evalue": "UndefVarError: x₁ᵃⁿᵃˡⁱᵗ not defined",
     "output_type": "error",
     "traceback": [
      "UndefVarError: x₁ᵃⁿᵃˡⁱᵗ not defined",
      "",
      "Stacktrace:",
      " [1] top-level scope",
      "   @ In[28]:1",
      " [2] eval",
      "   @ .\\boot.jl:373 [inlined]",
      " [3] include_string(mapexpr::typeof(REPL.softscope), mod::Module, code::String, filename::String)",
      "   @ Base .\\loading.jl:1196"
     ]
    }
   ],
   "source": [
    "x₁ᵃⁿᵃˡⁱᵗ, x₂ᵃⁿᵃˡⁱᵗ"
   ]
  },
  {
   "cell_type": "code",
   "execution_count": 29,
   "id": "03b554ee",
   "metadata": {},
   "outputs": [
    {
     "ename": "LoadError",
     "evalue": "UndefVarError: x₁ᵃⁿᵃˡⁱᵗ not defined",
     "output_type": "error",
     "traceback": [
      "UndefVarError: x₁ᵃⁿᵃˡⁱᵗ not defined",
      "",
      "Stacktrace:",
      " [1] top-level scope",
      "   @ In[29]:1",
      " [2] eval",
      "   @ .\\boot.jl:373 [inlined]",
      " [3] include_string(mapexpr::typeof(REPL.softscope), mod::Module, code::String, filename::String)",
      "   @ Base .\\loading.jl:1196"
     ]
    }
   ],
   "source": [
    "[x₁ᵇᶠᵍˢ, x₂ᵇᶠᵍˢ] - [x₁ᵃⁿᵃˡⁱᵗ, x₂ᵃⁿᵃˡⁱᵗ]"
   ]
  },
  {
   "cell_type": "markdown",
   "id": "e9a78d3c",
   "metadata": {},
   "source": [
    "The precission of SDP is around $10^{-6}$:"
   ]
  },
  {
   "cell_type": "code",
   "execution_count": 30,
   "id": "85a9814f",
   "metadata": {},
   "outputs": [
    {
     "ename": "LoadError",
     "evalue": "UndefVarError: x₁ˢᵈᵖ not defined",
     "output_type": "error",
     "traceback": [
      "UndefVarError: x₁ˢᵈᵖ not defined",
      "",
      "Stacktrace:",
      " [1] top-level scope",
      "   @ In[30]:1",
      " [2] eval",
      "   @ .\\boot.jl:373 [inlined]",
      " [3] include_string(mapexpr::typeof(REPL.softscope), mod::Module, code::String, filename::String)",
      "   @ Base .\\loading.jl:1196"
     ]
    }
   ],
   "source": [
    "[x₁ˢᵈᵖ, x₂ˢᵈᵖ] - [x₁ᵃⁿᵃˡⁱᵗ, x₂ᵃⁿᵃˡⁱᵗ]"
   ]
  },
  {
   "cell_type": "code",
   "execution_count": 31,
   "id": "12462e06",
   "metadata": {},
   "outputs": [
    {
     "ename": "LoadError",
     "evalue": "UndefVarError: x₁ˢᵈᵖ not defined",
     "output_type": "error",
     "traceback": [
      "UndefVarError: x₁ˢᵈᵖ not defined",
      "",
      "Stacktrace:",
      " [1] top-level scope",
      "   @ In[31]:1",
      " [2] eval",
      "   @ .\\boot.jl:373 [inlined]",
      " [3] include_string(mapexpr::typeof(REPL.softscope), mod::Module, code::String, filename::String)",
      "   @ Base .\\loading.jl:1196"
     ]
    }
   ],
   "source": [
    "result = optimize(obj, [x₁ˢᵈᵖ, x₂ˢᵈᵖ], BFGS())\n",
    "@show x₁ˢᵈᵖᵇᶠᵍˢ, x₂ˢᵈᵖᵇᶠᵍˢ = Optim.minimizer(result)\n",
    "p([x₁ˢᵈᵖᵇᶠᵍˢ, x₂ˢᵈᵖᵇᶠᵍˢ])"
   ]
  },
  {
   "cell_type": "code",
   "execution_count": 32,
   "id": "8f83bac0",
   "metadata": {},
   "outputs": [
    {
     "name": "stdout",
     "output_type": "stream",
     "text": [
      "************************TSSOS************************\n",
      "TSSOS is launching...\n",
      "termination status: INFEASIBLE\n",
      "solution status: NO_SOLUTION\n",
      "optimum = -0.9930728740941915\n",
      "\n",
      "******************************************************************************\n",
      "This program contains Ipopt, a library for large-scale nonlinear optimization.\n",
      " Ipopt is released as open source code under the Eclipse Public License (EPL).\n",
      "         For more information visit https://github.com/coin-or/Ipopt\n",
      "******************************************************************************\n",
      "\n",
      "The local solver failed!\n"
     ]
    },
    {
     "data": {
      "text/plain": [
       "2-element Vector{Float64}:\n",
       " 0.9025344734334524\n",
       " 0.570846176974982"
      ]
     },
     "execution_count": 32,
     "metadata": {},
     "output_type": "execute_result"
    }
   ],
   "source": [
    "using TSSOS\n",
    "opt,sol,data = tssos_first(obj, variables(obj), QUIET=true, solution=true);\n",
    "previous_sol = sol"
   ]
  },
  {
   "cell_type": "code",
   "execution_count": null,
   "id": "8b21afe7",
   "metadata": {},
   "outputs": [],
   "source": []
  }
 ],
 "metadata": {
  "@webio": {
   "lastCommId": null,
   "lastKernelId": null
  },
  "kernelspec": {
   "display_name": "Julia 1.7.2",
   "language": "julia",
   "name": "julia-1.7"
  },
  "language_info": {
   "file_extension": ".jl",
   "mimetype": "application/julia",
   "name": "julia",
   "version": "1.7.2"
  }
 },
 "nbformat": 4,
 "nbformat_minor": 5
}
