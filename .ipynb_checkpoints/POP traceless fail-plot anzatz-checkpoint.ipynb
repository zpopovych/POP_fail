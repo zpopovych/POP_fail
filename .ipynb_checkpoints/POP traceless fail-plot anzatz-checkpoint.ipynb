{
 "cells": [
  {
   "cell_type": "markdown",
   "id": "4e9ebeac",
   "metadata": {},
   "source": [
    "### TSSOS fails to find traceless disipator which exists"
   ]
  },
  {
   "cell_type": "code",
   "execution_count": 1,
   "id": "d6e6e704",
   "metadata": {},
   "outputs": [],
   "source": [
    "include(\"LiPoSID.jl\")\n",
    "using QuantumOptics\n",
    "basis = NLevelBasis(2)\n",
    "using DynamicPolynomials\n",
    "using Plots"
   ]
  },
  {
   "cell_type": "markdown",
   "id": "1a649c41",
   "metadata": {},
   "source": [
    "Consider simplest possible Lindblad master equation with just one dissipator:\n",
    "\n",
    "$\n",
    "     \\frac{d\\rho}{dt} = - \\frac{i}{\\hbar}[H, \\rho]+\\left[A \\rho A^\\dagger - \\frac{1}{2}\\left\\{ A^\\dagger A, \\rho \\right\\} \\right]\n",
    "$,\n",
    "\n",
    "where Hamiltonian is hermitian with one of the diagonal elemnets set to zero\n",
    "\n",
    "\n",
    "$\n",
    "    H = \\begin{pmatrix} e_1 & h_1 - i h_2 \\\\ h_1 + i h_2 & 0\n",
    "   \\end{pmatrix}\n",
    "$\n",
    "\n",
    "and dissipator is traceless:\n",
    "\n",
    "$\n",
    "A = \\begin{pmatrix} a_1 + i b_1 &   a_2 + i b_2\\\\  a_3 + i b_3 & - a_1 - i b_1\n",
    "   \\end{pmatrix} $\n",
    "   \n",
    "$ \\operatorname{tr} A = 0$\n",
    "\n",
    "\n"
   ]
  },
  {
   "cell_type": "markdown",
   "id": "684e74eb",
   "metadata": {},
   "source": [
    "### Load exact data"
   ]
  },
  {
   "cell_type": "code",
   "execution_count": 2,
   "id": "055c0489",
   "metadata": {},
   "outputs": [
    {
     "name": "stdout",
     "output_type": "stream",
     "text": [
      "C:\\Users\\Zakhar\\Documents\\GitHub\\POP_fail\\DATA\\\n"
     ]
    },
    {
     "data": {
      "text/plain": [
       "1256"
      ]
     },
     "execution_count": 2,
     "metadata": {},
     "output_type": "execute_result"
    }
   ],
   "source": [
    "γᵗˣᵗ = \"0.079477\"\n",
    "\n",
    "parentdir = pwd()\n",
    "data_dir = parentdir*\"\\\\DATA\\\\\"\n",
    "println(data_dir)\n",
    "\n",
    "ρᵍ, tᵍ = LiPoSID.get_rho_series(data_dir*\"State_B1_2CUT_data.h5\", γᵗˣᵗ)\n",
    "ρᵉ, tᵉ = LiPoSID.get_rho_series(data_dir*\"State_B2_2CUT_data.h5\", γᵗˣᵗ)\n",
    "ρˣ, tˣ = LiPoSID.get_rho_series(data_dir*\"State_B3_2CUT_data.h5\", γᵗˣᵗ)\n",
    "ρʸ, tʸ = LiPoSID.get_rho_series(data_dir*\"State_B4_2CUT_data.h5\", γᵗˣᵗ)\n",
    "\n",
    "@assert tᵍ == tᵉ == tˣ == tʸ \n",
    "\n",
    "t = convert(Vector{Float64}, tᵉ)\n",
    "@assert maximum(diff(t)) ≈ minimum(diff(t)) ≈ t[2]-t[1]\n",
    "Δt = t[2]-t[1]\n",
    "t_steps = length(t)"
   ]
  },
  {
   "cell_type": "markdown",
   "id": "0b9557fe",
   "metadata": {},
   "source": [
    "### Perform POP SID"
   ]
  },
  {
   "cell_type": "code",
   "execution_count": 3,
   "id": "4220450b",
   "metadata": {},
   "outputs": [
    {
     "data": {
      "text/plain": [
       "2×2 Matrix{Polynomial{true, ComplexF64}}:\n",
       " e₁                  h₁ + (0.0-1.0im)h₂\n",
       " h₁ + (0.0+1.0im)h₂  0.0+0.0im"
      ]
     },
     "execution_count": 3,
     "metadata": {},
     "output_type": "execute_result"
    }
   ],
   "source": [
    "#using DynamicPolynomials\n",
    "\n",
    "@polyvar e[1:2]\n",
    "@polyvar h[1:2]\n",
    "\n",
    "Hˢʸᵐᵇₐₙ = [ e[1]   0\n",
    "            0      0. ]\n",
    "\n",
    "Hˢʸᵐᵇ = [ e[1]               h[1] - im*h[2]\n",
    "          h[1] + im*h[2]     0.             ]"
   ]
  },
  {
   "cell_type": "code",
   "execution_count": 4,
   "id": "2b4d5bbb",
   "metadata": {},
   "outputs": [
    {
     "data": {
      "text/plain": [
       "2×2 Matrix{Polynomial{true, Complex{Int64}}}:\n",
       " a₁ + (0+1im)b₁  a₂ + (0+1im)b₂\n",
       " a₃ + (0+1im)b₃  -a₁ + (0-1im)b₁"
      ]
     },
     "execution_count": 4,
     "metadata": {},
     "output_type": "execute_result"
    }
   ],
   "source": [
    "@polyvar a[1:3]\n",
    "@polyvar b[1:3]\n",
    "\n",
    "Aˢʸᵐᵇₐₙ = [ 0      a[2]\n",
    "            0      0.  ]\n",
    "\n",
    "Aˢʸᵐᵇ = [ a[1] + im*b[1]           a[2] + im*b[2]\n",
    "          a[3] + im*b[3]          -a[1] - im*b[1]   ]"
   ]
  },
  {
   "cell_type": "code",
   "execution_count": 5,
   "id": "ef49eb09",
   "metadata": {},
   "outputs": [
    {
     "data": {
      "text/latex": [
       "$$ 3.1796954746881942a_{1}^{4} - 0.013938441211284344a_{1}^{3}a_{2} + 0.013509761228743686a_{1}^{3}a_{3} - 0.013452739566579244a_{1}^{3}b_{2} - 0.018880717674252877a_{1}^{3}b_{3} + 10.940820302933638a_{1}^{2}a_{2}^{2} - 27.278937190981075a_{1}^{2}a_{2}a_{3} + 0.013452739566579244a_{1}^{2}a_{2}b_{1} - 0.0012575996083348737a_{1}^{2}a_{2}b_{2} - 0.0037727988250046275a_{1}^{2}a_{2}b_{3} + 29.16440169903429a_{1}^{2}a_{3}^{2} + 0.018880717674252877a_{1}^{2}a_{3}b_{1} + 0.0037727988250046275a_{1}^{2}a_{3}b_{2} + 0.0012575996083348737a_{1}^{2}a_{3}b_{3} + 6.3593909493763885a_{1}^{2}b_{1}^{2} - 0.013938441211284344a_{1}^{2}b_{1}b_{2} + 0.013509761228743686a_{1}^{2}b_{1}b_{3} + 10.940904373368438a_{1}^{2}b_{2}^{2} + 27.279441613589867a_{1}^{2}b_{2}b_{3} + 29.164485769469103a_{1}^{2}b_{3}^{2} - 0.007022805603459752a_{1}a_{2}^{3} + 0.006808465612189406a_{1}a_{2}^{2}a_{3} + 0.0012575996083348737a_{1}a_{2}^{2}b_{1} - 0.006047872519830426a_{1}a_{2}^{2}b_{2} - 0.008761861573667231a_{1}a_{2}^{2}b_{3} - 0.006915635607824613a_{1}a_{2}a_{3}^{2} - 0.013938441211284344a_{1}a_{2}b_{1}^{2} - 0.00016814086959842539a_{1}a_{2}b_{1}b_{2} - 54.558378804570964a_{1}a_{2}b_{1}b_{3} - 0.007022805603459752a_{1}a_{2}b_{2}^{2} - 0.006915635607824613a_{1}a_{2}b_{3}^{2} + 0.006701295616554283a_{1}a_{3}^{3} - 0.0012575996083348737a_{1}a_{3}^{2}b_{1} - 0.0074048670467488364a_{1}a_{3}^{2}b_{2} - 0.010118856100585652a_{1}a_{3}^{2}b_{3} + 0.013509761228743686a_{1}a_{3}b_{1}^{2} - 54.558378804570964a_{1}a_{3}b_{1}b_{2} - 0.00016814086959842539a_{1}a_{3}b_{1}b_{3} + 0.006808465612189413a_{1}a_{3}b_{2}^{2} + 0.006701295616554283a_{1}a_{3}b_{3}^{2} - 0.013452739566579244a_{1}b_{1}^{2}b_{2} - 0.018880717674252877a_{1}b_{1}^{2}b_{3} - 0.0012575996083348737a_{1}b_{1}b_{2}^{2} + 0.0012575996083348737a_{1}b_{1}b_{3}^{2} - 0.006047872519830426a_{1}b_{2}^{3} - 0.008761861573667231a_{1}b_{2}^{2}b_{3} - 0.007404867046748821a_{1}b_{2}b_{3}^{2} - 0.010118856100585652a_{1}b_{3}^{3} + 1.6697789826640932a_{2}^{4} + 8.407043479921367e-5a_{2}^{3}a_{3} + 0.006047872519830426a_{2}^{3}b_{1} - 0.0012575996083348737a_{2}^{3}b_{3} - 2.8049274679494474a_{2}^{2}a_{3}^{2} + 0.008761861573667238a_{2}^{2}a_{3}b_{1} + 0.0012575996083348737a_{2}^{2}a_{3}b_{2} + 10.940904373368438a_{2}^{2}b_{1}^{2} - 0.007022805603459752a_{2}^{2}b_{1}b_{2} + 0.006808465612189413a_{2}^{2}b_{1}b_{3} + 3.3395579653281864a_{2}^{2}b_{2}^{2} + 8.407043479921367e-5a_{2}^{2}b_{2}b_{3} - 2.8049274679494474a_{2}^{2}b_{3}^{2} + 8.407043479921367e-5a_{2}a_{3}^{3} + 0.0074048670467488364a_{2}a_{3}^{2}b_{1} - 0.0012575996083348737a_{2}a_{3}^{2}b_{3} + 27.279441613589867a_{2}a_{3}b_{1}^{2} + 8.407043479921367e-5a_{2}a_{3}b_{2}^{2} + 8.407043479921367e-5a_{2}a_{3}b_{3}^{2} + 0.013452739566579244a_{2}b_{1}^{3} + 0.0012575996083348737a_{2}b_{1}^{2}b_{2} - 0.0037727988250046275a_{2}b_{1}^{2}b_{3} + 0.006047872519830426a_{2}b_{1}b_{2}^{2} + 0.007404867046748821a_{2}b_{1}b_{3}^{2} - 0.0012575996083348737a_{2}b_{2}^{2}b_{3} - 0.0012575996083348737a_{2}b_{3}^{3} + 10.781569680714417a_{3}^{4} + 0.010118856100585652a_{3}^{3}b_{1} + 0.0012575996083348737a_{3}^{3}b_{2} + 29.164485769469103a_{3}^{2}b_{1}^{2} - 0.006915635607824613a_{3}^{2}b_{1}b_{2} + 0.006701295616554283a_{3}^{2}b_{1}b_{3} - 2.8049274679494474a_{3}^{2}b_{2}^{2} + 8.407043479921367e-5a_{3}^{2}b_{2}b_{3} + 21.563139361428835a_{3}^{2}b_{3}^{2} + 0.018880717674252877a_{3}b_{1}^{3} + 0.0037727988250046275a_{3}b_{1}^{2}b_{2} - 0.0012575996083348737a_{3}b_{1}^{2}b_{3} + 0.008761861573667238a_{3}b_{1}b_{2}^{2} + 0.010118856100585652a_{3}b_{1}b_{3}^{2} + 0.0012575996083348737a_{3}b_{2}^{3} + 0.0012575996083348737a_{3}b_{2}b_{3}^{2} + 3.1796954746881942b_{1}^{4} - 0.013938441211284344b_{1}^{3}b_{2} + 0.013509761228743686b_{1}^{3}b_{3} + 10.940820302933638b_{1}^{2}b_{2}^{2} - 27.278937190981075b_{1}^{2}b_{2}b_{3} + 29.16440169903429b_{1}^{2}b_{3}^{2} - 0.007022805603459752b_{1}b_{2}^{3} + 0.006808465612189406b_{1}b_{2}^{2}b_{3} - 0.006915635607824613b_{1}b_{2}b_{3}^{2} + 0.006701295616554283b_{1}b_{3}^{3} + 1.6697789826640932b_{2}^{4} + 8.407043479921367e-5b_{2}^{3}b_{3} - 2.8049274679494474b_{2}^{2}b_{3}^{2} + 8.407043479921367e-5b_{2}b_{3}^{3} + 10.781569680714417b_{3}^{4} + 0.006726369783289622e_{1}a_{1}a_{2} - 0.009440358837126439e_{1}a_{1}a_{3} - 0.006969220605642172e_{1}a_{1}b_{2} - 0.006754880614371843e_{1}a_{1}b_{3} - 0.0025151992166697473e_{1}a_{2}a_{3} + 0.006969220605642172e_{1}a_{2}b_{1} - 0.00016814086959842734e_{1}a_{2}b_{3} + 0.006754880614371843e_{1}a_{3}b_{1} + 0.00016814086959842734e_{1}a_{3}b_{2} + 0.006726369783289622e_{1}b_{1}b_{2} - 0.009440358837126439e_{1}b_{1}b_{3} - 0.0025151992166697473e_{1}b_{2}b_{3} + 0.005427978107673653h_{1}a_{1}^{2} + 0.0025151992166697473h_{1}a_{1}a_{2} + 0.0025151992166697473h_{1}a_{1}a_{3} - 11.757023816229378h_{1}a_{1}b_{2} - 24.690138975971934h_{1}a_{1}b_{3} + 0.006726369783289609h_{1}a_{2}^{2} + 0.0027139890538368265h_{1}a_{2}a_{3} + 11.757023816229378h_{1}a_{2}b_{1} - 0.00021433999127031325h_{1}a_{2}b_{3} - 0.009440358837126446h_{1}a_{3}^{2} + 24.690138975971934h_{1}a_{3}b_{1} + 0.00021433999127031325h_{1}a_{3}b_{2} + 0.005427978107673653h_{1}b_{1}^{2} + 0.0025151992166697473h_{1}b_{1}b_{2} + 0.0025151992166697473h_{1}b_{1}b_{3} + 0.006726369783289609h_{1}b_{2}^{2} + 0.0027139890538368265h_{1}b_{2}b_{3} - 0.009440358837126446h_{1}b_{3}^{2} - 0.0004286799825406265h_{2}a_{1}^{2} - 11.75668753449017h_{2}a_{1}a_{2} + 24.69047525771112h_{2}a_{1}a_{3} + 0.0025151992166697473h_{2}a_{1}b_{2} - 0.0025151992166697473h_{2}a_{1}b_{3} + 0.006969220605642168h_{2}a_{2}^{2} + 0.00021433999127031325h_{2}a_{2}a_{3} - 0.0025151992166697473h_{2}a_{2}b_{1} + 0.0027139890538368265h_{2}a_{2}b_{3} - 0.006754880614371839h_{2}a_{3}^{2} + 0.0025151992166697473h_{2}a_{3}b_{1} - 0.0027139890538368265h_{2}a_{3}b_{2} - 0.0004286799825406265h_{2}b_{1}^{2} - 11.75668753449017h_{2}b_{1}b_{2} + 24.69047525771112h_{2}b_{1}b_{3} + 0.006969220605642168h_{2}b_{2}^{2} + 0.00021433999127031325h_{2}b_{2}b_{3} - 0.006754880614371839h_{2}b_{3}^{2} + 0.7949238686720486e_{1}^{2} - 0.00021433999127031325e_{1}h_{1} - 0.0027139890538368265e_{1}h_{2} + 9.646589336298666h_{1}^{2} - 0.005030398433339495h_{1}h_{2} + 9.646253054559464h_{2}^{2} - 0.12633248529941715a_{1}^{2} - 0.16830836694029816a_{1}a_{2} + 0.237859479265304a_{1}a_{3} + 0.17649515156650372a_{1}b_{2} + 0.17048217150495282a_{1}b_{3} - 0.26545473091539a_{2}^{2} - 6.903431434130552e-5a_{2}a_{3} - 0.17649515156650372a_{2}b_{1} + 0.00022766619848354a_{2}b_{3} + 0.28623783345868997a_{3}^{2} - 0.17048217150495282a_{3}b_{1} - 0.00022766619848354a_{3}b_{2} - 0.12633248529941715b_{1}^{2} - 0.16830836694029816b_{1}b_{2} + 0.237859479265304b_{1}b_{3} - 0.26545473091539b_{2}^{2} - 6.903431434130552e-5b_{2}b_{3} + 0.28623783345868997b_{3}^{2} - 39.94662884489179e_{1} + 0.00393024024838317h_{1} + 0.06681942829499785h_{2} + 501.8627949039175 $$"
      ],
      "text/plain": [
       "3.1796954746881942a₁⁴ - 0.013938441211284344a₁³a₂ + 0.013509761228743686a₁³a₃ - 0.013452739566579244a₁³b₂ - 0.018880717674252877a₁³b₃ + 10.940820302933638a₁²a₂² - 27.278937190981075a₁²a₂a₃ + 0.013452739566579244a₁²a₂b₁ - 0.0012575996083348737a₁²a₂b₂ - 0.0037727988250046275a₁²a₂b₃ + 29.16440169903429a₁²a₃² + 0.018880717674252877a₁²a₃b₁ + 0.0037727988250046275a₁²a₃b₂ + 0.0012575996083348737a₁²a₃b₃ + 6.3593909493763885a₁²b₁² - 0.013938441211284344a₁²b₁b₂ + 0.013509761228743686a₁²b₁b₃ + 10.940904373368438a₁²b₂² + 27.279441613589867a₁²b₂b₃ + 29.164485769469103a₁²b₃² - 0.007022805603459752a₁a₂³ + 0.006808465612189406a₁a₂²a₃ + 0.0012575996083348737a₁a₂²b₁ - 0.006047872519830426a₁a₂²b₂ - 0.008761861573667231a₁a₂²b₃ - 0.006915635607824613a₁a₂a₃² - 0.013938441211284344a₁a₂b₁² - 0.00016814086959842539a₁a₂b₁b₂ - 54.558378804570964a₁a₂b₁b₃ - 0.007022805603459752a₁a₂b₂² - 0.006915635607824613a₁a₂b₃² + 0.006701295616554283a₁a₃³ - 0.0012575996083348737a₁a₃²b₁ - 0.0074048670467488364a₁a₃²b₂ - 0.010118856100585652a₁a₃²b₃ + 0.013509761228743686a₁a₃b₁² - 54.558378804570964a₁a₃b₁b₂ - 0.00016814086959842539a₁a₃b₁b₃ + 0.006808465612189413a₁a₃b₂² + 0.006701295616554283a₁a₃b₃² - 0.013452739566579244a₁b₁²b₂ - 0.018880717674252877a₁b₁²b₃ - 0.0012575996083348737a₁b₁b₂² + 0.0012575996083348737a₁b₁b₃² - 0.006047872519830426a₁b₂³ - 0.008761861573667231a₁b₂²b₃ - 0.007404867046748821a₁b₂b₃² - 0.010118856100585652a₁b₃³ + 1.6697789826640932a₂⁴ + 8.407043479921367e-5a₂³a₃ + 0.006047872519830426a₂³b₁ - 0.0012575996083348737a₂³b₃ - 2.8049274679494474a₂²a₃² + 0.008761861573667238a₂²a₃b₁ + 0.0012575996083348737a₂²a₃b₂ + 10.940904373368438a₂²b₁² - 0.007022805603459752a₂²b₁b₂ + 0.006808465612189413a₂²b₁b₃ + 3.3395579653281864a₂²b₂² + 8.407043479921367e-5a₂²b₂b₃ - 2.8049274679494474a₂²b₃² + 8.407043479921367e-5a₂a₃³ + 0.0074048670467488364a₂a₃²b₁ - 0.0012575996083348737a₂a₃²b₃ + 27.279441613589867a₂a₃b₁² + 8.407043479921367e-5a₂a₃b₂² + 8.407043479921367e-5a₂a₃b₃² + 0.013452739566579244a₂b₁³ + 0.0012575996083348737a₂b₁²b₂ - 0.0037727988250046275a₂b₁²b₃ + 0.006047872519830426a₂b₁b₂² + 0.007404867046748821a₂b₁b₃² - 0.0012575996083348737a₂b₂²b₃ - 0.0012575996083348737a₂b₃³ + 10.781569680714417a₃⁴ + 0.010118856100585652a₃³b₁ + 0.0012575996083348737a₃³b₂ + 29.164485769469103a₃²b₁² - 0.006915635607824613a₃²b₁b₂ + 0.006701295616554283a₃²b₁b₃ - 2.8049274679494474a₃²b₂² + 8.407043479921367e-5a₃²b₂b₃ + 21.563139361428835a₃²b₃² + 0.018880717674252877a₃b₁³ + 0.0037727988250046275a₃b₁²b₂ - 0.0012575996083348737a₃b₁²b₃ + 0.008761861573667238a₃b₁b₂² + 0.010118856100585652a₃b₁b₃² + 0.0012575996083348737a₃b₂³ + 0.0012575996083348737a₃b₂b₃² + 3.1796954746881942b₁⁴ - 0.013938441211284344b₁³b₂ + 0.013509761228743686b₁³b₃ + 10.940820302933638b₁²b₂² - 27.278937190981075b₁²b₂b₃ + 29.16440169903429b₁²b₃² - 0.007022805603459752b₁b₂³ + 0.006808465612189406b₁b₂²b₃ - 0.006915635607824613b₁b₂b₃² + 0.006701295616554283b₁b₃³ + 1.6697789826640932b₂⁴ + 8.407043479921367e-5b₂³b₃ - 2.8049274679494474b₂²b₃² + 8.407043479921367e-5b₂b₃³ + 10.781569680714417b₃⁴ + 0.006726369783289622e₁a₁a₂ - 0.009440358837126439e₁a₁a₃ - 0.006969220605642172e₁a₁b₂ - 0.006754880614371843e₁a₁b₃ - 0.0025151992166697473e₁a₂a₃ + 0.006969220605642172e₁a₂b₁ - 0.00016814086959842734e₁a₂b₃ + 0.006754880614371843e₁a₃b₁ + 0.00016814086959842734e₁a₃b₂ + 0.006726369783289622e₁b₁b₂ - 0.009440358837126439e₁b₁b₃ - 0.0025151992166697473e₁b₂b₃ + 0.005427978107673653h₁a₁² + 0.0025151992166697473h₁a₁a₂ + 0.0025151992166697473h₁a₁a₃ - 11.757023816229378h₁a₁b₂ - 24.690138975971934h₁a₁b₃ + 0.006726369783289609h₁a₂² + 0.0027139890538368265h₁a₂a₃ + 11.757023816229378h₁a₂b₁ - 0.00021433999127031325h₁a₂b₃ - 0.009440358837126446h₁a₃² + 24.690138975971934h₁a₃b₁ + 0.00021433999127031325h₁a₃b₂ + 0.005427978107673653h₁b₁² + 0.0025151992166697473h₁b₁b₂ + 0.0025151992166697473h₁b₁b₃ + 0.006726369783289609h₁b₂² + 0.0027139890538368265h₁b₂b₃ - 0.009440358837126446h₁b₃² - 0.0004286799825406265h₂a₁² - 11.75668753449017h₂a₁a₂ + 24.69047525771112h₂a₁a₃ + 0.0025151992166697473h₂a₁b₂ - 0.0025151992166697473h₂a₁b₃ + 0.006969220605642168h₂a₂² + 0.00021433999127031325h₂a₂a₃ - 0.0025151992166697473h₂a₂b₁ + 0.0027139890538368265h₂a₂b₃ - 0.006754880614371839h₂a₃² + 0.0025151992166697473h₂a₃b₁ - 0.0027139890538368265h₂a₃b₂ - 0.0004286799825406265h₂b₁² - 11.75668753449017h₂b₁b₂ + 24.69047525771112h₂b₁b₃ + 0.006969220605642168h₂b₂² + 0.00021433999127031325h₂b₂b₃ - 0.006754880614371839h₂b₃² + 0.7949238686720486e₁² - 0.00021433999127031325e₁h₁ - 0.0027139890538368265e₁h₂ + 9.646589336298666h₁² - 0.005030398433339495h₁h₂ + 9.646253054559464h₂² - 0.12633248529941715a₁² - 0.16830836694029816a₁a₂ + 0.237859479265304a₁a₃ + 0.17649515156650372a₁b₂ + 0.17048217150495282a₁b₃ - 0.26545473091539a₂² - 6.903431434130552e-5a₂a₃ - 0.17649515156650372a₂b₁ + 0.00022766619848354a₂b₃ + 0.28623783345868997a₃² - 0.17048217150495282a₃b₁ - 0.00022766619848354a₃b₂ - 0.12633248529941715b₁² - 0.16830836694029816b₁b₂ + 0.237859479265304b₁b₃ - 0.26545473091539b₂² - 6.903431434130552e-5b₂b₃ + 0.28623783345868997b₃² - 39.94662884489179e₁ + 0.00393024024838317h₁ + 0.06681942829499785h₂ + 501.8627949039175"
      ]
     },
     "execution_count": 5,
     "metadata": {},
     "output_type": "execute_result"
    }
   ],
   "source": [
    "objₑₓ = 0\n",
    "objₑₓₐₙ = 0\n",
    "\n",
    "for ρ in [ρᵍ, ρᵉ, ρˣ, ρʸ]\n",
    "\n",
    "    # Convert cut ρ series:\n",
    "    ρ = convert(Vector{Matrix{ComplexF64}}, ρ)\n",
    "\n",
    "    objₑₓ += LiPoSID.simpson_obj(ρ, t,  Hˢʸᵐᵇ, [Aˢʸᵐᵇ])\n",
    "    \n",
    "    objₑₓₐₙ += LiPoSID.simpson_obj(ρ, t,  Hˢʸᵐᵇₐₙ, [Aˢʸᵐᵇₐₙ])\n",
    "\n",
    "end # of files (initial states) loop\n",
    "\n",
    "objₑₓ "
   ]
  },
  {
   "cell_type": "code",
   "execution_count": 6,
   "id": "980ebe9e",
   "metadata": {},
   "outputs": [
    {
     "name": "stdout",
     "output_type": "stream",
     "text": [
      "************************TSSOS************************\n",
      "TSSOS is launching...\n",
      "optimum = 0.0005504791761246807\n",
      "\n",
      "******************************************************************************\n",
      "This program contains Ipopt, a library for large-scale nonlinear optimization.\n",
      " Ipopt is released as open source code under the Eclipse Public License (EPL).\n",
      "         For more information visit https://github.com/coin-or/Ipopt\n",
      "******************************************************************************\n",
      "\n",
      "Found a local optimal solution giving an upper bound: 0.01185694330882825 and a relative optimality gap: 0.011306464132703569.\n",
      "No higher TSSOS hierarchy!\n",
      "************************TSSOS************************\n",
      "TSSOS is launching...\n",
      "optimum = 0.0005504243887982635\n",
      "Found a local optimal solution giving an upper bound: 0.011856943308885093 and a relative optimality gap: 0.01130651892008683.\n",
      "No higher TSSOS hierarchy!\n",
      "val_p = [0.011856943308885093, 0.01185694330882825]\n"
     ]
    },
    {
     "data": {
      "text/plain": [
       "2×2 Matrix{Polynomial{true, ComplexF64}}:\n",
       " (-1.5623e-16-8.05328e-17im)  (3.87238e-14-2.52033e-15im)\n",
       " (3.05743e-16-3.43372e-18im)  (1.5623e-16+8.05328e-17im)"
      ]
     },
     "execution_count": 6,
     "metadata": {},
     "output_type": "execute_result"
    }
   ],
   "source": [
    "solₑₓⁿᵉʷ, best_methodₑₓⁿᵉʷ = LiPoSID.sos_min_newton(objₑₓ) \n",
    "Hˢⁱᵈₑₓ = subs(Hˢʸᵐᵇ, solₑₓⁿᵉʷ)\n",
    "Aˢⁱᵈₑₓ = subs(Aˢʸᵐᵇ, solₑₓⁿᵉʷ)"
   ]
  },
  {
   "cell_type": "code",
   "execution_count": 7,
   "id": "55442b8b",
   "metadata": {},
   "outputs": [
    {
     "data": {
      "text/latex": [
       "$$ 0.01185694330882825 $$"
      ],
      "text/plain": [
       "0.01185694330882825"
      ]
     },
     "execution_count": 7,
     "metadata": {},
     "output_type": "execute_result"
    }
   ],
   "source": [
    "subs(objₑₓ, solₑₓⁿᵉʷ)"
   ]
  },
  {
   "cell_type": "code",
   "execution_count": 8,
   "id": "18fe17c8",
   "metadata": {},
   "outputs": [
    {
     "data": {
      "text/plain": [
       "\"scaled_tssos\""
      ]
     },
     "execution_count": 8,
     "metadata": {},
     "output_type": "execute_result"
    }
   ],
   "source": [
    "best_methodₑₓⁿᵉʷ"
   ]
  },
  {
   "cell_type": "code",
   "execution_count": 9,
   "id": "1f8ba9f5",
   "metadata": {},
   "outputs": [
    {
     "data": {
      "text/plain": [
       "2×2 Matrix{Polynomial{true, ComplexF64}}:\n",
       " (-1.5623e-16-8.05328e-17im)  (3.87238e-14-2.52033e-15im)\n",
       " (3.05743e-16-3.43372e-18im)  (1.5623e-16+8.05328e-17im)"
      ]
     },
     "execution_count": 9,
     "metadata": {},
     "output_type": "execute_result"
    }
   ],
   "source": [
    "Aˢⁱᵈₑₓ"
   ]
  },
  {
   "cell_type": "markdown",
   "id": "8d30b70f",
   "metadata": {},
   "source": [
    "All the elements of dissipator $A$ are zero!!!"
   ]
  },
  {
   "cell_type": "code",
   "execution_count": 10,
   "id": "c5287a12",
   "metadata": {},
   "outputs": [
    {
     "data": {
      "text/plain": [
       "2×2 Matrix{Polynomial{true, ComplexF64}}:\n",
       " (25.1261+0.0im)           (7.54484e-5-7.1159e-5im)\n",
       " (7.54484e-5+7.1159e-5im)  0.0+0.0im"
      ]
     },
     "execution_count": 10,
     "metadata": {},
     "output_type": "execute_result"
    }
   ],
   "source": [
    "Hˢⁱᵈₑₓ"
   ]
  },
  {
   "cell_type": "markdown",
   "id": "30c5aa14",
   "metadata": {},
   "source": [
    "But we can find non-zero dissipator $A$ if look for \n",
    "\n",
    "$\n",
    "    H = \\begin{pmatrix} e_1 & 0 \\\\ 0 & 0\n",
    "   \\end{pmatrix}\n",
    "$\n",
    "\n",
    "\n",
    "$\n",
    "A = \\sqrt{\\gamma} \\sigma = \\begin{pmatrix} 0 & a \\\\ 0 & 0\n",
    "   \\end{pmatrix}$"
   ]
  },
  {
   "cell_type": "code",
   "execution_count": 11,
   "id": "59ae5b01",
   "metadata": {},
   "outputs": [
    {
     "name": "stdout",
     "output_type": "stream",
     "text": [
      "************************TSSOS************************\n",
      "TSSOS is launching...\n",
      "optimum = 0.0013068260669271202\n",
      "Global optimality certified!\n",
      "No higher TSSOS hierarchy!\n",
      "************************TSSOS************************\n",
      "TSSOS is launching...\n",
      "optimum = 0.0013068175921014087\n",
      "Found a local optimal solution giving an upper bound: 0.011857047039541158 and a relative optimality gap: 0.01055022944743975.\n",
      "No higher TSSOS hierarchy!\n",
      "val_p = [0.0013068163059983817, 0.011857047039598001]\n"
     ]
    },
    {
     "data": {
      "text/plain": [
       "2×2 Matrix{Term{true, Float64}}:\n",
       " 0.0  0.281936\n",
       " 0.0  0.0"
      ]
     },
     "execution_count": 11,
     "metadata": {},
     "output_type": "execute_result"
    }
   ],
   "source": [
    "solₑₓₐₙⁿᵉʷ, best_methodₑₓₐₙⁿᵉʷ = LiPoSID.sos_min_newton(objₑₓₐₙ) \n",
    "Hˢⁱᵈₑₓₐₙ = subs(Hˢʸᵐᵇₐₙ, solₑₓₐₙⁿᵉʷ)\n",
    "Aˢⁱᵈₑₓₐₙ = subs(Aˢʸᵐᵇₐₙ, solₑₓₐₙⁿᵉʷ)"
   ]
  },
  {
   "cell_type": "code",
   "execution_count": 12,
   "id": "afb031dc",
   "metadata": {},
   "outputs": [
    {
     "data": {
      "text/plain": [
       "(0.01185694330882825, 0.0013068163059983817)"
      ]
     },
     "execution_count": 12,
     "metadata": {},
     "output_type": "execute_result"
    }
   ],
   "source": [
    "subs(objₑₓ, solₑₓⁿᵉʷ), subs(objₑₓₐₙ, solₑₓₐₙⁿᵉʷ)"
   ]
  },
  {
   "cell_type": "code",
   "execution_count": 13,
   "id": "9c2f9056",
   "metadata": {},
   "outputs": [
    {
     "data": {
      "text/plain": [
       "2×2 Matrix{Term{true, Float64}}:\n",
       " 25.1261  0.0\n",
       " 0.0      0.0"
      ]
     },
     "execution_count": 13,
     "metadata": {},
     "output_type": "execute_result"
    }
   ],
   "source": [
    "Hˢⁱᵈₑₓₐₙ"
   ]
  },
  {
   "cell_type": "code",
   "execution_count": 14,
   "id": "b14ba3d6",
   "metadata": {},
   "outputs": [
    {
     "data": {
      "text/plain": [
       "2×2 Matrix{Term{true, Float64}}:\n",
       " 0.0  0.281936\n",
       " 0.0  0.0"
      ]
     },
     "execution_count": 14,
     "metadata": {},
     "output_type": "execute_result"
    }
   ],
   "source": [
    "Aˢⁱᵈₑₓₐₙ"
   ]
  },
  {
   "cell_type": "markdown",
   "id": "39f50f0d",
   "metadata": {},
   "source": [
    "Difference is 12 orders of magnitude"
   ]
  },
  {
   "cell_type": "markdown",
   "id": "c5ed5e4b",
   "metadata": {},
   "source": [
    "### Try to zero diagonal and it works"
   ]
  },
  {
   "cell_type": "code",
   "execution_count": 15,
   "id": "b90f5f03",
   "metadata": {},
   "outputs": [
    {
     "data": {
      "text/plain": [
       "2×2 Matrix{Polynomial{true, Complex{Int64}}}:\n",
       " 0+0im           a₂ + (0+1im)b₂\n",
       " a₃ + (0+1im)b₃  0+0im"
      ]
     },
     "execution_count": 15,
     "metadata": {},
     "output_type": "execute_result"
    }
   ],
   "source": [
    "Aˢʸᵐᵇ₀ = [ 0                 a[2] + im*b[2]\n",
    "          a[3] + im*b[3]     0              ]"
   ]
  },
  {
   "cell_type": "code",
   "execution_count": 16,
   "id": "2b966393",
   "metadata": {},
   "outputs": [
    {
     "data": {
      "text/latex": [
       "$$ 1.6697789826640932a_{2}^{4} + 8.407043479921367e-5a_{2}^{3}a_{3} - 0.0012575996083348737a_{2}^{3}b_{3} - 2.8049274679494474a_{2}^{2}a_{3}^{2} + 0.0012575996083348737a_{2}^{2}a_{3}b_{2} + 3.3395579653281864a_{2}^{2}b_{2}^{2} + 8.407043479921367e-5a_{2}^{2}b_{2}b_{3} - 2.8049274679494474a_{2}^{2}b_{3}^{2} + 8.407043479921367e-5a_{2}a_{3}^{3} - 0.0012575996083348737a_{2}a_{3}^{2}b_{3} + 8.407043479921367e-5a_{2}a_{3}b_{2}^{2} + 8.407043479921367e-5a_{2}a_{3}b_{3}^{2} - 0.0012575996083348737a_{2}b_{2}^{2}b_{3} - 0.0012575996083348737a_{2}b_{3}^{3} + 10.781569680714417a_{3}^{4} + 0.0012575996083348737a_{3}^{3}b_{2} - 2.8049274679494474a_{3}^{2}b_{2}^{2} + 8.407043479921367e-5a_{3}^{2}b_{2}b_{3} + 21.563139361428835a_{3}^{2}b_{3}^{2} + 0.0012575996083348737a_{3}b_{2}^{3} + 0.0012575996083348737a_{3}b_{2}b_{3}^{2} + 1.6697789826640932b_{2}^{4} + 8.407043479921367e-5b_{2}^{3}b_{3} - 2.8049274679494474b_{2}^{2}b_{3}^{2} + 8.407043479921367e-5b_{2}b_{3}^{3} + 10.781569680714417b_{3}^{4} - 0.0025151992166697473e_{1}a_{2}a_{3} - 0.00016814086959842734e_{1}a_{2}b_{3} + 0.00016814086959842734e_{1}a_{3}b_{2} - 0.0025151992166697473e_{1}b_{2}b_{3} + 0.006726369783289609h_{1}a_{2}^{2} + 0.0027139890538368265h_{1}a_{2}a_{3} - 0.00021433999127031325h_{1}a_{2}b_{3} - 0.009440358837126446h_{1}a_{3}^{2} + 0.00021433999127031325h_{1}a_{3}b_{2} + 0.006726369783289609h_{1}b_{2}^{2} + 0.0027139890538368265h_{1}b_{2}b_{3} - 0.009440358837126446h_{1}b_{3}^{2} + 0.006969220605642168h_{2}a_{2}^{2} + 0.00021433999127031325h_{2}a_{2}a_{3} + 0.0027139890538368265h_{2}a_{2}b_{3} - 0.006754880614371839h_{2}a_{3}^{2} - 0.0027139890538368265h_{2}a_{3}b_{2} + 0.006969220605642168h_{2}b_{2}^{2} + 0.00021433999127031325h_{2}b_{2}b_{3} - 0.006754880614371839h_{2}b_{3}^{2} + 0.7949238686720486e_{1}^{2} - 0.00021433999127031325e_{1}h_{1} - 0.0027139890538368265e_{1}h_{2} + 9.646589336298666h_{1}^{2} - 0.005030398433339495h_{1}h_{2} + 9.646253054559464h_{2}^{2} - 0.26545473091539a_{2}^{2} - 6.903431434130552e-5a_{2}a_{3} + 0.00022766619848354a_{2}b_{3} + 0.28623783345868997a_{3}^{2} - 0.00022766619848354a_{3}b_{2} - 0.26545473091539b_{2}^{2} - 6.903431434130552e-5b_{2}b_{3} + 0.28623783345868997b_{3}^{2} - 39.94662884489179e_{1} + 0.00393024024838317h_{1} + 0.06681942829499785h_{2} + 501.8627949039175 $$"
      ],
      "text/plain": [
       "1.6697789826640932a₂⁴ + 8.407043479921367e-5a₂³a₃ - 0.0012575996083348737a₂³b₃ - 2.8049274679494474a₂²a₃² + 0.0012575996083348737a₂²a₃b₂ + 3.3395579653281864a₂²b₂² + 8.407043479921367e-5a₂²b₂b₃ - 2.8049274679494474a₂²b₃² + 8.407043479921367e-5a₂a₃³ - 0.0012575996083348737a₂a₃²b₃ + 8.407043479921367e-5a₂a₃b₂² + 8.407043479921367e-5a₂a₃b₃² - 0.0012575996083348737a₂b₂²b₃ - 0.0012575996083348737a₂b₃³ + 10.781569680714417a₃⁴ + 0.0012575996083348737a₃³b₂ - 2.8049274679494474a₃²b₂² + 8.407043479921367e-5a₃²b₂b₃ + 21.563139361428835a₃²b₃² + 0.0012575996083348737a₃b₂³ + 0.0012575996083348737a₃b₂b₃² + 1.6697789826640932b₂⁴ + 8.407043479921367e-5b₂³b₃ - 2.8049274679494474b₂²b₃² + 8.407043479921367e-5b₂b₃³ + 10.781569680714417b₃⁴ - 0.0025151992166697473e₁a₂a₃ - 0.00016814086959842734e₁a₂b₃ + 0.00016814086959842734e₁a₃b₂ - 0.0025151992166697473e₁b₂b₃ + 0.006726369783289609h₁a₂² + 0.0027139890538368265h₁a₂a₃ - 0.00021433999127031325h₁a₂b₃ - 0.009440358837126446h₁a₃² + 0.00021433999127031325h₁a₃b₂ + 0.006726369783289609h₁b₂² + 0.0027139890538368265h₁b₂b₃ - 0.009440358837126446h₁b₃² + 0.006969220605642168h₂a₂² + 0.00021433999127031325h₂a₂a₃ + 0.0027139890538368265h₂a₂b₃ - 0.006754880614371839h₂a₃² - 0.0027139890538368265h₂a₃b₂ + 0.006969220605642168h₂b₂² + 0.00021433999127031325h₂b₂b₃ - 0.006754880614371839h₂b₃² + 0.7949238686720486e₁² - 0.00021433999127031325e₁h₁ - 0.0027139890538368265e₁h₂ + 9.646589336298666h₁² - 0.005030398433339495h₁h₂ + 9.646253054559464h₂² - 0.26545473091539a₂² - 6.903431434130552e-5a₂a₃ + 0.00022766619848354a₂b₃ + 0.28623783345868997a₃² - 0.00022766619848354a₃b₂ - 0.26545473091539b₂² - 6.903431434130552e-5b₂b₃ + 0.28623783345868997b₃² - 39.94662884489179e₁ + 0.00393024024838317h₁ + 0.06681942829499785h₂ + 501.8627949039175"
      ]
     },
     "execution_count": 16,
     "metadata": {},
     "output_type": "execute_result"
    }
   ],
   "source": [
    "obj₀ = 0\n",
    "\n",
    "for ρ in [ρᵍ, ρᵉ, ρˣ, ρʸ]\n",
    "\n",
    "    # Convert cut ρ series:\n",
    "    ρ = convert(Vector{Matrix{ComplexF64}}, ρ)\n",
    "\n",
    "    obj₀ += LiPoSID.simpson_obj(ρ, t,  Hˢʸᵐᵇ, [Aˢʸᵐᵇ₀])\n",
    "\n",
    "\n",
    "end # of files (initial states) loop\n",
    "\n",
    "obj₀ "
   ]
  },
  {
   "cell_type": "code",
   "execution_count": 17,
   "id": "f80925b9",
   "metadata": {},
   "outputs": [
    {
     "name": "stdout",
     "output_type": "stream",
     "text": [
      "************************TSSOS************************\n",
      "TSSOS is launching...\n",
      "optimum = 0.0005505608156240852\n",
      "Global optimality certified!\n",
      "No higher TSSOS hierarchy!\n",
      "************************TSSOS************************\n",
      "TSSOS is launching...\n",
      "optimum = 0.0005504360651199577\n",
      "Global optimality certified!\n",
      "No higher TSSOS hierarchy!\n",
      "val_p = [0.0005504409853074321, 0.0005504409852505887]\n"
     ]
    },
    {
     "data": {
      "text/plain": [
       "2×2 Matrix{Polynomial{true, ComplexF64}}:\n",
       " 0.0+0.0im                (0.207045+0.205918im)\n",
       " (0.0435801+0.0493635im)  0.0+0.0im"
      ]
     },
     "execution_count": 17,
     "metadata": {},
     "output_type": "execute_result"
    }
   ],
   "source": [
    "sol₀ , best_method₀  = LiPoSID.sos_min_newton(obj₀ ) \n",
    "H₀  = subs(Hˢʸᵐᵇ, sol₀ )\n",
    "A₀  = subs(Aˢʸᵐᵇ₀, sol₀ )"
   ]
  },
  {
   "cell_type": "markdown",
   "id": "038dfc11",
   "metadata": {},
   "source": [
    "but finds other dissipator that in theory should be unigue "
   ]
  },
  {
   "cell_type": "code",
   "execution_count": 18,
   "id": "0c87c780",
   "metadata": {},
   "outputs": [
    {
     "data": {
      "text/plain": [
       "(0.0005504409851937453, 0.01185694330882825, 0.0013068163059983817)"
      ]
     },
     "execution_count": 18,
     "metadata": {},
     "output_type": "execute_result"
    }
   ],
   "source": [
    "subs(obj₀, sol₀), subs(objₑₓ, solₑₓⁿᵉʷ), subs(objₑₓₐₙ, solₑₓₐₙⁿᵉʷ)"
   ]
  },
  {
   "cell_type": "code",
   "execution_count": 19,
   "id": "ff19750c",
   "metadata": {},
   "outputs": [
    {
     "data": {
      "text/plain": [
       "2×2 Matrix{Polynomial{true, ComplexF64}}:\n",
       " (25.1261+0.0im)            (4.51489e-5-4.14822e-5im)\n",
       " (4.51489e-5+4.14822e-5im)  0.0+0.0im"
      ]
     },
     "execution_count": 19,
     "metadata": {},
     "output_type": "execute_result"
    }
   ],
   "source": [
    "H₀"
   ]
  },
  {
   "cell_type": "code",
   "execution_count": 20,
   "id": "3dedc953",
   "metadata": {},
   "outputs": [
    {
     "name": "stdout",
     "output_type": "stream",
     "text": [
      "search: \u001b[0m\u001b[1mr\u001b[22m\u001b[0m\u001b[1ma\u001b[22m\u001b[0m\u001b[1mn\u001b[22m\u001b[0m\u001b[1md\u001b[22m \u001b[0m\u001b[1mr\u001b[22m\u001b[0m\u001b[1ma\u001b[22m\u001b[0m\u001b[1mn\u001b[22m\u001b[0m\u001b[1md\u001b[22mn \u001b[0m\u001b[1mr\u001b[22m\u001b[0m\u001b[1ma\u001b[22m\u001b[0m\u001b[1mn\u001b[22m\u001b[0m\u001b[1md\u001b[22mstate \u001b[0m\u001b[1mr\u001b[22m\u001b[0m\u001b[1ma\u001b[22m\u001b[0m\u001b[1mn\u001b[22m\u001b[0m\u001b[1md\u001b[22moperator t\u001b[0m\u001b[1mr\u001b[22m\u001b[0m\u001b[1ma\u001b[22m\u001b[0m\u001b[1mn\u001b[22msco\u001b[0m\u001b[1md\u001b[22me @sho\u001b[0m\u001b[1mr\u001b[22mth\u001b[0m\u001b[1ma\u001b[22m\u001b[0m\u001b[1mn\u001b[22m\u001b[0m\u001b[1md\u001b[22ms mac\u001b[0m\u001b[1mr\u001b[22moexp\u001b[0m\u001b[1ma\u001b[22m\u001b[0m\u001b[1mn\u001b[22m\u001b[0m\u001b[1md\u001b[22m\n",
      "\n"
     ]
    },
    {
     "data": {
      "text/latex": [
       "\\begin{verbatim}\n",
       "rand([rng=GLOBAL_RNG], [S], [dims...])\n",
       "\\end{verbatim}\n",
       "Pick a random element or array of random elements from the set of values specified by \\texttt{S}; \\texttt{S} can be\n",
       "\n",
       "\\begin{itemize}\n",
       "\\item an indexable collection (for example \\texttt{1:9} or \\texttt{('x', \"y\", :z)}),\n",
       "\n",
       "\n",
       "\\item an \\texttt{AbstractDict} or \\texttt{AbstractSet} object,\n",
       "\n",
       "\n",
       "\\item a string (considered as a collection of characters), or\n",
       "\n",
       "\n",
       "\\item a type: the set of values to pick from is then equivalent to \\texttt{typemin(S):typemax(S)} for integers (this is not applicable to \\href{@ref}{\\texttt{BigInt}}), to $[0, 1)$ for floating point numbers and to $[0, 1)+i[0, 1)$ for complex floating point numbers;\n",
       "\n",
       "\\end{itemize}\n",
       "\\texttt{S} defaults to \\href{@ref}{\\texttt{Float64}}. When only one argument is passed besides the optional \\texttt{rng} and is a \\texttt{Tuple}, it is interpreted as a collection of values (\\texttt{S}) and not as \\texttt{dims}.\n",
       "\n",
       "\\begin{quote}\n",
       "\\textbf{compat}\n",
       "\n",
       "Julia 1.1\n",
       "\n",
       "Support for \\texttt{S} as a tuple requires at least Julia 1.1.\n",
       "\n",
       "\\end{quote}\n",
       "\\section{Examples}\n",
       "\\begin{verbatim}\n",
       "julia> rand(Int, 2)\n",
       "2-element Array{Int64,1}:\n",
       " 1339893410598768192\n",
       " 1575814717733606317\n",
       "\n",
       "julia> using Random\n",
       "\n",
       "julia> rand(MersenneTwister(0), Dict(1=>2, 3=>4))\n",
       "1=>2\n",
       "\n",
       "julia> rand((2, 3))\n",
       "3\n",
       "\n",
       "julia> rand(Float64, (2, 3))\n",
       "2×3 Array{Float64,2}:\n",
       " 0.999717  0.0143835  0.540787\n",
       " 0.696556  0.783855   0.938235\n",
       "\\end{verbatim}\n",
       "\\begin{quote}\n",
       "\\textbf{note}\n",
       "\n",
       "Note\n",
       "\n",
       "The complexity of \\texttt{rand(rng, s::Union\\{AbstractDict,AbstractSet\\})} is linear in the length of \\texttt{s}, unless an optimized method with constant complexity is available, which is the case for \\texttt{Dict}, \\texttt{Set} and \\texttt{BitSet}. For more than a few calls, use \\texttt{rand(rng, collect(s))} instead, or either \\texttt{rand(rng, Dict(s))} or \\texttt{rand(rng, Set(s))} as appropriate.\n",
       "\n",
       "\\end{quote}\n",
       "\\rule{\\textwidth}{1pt}\n",
       "\\begin{verbatim}\n",
       "rand([rng::AbstractRNG,] s::Sampleable)\n",
       "\\end{verbatim}\n",
       "Generate one sample for \\texttt{s}.\n",
       "\n",
       "\\begin{verbatim}\n",
       "rand([rng::AbstractRNG,] s::Sampleable, n::Int)\n",
       "\\end{verbatim}\n",
       "Generate \\texttt{n} samples from \\texttt{s}. The form of the returned object depends on the variate form of \\texttt{s}:\n",
       "\n",
       "\\begin{itemize}\n",
       "\\item When \\texttt{s} is univariate, it returns a vector of length \\texttt{n}.\n",
       "\n",
       "\n",
       "\\item When \\texttt{s} is multivariate, it returns a matrix with \\texttt{n} columns.\n",
       "\n",
       "\n",
       "\\item When \\texttt{s} is matrix-variate, it returns an array, where each element is a sample matrix.\n",
       "\n",
       "rand([rng::AbstractRNG,] s::Sampleable, dim1::Int, dim2::Int...)   rand([rng::AbstractRNG,] s::Sampleable, dims::Dims)\n",
       "\n",
       "\\end{itemize}\n",
       "Generate an array of samples from \\texttt{s} whose shape is determined by the given dimensions.\n",
       "\n",
       "\\rule{\\textwidth}{1pt}\n",
       "\\begin{verbatim}\n",
       "rand(rng::AbstractRNG, d::UnivariateDistribution)\n",
       "\\end{verbatim}\n",
       "Generate a scalar sample from \\texttt{d}. The general fallback is \\texttt{quantile(d, rand())}.\n",
       "\n",
       "\\rule{\\textwidth}{1pt}\n",
       "\\begin{verbatim}\n",
       "rand(rng, d)\n",
       "\\end{verbatim}\n",
       "Extract a sample from the p-Generalized Gaussian distribution 'd'. The sampling procedure is implemented from from [1]. [1]  Gonzalez-Farias, G., Molina, J. A. D., \\& Rodríguez-Dagnino, R. M. (2009). Efficiency of the approximated shape parameter estimator in the generalized Gaussian distribution. IEEE Transactions on Vehicular Technology, 58(8), 4214-4223.\n",
       "\n",
       "\\rule{\\textwidth}{1pt}\n",
       "\\begin{verbatim}\n",
       "rand(::AbstractRNG, ::Distributions.AbstractMvNormal)\n",
       "\\end{verbatim}\n",
       "Sample a random vector from the provided multi-variate normal distribution.\n",
       "\n",
       "\\rule{\\textwidth}{1pt}\n",
       "\\begin{verbatim}\n",
       "rand(::AbstractRNG, ::Sampleable)\n",
       "\\end{verbatim}\n",
       "Samples from the sampler and returns the result.\n",
       "\n",
       "\\rule{\\textwidth}{1pt}\n",
       "\\begin{verbatim}\n",
       "rand(d::Union{UnivariateMixture, MultivariateMixture})\n",
       "\\end{verbatim}\n",
       "Draw a sample from the mixture model \\texttt{d}.\n",
       "\n",
       "\\begin{verbatim}\n",
       "rand(d::Union{UnivariateMixture, MultivariateMixture}, n)\n",
       "\\end{verbatim}\n",
       "Draw \\texttt{n} samples from \\texttt{d}.\n",
       "\n"
      ],
      "text/markdown": [
       "```\n",
       "rand([rng=GLOBAL_RNG], [S], [dims...])\n",
       "```\n",
       "\n",
       "Pick a random element or array of random elements from the set of values specified by `S`; `S` can be\n",
       "\n",
       "  * an indexable collection (for example `1:9` or `('x', \"y\", :z)`),\n",
       "  * an `AbstractDict` or `AbstractSet` object,\n",
       "  * a string (considered as a collection of characters), or\n",
       "  * a type: the set of values to pick from is then equivalent to `typemin(S):typemax(S)` for integers (this is not applicable to [`BigInt`](@ref)), to $[0, 1)$ for floating point numbers and to $[0, 1)+i[0, 1)$ for complex floating point numbers;\n",
       "\n",
       "`S` defaults to [`Float64`](@ref). When only one argument is passed besides the optional `rng` and is a `Tuple`, it is interpreted as a collection of values (`S`) and not as `dims`.\n",
       "\n",
       "!!! compat \"Julia 1.1\"\n",
       "    Support for `S` as a tuple requires at least Julia 1.1.\n",
       "\n",
       "\n",
       "# Examples\n",
       "\n",
       "```julia-repl\n",
       "julia> rand(Int, 2)\n",
       "2-element Array{Int64,1}:\n",
       " 1339893410598768192\n",
       " 1575814717733606317\n",
       "\n",
       "julia> using Random\n",
       "\n",
       "julia> rand(MersenneTwister(0), Dict(1=>2, 3=>4))\n",
       "1=>2\n",
       "\n",
       "julia> rand((2, 3))\n",
       "3\n",
       "\n",
       "julia> rand(Float64, (2, 3))\n",
       "2×3 Array{Float64,2}:\n",
       " 0.999717  0.0143835  0.540787\n",
       " 0.696556  0.783855   0.938235\n",
       "```\n",
       "\n",
       "!!! note\n",
       "    The complexity of `rand(rng, s::Union{AbstractDict,AbstractSet})` is linear in the length of `s`, unless an optimized method with constant complexity is available, which is the case for `Dict`, `Set` and `BitSet`. For more than a few calls, use `rand(rng, collect(s))` instead, or either `rand(rng, Dict(s))` or `rand(rng, Set(s))` as appropriate.\n",
       "\n",
       "\n",
       "---\n",
       "\n",
       "```\n",
       "rand([rng::AbstractRNG,] s::Sampleable)\n",
       "```\n",
       "\n",
       "Generate one sample for `s`.\n",
       "\n",
       "```\n",
       "rand([rng::AbstractRNG,] s::Sampleable, n::Int)\n",
       "```\n",
       "\n",
       "Generate `n` samples from `s`. The form of the returned object depends on the variate form of `s`:\n",
       "\n",
       "  * When `s` is univariate, it returns a vector of length `n`.\n",
       "  * When `s` is multivariate, it returns a matrix with `n` columns.\n",
       "  * When `s` is matrix-variate, it returns an array, where each element is a sample matrix.\n",
       "\n",
       "    rand([rng::AbstractRNG,] s::Sampleable, dim1::Int, dim2::Int...)   rand([rng::AbstractRNG,] s::Sampleable, dims::Dims)\n",
       "\n",
       "Generate an array of samples from `s` whose shape is determined by the given dimensions.\n",
       "\n",
       "---\n",
       "\n",
       "```\n",
       "rand(rng::AbstractRNG, d::UnivariateDistribution)\n",
       "```\n",
       "\n",
       "Generate a scalar sample from `d`. The general fallback is `quantile(d, rand())`.\n",
       "\n",
       "---\n",
       "\n",
       "```\n",
       "rand(rng, d)\n",
       "```\n",
       "\n",
       "Extract a sample from the p-Generalized Gaussian distribution 'd'. The sampling procedure is implemented from from [1]. [1]  Gonzalez-Farias, G., Molina, J. A. D., & Rodríguez-Dagnino, R. M. (2009). Efficiency of the approximated shape parameter estimator in the generalized Gaussian distribution. IEEE Transactions on Vehicular Technology, 58(8), 4214-4223.\n",
       "\n",
       "---\n",
       "\n",
       "```\n",
       "rand(::AbstractRNG, ::Distributions.AbstractMvNormal)\n",
       "```\n",
       "\n",
       "Sample a random vector from the provided multi-variate normal distribution.\n",
       "\n",
       "---\n",
       "\n",
       "```\n",
       "rand(::AbstractRNG, ::Sampleable)\n",
       "```\n",
       "\n",
       "Samples from the sampler and returns the result.\n",
       "\n",
       "---\n",
       "\n",
       "```\n",
       "rand(d::Union{UnivariateMixture, MultivariateMixture})\n",
       "```\n",
       "\n",
       "Draw a sample from the mixture model `d`.\n",
       "\n",
       "```\n",
       "rand(d::Union{UnivariateMixture, MultivariateMixture}, n)\n",
       "```\n",
       "\n",
       "Draw `n` samples from `d`.\n"
      ],
      "text/plain": [
       "\u001b[36m  rand([rng=GLOBAL_RNG], [S], [dims...])\u001b[39m\n",
       "\n",
       "  Pick a random element or array of random elements from the set of values\n",
       "  specified by \u001b[36mS\u001b[39m; \u001b[36mS\u001b[39m can be\n",
       "\n",
       "    •  an indexable collection (for example \u001b[36m1:9\u001b[39m or \u001b[36m('x', \"y\", :z)\u001b[39m),\n",
       "\n",
       "    •  an \u001b[36mAbstractDict\u001b[39m or \u001b[36mAbstractSet\u001b[39m object,\n",
       "\n",
       "    •  a string (considered as a collection of characters), or\n",
       "\n",
       "    •  a type: the set of values to pick from is then equivalent to\n",
       "       \u001b[36mtypemin(S):typemax(S)\u001b[39m for integers (this is not applicable to\n",
       "       \u001b[36mBigInt\u001b[39m), to \u001b[35m[0, 1)\u001b[39m for floating point numbers and to \u001b[35m[0, 1)+i[0,\n",
       "       1)\u001b[39m for complex floating point numbers;\n",
       "\n",
       "  \u001b[36mS\u001b[39m defaults to \u001b[36mFloat64\u001b[39m. When only one argument is passed besides the optional\n",
       "  \u001b[36mrng\u001b[39m and is a \u001b[36mTuple\u001b[39m, it is interpreted as a collection of values (\u001b[36mS\u001b[39m) and not\n",
       "  as \u001b[36mdims\u001b[39m.\n",
       "\n",
       "\u001b[39m\u001b[1m  │ \u001b[22m\u001b[39m\u001b[1mJulia 1.1\u001b[22m\n",
       "\u001b[39m\u001b[1m  │\u001b[22m\n",
       "\u001b[39m\u001b[1m  │\u001b[22m  Support for \u001b[36mS\u001b[39m as a tuple requires at least Julia 1.1.\n",
       "\n",
       "\u001b[1m  Examples\u001b[22m\n",
       "\u001b[1m  ≡≡≡≡≡≡≡≡≡≡\u001b[22m\n",
       "\n",
       "\u001b[36m  julia> rand(Int, 2)\u001b[39m\n",
       "\u001b[36m  2-element Array{Int64,1}:\u001b[39m\n",
       "\u001b[36m   1339893410598768192\u001b[39m\n",
       "\u001b[36m   1575814717733606317\u001b[39m\n",
       "\u001b[36m  \u001b[39m\n",
       "\u001b[36m  julia> using Random\u001b[39m\n",
       "\u001b[36m  \u001b[39m\n",
       "\u001b[36m  julia> rand(MersenneTwister(0), Dict(1=>2, 3=>4))\u001b[39m\n",
       "\u001b[36m  1=>2\u001b[39m\n",
       "\u001b[36m  \u001b[39m\n",
       "\u001b[36m  julia> rand((2, 3))\u001b[39m\n",
       "\u001b[36m  3\u001b[39m\n",
       "\u001b[36m  \u001b[39m\n",
       "\u001b[36m  julia> rand(Float64, (2, 3))\u001b[39m\n",
       "\u001b[36m  2×3 Array{Float64,2}:\u001b[39m\n",
       "\u001b[36m   0.999717  0.0143835  0.540787\u001b[39m\n",
       "\u001b[36m   0.696556  0.783855   0.938235\u001b[39m\n",
       "\n",
       "\u001b[36m\u001b[1m  │ \u001b[22m\u001b[39m\u001b[36m\u001b[1mNote\u001b[22m\u001b[39m\n",
       "\u001b[36m\u001b[1m  │\u001b[22m\u001b[39m\n",
       "\u001b[36m\u001b[1m  │\u001b[22m\u001b[39m  The complexity of \u001b[36mrand(rng, s::Union{AbstractDict,AbstractSet})\u001b[39m is\n",
       "\u001b[36m\u001b[1m  │\u001b[22m\u001b[39m  linear in the length of \u001b[36ms\u001b[39m, unless an optimized method with\n",
       "\u001b[36m\u001b[1m  │\u001b[22m\u001b[39m  constant complexity is available, which is the case for \u001b[36mDict\u001b[39m, \u001b[36mSet\u001b[39m\n",
       "\u001b[36m\u001b[1m  │\u001b[22m\u001b[39m  and \u001b[36mBitSet\u001b[39m. For more than a few calls, use \u001b[36mrand(rng, collect(s))\u001b[39m\n",
       "\u001b[36m\u001b[1m  │\u001b[22m\u001b[39m  instead, or either \u001b[36mrand(rng, Dict(s))\u001b[39m or \u001b[36mrand(rng, Set(s))\u001b[39m as\n",
       "\u001b[36m\u001b[1m  │\u001b[22m\u001b[39m  appropriate.\n",
       "\n",
       "  ────────────────────────────────────────────────────────────────────────────\n",
       "\n",
       "\u001b[36m  rand([rng::AbstractRNG,] s::Sampleable)\u001b[39m\n",
       "\n",
       "  Generate one sample for \u001b[36ms\u001b[39m.\n",
       "\n",
       "\u001b[36m  rand([rng::AbstractRNG,] s::Sampleable, n::Int)\u001b[39m\n",
       "\n",
       "  Generate \u001b[36mn\u001b[39m samples from \u001b[36ms\u001b[39m. The form of the returned object depends on the\n",
       "  variate form of \u001b[36ms\u001b[39m:\n",
       "\n",
       "    •  When \u001b[36ms\u001b[39m is univariate, it returns a vector of length \u001b[36mn\u001b[39m.\n",
       "\n",
       "    •  When \u001b[36ms\u001b[39m is multivariate, it returns a matrix with \u001b[36mn\u001b[39m columns.\n",
       "\n",
       "    •  When \u001b[36ms\u001b[39m is matrix-variate, it returns an array, where each element\n",
       "       is a sample matrix.\n",
       "       rand([rng::AbstractRNG,] s::Sampleable, dim1::Int, dim2::Int...)\n",
       "       rand([rng::AbstractRNG,] s::Sampleable, dims::Dims)\n",
       "\n",
       "  Generate an array of samples from \u001b[36ms\u001b[39m whose shape is determined by the given\n",
       "  dimensions.\n",
       "\n",
       "  ────────────────────────────────────────────────────────────────────────────\n",
       "\n",
       "\u001b[36m  rand(rng::AbstractRNG, d::UnivariateDistribution)\u001b[39m\n",
       "\n",
       "  Generate a scalar sample from \u001b[36md\u001b[39m. The general fallback is \u001b[36mquantile(d,\n",
       "  rand())\u001b[39m.\n",
       "\n",
       "  ────────────────────────────────────────────────────────────────────────────\n",
       "\n",
       "\u001b[36m  rand(rng, d)\u001b[39m\n",
       "\n",
       "  Extract a sample from the p-Generalized Gaussian distribution 'd'. The\n",
       "  sampling procedure is implemented from from [1]. [1] Gonzalez-Farias, G.,\n",
       "  Molina, J. A. D., & Rodríguez-Dagnino, R. M. (2009). Efficiency of the\n",
       "  approximated shape parameter estimator in the generalized Gaussian\n",
       "  distribution. IEEE Transactions on Vehicular Technology, 58(8), 4214-4223.\n",
       "\n",
       "  ────────────────────────────────────────────────────────────────────────────\n",
       "\n",
       "\u001b[36m  rand(::AbstractRNG, ::Distributions.AbstractMvNormal)\u001b[39m\n",
       "\n",
       "  Sample a random vector from the provided multi-variate normal distribution.\n",
       "\n",
       "  ────────────────────────────────────────────────────────────────────────────\n",
       "\n",
       "\u001b[36m  rand(::AbstractRNG, ::Sampleable)\u001b[39m\n",
       "\n",
       "  Samples from the sampler and returns the result.\n",
       "\n",
       "  ────────────────────────────────────────────────────────────────────────────\n",
       "\n",
       "\u001b[36m  rand(d::Union{UnivariateMixture, MultivariateMixture})\u001b[39m\n",
       "\n",
       "  Draw a sample from the mixture model \u001b[36md\u001b[39m.\n",
       "\n",
       "\u001b[36m  rand(d::Union{UnivariateMixture, MultivariateMixture}, n)\u001b[39m\n",
       "\n",
       "  Draw \u001b[36mn\u001b[39m samples from \u001b[36md\u001b[39m."
      ]
     },
     "execution_count": 20,
     "metadata": {},
     "output_type": "execute_result"
    }
   ],
   "source": [
    "?rand"
   ]
  },
  {
   "cell_type": "code",
   "execution_count": 21,
   "id": "fa3aac58",
   "metadata": {},
   "outputs": [
    {
     "data": {
      "text/plain": [
       "10-element Vector{Float64}:\n",
       " 0.2217654824270231\n",
       " 0.986016258251388\n",
       " 0.024999404675070336\n",
       " 0.7055673879821943\n",
       " 0.18595392508465014\n",
       " 0.1838418664668251\n",
       " 0.18524007931148667\n",
       " 0.8199221113712533\n",
       " 0.8920935788959723\n",
       " 0.7135931502410234"
      ]
     },
     "execution_count": 21,
     "metadata": {},
     "output_type": "execute_result"
    }
   ],
   "source": [
    "rand((10))"
   ]
  },
  {
   "cell_type": "code",
   "execution_count": 61,
   "id": "872b8a0c",
   "metadata": {},
   "outputs": [
    {
     "data": {
      "text/plain": [
       "local_min (generic function with 1 method)"
      ]
     },
     "execution_count": 61,
     "metadata": {},
     "output_type": "execute_result"
    }
   ],
   "source": [
    "using JuMP\n",
    "using NLopt\n",
    "\n",
    "function local_min(obj)\n",
    "    \n",
    "    \n",
    "    \n",
    "    vars = variables(obj)\n",
    "\n",
    "    obj += 0.1 * sum(b.^4 + a.^4 + b.^3 + a.^3 )\n",
    "    \n",
    "    best_sol = ones(length(vars))\n",
    "    \n",
    "    #best_sol = rand((length(vars)))*10 .- 5\n",
    "    \n",
    "    function g(a...)\n",
    "    # Converting polynomial expression of objective to function to be minimized\n",
    "    obj(vars => a)\n",
    "    end\n",
    "\n",
    "    # Create NLopt model\n",
    "    model = Model(NLopt.Optimizer)\n",
    "\n",
    "    # Set algorithm \n",
    "    set_optimizer_attribute(model, \"algorithm\", :LD_SLSQP) \n",
    "\n",
    "    # Set variables\n",
    "    @variable(model, y[1:length(vars)]);\n",
    "\n",
    "    # Register objective\n",
    "    register(model, :g, length(y), g; autodiff = true)\n",
    "    @NLobjective(model, Min, g(y...))\n",
    "\n",
    "    # Set guess\n",
    "    guess = best_sol\n",
    "\n",
    "    for (var, init_val) in zip(y, guess)\n",
    "        set_start_value(var, init_val)\n",
    "    end\n",
    "\n",
    "    # Call JuMP optimization function\n",
    "    JuMP.optimize!(model)\n",
    "\n",
    "    solution = vars => map(value, y)\n",
    "\n",
    "    return solution\n",
    "\n",
    "end\n"
   ]
  },
  {
   "cell_type": "code",
   "execution_count": 62,
   "id": "b48aa539",
   "metadata": {},
   "outputs": [
    {
     "data": {
      "text/plain": [
       "PolyVar{true}[e₁, h₁, h₂, a₁, a₂, a₃, b₁, b₂, b₃] => [25.126108554683263, 4.362205902539824e-5, 3.545721837732338e-5, 3.4062653604499794e-5, -0.30758489596417354, -0.07443658769201285, 6.06445157104174e-6, 0.00037102019930264254, -0.004441926997253978]"
      ]
     },
     "execution_count": 62,
     "metadata": {},
     "output_type": "execute_result"
    }
   ],
   "source": [
    "sol = local_min(objₑₓ)"
   ]
  },
  {
   "cell_type": "code",
   "execution_count": 63,
   "id": "fed5aa44",
   "metadata": {},
   "outputs": [
    {
     "data": {
      "text/latex": [
       "$$ e_{1}^{2} + h_{1}^{2} + h_{2}^{2} + a_{1}^{2} + a_{2}^{2} + a_{3}^{2} + b_{1}^{2} + b_{2}^{2} + b_{3}^{2} $$"
      ],
      "text/plain": [
       "e₁² + h₁² + h₂² + a₁² + a₂² + a₃² + b₁² + b₂² + b₃²"
      ]
     },
     "execution_count": 63,
     "metadata": {},
     "output_type": "execute_result"
    }
   ],
   "source": [
    "sum(variables(objₑₓ) .^ 2)"
   ]
  },
  {
   "cell_type": "code",
   "execution_count": 64,
   "id": "fcc19002",
   "metadata": {},
   "outputs": [
    {
     "data": {
      "text/plain": [
       "2×2 Matrix{Polynomial{true, ComplexF64}}:\n",
       " (25.1261+0.0im)            (4.36221e-5-3.54572e-5im)\n",
       " (4.36221e-5+3.54572e-5im)  0.0+0.0im"
      ]
     },
     "execution_count": 64,
     "metadata": {},
     "output_type": "execute_result"
    }
   ],
   "source": [
    "Hl  = subs(Hˢʸᵐᵇ, sol )\n"
   ]
  },
  {
   "cell_type": "code",
   "execution_count": 65,
   "id": "b5d35609",
   "metadata": {},
   "outputs": [
    {
     "data": {
      "text/plain": [
       "2×2 Matrix{Polynomial{true, ComplexF64}}:\n",
       " 0.0+0.0im                  (-0.307585+0.00037102im)\n",
       " (-0.0744366-0.00444193im)  0.0+0.0im"
      ]
     },
     "execution_count": 65,
     "metadata": {},
     "output_type": "execute_result"
    }
   ],
   "source": [
    "Al  = subs(Aˢʸᵐᵇ₀, sol )"
   ]
  },
  {
   "cell_type": "code",
   "execution_count": 66,
   "id": "22ae4207",
   "metadata": {},
   "outputs": [
    {
     "data": {
      "text/latex": [
       "$$ 0.000683983012322642 $$"
      ],
      "text/plain": [
       "0.000683983012322642"
      ]
     },
     "execution_count": 66,
     "metadata": {},
     "output_type": "execute_result"
    }
   ],
   "source": [
    "subs(objₑₓ, sol)"
   ]
  },
  {
   "cell_type": "code",
   "execution_count": 60,
   "id": "2e68d95c",
   "metadata": {},
   "outputs": [
    {
     "data": {
      "text/plain": [
       "(0.0005504409851937453, 0.01185694330882825, 0.0013068163059983817)"
      ]
     },
     "execution_count": 60,
     "metadata": {},
     "output_type": "execute_result"
    }
   ],
   "source": [
    "subs(obj₀, sol₀), subs(objₑₓ, solₑₓⁿᵉʷ), subs(objₑₓₐₙ, solₑₓₐₙⁿᵉʷ)"
   ]
  },
  {
   "cell_type": "raw",
   "id": "ec458500",
   "metadata": {},
   "source": [
    "A\n",
    "\n",
    "2×2 Matrix{Polynomial{true, ComplexF64}}:\n",
    " 0.0+0.0im                (0.191169+0.191617im)\n",
    " (0.0367366+0.0419355im)  0.0+0.0im\n",
    " \n",
    " H\n",
    " \n",
    " 2×2 Matrix{Polynomial{true, ComplexF64}}:\n",
    " (25.1261+0.0im)            (4.22292e-5-3.92676e-5im)\n",
    " (4.22292e-5+3.92676e-5im)  0.0+0.0im"
   ]
  },
  {
   "cell_type": "code",
   "execution_count": null,
   "id": "57df4093",
   "metadata": {},
   "outputs": [],
   "source": [
    "ρˣₑₓˢⁱᵈ = LiPoSID.Lindblad_time_evolution(basis, ρˣ[1], t, Hˢⁱᵈₑₓ, [Lˢⁱᵈₑₓ])"
   ]
  }
 ],
 "metadata": {
  "@webio": {
   "lastCommId": null,
   "lastKernelId": null
  },
  "kernelspec": {
   "display_name": "Julia 1.7.2",
   "language": "julia",
   "name": "julia-1.7"
  },
  "language_info": {
   "file_extension": ".jl",
   "mimetype": "application/julia",
   "name": "julia",
   "version": "1.7.2"
  }
 },
 "nbformat": 4,
 "nbformat_minor": 5
}
