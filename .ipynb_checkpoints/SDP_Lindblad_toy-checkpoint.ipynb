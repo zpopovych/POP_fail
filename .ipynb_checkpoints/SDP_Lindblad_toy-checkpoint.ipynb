{
 "cells": [
  {
   "cell_type": "markdown",
   "id": "5a5bccd1",
   "metadata": {},
   "source": [
    "### Toy Lindblad identification as POP solved with Moment SDP"
   ]
  },
  {
   "cell_type": "code",
   "execution_count": 1,
   "id": "1bcc8bc4",
   "metadata": {},
   "outputs": [],
   "source": [
    "using LinearAlgebra, JuMP, MosekTools\n",
    "using Optim"
   ]
  },
  {
   "cell_type": "markdown",
   "id": "0eb49df0",
   "metadata": {},
   "source": [
    "Consider SDP optimization problem of the form:\n",
    "\\begin{align} \n",
    "&\\operatorname{minimize}{ \\left( \\mathbf{trace}{(C X)} \\right) }\\\\\n",
    "&\\operatorname{subject to} { y_i := \\left( \\mathbf{trace}{(A_i X)} \\right) = b_i}, \\quad i = 1... m, \\quad\n",
    "X \\succcurlyeq 0\n",
    "\\end{align}\n",
    "\n",
    "where $X\\in\\mathbf{S}^{n}$ is the decision variable, and each of the $A_{i}$ matrices and $C$ are also in $\\mathbf{S}^{n}$  By the notation $\\mathbf{S}^{n}$, we denote the set of all symmetric $n \\times n$ matrices.\n",
    "\n",
    "It could be solved with the following function:"
   ]
  },
  {
   "cell_type": "code",
   "execution_count": 2,
   "id": "d7947f1d",
   "metadata": {},
   "outputs": [
    {
     "data": {
      "text/plain": [
       "solve_SDP (generic function with 1 method)"
      ]
     },
     "execution_count": 2,
     "metadata": {},
     "output_type": "execute_result"
    }
   ],
   "source": [
    "function solve_SDP(A, b, C; quiet = false, term_tolerance = 1e-7)\n",
    "    \n",
    "    start_time = time()\n",
    "    \n",
    "    n = size(A)[1] # = size(C)[1]\n",
    "    m = length(b)\n",
    "\n",
    "    model = Model(optimizer_with_attributes(Mosek.Optimizer, \"QUIET\" => quiet, \"INTPNT_CO_TOL_DFEAS\" => term_tolerance))\n",
    "\n",
    "    #set_silent(model)\n",
    "\n",
    "    @variable(model, X[1:n, 1:n], PSD)\n",
    "\n",
    "    @objective(model, Min, tr(C * X));\n",
    "    \n",
    "    @constraint(model, y[j=1:m], tr(A[:, (j - 1) * n + 1:j * n]* X) == b[j])\n",
    "\n",
    "    optimize!(model)\n",
    "\n",
    "    status = JuMP.termination_status(model)\n",
    "    X_sol = JuMP.value.(X)\n",
    "    obj_value = JuMP.objective_value(model)\n",
    "    dual_sol = dual.(y)\n",
    "    run_time = time() - start_time\n",
    "\n",
    "    return model, status, run_time, X_sol, dual_sol, obj_value\n",
    "    \n",
    "end"
   ]
  },
  {
   "cell_type": "markdown",
   "id": "d2686b1c",
   "metadata": {},
   "source": [
    "Consider simplified Lindblad type equation:\n",
    "\n",
    "$\n",
    "    \\frac{d\\rho}{dt} = - i[H, \\rho]+\\gamma\\left[\\sigma \\rho \\sigma^\\dagger - \\frac{1}{2}\\left\\{ \\sigma^\\dagger \\sigma, \\rho \\right\\} \\right],\n",
    "$\n",
    "\n",
    "where\n",
    "$\\sigma = |0\\rangle \\langle 1|  = \\begin{pmatrix} 0 & 1 \\\\ 0 & 0\n",
    "   \\end{pmatrix}$, \n",
    "   $\\sigma^\\dagger = \\begin{pmatrix} 0 & 0 \\\\ 1 & 0\n",
    "   \\end{pmatrix}$,\n",
    "   $\\sigma^\\dagger \\sigma = \\begin{pmatrix} 0 & 0 \\\\ 0 & 1\n",
    "   \\end{pmatrix}$ and\n",
    "   $ H =  \\begin{pmatrix} \\omega & 0 \\\\ 0 & 0\n",
    "   \\end{pmatrix}$\n",
    "\n",
    "To identify parameters of Lindblad equation we need to find optimum values of  angular frequency $\\omega$ and decay rate $\\gamma$.\n"
   ]
  },
  {
   "cell_type": "markdown",
   "id": "c5c5fd45",
   "metadata": {},
   "source": [
    "We can formulate the following minimization problem using Pade approximation and just the initial and final state of the evolution (we do it here just for illustrative purposes as in practice we can do it only if $\\Delta t$ is small):\n",
    "\n",
    "$\\min_{\\gamma, H}{{\\left\\|{ \\rho_f - \\rho_0 - \\Delta t {\\mathcal{L}} \\left[\\frac{ \\rho_f + \\rho_0}{2} \\right]} \\right\\|}_F^2}$\n",
    "\n",
    "where  $\\mathcal{L}$ is the Lindbladian operator:\n",
    "\n",
    "$\\mathcal{L} = - i[H, \\rho]+\\gamma\\left[\\sigma \\rho \\sigma^\\dagger - \\frac{1}{2}\\left\\{ \\sigma^\\dagger \\sigma, \\rho \\right\\} \\right]$\n"
   ]
  },
  {
   "cell_type": "markdown",
   "id": "a3b7f0f6",
   "metadata": {},
   "source": [
    "If consider transfer:\n",
    "$|y\\rangle = \\frac{|0\\rangle + i|1\\rangle}{\\sqrt{2}} \\rightarrow |\\psi \\rangle  = \\frac{1}{\\sqrt{3}}|0\\rangle + \\sqrt{\\frac{2}{3}}|1\\rangle$.\n",
    "\n",
    "we have objective function:\n",
    "$\n",
    "L = {\\left\\|{ \\rho_f - \\rho_0 - \\Delta t {\\mathcal{L}} \\left[\\frac{ \\rho_f + \\rho_0}{2} \\right]} \\right\\|}_F^2 =\\frac{17}{12}\\Delta t^2\\omega^2 + 8 \\sqrt2 \\Delta t\\omega + \\frac{115}{48}\\Delta t^2 \\gamma^2 + \\frac{7}{3}\\Delta t\\gamma + 24 \n",
    "$,\n",
    "\n",
    "where "
   ]
  },
  {
   "cell_type": "markdown",
   "id": "223fc5d7",
   "metadata": {},
   "source": [
    "Introducing $x_1 = \\Delta t \\omega$ and $ x_2 = \\Delta t \\gamma$ we can rewrite the objective as a following polynomial optimization problem:\n",
    "\n",
    "$\n",
    "p(x) = 24 + 8 \\sqrt2 x_1 + \\frac{7}{3}x_2 + \\frac{17}{12}x_1^2 + 0x_1x_2 + \\frac{115}{48}x_2^2\n",
    "$\n",
    "\n",
    "$\\min_{x \\in \\mathbb{R}^2 } p(x)$"
   ]
  },
  {
   "cell_type": "code",
   "execution_count": 3,
   "id": "379110d7",
   "metadata": {},
   "outputs": [
    {
     "data": {
      "text/plain": [
       "p (generic function with 1 method)"
      ]
     },
     "execution_count": 3,
     "metadata": {},
     "output_type": "execute_result"
    }
   ],
   "source": [
    "function p(x)\n",
    "    24 + 8√2x[1] + 7x[2]/3 + 17x[1]^2/12 + 115x[2]^2/48\n",
    "end"
   ]
  },
  {
   "cell_type": "markdown",
   "id": "7a3de016",
   "metadata": {},
   "source": [
    "For such a simple polynomial minimizers could be found analiticaly\n",
    "or by standard numerical methods.\n",
    "\n",
    "Analitical solution:"
   ]
  },
  {
   "cell_type": "code",
   "execution_count": 11,
   "id": "2852abba",
   "metadata": {},
   "outputs": [
    {
     "name": "stdout",
     "output_type": "stream",
     "text": [
      "x₁ᵃⁿᵃˡⁱᵗ = -(48 * √2) / 17 = -3.9930735878769745\n",
      "x₂ᵃⁿᵃˡⁱᵗ = -56 / 115 = -0.48695652173913045\n"
     ]
    },
    {
     "data": {
      "text/plain": [
       "0.8436487638533702"
      ]
     },
     "execution_count": 11,
     "metadata": {},
     "output_type": "execute_result"
    }
   ],
   "source": [
    "@show x₁ᵃⁿᵃˡⁱᵗ = -(48√2)/17\n",
    "@show x₂ᵃⁿᵃˡⁱᵗ = -56/115\n",
    "p([x₁ᵃⁿᵃˡⁱᵗ, x₂ᵃⁿᵃˡⁱᵗ])"
   ]
  },
  {
   "cell_type": "markdown",
   "id": "d90bad98",
   "metadata": {},
   "source": [
    "Numerical solution with BFGS:"
   ]
  },
  {
   "cell_type": "code",
   "execution_count": 13,
   "id": "b411f13a",
   "metadata": {},
   "outputs": [
    {
     "name": "stdout",
     "output_type": "stream",
     "text": [
      "(x₁ᵇᶠᵍˢ, x₂ᵇᶠᵍˢ) = Optim.minimizer(result) = [-3.9930735878943615, -0.48695652173788306]\n"
     ]
    },
    {
     "data": {
      "text/plain": [
       "0.8436487638533622"
      ]
     },
     "execution_count": 13,
     "metadata": {},
     "output_type": "execute_result"
    }
   ],
   "source": [
    "result = optimize(p, zeros(2), BFGS())\n",
    "@show x₁ᵇᶠᵍˢ, x₂ᵇᶠᵍˢ = Optim.minimizer(result)\n",
    "p([x₁ᵇᶠᵍˢ, x₂ᵇᶠᵍˢ])"
   ]
  },
  {
   "cell_type": "markdown",
   "id": "4d0d1849",
   "metadata": {},
   "source": [
    "#### We can also try to solve our polynomial optimization problem as SDP in the space of moments\n",
    "\n",
    "We can rewrite polynomial $p(x)$ as linear combination of monomials\n",
    "$\n",
    "p(x) = \\sum_{\\alpha \\leq d} p_\\alpha x^\\alpha,   \n",
    "$\n",
    "\n",
    "where $x = \\left( x_1, x_2 \\right)^T$ and $\\alpha = (\\alpha_1, \\alpha_2), \\quad \\alpha_i \\in \\{0 \\dots d\\}$, as in our case $x \\in \\mathbb{R}^2$ thus $d=2$ and for $\\alpha$ we have all combinations of degrees $\\alpha_i = 0,1,2$.\n",
    "\n",
    "To solve our problem as SDP in the space of moments we move in the following steps:"
   ]
  },
  {
   "cell_type": "markdown",
   "id": "e5f535de",
   "metadata": {},
   "source": [
    "#### 1. Infinite-dimensional LP\n",
    "Reformulate the Nonlinear Optimization problem in terms of Probability Distributions (measures) to obtain the Infinite-dimensional Linear Programming problem in infinite-dimensional space of measures.\n",
    "\n",
    "$\\min_{\\mu \\in \\mathcal{M}(\\mathcal{X}} {\\operatorname{E} [p(x)] = \\sum_\\alpha^\\infty p_\\alpha y_\\alpha}$\n",
    "\n"
   ]
  },
  {
   "cell_type": "markdown",
   "id": "e7edae80",
   "metadata": {},
   "source": [
    "#### 2. Infinite-dimensional SDP \n",
    "\n",
    "Reformulate the infinite-dimensional Problem of Step 1 in terms of Moments (higher order statistics) to obtain an infinite-dimensional Semi-Definite Programming problem.\n",
    "\n",
    "$\\min_{y \\in \\mathcal{Y}}{\\operatorname{E} [p(x)] = \\sum_\\alpha^\\infty p_\\alpha y_\\alpha}{}$\n",
    " \n",
    "$\\operatorname{s.t.}\n",
    " M_1(y), M_2(y), M_3(y) \\dots \\succcurlyeq 0$,\n",
    " \n",
    "where $y_\\alpha$ are moments defined as follows:\n",
    "$\n",
    "    y_\\alpha := \\int_\\mathcal{X} x^\\alpha \\mu(dx),\n",
    "$"
   ]
  },
  {
   "cell_type": "markdown",
   "id": "c0443042",
   "metadata": {},
   "source": [
    "#### 3.Finite SDP \n",
    "\n",
    "Truncate matrices of infinite-dimensional Semi-Definite Programming problem of Step 2 (use truncated moments) to obtain finite-dimensional Semi-Definite Programming problem.\n",
    "\n",
    "For example, for two-dimensional $x \\in \\mathbb{R}^2 \\mapsto p(x)$ we can write the first relaxation of it:\n",
    "$\\min_{y \\in \\mathbb{R}^6 } {\\sum_{\\alpha_1, \\alpha_2 = 0}^{2} p_\\alpha y_\\alpha}$\n",
    "\n",
    "$\\operatorname{s.t.}{y_{00} = 1 }$\n",
    "\n",
    "$  \n",
    " M_1(y) =\\begin{pmatrix} \n",
    "y_{00} & y_{10} & y_{01}\\\\\n",
    "y_{10} & y_{20} & y_{11}\\\\\n",
    "y_{01} & y_{11} & y_{02} \n",
    "\\end{pmatrix} \\succcurlyeq 0\n",
    "$"
   ]
  },
  {
   "cell_type": "markdown",
   "id": "862ed507",
   "metadata": {},
   "source": [
    "#### In our case:\n",
    "\n",
    "Having polynomial optimization problem:\n",
    "\n",
    "$\n",
    "p(x) = 24 + 8 \\sqrt2 x_1 + \\frac{7}{3}x_2 + \\frac{17}{12}x_1^2 + 0x_1x_2 + \\frac{115}{48}x_2^2\n",
    "$\n",
    "\n",
    "$\\min_{x \\in \\mathbb{R}^2 } p(x)$\n",
    "\n",
    "we can write the first LMI relaxation for it:\n",
    "    \n",
    "$\\min_{y \\in \\mathbb{R}^6 }\n",
    "    24 y_{00} + 8 \\sqrt2 y_{10} + \\frac{7}{3} y_{01} + \\frac{17}{12}y_{20} + 0y_{11} + \\frac{115}{48}y_{02}$\n",
    "    \n",
    "$\\operatorname{s.t.}{y_{00} = 1, M_1(y)\\succcurlyeq 0}$\n",
    "\n",
    "where\n",
    "\n",
    "$M_1(y) =\\begin{pmatrix} \n",
    "y_{00} & y_{10} & y_{01}\\\\\n",
    "y_{10} & y_{20} & y_{11}\\\\\n",
    "y_{01} & y_{11} & y_{02}\n",
    "\\end{pmatrix}$"
   ]
  },
  {
   "cell_type": "markdown",
   "id": "5b66fc8f",
   "metadata": {},
   "source": [
    "This is SDP problem, \n",
    "\n",
    "$\n",
    "\\operatorname{minimize}{ \\left( \\mathbf{trace}{(C X)} \\right) }\\\\\n",
    "\\operatorname{subject to} { y_i := \\left( \\mathbf{trace}{(A_i X)} \\right) = b_i}, \\quad i = 1... m, \n",
    "X \\succcurlyeq 0\n",
    "$\n",
    "\n",
    "where:\n",
    "\n",
    "$C =\\begin{pmatrix} \n",
    "24 & 4 \\sqrt2 & \\frac{7}{6}\\\\\n",
    "4 \\sqrt2 & \\frac{17}{12}  &0\\\\\n",
    "\\frac{7}{6} & 0 & \\frac{115}{48}\n",
    "\\end{pmatrix}$\n",
    "\n",
    "target variables:\n",
    "$X =\\begin{pmatrix} \n",
    "y_{00} & y_{10} & y_{01}\\\\\n",
    "y_{10} & y_{20} & y_{11}\\\\\n",
    "y_{01} & y_{11} & y_{02}\n",
    "\\end{pmatrix} \\succcurlyeq 0$\n",
    "\n",
    "and as $y_{00}=1$:\n",
    "\n",
    "$A_1 =\\begin{pmatrix} \n",
    "1 & 0 & 0\\\\\n",
    "0 & 0 & 0\\\\\n",
    "0 & 0 & 0\n",
    "\\end{pmatrix}, \\quad b_1 = 1$\n"
   ]
  },
  {
   "cell_type": "code",
   "execution_count": 26,
   "id": "c8a49a44",
   "metadata": {},
   "outputs": [
    {
     "data": {
      "text/plain": [
       "3×3 Matrix{PolyVar{true}}:\n",
       " y₀₋₀  y₁₋₀  y₀₋₁\n",
       " y₁₋₀  y₂₋₀  y₁₋₂\n",
       " y₀₋₁  y₁₋₁  y₀₋₂"
      ]
     },
     "execution_count": 26,
     "metadata": {},
     "output_type": "execute_result"
    }
   ],
   "source": [
    "using DynamicPolynomials\n",
    "\n",
    "@polyvar y[0:2, 0:2]\n",
    "\n",
    "@polyvar x[1:2]\n",
    "\n",
    "C = [24  4√2     7/6\n",
    "     4√2 17/12  0     \n",
    "     7/6 0       115/48]\n",
    "\n",
    "Xˢʸᵐᵇ = [ y[1,1] y[2,1] y[1,2]\n",
    "          y[2,1] y[3,1] y[2,3]\n",
    "          y[1,2] y[2,2] y[1,3] ]"
   ]
  },
  {
   "cell_type": "markdown",
   "id": "58eebc21",
   "metadata": {},
   "source": [
    "We can check the coefficients are the same:"
   ]
  },
  {
   "cell_type": "code",
   "execution_count": 27,
   "id": "1930478c",
   "metadata": {},
   "outputs": [
    {
     "data": {
      "text/latex": [
       "$$ 24.0y_{0,0} + 11.313708498984761y_{1,0} + 1.4166666666666667y_{2,0} + 2.3333333333333335y_{0,1} + 2.3958333333333335y_{0,2} $$"
      ],
      "text/plain": [
       "24.0y₀₋₀ + 11.313708498984761y₁₋₀ + 1.4166666666666667y₂₋₀ + 2.3333333333333335y₀₋₁ + 2.3958333333333335y₀₋₂"
      ]
     },
     "execution_count": 27,
     "metadata": {},
     "output_type": "execute_result"
    }
   ],
   "source": [
    "tr(C * Xˢʸᵐᵇ)"
   ]
  },
  {
   "cell_type": "code",
   "execution_count": 28,
   "id": "a7371a93",
   "metadata": {},
   "outputs": [
    {
     "data": {
      "text/latex": [
       "$$ 1.4166666666666667x_{1}^{2} + 2.3958333333333335x_{2}^{2} + 11.313708498984761x_{1} + 2.3333333333333335x_{2} + 24.0 $$"
      ],
      "text/plain": [
       "1.4166666666666667x₁² + 2.3958333333333335x₂² + 11.313708498984761x₁ + 2.3333333333333335x₂ + 24.0"
      ]
     },
     "execution_count": 28,
     "metadata": {},
     "output_type": "execute_result"
    }
   ],
   "source": [
    "p(x)"
   ]
  },
  {
   "cell_type": "markdown",
   "id": "3cf8353b",
   "metadata": {},
   "source": [
    "Additional constaint for $y_{00}$:"
   ]
  },
  {
   "cell_type": "code",
   "execution_count": 30,
   "id": "16cf421e",
   "metadata": {},
   "outputs": [
    {
     "data": {
      "text/plain": [
       "1"
      ]
     },
     "execution_count": 30,
     "metadata": {},
     "output_type": "execute_result"
    }
   ],
   "source": [
    "A = zeros(3,3)\n",
    "A[1,1] = 1\n",
    "b = 1"
   ]
  },
  {
   "cell_type": "markdown",
   "id": "6c5d9276",
   "metadata": {},
   "source": [
    "Now we can solve SDP"
   ]
  },
  {
   "cell_type": "code",
   "execution_count": 31,
   "id": "68dd5b5c",
   "metadata": {},
   "outputs": [
    {
     "name": "stdout",
     "output_type": "stream",
     "text": [
      "Problem\n",
      "  Name                   :                 \n",
      "  Objective sense        : min             \n",
      "  Type                   : CONIC (conic optimization problem)\n",
      "  Constraints            : 1               \n",
      "  Cones                  : 0               \n",
      "  Scalar variables       : 0               \n",
      "  Matrix variables       : 1               \n",
      "  Integer variables      : 0               \n",
      "\n",
      "Optimizer started.\n",
      "Presolve started.\n",
      "Linear dependency checker started.\n",
      "Linear dependency checker terminated.\n",
      "Eliminator started.\n",
      "Freed constraints in eliminator : 0\n",
      "Eliminator terminated.\n",
      "Eliminator started.\n",
      "Freed constraints in eliminator : 0\n",
      "Eliminator terminated.\n",
      "Eliminator - tries                  : 2                 time                   : 0.00            \n",
      "Lin. dep.  - tries                  : 1                 time                   : 0.00            \n",
      "Lin. dep.  - number                 : 0               \n",
      "Presolve terminated. Time: 0.00    \n",
      "Problem\n",
      "  Name                   :                 \n",
      "  Objective sense        : min             \n",
      "  Type                   : CONIC (conic optimization problem)\n",
      "  Constraints            : 1               \n",
      "  Cones                  : 0               \n",
      "  Scalar variables       : 0               \n",
      "  Matrix variables       : 1               \n",
      "  Integer variables      : 0               \n",
      "\n",
      "Optimizer  - threads                : 4               \n",
      "Optimizer  - solved problem         : the primal      \n",
      "Optimizer  - Constraints            : 1\n",
      "Optimizer  - Cones                  : 0\n",
      "Optimizer  - Scalar variables       : 0                 conic                  : 0               \n",
      "Optimizer  - Semi-definite variables: 1                 scalarized             : 6               \n",
      "Factor     - setup time             : 0.00              dense det. time        : 0.00            \n",
      "Factor     - ML order time          : 0.00              GP order time          : 0.00            \n",
      "Factor     - nonzeros before factor : 1                 after factor           : 1               \n",
      "Factor     - dense dim.             : 0                 flops                  : 9.80e+01        \n",
      "ITE PFEAS    DFEAS    GFEAS    PRSTATUS   POBJ              DOBJ              MU       TIME  \n",
      "0   0.0e+00  2.3e+01  2.9e+01  0.00e+00   2.781250000e+01   0.000000000e+00   1.0e+00  0.00  \n",
      "1   2.8e-17  3.0e+00  7.9e+00  -8.48e-01  1.809607461e+01   3.472687440e+00   1.3e-01  0.05  \n",
      "2   8.3e-17  4.6e-01  1.0e+00  -1.56e-01  5.167049540e+00   2.963774890e+00   2.0e-02  0.05  \n",
      "3   1.7e-16  3.8e-02  2.9e-02  6.35e-01   1.153807221e+00   9.821911210e-01   1.6e-03  0.05  \n",
      "4   0.0e+00  2.0e-04  7.5e-06  9.94e-01   8.456435037e-01   8.438132030e-01   8.5e-06  0.05  \n",
      "5   5.6e-17  2.5e-05  3.5e-07  1.00e+00   8.440163746e-01   8.437806043e-01   1.1e-06  0.05  \n",
      "6   2.8e-17  2.1e-06  8.3e-09  1.00e+00   8.436820661e-01   8.436626570e-01   9.0e-08  0.05  \n",
      "7   3.3e-16  5.2e-08  3.3e-11  1.00e+00   8.436496297e-01   8.436491453e-01   2.3e-09  0.05  \n",
      "8   1.7e-14  6.8e-10  1.4e-14  1.00e+00   8.436487688e-01   8.436487661e-01   1.3e-11  0.05  \n",
      "Optimizer terminated. Time: 0.05    \n",
      "\n"
     ]
    },
    {
     "data": {
      "text/plain": [
       "3×3 Matrix{Float64}:\n",
       "  1.0       -3.99308  -0.486957\n",
       " -3.99308   15.9447    1.94446\n",
       " -0.486957   1.94446   0.237127"
      ]
     },
     "execution_count": 31,
     "metadata": {},
     "output_type": "execute_result"
    }
   ],
   "source": [
    "model, status, run_time, X_sol, dual_sol, obj_value = solve_SDP(A, b, C)\n",
    "x₁ˢᵈᵖ, x₂ˢᵈᵖ = X_sol"
   ]
  },
  {
   "cell_type": "markdown",
   "id": "12d06a7a",
   "metadata": {},
   "source": [
    "#### Compare methods"
   ]
  },
  {
   "cell_type": "code",
   "execution_count": 33,
   "id": "8c7e2d44",
   "metadata": {},
   "outputs": [
    {
     "data": {
      "text/plain": [
       "(-3.9930777191147366, -0.48695668992747426)"
      ]
     },
     "execution_count": 33,
     "metadata": {},
     "output_type": "execute_result"
    }
   ],
   "source": [
    "x₁ˢᵈᵖ, x₂ˢᵈᵖ = X_sol[1,2], X_sol[1,3]"
   ]
  },
  {
   "cell_type": "code",
   "execution_count": 34,
   "id": "e9176cbf",
   "metadata": {},
   "outputs": [
    {
     "data": {
      "text/plain": [
       "(-3.9930735878943615, -0.48695652173788306)"
      ]
     },
     "execution_count": 34,
     "metadata": {},
     "output_type": "execute_result"
    }
   ],
   "source": [
    "x₁ᵇᶠᵍˢ, x₂ᵇᶠᵍˢ"
   ]
  },
  {
   "cell_type": "code",
   "execution_count": 35,
   "id": "36967b73",
   "metadata": {},
   "outputs": [
    {
     "data": {
      "text/plain": [
       "(-3.9930735878769745, -0.48695652173913045)"
      ]
     },
     "execution_count": 35,
     "metadata": {},
     "output_type": "execute_result"
    }
   ],
   "source": [
    "x₁ᵃⁿᵃˡⁱᵗ, x₂ᵃⁿᵃˡⁱᵗ"
   ]
  },
  {
   "cell_type": "code",
   "execution_count": 38,
   "id": "03b554ee",
   "metadata": {},
   "outputs": [
    {
     "data": {
      "text/plain": [
       "2-element Vector{Float64}:\n",
       " -1.738698074404965e-11\n",
       "  1.2473910793175946e-12"
      ]
     },
     "execution_count": 38,
     "metadata": {},
     "output_type": "execute_result"
    }
   ],
   "source": [
    "[x₁ᵇᶠᵍˢ, x₂ᵇᶠᵍˢ] - [x₁ᵃⁿᵃˡⁱᵗ, x₂ᵃⁿᵃˡⁱᵗ]"
   ]
  },
  {
   "cell_type": "markdown",
   "id": "e44adc88",
   "metadata": {},
   "source": [
    "The precission of SDP is around $10^{-6}$:"
   ]
  },
  {
   "cell_type": "code",
   "execution_count": 39,
   "id": "867a1deb",
   "metadata": {},
   "outputs": [
    {
     "data": {
      "text/plain": [
       "2-element Vector{Float64}:\n",
       " -4.13123776210611e-6\n",
       " -1.6818834380760705e-7"
      ]
     },
     "execution_count": 39,
     "metadata": {},
     "output_type": "execute_result"
    }
   ],
   "source": [
    "[x₁ˢᵈᵖ, x₂ˢᵈᵖ] - [x₁ᵃⁿᵃˡⁱᵗ, x₂ᵃⁿᵃˡⁱᵗ]"
   ]
  },
  {
   "cell_type": "code",
   "execution_count": null,
   "id": "130395e7",
   "metadata": {},
   "outputs": [],
   "source": []
  }
 ],
 "metadata": {
  "@webio": {
   "lastCommId": null,
   "lastKernelId": null
  },
  "kernelspec": {
   "display_name": "Julia 1.7.2",
   "language": "julia",
   "name": "julia-1.7"
  },
  "language_info": {
   "file_extension": ".jl",
   "mimetype": "application/julia",
   "name": "julia",
   "version": "1.7.2"
  }
 },
 "nbformat": 4,
 "nbformat_minor": 5
}
