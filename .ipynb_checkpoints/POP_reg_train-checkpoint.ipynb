{
 "cells": [
  {
   "cell_type": "markdown",
   "id": "2f51a805",
   "metadata": {},
   "source": [
    "### POP with cubic reqularization"
   ]
  },
  {
   "cell_type": "code",
   "execution_count": 1,
   "id": "696f7494",
   "metadata": {},
   "outputs": [],
   "source": [
    "using DynamicPolynomials\n",
    "using LinearAlgebra\n",
    "include(\"LiPoSID.jl\")\n",
    "using Dates\n",
    "using HDF5"
   ]
  },
  {
   "cell_type": "markdown",
   "id": "c500d299",
   "metadata": {},
   "source": [
    "$\n",
    "    \\frac{d\\rho}{dt} = -\\frac{i}{\\hbar} [H,\\rho(t)] + \\mathcal{D}[\\rho(t)] = - \\frac{i}{\\hbar}[H, \\rho]+\\sum_{\\ell=1}^{s-1}\\left[A_\\ell \\rho A_\\ell^\\dagger - \\frac{1}{2}\\left\\{ A_\\ell^\\dagger A_\\ell, \\rho \\right\\} \\right]\n",
    "$"
   ]
  },
  {
   "cell_type": "code",
   "execution_count": 2,
   "id": "77214b8a",
   "metadata": {},
   "outputs": [
    {
     "data": {
      "text/plain": [
       "2×2 Matrix{Polynomial{true, ComplexF64}}:\n",
       " e₁                  h₁ + (0.0-1.0im)h₂\n",
       " h₁ + (0.0+1.0im)h₂  0.0+0.0im"
      ]
     },
     "execution_count": 2,
     "metadata": {},
     "output_type": "execute_result"
    }
   ],
   "source": [
    "#using DynamicPolynomials\n",
    "\n",
    "@polyvar e[1:2]\n",
    "@polyvar h[1:2]\n",
    "\n",
    "\n",
    "Hˢʸᵐᵇ = [ e[1]               h[1] - im*h[2]\n",
    "          h[1] + im*h[2]     0.             ]"
   ]
  },
  {
   "cell_type": "code",
   "execution_count": 3,
   "id": "4e16b8a8",
   "metadata": {},
   "outputs": [
    {
     "data": {
      "text/plain": [
       "2×2 Matrix{Polynomial{true, Complex{Int64}}}:\n",
       " a₁ + (0+1im)b₁  a₂ + (0+1im)b₂\n",
       " a₃ + (0+1im)b₃  -a₁ + (0-1im)b₁"
      ]
     },
     "execution_count": 3,
     "metadata": {},
     "output_type": "execute_result"
    }
   ],
   "source": [
    "@polyvar a[1:3]\n",
    "@polyvar b[1:3]\n",
    "\n",
    "\n",
    "Aˢʸᵐᵇ = [ a[1] + im*b[1]           a[2] + im*b[2]\n",
    "          a[3] + im*b[3]          -a[1] - im*b[1]   ]"
   ]
  },
  {
   "cell_type": "code",
   "execution_count": 4,
   "id": "cfc2fb9f",
   "metadata": {},
   "outputs": [
    {
     "data": {
      "text/plain": [
       "\"C:\\\\Users\\\\Zakhar\\\\Documents\\\\GitHub\\\\POP_fail\\\\DATA\\\\\""
      ]
     },
     "execution_count": 4,
     "metadata": {},
     "output_type": "execute_result"
    }
   ],
   "source": [
    "parentdir = pwd()\n",
    "data_dir = parentdir*\"\\\\DATA\\\\\""
   ]
  },
  {
   "cell_type": "code",
   "execution_count": 5,
   "id": "c41e271a",
   "metadata": {},
   "outputs": [
    {
     "data": {
      "text/plain": [
       "\"C:\\\\Users\\\\Zakhar\\\\Documents\\\\GitHub\\\\POP_fail\\\\MODELS\\\\\""
      ]
     },
     "execution_count": 5,
     "metadata": {},
     "output_type": "execute_result"
    }
   ],
   "source": [
    "output_directory = parentdir*\"\\\\MODELS\\\\\""
   ]
  },
  {
   "cell_type": "markdown",
   "id": "ac212e09",
   "metadata": {},
   "source": [
    "$\n",
    " L^{(Lindblad)}\n",
    "= \\sum_{i=1}^N {\n",
    "{\\left\\|\n",
    "\\rho_{(i)} - \\rho_{(i-2)}\n",
    "- {\\mathcal{L}} \\left[\\int^{t_i}_{t_{i-2}}\\rho(t)dt \\right] \\right\\| }^2_F }\n",
    "$\n",
    "\n",
    "$\n",
    "\\int^{t_i}_{t_{i-2}}\\rho(t)dt = \\frac{1}{3} \\Delta t \\left[ {\\rho(t_{i-2}) + 4 \\rho(t_{i-1}) + \\rho(t_i)} \\right] +  \\mathcal{O}(\\Delta t^5). \\label{eq:simpson}\n",
    "$"
   ]
  },
  {
   "cell_type": "code",
   "execution_count": 6,
   "id": "3f42f92e",
   "metadata": {},
   "outputs": [
    {
     "name": "stdout",
     "output_type": "stream",
     "text": [
      "γ = 0.079477\n",
      "************************TSSOS************************\n",
      "TSSOS is launching...\n",
      "optimum = -0.002332838677998664\n",
      "\n",
      "******************************************************************************\n",
      "This program contains Ipopt, a library for large-scale nonlinear optimization.\n",
      " Ipopt is released as open source code under the Eclipse Public License (EPL).\n",
      "         For more information visit https://github.com/coin-or/Ipopt\n",
      "******************************************************************************\n",
      "\n",
      "Global optimality certified!\n",
      "No higher TSSOS hierarchy!\n",
      "************************TSSOS************************\n",
      "TSSOS is launching...\n",
      "optimum = -0.0023330475987874176\n",
      "Global optimality certified!\n",
      "No higher TSSOS hierarchy!\n",
      "val_p = [-0.002333031189493795, -0.0023330311894369515]\n",
      "\n",
      "γ = 0.25133\n",
      "************************TSSOS************************\n",
      "TSSOS is launching...\n",
      "optimum = -0.02616474056027881\n",
      "Global optimality certified!\n",
      "No higher TSSOS hierarchy!\n",
      "************************TSSOS************************\n",
      "TSSOS is launching...\n",
      "optimum = -0.02616489910373105\n",
      "Global optimality certified!\n",
      "No higher TSSOS hierarchy!\n",
      "val_p = [-0.026164945677805918, -0.026164945677805918]\n",
      "\n",
      "γ = 0.79477\n",
      "************************TSSOS************************\n",
      "TSSOS is launching...\n",
      "optimum = -1.832899597865643\n",
      "Global optimality certified!\n",
      "No higher TSSOS hierarchy!\n",
      "************************TSSOS************************\n",
      "TSSOS is launching...\n",
      "optimum = -1.832899734753262\n",
      "Global optimality certified!\n",
      "No higher TSSOS hierarchy!\n",
      "val_p = [-1.8328895246775314, -1.8328996490851885]\n",
      "\n",
      "γ = 2.5133\n",
      "************************TSSOS************************\n",
      "TSSOS is launching...\n",
      "optimum = -502.175742453509\n",
      "Global optimality certified!\n",
      "No higher TSSOS hierarchy!\n",
      "************************TSSOS************************\n",
      "TSSOS is launching...\n",
      "optimum = -502.1757563736422\n",
      "Global optimality certified!\n",
      "No higher TSSOS hierarchy!\n",
      "val_p = [-502.17575642199216, -502.17575647368113]\n",
      "\n",
      "γ = 7.9477\n",
      "************************TSSOS************************\n",
      "TSSOS is launching...\n",
      "termination status: SLOW_PROGRESS\n",
      "solution status: FEASIBLE_POINT\n",
      "optimum = -813344.569707164\n",
      "Global optimality certified!\n",
      "No higher TSSOS hierarchy!\n",
      "************************TSSOS************************\n",
      "TSSOS is launching...\n",
      "optimum = -813344.5674833701\n",
      "Global optimality certified!\n",
      "No higher TSSOS hierarchy!\n",
      "val_p = [-813344.5697077108, -813344.5696664966]\n",
      "\n",
      "γ = 25.133\n",
      "************************TSSOS************************\n",
      "TSSOS is launching...\n",
      "termination status: SLOW_PROGRESS\n",
      "solution status: UNKNOWN_RESULT_STATUS\n",
      "optimum = -3.938381521942402e8\n",
      "Found a local optimal solution giving an upper bound: -1.3060153902906245e8 and a relative optimality gap: 2.015570529429981.\n",
      "No higher TSSOS hierarchy!\n",
      "************************TSSOS************************\n",
      "TSSOS is launching...\n",
      "termination status: SLOW_PROGRESS\n",
      "solution status: NO_SOLUTION\n",
      "optimum = -2.619947205200785\n",
      "Found a local optimal solution giving an upper bound: -1.2369570545377716e10 and a relative optimality gap: 0.9999999997881941.\n",
      "No higher TSSOS hierarchy!\n",
      "val_p = [-1.3060153902906248e8, -1.236957054537771e10]\n",
      "\n",
      "γ = 79.477\n",
      "************************TSSOS************************\n",
      "TSSOS is launching...\n",
      "termination status: SLOW_PROGRESS\n",
      "solution status: NO_SOLUTION\n",
      "optimum = -0.000300194981809595\n",
      "The local solver failed!\n",
      "No higher TSSOS hierarchy!\n",
      "************************TSSOS************************\n",
      "TSSOS is launching...\n",
      "termination status: INFEASIBLE\n",
      "solution status: NO_SOLUTION\n",
      "optimum = -1.321412133068149\n",
      "The local solver failed!\n",
      "No higher TSSOS hierarchy!\n",
      "val_p = [-0.758823552041064, 4667.833752645869]\n",
      "\n",
      "γ = 251.33\n",
      "************************TSSOS************************\n",
      "TSSOS is launching...\n",
      "termination status: SLOW_PROGRESS\n",
      "solution status: NO_SOLUTION\n",
      "optimum = -0.0002491916762321279\n",
      "The local solver failed!\n",
      "No higher TSSOS hierarchy!\n",
      "************************TSSOS************************\n",
      "TSSOS is launching...\n",
      "termination status: INFEASIBLE\n",
      "solution status: NO_SOLUTION\n",
      "optimum = -3.6256987590931873\n",
      "The local solver failed!\n",
      "No higher TSSOS hierarchy!\n",
      "val_p = [0.32866337652378874, 16716.261597833676]\n",
      "\n",
      "169.965705 seconds (995.85 M allocations: 135.082 GiB, 10.88% gc time, 22.70% compilation time)\n"
     ]
    }
   ],
   "source": [
    "date_and_time_string =  string(Dates.format(now(), \"yyyy-u-dd_at_HH-MM\"))\n",
    "res_file_name = \"POP_2CUT_train-B_reg3_0001\" * date_and_time_string * \".h5\"\n",
    "\n",
    "Eˢⁱᵈ = []\n",
    "γˢⁱᵈ = []\n",
    "\n",
    "γᵗˣᵗ = [ \"0.079477\", \"0.25133\", \"0.79477\", \"2.5133\", \"7.9477\", \"25.133\", \"79.477\", \"251.33\"]\n",
    "\n",
    "@time for γᵢᵗˣᵗ in γᵗˣᵗ\n",
    "    \n",
    "    println(\"γ = \", γᵢᵗˣᵗ)\n",
    "    \n",
    "    ρᵍ, tᵍ = LiPoSID.get_rho_series(data_dir*\"State_B1_2CUT_data.h5\", γᵢᵗˣᵗ)\n",
    "    ρᵉ, tᵉ = LiPoSID.get_rho_series(data_dir*\"State_B2_2CUT_data.h5\", γᵢᵗˣᵗ)\n",
    "    ρˣ, tˣ = LiPoSID.get_rho_series(data_dir*\"State_B3_2CUT_data.h5\", γᵢᵗˣᵗ)\n",
    "    ρʸ, tʸ = LiPoSID.get_rho_series(data_dir*\"State_B4_2CUT_data.h5\", γᵢᵗˣᵗ)\n",
    "    \n",
    "    tˢᵗᵉᵖₘₐₓ = min(length(ρᵍ), length(ρᵉ), length(ρˣ), length(ρʸ)) \n",
    "\n",
    "    @assert tᵍ[1:tˢᵗᵉᵖₘₐₓ] == tᵉ[1:tˢᵗᵉᵖₘₐₓ] == tˣ[1:tˢᵗᵉᵖₘₐₓ] == tʸ[1:tˢᵗᵉᵖₘₐₓ] \n",
    "    t = convert(Vector{Float64}, tᵉ)\n",
    "    @assert maximum(diff(t)) ≈ minimum(diff(t)) ≈ t[2]-t[1]\n",
    "    \n",
    "    obj = 0\n",
    "\n",
    "    for ρ in [ρᵍ[1:tˢᵗᵉᵖₘₐₓ], ρᵉ[1:tˢᵗᵉᵖₘₐₓ], ρˣ[1:tˢᵗᵉᵖₘₐₓ], ρʸ[1:tˢᵗᵉᵖₘₐₓ]]\n",
    "\n",
    "        ρ = convert(Vector{Matrix{ComplexF64}}, ρ)\n",
    "        obj += LiPoSID.simpson_obj(ρ, t,  Hˢʸᵐᵇ, [Aˢʸᵐᵇ])\n",
    "\n",
    "    end # of files (initial states) loop \n",
    "    \n",
    "    solution_simp, best_method_simp = LiPoSID.sos_min_newton(obj + 0.001 * sum(a.^3 + b.^3) )\n",
    "    \n",
    "    Hˢⁱᵈ = subs(Hˢʸᵐᵇ, solution_simp)\n",
    "    Aˢⁱᵈ = subs(Aˢʸᵐᵇ, solution_simp)\n",
    "    \n",
    "     h5open(output_directory*res_file_name,\"cw\") do fid  # read-write, create file if not existing, preserve existing contents\n",
    "\n",
    "        γ_group = create_group(fid, \"gamma_\"*string(γᵢᵗˣᵗ))\n",
    "\n",
    "        γ_group[\"H\"] = convert.(ComplexF64, Hˢⁱᵈ )\n",
    "        γ_group[\"A\"] = convert.(ComplexF64, Aˢⁱᵈ )\n",
    "\n",
    "        end # of HDF5 writing\n",
    "    \n",
    "    println()\n",
    "\n",
    "end # of loop over γ"
   ]
  },
  {
   "cell_type": "code",
   "execution_count": null,
   "id": "d7f1d615",
   "metadata": {},
   "outputs": [],
   "source": []
  }
 ],
 "metadata": {
  "@webio": {
   "lastCommId": null,
   "lastKernelId": null
  },
  "kernelspec": {
   "display_name": "Julia 1.7.2",
   "language": "julia",
   "name": "julia-1.7"
  },
  "language_info": {
   "file_extension": ".jl",
   "mimetype": "application/julia",
   "name": "julia",
   "version": "1.7.2"
  }
 },
 "nbformat": 4,
 "nbformat_minor": 5
}
