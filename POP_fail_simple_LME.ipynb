{
 "cells": [
  {
   "cell_type": "markdown",
   "id": "52910fcf",
   "metadata": {},
   "source": [
    "### Example of TSSOS failure to find solution on 4-th degree polynomial"
   ]
  },
  {
   "cell_type": "markdown",
   "id": "99b08978",
   "metadata": {},
   "source": [
    "Consider simplest possible Lindblad master equation with just one dissipator:\n",
    "\n",
    "$\n",
    "     \\frac{d\\rho}{dt} = - \\frac{i}{\\hbar}[H, \\rho]+\\left[A \\rho A^\\dagger - \\frac{1}{2}\\left\\{ A^\\dagger A, \\rho \\right\\} \\right]\n",
    "$,\n",
    "\n",
    "where Hamiltonian is \n",
    "\n",
    "\n",
    "$\n",
    "    H_0 = |1\\rangle \\langle 1| = \\begin{pmatrix} h & 0 \\\\ 0 & 0\n",
    "   \\end{pmatrix}\n",
    "$\n",
    "\n",
    "$\n",
    "A = \\sqrt{\\gamma} \\sigma = \\begin{pmatrix} 0 & \\sqrt{\\gamma} \\\\ 0 & 0\n",
    "   \\end{pmatrix} = \\begin{pmatrix} 0 & a \\\\ 0 & 0\n",
    "   \\end{pmatrix}$\n",
    "\n",
    "$\\sigma = |0\\rangle \\langle 1|  = \\begin{pmatrix} 0 & 1 \\\\ 0 & 0\n",
    "   \\end{pmatrix}$\n"
   ]
  },
  {
   "cell_type": "code",
   "execution_count": 1,
   "id": "f1cde031",
   "metadata": {},
   "outputs": [
    {
     "data": {
      "text/plain": [
       "2×2 Matrix{Term{true, Float64}}:\n",
       " 0.0  a\n",
       " 0.0  0.0"
      ]
     },
     "execution_count": 1,
     "metadata": {},
     "output_type": "execute_result"
    }
   ],
   "source": [
    "using DynamicPolynomials\n",
    "\n",
    "@polyvar E\n",
    "\n",
    "    Hˢʸᵐᵇ = [ E   0\n",
    "              0   0. ]\n",
    "\n",
    "@polyvar a\n",
    "\n",
    "    Aˢʸᵐᵇ = [ 0  a\n",
    "              0  0.]"
   ]
  },
  {
   "cell_type": "markdown",
   "id": "3c0f8deb",
   "metadata": {},
   "source": [
    "Load exact data and essemble objective"
   ]
  },
  {
   "cell_type": "code",
   "execution_count": 2,
   "id": "cc3f511c",
   "metadata": {},
   "outputs": [
    {
     "data": {
      "text/plain": [
       "Main.LiPoSID"
      ]
     },
     "execution_count": 2,
     "metadata": {},
     "output_type": "execute_result"
    }
   ],
   "source": [
    "include(\"LiPoSID.jl\")"
   ]
  },
  {
   "cell_type": "code",
   "execution_count": 3,
   "id": "7dc27e4c",
   "metadata": {},
   "outputs": [
    {
     "data": {
      "text/latex": [
       "$$ 1.6697789826640932a^{4} + 0.7949238686720486E^{2} - 0.26545473091539a^{2} - 39.94662884489179E + 501.8627949039175 $$"
      ],
      "text/plain": [
       "1.6697789826640932a⁴ + 0.7949238686720486E² - 0.26545473091539a² - 39.94662884489179E + 501.8627949039175"
      ]
     },
     "execution_count": 3,
     "metadata": {},
     "output_type": "execute_result"
    }
   ],
   "source": [
    "parentdir = pwd()\n",
    "\n",
    "γᵗˣᵗ = \"0.079477\"\n",
    "\n",
    "datadir = parentdir*\"\\\\DATA\\\\\"\n",
    "\n",
    "ρᵍ, tᵍ = LiPoSID.get_rho_series(datadir*\"State_B1_2CUT_data.h5\", γᵗˣᵗ)\n",
    "ρᵉ, tᵉ = LiPoSID.get_rho_series(datadir*\"State_B2_2CUT_data.h5\", γᵗˣᵗ)\n",
    "ρˣ, tˣ = LiPoSID.get_rho_series(datadir*\"State_B3_2CUT_data.h5\", γᵗˣᵗ)\n",
    "ρʸ, tʸ = LiPoSID.get_rho_series(datadir*\"State_B4_2CUT_data.h5\", γᵗˣᵗ)\n",
    "\n",
    "ρˣ = convert(Vector{Matrix{ComplexF64}}, ρˣ)\n",
    "ρʸ = convert(Vector{Matrix{ComplexF64}}, ρʸ)\n",
    "ρᵍ = convert(Vector{Matrix{ComplexF64}}, ρᵍ)\n",
    "ρᵉ = convert(Vector{Matrix{ComplexF64}}, ρᵉ)\n",
    "t = convert(Vector{Float64}, tˣ);\n",
    "\n",
    "obj = LiPoSID.simpson_obj(ρᵉ, t, Hˢʸᵐᵇ, [Aˢʸᵐᵇ])\n",
    "obj += LiPoSID.simpson_obj(ρᵍ, t, Hˢʸᵐᵇ, [Aˢʸᵐᵇ])\n",
    "obj += LiPoSID.simpson_obj(ρˣ, t, Hˢʸᵐᵇ, [Aˢʸᵐᵇ])\n",
    "obj += LiPoSID.simpson_obj(ρʸ, t, Hˢʸᵐᵇ, [Aˢʸᵐᵇ])"
   ]
  },
  {
   "cell_type": "markdown",
   "id": "c39f2ac5",
   "metadata": {},
   "source": [
    "Here we have polynomial of degree 4 which is symmetric in valiable $a$. \n",
    "\n",
    "It looks like it is somehow patalogic for TSSOS :("
   ]
  },
  {
   "cell_type": "code",
   "execution_count": 4,
   "id": "c3f97c8e",
   "metadata": {},
   "outputs": [],
   "source": [
    "using TSSOS"
   ]
  },
  {
   "cell_type": "code",
   "execution_count": 7,
   "id": "71581d67",
   "metadata": {},
   "outputs": [
    {
     "name": "stdout",
     "output_type": "stream",
     "text": [
      "************************TSSOS************************\n",
      "TSSOS is launching...\n",
      "optimum = 0.0013068260669271202\n",
      "Global optimality certified!\n"
     ]
    },
    {
     "data": {
      "text/plain": [
       "2-element Vector{Float64}:\n",
       " 25.126072080100073\n",
       "  0.28193614217535945"
      ]
     },
     "execution_count": 7,
     "metadata": {},
     "output_type": "execute_result"
    }
   ],
   "source": [
    "opt,sol,data = tssos_first(obj, variables(obj), QUIET=true, solution=true);\n",
    "previous_sol = sol"
   ]
  },
  {
   "cell_type": "code",
   "execution_count": 6,
   "id": "0de65c6e",
   "metadata": {},
   "outputs": [
    {
     "name": "stdout",
     "output_type": "stream",
     "text": [
      "************************TSSOS************************\n",
      "TSSOS is launching...\n",
      "optimum = 0.0013068252977344087\n",
      "The local solver failed!\n"
     ]
    },
    {
     "data": {
      "text/plain": [
       "2-element Vector{Float64}:\n",
       " 25.126084864809815\n",
       "  1.0e-10"
      ]
     },
     "execution_count": 6,
     "metadata": {},
     "output_type": "execute_result"
    }
   ],
   "source": [
    "opt,sol,data = tssos_first(obj, variables(obj), QUIET=true, solution=true, newton=false);\n",
    "previous_sol = sol"
   ]
  },
  {
   "cell_type": "code",
   "execution_count": 6,
   "id": "4f279bc9",
   "metadata": {},
   "outputs": [
    {
     "name": "stdout",
     "output_type": "stream",
     "text": [
      "optimum = 0.001306828394690757\n",
      "Found a local optimal solution giving an upper bound: 0.011857047039541158 and a relative optimality gap: 0.0105502186448504.\n"
     ]
    }
   ],
   "source": [
    "opt, sol, data = tssos_higher!(data; QUIET=true, solution=true);"
   ]
  },
  {
   "cell_type": "code",
   "execution_count": 7,
   "id": "08e9d93f",
   "metadata": {},
   "outputs": [
    {
     "data": {
      "text/plain": [
       "2-element Vector{Float64}:\n",
       " 25.12607207470193\n",
       "  9.807635928052407e-10"
      ]
     },
     "execution_count": 7,
     "metadata": {},
     "output_type": "execute_result"
    }
   ],
   "source": [
    "sol"
   ]
  },
  {
   "cell_type": "code",
   "execution_count": 8,
   "id": "21424942",
   "metadata": {},
   "outputs": [
    {
     "data": {
      "text/plain": [
       "PolyVar{true}[E, a] => [25.12607207470193, 9.807635928052407e-10]"
      ]
     },
     "execution_count": 8,
     "metadata": {},
     "output_type": "execute_result"
    }
   ],
   "source": [
    "solution = variables(obj) => sol"
   ]
  },
  {
   "cell_type": "code",
   "execution_count": 9,
   "id": "70c1d1f0",
   "metadata": {},
   "outputs": [
    {
     "data": {
      "text/plain": [
       "2×2 Matrix{Term{true, Float64}}:\n",
       " 25.1261  0.0\n",
       " 0.0      0.0"
      ]
     },
     "execution_count": 9,
     "metadata": {},
     "output_type": "execute_result"
    }
   ],
   "source": [
    "subs(Hˢʸᵐᵇ, solution)"
   ]
  },
  {
   "cell_type": "code",
   "execution_count": 10,
   "id": "b8f9b287",
   "metadata": {},
   "outputs": [
    {
     "data": {
      "text/plain": [
       "2×2 Matrix{Term{true, Float64}}:\n",
       " 0.0  9.80764e-10\n",
       " 0.0  0.0"
      ]
     },
     "execution_count": 10,
     "metadata": {},
     "output_type": "execute_result"
    }
   ],
   "source": [
    "subs(Aˢʸᵐᵇ, solution)"
   ]
  },
  {
   "cell_type": "markdown",
   "id": "22e47071",
   "metadata": {},
   "source": [
    "The dissipator is almoust zero which is simply not true!!!"
   ]
  },
  {
   "cell_type": "markdown",
   "id": "b396cc3b",
   "metadata": {},
   "source": [
    "### Reformulate the same problem "
   ]
  },
  {
   "cell_type": "markdown",
   "id": "b92aaa44",
   "metadata": {},
   "source": [
    "Lindblad master equation could be rewritten in even simpler form if put $\\gamma$ out of brackets:\n",
    "\n",
    "$\n",
    "     \\frac{d\\rho}{dt} = - \\frac{i}{\\hbar}[H, \\rho]+\\left[A \\rho A^\\dagger - \\frac{1}{2}\\left\\{ A^\\dagger A, \\rho \\right\\} \\right]\n",
    "$\n",
    "\n",
    "$\n",
    "A = \\sqrt{\\gamma} \\sigma = \\begin{pmatrix} 0 & \\sqrt{\\gamma} \\\\ 0 & 0\n",
    "   \\end{pmatrix} = \\begin{pmatrix} 0 & a \\\\ 0 & 0\n",
    "   \\end{pmatrix}$\n",
    "   \n",
    "$\n",
    "    \\frac{d\\rho}{dt} = - \\frac{i}{\\hbar}[H, \\rho]+ \\gamma \\left[\\sigma \\rho \\sigma^\\dagger - \\frac{1}{2} \\left\\{ \\sigma^\\dagger \\sigma, \\rho \\right\\} \\right]\n",
    "$\n",
    "\n",
    "\n",
    "$\\sigma = |0\\rangle \\langle 1|  = \\begin{pmatrix} 0 & 1 \\\\ 0 & 0\n",
    "   \\end{pmatrix}$"
   ]
  },
  {
   "cell_type": "code",
   "execution_count": 30,
   "id": "058dc0aa",
   "metadata": {},
   "outputs": [
    {
     "data": {
      "text/plain": [
       "γ_simpsom_obj (generic function with 1 method)"
      ]
     },
     "execution_count": 30,
     "metadata": {},
     "output_type": "execute_result"
    }
   ],
   "source": [
    "function γ_rhs(ρ, H, γ)\n",
    "    \"\"\"\n",
    "    Right hand side of the Lindblad master equation\n",
    "    \"\"\"\n",
    "    \n",
    "    𝜎 = [ 0  1\n",
    "          0  0. + 0im ]\n",
    "    \n",
    "    return -im * (H * ρ - ρ * H) + γ * (𝜎 * ρ * 𝜎' - (𝜎' * 𝜎  * ρ + ρ * 𝜎' * 𝜎) / 2)\n",
    "    \n",
    "end\n",
    "\n",
    "function γ_simpsom_obj(ρ::Vector{Matrix{ComplexF64}}, t, H, γ)\n",
    "    \n",
    "    obj = 0\n",
    "    for i in 3:length(ρ)\n",
    "        obj += LiPoSID.frobenius_norm2(\n",
    "            ρ[i] - ρ[i-2] - (t[i]-t[i-1])γ_rhs((ρ[i-2] + 4ρ[i-1] + ρ[i])/3, H, γ)\n",
    "        )\n",
    "    end\n",
    "    obj = sum(real(coef) * mon for (coef, mon) in zip(coefficients(obj), monomials(obj)))\n",
    "    return obj\n",
    "end"
   ]
  },
  {
   "cell_type": "code",
   "execution_count": 31,
   "id": "bff32b14",
   "metadata": {},
   "outputs": [
    {
     "data": {
      "text/plain": [
       "0.079477"
      ]
     },
     "execution_count": 31,
     "metadata": {},
     "output_type": "execute_result"
    }
   ],
   "source": [
    "γᶠˡᵒᵃᵗ = parse(Float64, γᵗˣᵗ)"
   ]
  },
  {
   "cell_type": "code",
   "execution_count": 32,
   "id": "5b6611dc",
   "metadata": {},
   "outputs": [
    {
     "data": {
      "text/latex": [
       "$$ 0.7949238686720486E^{2} - 39.94662884489179E + 501.85224467338554 $$"
      ],
      "text/plain": [
       "0.7949238686720486E² - 39.94662884489179E + 501.85224467338554"
      ]
     },
     "execution_count": 32,
     "metadata": {},
     "output_type": "execute_result"
    }
   ],
   "source": [
    "𝜎 = [ 0  1\n",
    "      0  0. + 0im ]\n",
    "\n",
    "obj_γ = γ_simpsom_obj(ρᵉ, t, Hˢʸᵐᵇ, γᶠˡᵒᵃᵗ)\n",
    "obj_γ += γ_simpsom_obj(ρᵍ, t, Hˢʸᵐᵇ, γᶠˡᵒᵃᵗ)\n",
    "obj_γ += γ_simpsom_obj(ρˣ, t, Hˢʸᵐᵇ, γᶠˡᵒᵃᵗ)\n",
    "obj_γ += γ_simpsom_obj(ρʸ, t, Hˢʸᵐᵇ, γᶠˡᵒᵃᵗ)"
   ]
  },
  {
   "cell_type": "markdown",
   "id": "32a985df",
   "metadata": {},
   "source": [
    "which is of course very simple quadratic polynomial"
   ]
  },
  {
   "cell_type": "code",
   "execution_count": 33,
   "id": "526e06cc",
   "metadata": {},
   "outputs": [
    {
     "name": "stdout",
     "output_type": "stream",
     "text": [
      "************************TSSOS************************\n",
      "TSSOS is launching...\n",
      "optimum = 0.0013068165323672483\n",
      "Global optimality certified!\n"
     ]
    },
    {
     "data": {
      "text/plain": [
       "| (generic function with 36 methods)"
      ]
     },
     "execution_count": 33,
     "metadata": {},
     "output_type": "execute_result"
    }
   ],
   "source": [
    "opt_γ, sol_γ, data_γ = tssos_first(obj_γ, variables(obj_γ), QUIET=true, solution=true, newton=false);|"
   ]
  },
  {
   "cell_type": "markdown",
   "id": "1f9a070e",
   "metadata": {},
   "source": [
    "The Hamiltonian remains almoust the same:"
   ]
  },
  {
   "cell_type": "code",
   "execution_count": 34,
   "id": "0fa078cb",
   "metadata": {},
   "outputs": [
    {
     "data": {
      "text/plain": [
       "2×2 Matrix{Term{true, Float64}}:\n",
       " 25.1261  0.0\n",
       " 0.0      0.0"
      ]
     },
     "execution_count": 34,
     "metadata": {},
     "output_type": "execute_result"
    }
   ],
   "source": [
    "solution = variables(obj_γ) => sol_γ\n",
    "subs(Hˢʸᵐᵇ, solution)"
   ]
  },
  {
   "cell_type": "markdown",
   "id": "466dadc3",
   "metadata": {},
   "source": [
    "but we can find another dissipator $A$ that can fit the data much better"
   ]
  },
  {
   "cell_type": "code",
   "execution_count": 35,
   "id": "a3f4e706",
   "metadata": {},
   "outputs": [
    {
     "data": {
      "text/plain": [
       "2×2 Matrix{ComplexF64}:\n",
       " 0.0+0.0im  0.281917+0.0im\n",
       " 0.0+0.0im       0.0+0.0im"
      ]
     },
     "execution_count": 35,
     "metadata": {},
     "output_type": "execute_result"
    }
   ],
   "source": [
    "√γᶠˡᵒᵃᵗ*𝜎"
   ]
  },
  {
   "cell_type": "markdown",
   "id": "5ff1a28b",
   "metadata": {},
   "source": [
    "Thus for some reason TSSOS fails to find the right solution :("
   ]
  },
  {
   "cell_type": "markdown",
   "id": "959ed653",
   "metadata": {},
   "source": [
    "#### We can also solve it as 2D optimization problem in $E$ and $\\gamma$"
   ]
  },
  {
   "cell_type": "code",
   "execution_count": 41,
   "id": "0a85c27a",
   "metadata": {},
   "outputs": [
    {
     "data": {
      "text/plain": [
       "(γ,)"
      ]
     },
     "execution_count": 41,
     "metadata": {},
     "output_type": "execute_result"
    }
   ],
   "source": [
    "@polyvar γ"
   ]
  },
  {
   "cell_type": "code",
   "execution_count": 42,
   "id": "e4d6e1d7",
   "metadata": {},
   "outputs": [
    {
     "data": {
      "text/latex": [
       "$$ 0.7949238686720486E^{2} + 1.6697789826640932γ^{2} - 39.94662884489179E - 0.26545473091539γ + 501.8627949039175 $$"
      ],
      "text/plain": [
       "0.7949238686720486E² + 1.6697789826640932γ² - 39.94662884489179E - 0.26545473091539γ + 501.8627949039175"
      ]
     },
     "execution_count": 42,
     "metadata": {},
     "output_type": "execute_result"
    }
   ],
   "source": [
    "obj_γˢʸᵐᵇ = γ_simpsom_obj(ρᵉ, t, Hˢʸᵐᵇ, γ)\n",
    "obj_γˢʸᵐᵇ += γ_simpsom_obj(ρᵍ, t, Hˢʸᵐᵇ, γ)\n",
    "obj_γˢʸᵐᵇ += γ_simpsom_obj(ρˣ, t, Hˢʸᵐᵇ, γ)\n",
    "obj_γˢʸᵐᵇ += γ_simpsom_obj(ρʸ, t, Hˢʸᵐᵇ, γ)"
   ]
  },
  {
   "cell_type": "code",
   "execution_count": 44,
   "id": "11c1b079",
   "metadata": {},
   "outputs": [
    {
     "name": "stdout",
     "output_type": "stream",
     "text": [
      "************************TSSOS************************\n",
      "TSSOS is launching...\n",
      "optimum = 0.001306817252991087\n",
      "Global optimality certified!\n"
     ]
    },
    {
     "data": {
      "text/plain": [
       "| (generic function with 36 methods)"
      ]
     },
     "execution_count": 44,
     "metadata": {},
     "output_type": "execute_result"
    }
   ],
   "source": [
    "opt_γˢʸᵐᵇ, sol_γˢʸᵐᵇ, data_γˢʸᵐᵇ = tssos_first(obj_γˢʸᵐᵇ, variables(obj_γˢʸᵐᵇ), QUIET=true, solution=true, newton=false);|"
   ]
  },
  {
   "cell_type": "code",
   "execution_count": 47,
   "id": "ea5cd0e3",
   "metadata": {},
   "outputs": [
    {
     "data": {
      "text/plain": [
       "2×2 Matrix{Term{true, Float64}}:\n",
       " 25.1261  0.0\n",
       " 0.0      0.0"
      ]
     },
     "execution_count": 47,
     "metadata": {},
     "output_type": "execute_result"
    }
   ],
   "source": [
    "solution = variables(obj_γˢʸᵐᵇ) => sol_γˢʸᵐᵇ\n",
    "subs(Hˢʸᵐᵇ, solution)"
   ]
  },
  {
   "cell_type": "code",
   "execution_count": 48,
   "id": "83d79c3e",
   "metadata": {},
   "outputs": [
    {
     "data": {
      "text/latex": [
       "$$ 0.07948797559101574 $$"
      ],
      "text/plain": [
       "0.07948797559101574"
      ]
     },
     "execution_count": 48,
     "metadata": {},
     "output_type": "execute_result"
    }
   ],
   "source": [
    "subs(γ, solution)"
   ]
  },
  {
   "cell_type": "markdown",
   "id": "cc65eb8e",
   "metadata": {},
   "source": [
    "Almoust a perfect fit to the analitical ansatz"
   ]
  },
  {
   "cell_type": "code",
   "execution_count": 9,
   "id": "ff629927",
   "metadata": {},
   "outputs": [
    {
     "data": {
      "text/plain": [
       "0.0794879882647245"
      ]
     },
     "execution_count": 9,
     "metadata": {},
     "output_type": "execute_result"
    }
   ],
   "source": [
    "0.28193614217535945^2"
   ]
  },
  {
   "cell_type": "code",
   "execution_count": null,
   "id": "8e8e89d8",
   "metadata": {},
   "outputs": [],
   "source": []
  }
 ],
 "metadata": {
  "kernelspec": {
   "display_name": "Julia 1.7.2",
   "language": "julia",
   "name": "julia-1.7"
  },
  "language_info": {
   "file_extension": ".jl",
   "mimetype": "application/julia",
   "name": "julia",
   "version": "1.7.2"
  }
 },
 "nbformat": 4,
 "nbformat_minor": 5
}
